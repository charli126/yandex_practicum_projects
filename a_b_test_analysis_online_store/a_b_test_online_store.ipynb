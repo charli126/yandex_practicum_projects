{
 "cells": [
  {
   "cell_type": "markdown",
   "metadata": {},
   "source": [
    "# A/B test analysis report \n",
    "### Author: Xia Cui \n"
   ]
  },
  {
   "cell_type": "markdown",
   "metadata": {},
   "source": [
    "### Introduction"
   ]
  },
  {
   "cell_type": "markdown",
   "metadata": {},
   "source": [
    "This report presents the analysis of an A/B test. The test was launched on 2020-12-07 and the users were added to the test until 2020-12-21. The entire experiment lasted 23 days and stopped on 2021-01-01. \n",
    "\n",
    "The users were split into 2 groups, group A is the control group and group B used the new payment funnel. The goal of the test is to see if users show better converstion rate at each stage of the funnel (`→product_page → product_cart → purchase`) within 14 days of signing up. A total of 6000 participants were expected to be in the test, 15% from EU region.  \n",
    "\n",
    "In addition to the recommender_system_test, there seems to be another A/B test - interface_eu_test occuring at the same time. While it is possible that this is part of the recommender_system_test for users in the EU region, it is not clearly stated in the task given. Since we were not provided with clear instructions on about this test, it will still be analysed briefly but won't be the focus of analysis. \n",
    "\n",
    "In what follows, we will first import and preprocess the data to see if the user and event data we were given match the test description. Then an exploratory analysis will be carried out for the recommender_system_test groups to reveal any patterns in users' behaviour. Finally a statistical testing will be performance to see if indeed the two groups have different conversion rates through the sales funnel. \n",
    "\n",
    "In addition to the above analysis of the recommender_system_test, a quick analysis of the interface_eu_test will be presented at the very end of the report. "
   ]
  },
  {
   "cell_type": "markdown",
   "metadata": {},
   "source": [
    "### Table of content \n",
    "#### [Part 1: Data importing](#importing)  \n",
    "#### [Part 2: Data preprocessing](#preprocessing)  \n",
    "#### [Part 3: Exploratory data analysis](#eda)  \n",
    "#### [Part 4: Hypothesis testing](#testing)  \n",
    "#### [Part 5: Findings and conclusions](#conclusion)  "
   ]
  },
  {
   "cell_type": "code",
   "execution_count": 1,
   "metadata": {},
   "outputs": [
    {
     "data": {
      "text/html": [
       "        <script type=\"text/javascript\">\n",
       "        window.PlotlyConfig = {MathJaxConfig: 'local'};\n",
       "        if (window.MathJax) {MathJax.Hub.Config({SVG: {font: \"STIX-Web\"}});}\n",
       "        if (typeof require !== 'undefined') {\n",
       "        require.undef(\"plotly\");\n",
       "        requirejs.config({\n",
       "            paths: {\n",
       "                'plotly': ['https://cdn.plot.ly/plotly-latest.min']\n",
       "            }\n",
       "        });\n",
       "        require(['plotly'], function(Plotly) {\n",
       "            window._Plotly = Plotly;\n",
       "        });\n",
       "        }\n",
       "        </script>\n",
       "        "
      ]
     },
     "metadata": {},
     "output_type": "display_data"
    }
   ],
   "source": [
    "#import the libraries needed\n",
    "import pandas as pd\n",
    "from scipy import stats as st\n",
    "import numpy as np\n",
    "import math as mth\n",
    "from matplotlib import pyplot as plt\n",
    "from scipy import stats as st\n",
    "from IPython.display import display\n",
    "import seaborn as sns\n",
    "import warnings\n",
    "import plotly.graph_objects as go\n",
    "from plotly.offline import download_plotlyjs, init_notebook_mode, plot\n",
    "init_notebook_mode(connected=True)\n",
    "warnings.filterwarnings(\"ignore\")\n",
    "%matplotlib inline"
   ]
  },
  {
   "cell_type": "markdown",
   "metadata": {},
   "source": [
    "### Part 1: Data importing"
   ]
  },
  {
   "cell_type": "markdown",
   "metadata": {},
   "source": [
    "<a id=\"importing\"></a>"
   ]
  },
  {
   "cell_type": "markdown",
   "metadata": {},
   "source": [
    "In this section, we will import and check the data."
   ]
  },
  {
   "cell_type": "markdown",
   "metadata": {},
   "source": [
    "#### 1.1 Data importing"
   ]
  },
  {
   "cell_type": "code",
   "execution_count": 2,
   "metadata": {},
   "outputs": [],
   "source": [
    "#import the first 50 rows to check data shape and type\n",
    "#marketing dataset is expected to be small so all will be imported in one go\n",
    "marketing = pd.read_csv('https://code.s3.yandex.net/datasets/ab_project_marketing_events.csv')\n",
    "df_events = pd.read_csv('https://code.s3.yandex.net/datasets/final_ab_events_us.csv', nrows=50)    \n",
    "df_users = pd.read_csv('https://code.s3.yandex.net/datasets/final_ab_new_users_us.csv', nrows = 50)\n",
    "df_participants = pd.read_csv('https://code.s3.yandex.net/datasets/final_ab_participants_us.csv', nrows=50)"
   ]
  },
  {
   "cell_type": "code",
   "execution_count": 3,
   "metadata": {},
   "outputs": [
    {
     "data": {
      "text/html": [
       "<div>\n",
       "<style scoped>\n",
       "    .dataframe tbody tr th:only-of-type {\n",
       "        vertical-align: middle;\n",
       "    }\n",
       "\n",
       "    .dataframe tbody tr th {\n",
       "        vertical-align: top;\n",
       "    }\n",
       "\n",
       "    .dataframe thead th {\n",
       "        text-align: right;\n",
       "    }\n",
       "</style>\n",
       "<table border=\"1\" class=\"dataframe\">\n",
       "  <thead>\n",
       "    <tr style=\"text-align: right;\">\n",
       "      <th></th>\n",
       "      <th>name</th>\n",
       "      <th>regions</th>\n",
       "      <th>start_dt</th>\n",
       "      <th>finish_dt</th>\n",
       "    </tr>\n",
       "  </thead>\n",
       "  <tbody>\n",
       "    <tr>\n",
       "      <td>0</td>\n",
       "      <td>Christmas&amp;New Year Promo</td>\n",
       "      <td>EU, N.America</td>\n",
       "      <td>2020-12-25</td>\n",
       "      <td>2021-01-03</td>\n",
       "    </tr>\n",
       "    <tr>\n",
       "      <td>1</td>\n",
       "      <td>St. Valentine's Day Giveaway</td>\n",
       "      <td>EU, CIS, APAC, N.America</td>\n",
       "      <td>2020-02-14</td>\n",
       "      <td>2020-02-16</td>\n",
       "    </tr>\n",
       "    <tr>\n",
       "      <td>2</td>\n",
       "      <td>St. Patric's Day Promo</td>\n",
       "      <td>EU, N.America</td>\n",
       "      <td>2020-03-17</td>\n",
       "      <td>2020-03-19</td>\n",
       "    </tr>\n",
       "    <tr>\n",
       "      <td>3</td>\n",
       "      <td>Easter Promo</td>\n",
       "      <td>EU, CIS, APAC, N.America</td>\n",
       "      <td>2020-04-12</td>\n",
       "      <td>2020-04-19</td>\n",
       "    </tr>\n",
       "    <tr>\n",
       "      <td>4</td>\n",
       "      <td>4th of July Promo</td>\n",
       "      <td>N.America</td>\n",
       "      <td>2020-07-04</td>\n",
       "      <td>2020-07-11</td>\n",
       "    </tr>\n",
       "    <tr>\n",
       "      <td>5</td>\n",
       "      <td>Black Friday Ads Campaign</td>\n",
       "      <td>EU, CIS, APAC, N.America</td>\n",
       "      <td>2020-11-26</td>\n",
       "      <td>2020-12-01</td>\n",
       "    </tr>\n",
       "    <tr>\n",
       "      <td>6</td>\n",
       "      <td>Chinese New Year Promo</td>\n",
       "      <td>APAC</td>\n",
       "      <td>2020-01-25</td>\n",
       "      <td>2020-02-07</td>\n",
       "    </tr>\n",
       "    <tr>\n",
       "      <td>7</td>\n",
       "      <td>Labor day (May 1st) Ads Campaign</td>\n",
       "      <td>EU, CIS, APAC</td>\n",
       "      <td>2020-05-01</td>\n",
       "      <td>2020-05-03</td>\n",
       "    </tr>\n",
       "    <tr>\n",
       "      <td>8</td>\n",
       "      <td>International Women's Day Promo</td>\n",
       "      <td>EU, CIS, APAC</td>\n",
       "      <td>2020-03-08</td>\n",
       "      <td>2020-03-10</td>\n",
       "    </tr>\n",
       "    <tr>\n",
       "      <td>9</td>\n",
       "      <td>Victory Day CIS (May 9th) Event</td>\n",
       "      <td>CIS</td>\n",
       "      <td>2020-05-09</td>\n",
       "      <td>2020-05-11</td>\n",
       "    </tr>\n",
       "    <tr>\n",
       "      <td>10</td>\n",
       "      <td>CIS New Year Gift Lottery</td>\n",
       "      <td>CIS</td>\n",
       "      <td>2020-12-30</td>\n",
       "      <td>2021-01-07</td>\n",
       "    </tr>\n",
       "    <tr>\n",
       "      <td>11</td>\n",
       "      <td>Dragon Boat Festival Giveaway</td>\n",
       "      <td>APAC</td>\n",
       "      <td>2020-06-25</td>\n",
       "      <td>2020-07-01</td>\n",
       "    </tr>\n",
       "    <tr>\n",
       "      <td>12</td>\n",
       "      <td>Single's Day Gift Promo</td>\n",
       "      <td>APAC</td>\n",
       "      <td>2020-11-11</td>\n",
       "      <td>2020-11-12</td>\n",
       "    </tr>\n",
       "    <tr>\n",
       "      <td>13</td>\n",
       "      <td>Chinese Moon Festival</td>\n",
       "      <td>APAC</td>\n",
       "      <td>2020-10-01</td>\n",
       "      <td>2020-10-07</td>\n",
       "    </tr>\n",
       "  </tbody>\n",
       "</table>\n",
       "</div>"
      ],
      "text/plain": [
       "                                name                   regions    start_dt  \\\n",
       "0           Christmas&New Year Promo             EU, N.America  2020-12-25   \n",
       "1       St. Valentine's Day Giveaway  EU, CIS, APAC, N.America  2020-02-14   \n",
       "2             St. Patric's Day Promo             EU, N.America  2020-03-17   \n",
       "3                       Easter Promo  EU, CIS, APAC, N.America  2020-04-12   \n",
       "4                  4th of July Promo                 N.America  2020-07-04   \n",
       "5          Black Friday Ads Campaign  EU, CIS, APAC, N.America  2020-11-26   \n",
       "6             Chinese New Year Promo                      APAC  2020-01-25   \n",
       "7   Labor day (May 1st) Ads Campaign             EU, CIS, APAC  2020-05-01   \n",
       "8    International Women's Day Promo             EU, CIS, APAC  2020-03-08   \n",
       "9    Victory Day CIS (May 9th) Event                       CIS  2020-05-09   \n",
       "10         CIS New Year Gift Lottery                       CIS  2020-12-30   \n",
       "11     Dragon Boat Festival Giveaway                      APAC  2020-06-25   \n",
       "12           Single's Day Gift Promo                      APAC  2020-11-11   \n",
       "13             Chinese Moon Festival                      APAC  2020-10-01   \n",
       "\n",
       "     finish_dt  \n",
       "0   2021-01-03  \n",
       "1   2020-02-16  \n",
       "2   2020-03-19  \n",
       "3   2020-04-19  \n",
       "4   2020-07-11  \n",
       "5   2020-12-01  \n",
       "6   2020-02-07  \n",
       "7   2020-05-03  \n",
       "8   2020-03-10  \n",
       "9   2020-05-11  \n",
       "10  2021-01-07  \n",
       "11  2020-07-01  \n",
       "12  2020-11-12  \n",
       "13  2020-10-07  "
      ]
     },
     "metadata": {},
     "output_type": "display_data"
    }
   ],
   "source": [
    "display(marketing)"
   ]
  },
  {
   "cell_type": "markdown",
   "metadata": {},
   "source": [
    "It's a small information dataset so we will keep it as it is. It is worth noticing from above that the there is a promotion event around Christmas and New Year (from 25th of December to 3 or January). This overlaps with the duration of the A/B test. In theory, we will try to avoid times like this to perform the A/B test so as to exclude external influences to user_behaviour as much as possible. However, this is the data we were given, and to some extent we can assume that both A and B groups are likely to be affected by the promotion in similar ways.  \n",
    "\n",
    "So we will go ahead to perform and A/B test analysis, being aware of the possible impact this marketing event might have on users. "
   ]
  },
  {
   "cell_type": "code",
   "execution_count": 4,
   "metadata": {},
   "outputs": [
    {
     "data": {
      "text/html": [
       "<div>\n",
       "<style scoped>\n",
       "    .dataframe tbody tr th:only-of-type {\n",
       "        vertical-align: middle;\n",
       "    }\n",
       "\n",
       "    .dataframe tbody tr th {\n",
       "        vertical-align: top;\n",
       "    }\n",
       "\n",
       "    .dataframe thead th {\n",
       "        text-align: right;\n",
       "    }\n",
       "</style>\n",
       "<table border=\"1\" class=\"dataframe\">\n",
       "  <thead>\n",
       "    <tr style=\"text-align: right;\">\n",
       "      <th></th>\n",
       "      <th>user_id</th>\n",
       "      <th>event_dt</th>\n",
       "      <th>event_name</th>\n",
       "      <th>details</th>\n",
       "    </tr>\n",
       "  </thead>\n",
       "  <tbody>\n",
       "    <tr>\n",
       "      <td>0</td>\n",
       "      <td>E1BDDCE0DAFA2679</td>\n",
       "      <td>2020-12-07 20:22:03</td>\n",
       "      <td>purchase</td>\n",
       "      <td>99.99</td>\n",
       "    </tr>\n",
       "    <tr>\n",
       "      <td>1</td>\n",
       "      <td>7B6452F081F49504</td>\n",
       "      <td>2020-12-07 09:22:53</td>\n",
       "      <td>purchase</td>\n",
       "      <td>9.99</td>\n",
       "    </tr>\n",
       "    <tr>\n",
       "      <td>2</td>\n",
       "      <td>9CD9F34546DF254C</td>\n",
       "      <td>2020-12-07 12:59:29</td>\n",
       "      <td>purchase</td>\n",
       "      <td>4.99</td>\n",
       "    </tr>\n",
       "    <tr>\n",
       "      <td>3</td>\n",
       "      <td>96F27A054B191457</td>\n",
       "      <td>2020-12-07 04:02:40</td>\n",
       "      <td>purchase</td>\n",
       "      <td>4.99</td>\n",
       "    </tr>\n",
       "    <tr>\n",
       "      <td>4</td>\n",
       "      <td>1FD7660FDF94CA1F</td>\n",
       "      <td>2020-12-07 10:15:09</td>\n",
       "      <td>purchase</td>\n",
       "      <td>4.99</td>\n",
       "    </tr>\n",
       "  </tbody>\n",
       "</table>\n",
       "</div>"
      ],
      "text/plain": [
       "            user_id             event_dt event_name  details\n",
       "0  E1BDDCE0DAFA2679  2020-12-07 20:22:03   purchase    99.99\n",
       "1  7B6452F081F49504  2020-12-07 09:22:53   purchase     9.99\n",
       "2  9CD9F34546DF254C  2020-12-07 12:59:29   purchase     4.99\n",
       "3  96F27A054B191457  2020-12-07 04:02:40   purchase     4.99\n",
       "4  1FD7660FDF94CA1F  2020-12-07 10:15:09   purchase     4.99"
      ]
     },
     "execution_count": 4,
     "metadata": {},
     "output_type": "execute_result"
    }
   ],
   "source": [
    "#check the event data\n",
    "df_events.head()"
   ]
  },
  {
   "cell_type": "code",
   "execution_count": 5,
   "metadata": {},
   "outputs": [
    {
     "name": "stdout",
     "output_type": "stream",
     "text": [
      "<class 'pandas.core.frame.DataFrame'>\n",
      "RangeIndex: 50 entries, 0 to 49\n",
      "Data columns (total 4 columns):\n",
      "user_id       50 non-null object\n",
      "event_dt      50 non-null object\n",
      "event_name    50 non-null object\n",
      "details       50 non-null float64\n",
      "dtypes: float64(1), object(3)\n",
      "memory usage: 1.7+ KB\n"
     ]
    }
   ],
   "source": [
    "df_events.info()"
   ]
  },
  {
   "cell_type": "code",
   "execution_count": 6,
   "metadata": {},
   "outputs": [
    {
     "data": {
      "text/plain": [
       "purchase    50\n",
       "Name: event_name, dtype: int64"
      ]
     },
     "execution_count": 6,
     "metadata": {},
     "output_type": "execute_result"
    }
   ],
   "source": [
    "df_events['event_name'].value_counts()"
   ]
  },
  {
   "cell_type": "markdown",
   "metadata": {},
   "source": [
    "Here in the events dataset, event_name needs to be categorical, and event_dt of datetime datatype."
   ]
  },
  {
   "cell_type": "code",
   "execution_count": 7,
   "metadata": {},
   "outputs": [
    {
     "data": {
      "text/html": [
       "<div>\n",
       "<style scoped>\n",
       "    .dataframe tbody tr th:only-of-type {\n",
       "        vertical-align: middle;\n",
       "    }\n",
       "\n",
       "    .dataframe tbody tr th {\n",
       "        vertical-align: top;\n",
       "    }\n",
       "\n",
       "    .dataframe thead th {\n",
       "        text-align: right;\n",
       "    }\n",
       "</style>\n",
       "<table border=\"1\" class=\"dataframe\">\n",
       "  <thead>\n",
       "    <tr style=\"text-align: right;\">\n",
       "      <th></th>\n",
       "      <th>user_id</th>\n",
       "      <th>first_date</th>\n",
       "      <th>region</th>\n",
       "      <th>device</th>\n",
       "    </tr>\n",
       "  </thead>\n",
       "  <tbody>\n",
       "    <tr>\n",
       "      <td>0</td>\n",
       "      <td>D72A72121175D8BE</td>\n",
       "      <td>2020-12-07</td>\n",
       "      <td>EU</td>\n",
       "      <td>PC</td>\n",
       "    </tr>\n",
       "    <tr>\n",
       "      <td>1</td>\n",
       "      <td>F1C668619DFE6E65</td>\n",
       "      <td>2020-12-07</td>\n",
       "      <td>N.America</td>\n",
       "      <td>Android</td>\n",
       "    </tr>\n",
       "    <tr>\n",
       "      <td>2</td>\n",
       "      <td>2E1BF1D4C37EA01F</td>\n",
       "      <td>2020-12-07</td>\n",
       "      <td>EU</td>\n",
       "      <td>PC</td>\n",
       "    </tr>\n",
       "    <tr>\n",
       "      <td>3</td>\n",
       "      <td>50734A22C0C63768</td>\n",
       "      <td>2020-12-07</td>\n",
       "      <td>EU</td>\n",
       "      <td>iPhone</td>\n",
       "    </tr>\n",
       "    <tr>\n",
       "      <td>4</td>\n",
       "      <td>E1BDDCE0DAFA2679</td>\n",
       "      <td>2020-12-07</td>\n",
       "      <td>N.America</td>\n",
       "      <td>iPhone</td>\n",
       "    </tr>\n",
       "  </tbody>\n",
       "</table>\n",
       "</div>"
      ],
      "text/plain": [
       "            user_id  first_date     region   device\n",
       "0  D72A72121175D8BE  2020-12-07         EU       PC\n",
       "1  F1C668619DFE6E65  2020-12-07  N.America  Android\n",
       "2  2E1BF1D4C37EA01F  2020-12-07         EU       PC\n",
       "3  50734A22C0C63768  2020-12-07         EU   iPhone\n",
       "4  E1BDDCE0DAFA2679  2020-12-07  N.America   iPhone"
      ]
     },
     "execution_count": 7,
     "metadata": {},
     "output_type": "execute_result"
    }
   ],
   "source": [
    "#check the users dataset\n",
    "df_users.head()"
   ]
  },
  {
   "cell_type": "code",
   "execution_count": 8,
   "metadata": {},
   "outputs": [
    {
     "name": "stdout",
     "output_type": "stream",
     "text": [
      "<class 'pandas.core.frame.DataFrame'>\n",
      "RangeIndex: 50 entries, 0 to 49\n",
      "Data columns (total 4 columns):\n",
      "user_id       50 non-null object\n",
      "first_date    50 non-null object\n",
      "region        50 non-null object\n",
      "device        50 non-null object\n",
      "dtypes: object(4)\n",
      "memory usage: 1.7+ KB\n"
     ]
    }
   ],
   "source": [
    "df_users.info()"
   ]
  },
  {
   "cell_type": "code",
   "execution_count": 9,
   "metadata": {},
   "outputs": [
    {
     "data": {
      "text/plain": [
       "EU           35\n",
       "N.America     7\n",
       "APAC          4\n",
       "CIS           4\n",
       "Name: region, dtype: int64"
      ]
     },
     "execution_count": 9,
     "metadata": {},
     "output_type": "execute_result"
    }
   ],
   "source": [
    "df_users['region'].value_counts()"
   ]
  },
  {
   "cell_type": "code",
   "execution_count": 10,
   "metadata": {},
   "outputs": [
    {
     "data": {
      "text/plain": [
       "Android    17\n",
       "PC         16\n",
       "iPhone     15\n",
       "Mac         2\n",
       "Name: device, dtype: int64"
      ]
     },
     "execution_count": 10,
     "metadata": {},
     "output_type": "execute_result"
    }
   ],
   "source": [
    "df_users['device'].value_counts()"
   ]
  },
  {
   "cell_type": "markdown",
   "metadata": {},
   "source": [
    "Okay. Here the 'region' and 'device' column needs to be of categorical type, and first_date is of datetime datatype. "
   ]
  },
  {
   "cell_type": "code",
   "execution_count": 11,
   "metadata": {},
   "outputs": [
    {
     "data": {
      "text/html": [
       "<div>\n",
       "<style scoped>\n",
       "    .dataframe tbody tr th:only-of-type {\n",
       "        vertical-align: middle;\n",
       "    }\n",
       "\n",
       "    .dataframe tbody tr th {\n",
       "        vertical-align: top;\n",
       "    }\n",
       "\n",
       "    .dataframe thead th {\n",
       "        text-align: right;\n",
       "    }\n",
       "</style>\n",
       "<table border=\"1\" class=\"dataframe\">\n",
       "  <thead>\n",
       "    <tr style=\"text-align: right;\">\n",
       "      <th></th>\n",
       "      <th>user_id</th>\n",
       "      <th>group</th>\n",
       "      <th>ab_test</th>\n",
       "    </tr>\n",
       "  </thead>\n",
       "  <tbody>\n",
       "    <tr>\n",
       "      <td>0</td>\n",
       "      <td>D1ABA3E2887B6A73</td>\n",
       "      <td>A</td>\n",
       "      <td>recommender_system_test</td>\n",
       "    </tr>\n",
       "    <tr>\n",
       "      <td>1</td>\n",
       "      <td>A7A3664BD6242119</td>\n",
       "      <td>A</td>\n",
       "      <td>recommender_system_test</td>\n",
       "    </tr>\n",
       "    <tr>\n",
       "      <td>2</td>\n",
       "      <td>DABC14FDDFADD29E</td>\n",
       "      <td>A</td>\n",
       "      <td>recommender_system_test</td>\n",
       "    </tr>\n",
       "    <tr>\n",
       "      <td>3</td>\n",
       "      <td>04988C5DF189632E</td>\n",
       "      <td>A</td>\n",
       "      <td>recommender_system_test</td>\n",
       "    </tr>\n",
       "    <tr>\n",
       "      <td>4</td>\n",
       "      <td>482F14783456D21B</td>\n",
       "      <td>B</td>\n",
       "      <td>recommender_system_test</td>\n",
       "    </tr>\n",
       "  </tbody>\n",
       "</table>\n",
       "</div>"
      ],
      "text/plain": [
       "            user_id group                  ab_test\n",
       "0  D1ABA3E2887B6A73     A  recommender_system_test\n",
       "1  A7A3664BD6242119     A  recommender_system_test\n",
       "2  DABC14FDDFADD29E     A  recommender_system_test\n",
       "3  04988C5DF189632E     A  recommender_system_test\n",
       "4  482F14783456D21B     B  recommender_system_test"
      ]
     },
     "execution_count": 11,
     "metadata": {},
     "output_type": "execute_result"
    }
   ],
   "source": [
    "#check the participants data\n",
    "df_participants.head()"
   ]
  },
  {
   "cell_type": "code",
   "execution_count": 12,
   "metadata": {},
   "outputs": [
    {
     "name": "stdout",
     "output_type": "stream",
     "text": [
      "<class 'pandas.core.frame.DataFrame'>\n",
      "RangeIndex: 50 entries, 0 to 49\n",
      "Data columns (total 3 columns):\n",
      "user_id    50 non-null object\n",
      "group      50 non-null object\n",
      "ab_test    50 non-null object\n",
      "dtypes: object(3)\n",
      "memory usage: 1.3+ KB\n"
     ]
    }
   ],
   "source": [
    "df_participants.info()"
   ]
  },
  {
   "cell_type": "code",
   "execution_count": 13,
   "metadata": {},
   "outputs": [
    {
     "data": {
      "text/plain": [
       "A    35\n",
       "B    15\n",
       "Name: group, dtype: int64"
      ]
     },
     "execution_count": 13,
     "metadata": {},
     "output_type": "execute_result"
    }
   ],
   "source": [
    "df_participants['group'].value_counts()"
   ]
  },
  {
   "cell_type": "code",
   "execution_count": 14,
   "metadata": {},
   "outputs": [
    {
     "data": {
      "text/plain": [
       "recommender_system_test    50\n",
       "Name: ab_test, dtype: int64"
      ]
     },
     "execution_count": 14,
     "metadata": {},
     "output_type": "execute_result"
    }
   ],
   "source": [
    "df_participants['ab_test'].value_counts()"
   ]
  },
  {
   "cell_type": "markdown",
   "metadata": {},
   "source": [
    "Both should be categorical columns. \n",
    "\n",
    "Next, let's import that data using the correct datatypes. "
   ]
  },
  {
   "cell_type": "code",
   "execution_count": 15,
   "metadata": {},
   "outputs": [],
   "source": [
    "#import data with correct datatype\n",
    "events = pd.read_csv('https://code.s3.yandex.net/datasets/final_ab_events_us.csv',\n",
    "                    parse_dates = ['event_dt'],\n",
    "                    dtype = {'event_name': 'category'})    \n",
    "users = pd.read_csv('https://code.s3.yandex.net/datasets/final_ab_new_users_us.csv',\n",
    "                   parse_dates = ['first_date'],\n",
    "                   dtype = {'region':'category', 'device':'category'})\n",
    "participants = pd.read_csv('https://code.s3.yandex.net/datasets/final_ab_participants_us.csv',\n",
    "                          dtype = {'group': 'category', 'ab_test':'category'})"
   ]
  },
  {
   "cell_type": "markdown",
   "metadata": {},
   "source": [
    "#### 1.2 Data checking "
   ]
  },
  {
   "cell_type": "markdown",
   "metadata": {},
   "source": [
    "Now let's just quickly check the datasets to see how many users are there, the date range of the events and when users are added, as well as missing values and duplicates. "
   ]
  },
  {
   "cell_type": "code",
   "execution_count": 16,
   "metadata": {},
   "outputs": [
    {
     "data": {
      "text/plain": [
       "(440317, 4)"
      ]
     },
     "execution_count": 16,
     "metadata": {},
     "output_type": "execute_result"
    }
   ],
   "source": [
    "events.shape"
   ]
  },
  {
   "cell_type": "code",
   "execution_count": 17,
   "metadata": {},
   "outputs": [
    {
     "name": "stdout",
     "output_type": "stream",
     "text": [
      "<class 'pandas.core.frame.DataFrame'>\n",
      "RangeIndex: 440317 entries, 0 to 440316\n",
      "Data columns (total 4 columns):\n",
      "user_id       440317 non-null object\n",
      "event_dt      440317 non-null datetime64[ns]\n",
      "event_name    440317 non-null category\n",
      "details       62740 non-null float64\n",
      "dtypes: category(1), datetime64[ns](1), float64(1), object(1)\n",
      "memory usage: 10.5+ MB\n"
     ]
    }
   ],
   "source": [
    "events.info()"
   ]
  },
  {
   "cell_type": "code",
   "execution_count": 18,
   "metadata": {},
   "outputs": [
    {
     "data": {
      "text/plain": [
       "58703"
      ]
     },
     "execution_count": 18,
     "metadata": {},
     "output_type": "execute_result"
    }
   ],
   "source": [
    "#check how many unique users \n",
    "events['user_id'].nunique()"
   ]
  },
  {
   "cell_type": "code",
   "execution_count": 19,
   "metadata": {},
   "outputs": [
    {
     "name": "stdout",
     "output_type": "stream",
     "text": [
      "First event dattime: 2020-12-07 00:00:33\n",
      "Last event datetime: 2020-12-30 23:36:33\n"
     ]
    }
   ],
   "source": [
    "print('First event dattime: {}\\nLast event datetime: {}'.format(events['event_dt'].min(), events['event_dt'].max()))"
   ]
  },
  {
   "cell_type": "markdown",
   "metadata": {},
   "source": [
    "Event datetime range looks correct. Let's check the users dataset next. "
   ]
  },
  {
   "cell_type": "code",
   "execution_count": 20,
   "metadata": {},
   "outputs": [
    {
     "data": {
      "text/plain": [
       "(61733, 4)"
      ]
     },
     "execution_count": 20,
     "metadata": {},
     "output_type": "execute_result"
    }
   ],
   "source": [
    "users.shape"
   ]
  },
  {
   "cell_type": "code",
   "execution_count": 21,
   "metadata": {},
   "outputs": [
    {
     "name": "stdout",
     "output_type": "stream",
     "text": [
      "<class 'pandas.core.frame.DataFrame'>\n",
      "RangeIndex: 61733 entries, 0 to 61732\n",
      "Data columns (total 4 columns):\n",
      "user_id       61733 non-null object\n",
      "first_date    61733 non-null datetime64[ns]\n",
      "region        61733 non-null category\n",
      "device        61733 non-null category\n",
      "dtypes: category(2), datetime64[ns](1), object(1)\n",
      "memory usage: 1.1+ MB\n"
     ]
    }
   ],
   "source": [
    "users.info()"
   ]
  },
  {
   "cell_type": "code",
   "execution_count": 22,
   "metadata": {},
   "outputs": [
    {
     "data": {
      "text/plain": [
       "61733"
      ]
     },
     "execution_count": 22,
     "metadata": {},
     "output_type": "execute_result"
    }
   ],
   "source": [
    "#check how many unique users in the users' table\n",
    "users['user_id'].nunique()"
   ]
  },
  {
   "cell_type": "markdown",
   "metadata": {},
   "source": [
    "Okay. The number of unique users in both events and users datasets match. Let's next check the date range when the users were added. "
   ]
  },
  {
   "cell_type": "code",
   "execution_count": 23,
   "metadata": {},
   "outputs": [
    {
     "name": "stdout",
     "output_type": "stream",
     "text": [
      "Earliest users:  2020-12-07 00:00:00\n",
      "Newest users:  2020-12-23 00:00:00\n"
     ]
    }
   ],
   "source": [
    "print('Earliest users: ', users['first_date'].min())\n",
    "print('Newest users: ', users['first_date'].max())"
   ]
  },
  {
   "cell_type": "markdown",
   "metadata": {},
   "source": [
    "The test stopped taking new users after 21st of December, 2020. So the users added later than that date is not part of the A/B test process. We will need to remove those users from all relevant datasets later. \n",
    "\n",
    "Next, let's check the participants dataset. "
   ]
  },
  {
   "cell_type": "code",
   "execution_count": 24,
   "metadata": {},
   "outputs": [
    {
     "data": {
      "text/plain": [
       "(18268, 3)"
      ]
     },
     "execution_count": 24,
     "metadata": {},
     "output_type": "execute_result"
    }
   ],
   "source": [
    "participants.shape"
   ]
  },
  {
   "cell_type": "code",
   "execution_count": 25,
   "metadata": {},
   "outputs": [
    {
     "name": "stdout",
     "output_type": "stream",
     "text": [
      "<class 'pandas.core.frame.DataFrame'>\n",
      "RangeIndex: 18268 entries, 0 to 18267\n",
      "Data columns (total 3 columns):\n",
      "user_id    18268 non-null object\n",
      "group      18268 non-null category\n",
      "ab_test    18268 non-null category\n",
      "dtypes: category(2), object(1)\n",
      "memory usage: 178.6+ KB\n"
     ]
    }
   ],
   "source": [
    "participants.info()"
   ]
  },
  {
   "cell_type": "code",
   "execution_count": 26,
   "metadata": {},
   "outputs": [
    {
     "data": {
      "text/plain": [
       "16666"
      ]
     },
     "execution_count": 26,
     "metadata": {},
     "output_type": "execute_result"
    }
   ],
   "source": [
    "#check number of unique users in the participants dataset \n",
    "participants['user_id'].nunique()"
   ]
  },
  {
   "cell_type": "markdown",
   "metadata": {},
   "source": [
    "From the above we can see that there are only 13638 users who took part in the A/B test, as opposed to 58703. For the A/B testing analysis, we will only keep those 13638 users. We will need to remove those who are not among these users from both the users and events data. "
   ]
  },
  {
   "cell_type": "markdown",
   "metadata": {},
   "source": [
    "Next, let's check for missing values and duplicates"
   ]
  },
  {
   "cell_type": "code",
   "execution_count": 27,
   "metadata": {},
   "outputs": [
    {
     "data": {
      "text/plain": [
       "name         0\n",
       "regions      0\n",
       "start_dt     0\n",
       "finish_dt    0\n",
       "dtype: int64"
      ]
     },
     "execution_count": 27,
     "metadata": {},
     "output_type": "execute_result"
    }
   ],
   "source": [
    "marketing.isna().sum()"
   ]
  },
  {
   "cell_type": "code",
   "execution_count": 28,
   "metadata": {},
   "outputs": [
    {
     "data": {
      "text/plain": [
       "0"
      ]
     },
     "execution_count": 28,
     "metadata": {},
     "output_type": "execute_result"
    }
   ],
   "source": [
    "marketing.duplicated().sum()"
   ]
  },
  {
   "cell_type": "code",
   "execution_count": 29,
   "metadata": {},
   "outputs": [
    {
     "data": {
      "text/plain": [
       "user_id            0\n",
       "event_dt           0\n",
       "event_name         0\n",
       "details       377577\n",
       "dtype: int64"
      ]
     },
     "execution_count": 29,
     "metadata": {},
     "output_type": "execute_result"
    }
   ],
   "source": [
    "#check the proportion of missing values from events dataset\n",
    "events.isna().sum()"
   ]
  },
  {
   "cell_type": "markdown",
   "metadata": {},
   "source": [
    "All the missing values from the events dataset happens to the column of details. We know this one is for purchase values. So let's take a look at how events are spread."
   ]
  },
  {
   "cell_type": "code",
   "execution_count": 30,
   "metadata": {},
   "outputs": [
    {
     "data": {
      "text/plain": [
       "login           189552\n",
       "product_page    125563\n",
       "purchase         62740\n",
       "product_cart     62462\n",
       "Name: event_name, dtype: int64"
      ]
     },
     "execution_count": 30,
     "metadata": {},
     "output_type": "execute_result"
    }
   ],
   "source": [
    "events['event_name'].value_counts()"
   ]
  },
  {
   "cell_type": "markdown",
   "metadata": {},
   "source": [
    "Okay. This might explain the missing values. Events other than purchase wouldn't have the details in USD. The number of purchase values and the missing values also add up to exactly the length of the dataset: 423761. But let's check if there are missing values for the purchase events anyway. "
   ]
  },
  {
   "cell_type": "code",
   "execution_count": 31,
   "metadata": {},
   "outputs": [
    {
     "data": {
      "text/plain": [
       "user_id       0\n",
       "event_dt      0\n",
       "event_name    0\n",
       "details       0\n",
       "dtype: int64"
      ]
     },
     "execution_count": 31,
     "metadata": {},
     "output_type": "execute_result"
    }
   ],
   "source": [
    "events[events['event_name'] == 'purchase'].isna().sum()"
   ]
  },
  {
   "cell_type": "markdown",
   "metadata": {},
   "source": [
    "Okay. There is no missing values from the purchase events. It's all good. "
   ]
  },
  {
   "cell_type": "code",
   "execution_count": 32,
   "metadata": {},
   "outputs": [
    {
     "data": {
      "text/plain": [
       "0"
      ]
     },
     "execution_count": 32,
     "metadata": {},
     "output_type": "execute_result"
    }
   ],
   "source": [
    "#checking for duplicates\n",
    "events.duplicated().sum()"
   ]
  },
  {
   "cell_type": "code",
   "execution_count": 33,
   "metadata": {},
   "outputs": [
    {
     "data": {
      "text/plain": [
       "user_id       0\n",
       "first_date    0\n",
       "region        0\n",
       "device        0\n",
       "dtype: int64"
      ]
     },
     "execution_count": 33,
     "metadata": {},
     "output_type": "execute_result"
    }
   ],
   "source": [
    "#checking for missing values in users\n",
    "users.isna().sum()"
   ]
  },
  {
   "cell_type": "code",
   "execution_count": 34,
   "metadata": {},
   "outputs": [
    {
     "data": {
      "text/plain": [
       "0"
      ]
     },
     "execution_count": 34,
     "metadata": {},
     "output_type": "execute_result"
    }
   ],
   "source": [
    "#checking if there are repeated user_id's\n",
    "users['user_id'].duplicated().sum()"
   ]
  },
  {
   "cell_type": "code",
   "execution_count": 35,
   "metadata": {},
   "outputs": [
    {
     "data": {
      "text/plain": [
       "0"
      ]
     },
     "execution_count": 35,
     "metadata": {},
     "output_type": "execute_result"
    }
   ],
   "source": [
    "#checking duplicates in the user dataset\n",
    "users.duplicated().sum()"
   ]
  },
  {
   "cell_type": "code",
   "execution_count": 36,
   "metadata": {},
   "outputs": [
    {
     "data": {
      "text/plain": [
       "user_id    0\n",
       "group      0\n",
       "ab_test    0\n",
       "dtype: int64"
      ]
     },
     "execution_count": 36,
     "metadata": {},
     "output_type": "execute_result"
    }
   ],
   "source": [
    "#checking missing values in the participants dataset\n",
    "participants.isna().sum()"
   ]
  },
  {
   "cell_type": "code",
   "execution_count": 37,
   "metadata": {},
   "outputs": [
    {
     "data": {
      "text/plain": [
       "0"
      ]
     },
     "execution_count": 37,
     "metadata": {},
     "output_type": "execute_result"
    }
   ],
   "source": [
    "#checking duplicates\n",
    "participants.duplicated().sum()"
   ]
  },
  {
   "cell_type": "markdown",
   "metadata": {},
   "source": [
    "In theory, there shouldn't be any overlapping of users in the A/B test groups. So let's check to see if that's the case. "
   ]
  },
  {
   "cell_type": "code",
   "execution_count": 38,
   "metadata": {},
   "outputs": [
    {
     "data": {
      "text/plain": [
       "1602"
      ]
     },
     "execution_count": 38,
     "metadata": {},
     "output_type": "execute_result"
    }
   ],
   "source": [
    "participants['user_id'].duplicated().sum()"
   ]
  },
  {
   "cell_type": "code",
   "execution_count": 39,
   "metadata": {},
   "outputs": [
    {
     "data": {
      "text/html": [
       "<div>\n",
       "<style scoped>\n",
       "    .dataframe tbody tr th:only-of-type {\n",
       "        vertical-align: middle;\n",
       "    }\n",
       "\n",
       "    .dataframe tbody tr th {\n",
       "        vertical-align: top;\n",
       "    }\n",
       "\n",
       "    .dataframe thead th {\n",
       "        text-align: right;\n",
       "    }\n",
       "</style>\n",
       "<table border=\"1\" class=\"dataframe\">\n",
       "  <thead>\n",
       "    <tr style=\"text-align: right;\">\n",
       "      <th></th>\n",
       "      <th>user_id</th>\n",
       "      <th>group</th>\n",
       "      <th>ab_test</th>\n",
       "    </tr>\n",
       "  </thead>\n",
       "  <tbody>\n",
       "    <tr>\n",
       "      <td>6702</td>\n",
       "      <td>773ECB64E45DEBAB</td>\n",
       "      <td>A</td>\n",
       "      <td>interface_eu_test</td>\n",
       "    </tr>\n",
       "    <tr>\n",
       "      <td>6704</td>\n",
       "      <td>AABA4219186465C9</td>\n",
       "      <td>A</td>\n",
       "      <td>interface_eu_test</td>\n",
       "    </tr>\n",
       "    <tr>\n",
       "      <td>6705</td>\n",
       "      <td>2BA8FA8754D1FE50</td>\n",
       "      <td>B</td>\n",
       "      <td>interface_eu_test</td>\n",
       "    </tr>\n",
       "    <tr>\n",
       "      <td>6706</td>\n",
       "      <td>FB6F6BC119E1DBD5</td>\n",
       "      <td>B</td>\n",
       "      <td>interface_eu_test</td>\n",
       "    </tr>\n",
       "    <tr>\n",
       "      <td>6715</td>\n",
       "      <td>0ABA6D32AE7AFB9B</td>\n",
       "      <td>A</td>\n",
       "      <td>interface_eu_test</td>\n",
       "    </tr>\n",
       "    <tr>\n",
       "      <td>...</td>\n",
       "      <td>...</td>\n",
       "      <td>...</td>\n",
       "      <td>...</td>\n",
       "    </tr>\n",
       "    <tr>\n",
       "      <td>18227</td>\n",
       "      <td>EF2E4FAF26951358</td>\n",
       "      <td>A</td>\n",
       "      <td>interface_eu_test</td>\n",
       "    </tr>\n",
       "    <tr>\n",
       "      <td>18245</td>\n",
       "      <td>2B0CD24EE4291CA0</td>\n",
       "      <td>B</td>\n",
       "      <td>interface_eu_test</td>\n",
       "    </tr>\n",
       "    <tr>\n",
       "      <td>18252</td>\n",
       "      <td>CA6F4DAED160E5B1</td>\n",
       "      <td>A</td>\n",
       "      <td>interface_eu_test</td>\n",
       "    </tr>\n",
       "    <tr>\n",
       "      <td>18257</td>\n",
       "      <td>C70DF942E542DA69</td>\n",
       "      <td>A</td>\n",
       "      <td>interface_eu_test</td>\n",
       "    </tr>\n",
       "    <tr>\n",
       "      <td>18258</td>\n",
       "      <td>CE782A3646E8E5E1</td>\n",
       "      <td>A</td>\n",
       "      <td>interface_eu_test</td>\n",
       "    </tr>\n",
       "  </tbody>\n",
       "</table>\n",
       "<p>1602 rows × 3 columns</p>\n",
       "</div>"
      ],
      "text/plain": [
       "                user_id group            ab_test\n",
       "6702   773ECB64E45DEBAB     A  interface_eu_test\n",
       "6704   AABA4219186465C9     A  interface_eu_test\n",
       "6705   2BA8FA8754D1FE50     B  interface_eu_test\n",
       "6706   FB6F6BC119E1DBD5     B  interface_eu_test\n",
       "6715   0ABA6D32AE7AFB9B     A  interface_eu_test\n",
       "...                 ...   ...                ...\n",
       "18227  EF2E4FAF26951358     A  interface_eu_test\n",
       "18245  2B0CD24EE4291CA0     B  interface_eu_test\n",
       "18252  CA6F4DAED160E5B1     A  interface_eu_test\n",
       "18257  C70DF942E542DA69     A  interface_eu_test\n",
       "18258  CE782A3646E8E5E1     A  interface_eu_test\n",
       "\n",
       "[1602 rows x 3 columns]"
      ]
     },
     "execution_count": 39,
     "metadata": {},
     "output_type": "execute_result"
    }
   ],
   "source": [
    "#checking what the duplicates look like\n",
    "participants[participants['user_id'].duplicated()]"
   ]
  },
  {
   "cell_type": "code",
   "execution_count": 40,
   "metadata": {},
   "outputs": [
    {
     "data": {
      "text/html": [
       "<div>\n",
       "<style scoped>\n",
       "    .dataframe tbody tr th:only-of-type {\n",
       "        vertical-align: middle;\n",
       "    }\n",
       "\n",
       "    .dataframe tbody tr th {\n",
       "        vertical-align: top;\n",
       "    }\n",
       "\n",
       "    .dataframe thead th {\n",
       "        text-align: right;\n",
       "    }\n",
       "</style>\n",
       "<table border=\"1\" class=\"dataframe\">\n",
       "  <thead>\n",
       "    <tr style=\"text-align: right;\">\n",
       "      <th></th>\n",
       "      <th>user_id</th>\n",
       "      <th>group</th>\n",
       "      <th>ab_test</th>\n",
       "    </tr>\n",
       "  </thead>\n",
       "  <tbody>\n",
       "    <tr>\n",
       "      <td>3933</td>\n",
       "      <td>CBC0B1A07E5F787F</td>\n",
       "      <td>A</td>\n",
       "      <td>recommender_system_test</td>\n",
       "    </tr>\n",
       "    <tr>\n",
       "      <td>16348</td>\n",
       "      <td>CBC0B1A07E5F787F</td>\n",
       "      <td>B</td>\n",
       "      <td>interface_eu_test</td>\n",
       "    </tr>\n",
       "  </tbody>\n",
       "</table>\n",
       "</div>"
      ],
      "text/plain": [
       "                user_id group                  ab_test\n",
       "3933   CBC0B1A07E5F787F     A  recommender_system_test\n",
       "16348  CBC0B1A07E5F787F     B        interface_eu_test"
      ]
     },
     "execution_count": 40,
     "metadata": {},
     "output_type": "execute_result"
    }
   ],
   "source": [
    "#pick one to check\n",
    "duplicated_id = participants[participants['user_id'].duplicated()]['user_id']\n",
    "sample = duplicated_id.sample().values[0]\n",
    "participants.query(\"user_id == @sample\")"
   ]
  },
  {
   "cell_type": "code",
   "execution_count": 41,
   "metadata": {},
   "outputs": [
    {
     "data": {
      "text/plain": [
       "group  ab_test                \n",
       "A      interface_eu_test          5831\n",
       "       recommender_system_test    3824\n",
       "B      interface_eu_test          5736\n",
       "       recommender_system_test    2877\n",
       "Name: ab_test, dtype: int64"
      ]
     },
     "execution_count": 41,
     "metadata": {},
     "output_type": "execute_result"
    }
   ],
   "source": [
    "participants.groupby('group')['ab_test'].value_counts()"
   ]
  },
  {
   "cell_type": "markdown",
   "metadata": {},
   "source": [
    "From the above we can see there seems to be two A/B test groups here. The B group for recommender_system_test is also a lot smaller than the A group, whereas the two groups are spread evenly for the interface_eu_test. "
   ]
  },
  {
   "cell_type": "markdown",
   "metadata": {},
   "source": [
    "There are duplicated user_id's in the participants dataset. A closer check reveals that there are users in more than one groups. We will need to remove such users as a next step. \n",
    "\n",
    "Morever, one of the A/B test is interface_eu_test, for which only users from EU regions should be included. We will check on that too. "
   ]
  },
  {
   "cell_type": "markdown",
   "metadata": {},
   "source": [
    "### Part 1 Summary "
   ]
  },
  {
   "cell_type": "markdown",
   "metadata": {},
   "source": [
    "In this section, we've successfully imported and checked the data and found the following key information:\n",
    "\n",
    "- the events information might be affected by the marketing promotion during the A/B test period \n",
    "\n",
    "- there are users in the users dataset who were added after 2020-12-21 and they will be removed\n",
    "\n",
    "- there two two A/B test, one is interface_eu_test, the other is recommender_system_test \n",
    "\n",
    "- for the recommender system test, B group is a lot smaller than A group, which is not ideal. \n",
    "\n",
    "- there are participants who are in more than one test groups. They will need to be removed from the dataset, as well as from the events and users dataset. \n",
    "\n",
    "- we will also need to check if all users in the interface_eu_test are from EU. \n",
    "\n",
    "These will be addressed in the next section. "
   ]
  },
  {
   "cell_type": "markdown",
   "metadata": {},
   "source": [
    "### Part 2: Data preprocessing "
   ]
  },
  {
   "cell_type": "markdown",
   "metadata": {},
   "source": [
    "<a id=\"preprocessing\"></a>"
   ]
  },
  {
   "cell_type": "markdown",
   "metadata": {},
   "source": [
    "Our main task in this section is to remove users who were not part of the test from the data, as well as the duplicates in test participant groups. "
   ]
  },
  {
   "cell_type": "markdown",
   "metadata": {},
   "source": [
    "let's first find out how many users were added after the cut off date. "
   ]
  },
  {
   "cell_type": "code",
   "execution_count": 42,
   "metadata": {},
   "outputs": [
    {
     "name": "stdout",
     "output_type": "stream",
     "text": [
      "0.08525424003369349\n"
     ]
    },
    {
     "data": {
      "text/plain": [
       "5263"
      ]
     },
     "execution_count": 42,
     "metadata": {},
     "output_type": "execute_result"
    }
   ],
   "source": [
    "print(users[users['first_date'] > '2020-12-21'].shape[0] / users.shape[0])\n",
    "users[users['first_date'] > '2020-12-21'].shape[0]"
   ]
  },
  {
   "cell_type": "markdown",
   "metadata": {},
   "source": [
    "Less than 1% of the users in the users' dataset will need to be excluded. We can do this later once we confirm the users in the A/B tests. "
   ]
  },
  {
   "cell_type": "markdown",
   "metadata": {},
   "source": [
    "Next, let's see which users are in the A/B groups for the two tests. \n",
    "\n",
    "We know that there shouldn't be any overlapping in users in between the A and B group. In our case, there also shouldn't be any interaction between the two tests. Otherwise it's impossible to tell which experiment caused the impact. Let's check."
   ]
  },
  {
   "cell_type": "code",
   "execution_count": 43,
   "metadata": {},
   "outputs": [],
   "source": [
    "#get the list of users for each test group using the participants dataset\n",
    "interface_A = participants[(participants['group'] ==\n",
    "                            'A') & (participants['ab_test'] == 'interface_eu_test')]['user_id'].to_list()\n",
    "interface_B = participants[(participants['group'] ==\n",
    "                            'B') & (participants['ab_test'] == 'interface_eu_test')]['user_id'].to_list()\n",
    "recommender_A = participants[(participants['group'] ==\n",
    "                              'A') & (participants['ab_test'] == 'recommender_system_test')]['user_id'].to_list()\n",
    "recommender_B = participants[(participants['group'] ==\n",
    "                              'B') & (participants['ab_test'] == 'recommender_system_test')]['user_id'].to_list()"
   ]
  },
  {
   "cell_type": "code",
   "execution_count": 44,
   "metadata": {},
   "outputs": [
    {
     "name": "stdout",
     "output_type": "stream",
     "text": [
      "Number of users in both A and B interface_eu_test groups:  0\n",
      "Number of users in both A and B recommender_syste_test groups:  0\n",
      "Number of users in both interface_us_test A group and recommender_system_test A group:  482\n",
      "Number of users in both interface_us_test A group and recommender_system_test B group:  337\n",
      "Number of users in both interface_us_test B group and recommender_system_test A group:  439\n",
      "Number of users in both interface_us_test B group and recommender_test_system B group:  344\n"
     ]
    }
   ],
   "source": [
    "#check overlapping between each two groups\n",
    "print('Number of users in both A and B interface_eu_test groups: ',\n",
    "      len([i for i in interface_A if i in interface_B]))\n",
    "print('Number of users in both A and B recommender_syste_test groups: ',\n",
    "      len([i for i in recommender_A if i in recommender_B]))\n",
    "print('Number of users in both interface_us_test A group and recommender_system_test A group: ',\n",
    "      len([i for i in interface_A if i in recommender_A]))\n",
    "print('Number of users in both interface_us_test A group and recommender_system_test B group: ',\n",
    "      len([i for i in interface_A if i in recommender_B]))\n",
    "print('Number of users in both interface_us_test B group and recommender_system_test A group: ',\n",
    "      len([i for i in interface_B if i in recommender_A]))\n",
    "print('Number of users in both interface_us_test B group and recommender_test_system B group: ',\n",
    "      len([i for i in interface_B if i in recommender_B]))"
   ]
  },
  {
   "cell_type": "markdown",
   "metadata": {},
   "source": [
    "The above add up to exactly the number of duplicated user_id's.\n",
    "\n",
    "Once a user is in two groups, we wouldn't able to tell which experiment caused the behaviour change. We also actually don't know whether the users are in fact in two groups or it's an error. Therefore we will need to drop those users from the datasets completely. \n",
    "\n",
    "Simply dropping duplicates will keep the first of the duplicated user_id, which won't work for our purpose. We will exclude the those user_id's completely. "
   ]
  },
  {
   "cell_type": "code",
   "execution_count": 45,
   "metadata": {},
   "outputs": [
    {
     "data": {
      "text/plain": [
       "1602"
      ]
     },
     "execution_count": 45,
     "metadata": {},
     "output_type": "execute_result"
    }
   ],
   "source": [
    "#get the duplicated user_id's. \n",
    "duplicated_id = participants[participants['user_id'].duplicated()]['user_id']\n",
    "len(duplicated_id)"
   ]
  },
  {
   "cell_type": "code",
   "execution_count": 46,
   "metadata": {
    "scrolled": true
   },
   "outputs": [
    {
     "data": {
      "text/plain": [
       "group  ab_test                \n",
       "A      interface_eu_test          5012\n",
       "       recommender_system_test    2903\n",
       "B      interface_eu_test          4953\n",
       "       recommender_system_test    2196\n",
       "Name: ab_test, dtype: int64"
      ]
     },
     "execution_count": 46,
     "metadata": {},
     "output_type": "execute_result"
    }
   ],
   "source": [
    "#checking how removing duplicated values will affect the shape of the data\n",
    "participants[~participants['user_id'].isin(\n",
    "    duplicated_id)].groupby('group')['ab_test'].value_counts()"
   ]
  },
  {
   "cell_type": "markdown",
   "metadata": {},
   "source": [
    "If we remove those users, group B for recommender_system_test got even smaller. However, for the accuracy of the analysis, we will go ahead with the removal. "
   ]
  },
  {
   "cell_type": "code",
   "execution_count": 47,
   "metadata": {},
   "outputs": [
    {
     "data": {
      "text/plain": [
       "15064"
      ]
     },
     "execution_count": 47,
     "metadata": {},
     "output_type": "execute_result"
    }
   ],
   "source": [
    "participants_ = participants[~participants['user_id'].isin(\n",
    "    duplicated_id)]\n",
    "participants_.shape[0]"
   ]
  },
  {
   "cell_type": "code",
   "execution_count": 48,
   "metadata": {},
   "outputs": [
    {
     "data": {
      "text/plain": [
       "0"
      ]
     },
     "execution_count": 48,
     "metadata": {},
     "output_type": "execute_result"
    }
   ],
   "source": [
    "participants_['user_id'].duplicated().sum()"
   ]
  },
  {
   "cell_type": "markdown",
   "metadata": {},
   "source": [
    "Now it's good. No user is in more than two groups. \n",
    "\n",
    "Before we finalize who should be in the test and who shouldn't. Let's check if all the participants who are in the interface_eu_test are actually from the EU region. "
   ]
  },
  {
   "cell_type": "code",
   "execution_count": 49,
   "metadata": {},
   "outputs": [
    {
     "data": {
      "text/plain": [
       "EU           0.749518\n",
       "N.America    0.148300\n",
       "CIS          0.051107\n",
       "APAC         0.051075\n",
       "Name: region, dtype: float64"
      ]
     },
     "execution_count": 49,
     "metadata": {},
     "output_type": "execute_result"
    }
   ],
   "source": [
    "users['region'].value_counts()/len(users)"
   ]
  },
  {
   "cell_type": "markdown",
   "metadata": {},
   "source": [
    "Almost 75% of the users are from EU region. Let's get their user_ids and see if the interface_eu_test participants are from those. "
   ]
  },
  {
   "cell_type": "code",
   "execution_count": 50,
   "metadata": {},
   "outputs": [],
   "source": [
    "eu_users = users[users['region'] == 'EU']['user_id'].to_list()"
   ]
  },
  {
   "cell_type": "code",
   "execution_count": 51,
   "metadata": {},
   "outputs": [
    {
     "data": {
      "text/plain": [
       "9965"
      ]
     },
     "execution_count": 51,
     "metadata": {},
     "output_type": "execute_result"
    }
   ],
   "source": [
    "#get the users from the interface_eu_test \n",
    "interface_users = participants_[participants_['ab_test'] == 'interface_eu_test']['user_id'].to_list()\n",
    "len(interface_users)"
   ]
  },
  {
   "cell_type": "code",
   "execution_count": 52,
   "metadata": {},
   "outputs": [
    {
     "data": {
      "text/plain": [
       "9965"
      ]
     },
     "execution_count": 52,
     "metadata": {},
     "output_type": "execute_result"
    }
   ],
   "source": [
    "#compare the updated interface_eu_test users against the eu_users \n",
    "len([i for i in interface_users if i in eu_users])"
   ]
  },
  {
   "cell_type": "markdown",
   "metadata": {},
   "source": [
    "Excellent. All users in the interface_eu_test are from EU. \n",
    "\n",
    "Next, we will merge the users dataset with participants dataset, keeping only the users in the participants. Then we will remove those who were added after 2020-12-21. "
   ]
  },
  {
   "cell_type": "code",
   "execution_count": 53,
   "metadata": {},
   "outputs": [
    {
     "name": "stdout",
     "output_type": "stream",
     "text": [
      "Number of users in the original dataset:  61733\n",
      "Number of users in the test:  15064\n"
     ]
    },
    {
     "data": {
      "text/html": [
       "<div>\n",
       "<style scoped>\n",
       "    .dataframe tbody tr th:only-of-type {\n",
       "        vertical-align: middle;\n",
       "    }\n",
       "\n",
       "    .dataframe tbody tr th {\n",
       "        vertical-align: top;\n",
       "    }\n",
       "\n",
       "    .dataframe thead th {\n",
       "        text-align: right;\n",
       "    }\n",
       "</style>\n",
       "<table border=\"1\" class=\"dataframe\">\n",
       "  <thead>\n",
       "    <tr style=\"text-align: right;\">\n",
       "      <th></th>\n",
       "      <th>user_id</th>\n",
       "      <th>group</th>\n",
       "      <th>ab_test</th>\n",
       "      <th>first_date</th>\n",
       "      <th>region</th>\n",
       "      <th>device</th>\n",
       "    </tr>\n",
       "  </thead>\n",
       "  <tbody>\n",
       "    <tr>\n",
       "      <td>0</td>\n",
       "      <td>D1ABA3E2887B6A73</td>\n",
       "      <td>A</td>\n",
       "      <td>recommender_system_test</td>\n",
       "      <td>2020-12-07</td>\n",
       "      <td>EU</td>\n",
       "      <td>PC</td>\n",
       "    </tr>\n",
       "    <tr>\n",
       "      <td>1</td>\n",
       "      <td>A7A3664BD6242119</td>\n",
       "      <td>A</td>\n",
       "      <td>recommender_system_test</td>\n",
       "      <td>2020-12-20</td>\n",
       "      <td>EU</td>\n",
       "      <td>iPhone</td>\n",
       "    </tr>\n",
       "    <tr>\n",
       "      <td>2</td>\n",
       "      <td>482F14783456D21B</td>\n",
       "      <td>B</td>\n",
       "      <td>recommender_system_test</td>\n",
       "      <td>2020-12-14</td>\n",
       "      <td>EU</td>\n",
       "      <td>PC</td>\n",
       "    </tr>\n",
       "    <tr>\n",
       "      <td>3</td>\n",
       "      <td>4FF2998A348C484F</td>\n",
       "      <td>A</td>\n",
       "      <td>recommender_system_test</td>\n",
       "      <td>2020-12-20</td>\n",
       "      <td>EU</td>\n",
       "      <td>Mac</td>\n",
       "    </tr>\n",
       "    <tr>\n",
       "      <td>4</td>\n",
       "      <td>7473E0943673C09E</td>\n",
       "      <td>A</td>\n",
       "      <td>recommender_system_test</td>\n",
       "      <td>2020-12-16</td>\n",
       "      <td>EU</td>\n",
       "      <td>iPhone</td>\n",
       "    </tr>\n",
       "  </tbody>\n",
       "</table>\n",
       "</div>"
      ],
      "text/plain": [
       "            user_id group                  ab_test first_date region  device\n",
       "0  D1ABA3E2887B6A73     A  recommender_system_test 2020-12-07     EU      PC\n",
       "1  A7A3664BD6242119     A  recommender_system_test 2020-12-20     EU  iPhone\n",
       "2  482F14783456D21B     B  recommender_system_test 2020-12-14     EU      PC\n",
       "3  4FF2998A348C484F     A  recommender_system_test 2020-12-20     EU     Mac\n",
       "4  7473E0943673C09E     A  recommender_system_test 2020-12-16     EU  iPhone"
      ]
     },
     "execution_count": 53,
     "metadata": {},
     "output_type": "execute_result"
    }
   ],
   "source": [
    "users_test = participants_.merge(users, on = 'user_id', how = 'left')\n",
    "print('Number of users in the original dataset: ', len(users))\n",
    "print('Number of users in the test: ', len(users_test))\n",
    "users_test.head()"
   ]
  },
  {
   "cell_type": "markdown",
   "metadata": {},
   "source": [
    "Next, let's remove the users added after 2020-12-21."
   ]
  },
  {
   "cell_type": "code",
   "execution_count": 54,
   "metadata": {},
   "outputs": [
    {
     "name": "stdout",
     "output_type": "stream",
     "text": [
      "Number of users in the test:  14062\n"
     ]
    }
   ],
   "source": [
    "#exclude the users added after 2020-12-21\n",
    "users_test = users_test[users_test['first_date'] <= '2020-12-21']\n",
    "print('Number of users in the test: ', len(users_test))"
   ]
  },
  {
   "cell_type": "markdown",
   "metadata": {},
   "source": [
    "Finally, let's merge the above dataset with the events dataset, only keep the users who have been in the test and were added before 20201-12-21. "
   ]
  },
  {
   "cell_type": "code",
   "execution_count": 55,
   "metadata": {},
   "outputs": [
    {
     "name": "stdout",
     "output_type": "stream",
     "text": [
      "(88720, 9)\n"
     ]
    },
    {
     "data": {
      "text/html": [
       "<div>\n",
       "<style scoped>\n",
       "    .dataframe tbody tr th:only-of-type {\n",
       "        vertical-align: middle;\n",
       "    }\n",
       "\n",
       "    .dataframe tbody tr th {\n",
       "        vertical-align: top;\n",
       "    }\n",
       "\n",
       "    .dataframe thead th {\n",
       "        text-align: right;\n",
       "    }\n",
       "</style>\n",
       "<table border=\"1\" class=\"dataframe\">\n",
       "  <thead>\n",
       "    <tr style=\"text-align: right;\">\n",
       "      <th></th>\n",
       "      <th>user_id</th>\n",
       "      <th>group</th>\n",
       "      <th>ab_test</th>\n",
       "      <th>first_date</th>\n",
       "      <th>region</th>\n",
       "      <th>device</th>\n",
       "      <th>event_dt</th>\n",
       "      <th>event_name</th>\n",
       "      <th>details</th>\n",
       "    </tr>\n",
       "  </thead>\n",
       "  <tbody>\n",
       "    <tr>\n",
       "      <td>42884</td>\n",
       "      <td>AA60EFB0038DA8BA</td>\n",
       "      <td>A</td>\n",
       "      <td>interface_eu_test</td>\n",
       "      <td>2020-12-15</td>\n",
       "      <td>EU</td>\n",
       "      <td>PC</td>\n",
       "      <td>2020-12-15 20:14:23</td>\n",
       "      <td>product_page</td>\n",
       "      <td>NaN</td>\n",
       "    </tr>\n",
       "    <tr>\n",
       "      <td>16444</td>\n",
       "      <td>742C0E363D2C9EA7</td>\n",
       "      <td>B</td>\n",
       "      <td>recommender_system_test</td>\n",
       "      <td>2020-12-07</td>\n",
       "      <td>EU</td>\n",
       "      <td>PC</td>\n",
       "      <td>2020-12-24 17:27:48</td>\n",
       "      <td>product_page</td>\n",
       "      <td>NaN</td>\n",
       "    </tr>\n",
       "    <tr>\n",
       "      <td>35432</td>\n",
       "      <td>94DA71DA37CDEFD2</td>\n",
       "      <td>A</td>\n",
       "      <td>interface_eu_test</td>\n",
       "      <td>2020-12-17</td>\n",
       "      <td>EU</td>\n",
       "      <td>Android</td>\n",
       "      <td>2020-12-20 07:46:31</td>\n",
       "      <td>login</td>\n",
       "      <td>NaN</td>\n",
       "    </tr>\n",
       "    <tr>\n",
       "      <td>50404</td>\n",
       "      <td>EB8DFF24EDC52127</td>\n",
       "      <td>A</td>\n",
       "      <td>interface_eu_test</td>\n",
       "      <td>2020-12-09</td>\n",
       "      <td>EU</td>\n",
       "      <td>PC</td>\n",
       "      <td>2020-12-11 15:20:18</td>\n",
       "      <td>product_page</td>\n",
       "      <td>NaN</td>\n",
       "    </tr>\n",
       "    <tr>\n",
       "      <td>71304</td>\n",
       "      <td>6BFBBB2ECBB28625</td>\n",
       "      <td>A</td>\n",
       "      <td>interface_eu_test</td>\n",
       "      <td>2020-12-15</td>\n",
       "      <td>EU</td>\n",
       "      <td>iPhone</td>\n",
       "      <td>2020-12-26 11:27:34</td>\n",
       "      <td>product_cart</td>\n",
       "      <td>NaN</td>\n",
       "    </tr>\n",
       "  </tbody>\n",
       "</table>\n",
       "</div>"
      ],
      "text/plain": [
       "                user_id group                  ab_test first_date region  \\\n",
       "42884  AA60EFB0038DA8BA     A        interface_eu_test 2020-12-15     EU   \n",
       "16444  742C0E363D2C9EA7     B  recommender_system_test 2020-12-07     EU   \n",
       "35432  94DA71DA37CDEFD2     A        interface_eu_test 2020-12-17     EU   \n",
       "50404  EB8DFF24EDC52127     A        interface_eu_test 2020-12-09     EU   \n",
       "71304  6BFBBB2ECBB28625     A        interface_eu_test 2020-12-15     EU   \n",
       "\n",
       "        device            event_dt    event_name  details  \n",
       "42884       PC 2020-12-15 20:14:23  product_page      NaN  \n",
       "16444       PC 2020-12-24 17:27:48  product_page      NaN  \n",
       "35432  Android 2020-12-20 07:46:31         login      NaN  \n",
       "50404       PC 2020-12-11 15:20:18  product_page      NaN  \n",
       "71304   iPhone 2020-12-26 11:27:34  product_cart      NaN  "
      ]
     },
     "execution_count": 55,
     "metadata": {},
     "output_type": "execute_result"
    }
   ],
   "source": [
    "events_ab = users_test.merge(events, on ='user_id', how = 'inner')\n",
    "print(events_ab.shape)\n",
    "events_ab.sample(5)"
   ]
  },
  {
   "cell_type": "markdown",
   "metadata": {},
   "source": [
    "Finally, let's add a date column for later convenience. "
   ]
  },
  {
   "cell_type": "code",
   "execution_count": 56,
   "metadata": {},
   "outputs": [
    {
     "data": {
      "text/html": [
       "<div>\n",
       "<style scoped>\n",
       "    .dataframe tbody tr th:only-of-type {\n",
       "        vertical-align: middle;\n",
       "    }\n",
       "\n",
       "    .dataframe tbody tr th {\n",
       "        vertical-align: top;\n",
       "    }\n",
       "\n",
       "    .dataframe thead th {\n",
       "        text-align: right;\n",
       "    }\n",
       "</style>\n",
       "<table border=\"1\" class=\"dataframe\">\n",
       "  <thead>\n",
       "    <tr style=\"text-align: right;\">\n",
       "      <th></th>\n",
       "      <th>user_id</th>\n",
       "      <th>group</th>\n",
       "      <th>ab_test</th>\n",
       "      <th>first_date</th>\n",
       "      <th>region</th>\n",
       "      <th>device</th>\n",
       "      <th>event_dt</th>\n",
       "      <th>event_name</th>\n",
       "      <th>details</th>\n",
       "      <th>event_date</th>\n",
       "    </tr>\n",
       "  </thead>\n",
       "  <tbody>\n",
       "    <tr>\n",
       "      <td>87036</td>\n",
       "      <td>DCACAD1A1A487DBE</td>\n",
       "      <td>A</td>\n",
       "      <td>interface_eu_test</td>\n",
       "      <td>2020-12-10</td>\n",
       "      <td>EU</td>\n",
       "      <td>iPhone</td>\n",
       "      <td>2020-12-10 03:57:22</td>\n",
       "      <td>product_page</td>\n",
       "      <td>NaN</td>\n",
       "      <td>2020-12-10</td>\n",
       "    </tr>\n",
       "    <tr>\n",
       "      <td>39474</td>\n",
       "      <td>F28F66E0B114AADD</td>\n",
       "      <td>A</td>\n",
       "      <td>interface_eu_test</td>\n",
       "      <td>2020-12-07</td>\n",
       "      <td>EU</td>\n",
       "      <td>Mac</td>\n",
       "      <td>2020-12-11 13:59:11</td>\n",
       "      <td>product_page</td>\n",
       "      <td>NaN</td>\n",
       "      <td>2020-12-11</td>\n",
       "    </tr>\n",
       "    <tr>\n",
       "      <td>5015</td>\n",
       "      <td>2C022D871550873C</td>\n",
       "      <td>B</td>\n",
       "      <td>recommender_system_test</td>\n",
       "      <td>2020-12-09</td>\n",
       "      <td>EU</td>\n",
       "      <td>PC</td>\n",
       "      <td>2020-12-13 20:24:44</td>\n",
       "      <td>purchase</td>\n",
       "      <td>4.99</td>\n",
       "      <td>2020-12-13</td>\n",
       "    </tr>\n",
       "    <tr>\n",
       "      <td>57250</td>\n",
       "      <td>842487122CEB89D5</td>\n",
       "      <td>B</td>\n",
       "      <td>interface_eu_test</td>\n",
       "      <td>2020-12-17</td>\n",
       "      <td>EU</td>\n",
       "      <td>Android</td>\n",
       "      <td>2020-12-24 06:30:58</td>\n",
       "      <td>product_cart</td>\n",
       "      <td>NaN</td>\n",
       "      <td>2020-12-24</td>\n",
       "    </tr>\n",
       "    <tr>\n",
       "      <td>68044</td>\n",
       "      <td>EC3A288056D4FEAA</td>\n",
       "      <td>A</td>\n",
       "      <td>interface_eu_test</td>\n",
       "      <td>2020-12-07</td>\n",
       "      <td>EU</td>\n",
       "      <td>iPhone</td>\n",
       "      <td>2020-12-07 14:31:33</td>\n",
       "      <td>product_cart</td>\n",
       "      <td>NaN</td>\n",
       "      <td>2020-12-07</td>\n",
       "    </tr>\n",
       "  </tbody>\n",
       "</table>\n",
       "</div>"
      ],
      "text/plain": [
       "                user_id group                  ab_test first_date region  \\\n",
       "87036  DCACAD1A1A487DBE     A        interface_eu_test 2020-12-10     EU   \n",
       "39474  F28F66E0B114AADD     A        interface_eu_test 2020-12-07     EU   \n",
       "5015   2C022D871550873C     B  recommender_system_test 2020-12-09     EU   \n",
       "57250  842487122CEB89D5     B        interface_eu_test 2020-12-17     EU   \n",
       "68044  EC3A288056D4FEAA     A        interface_eu_test 2020-12-07     EU   \n",
       "\n",
       "        device            event_dt    event_name  details event_date  \n",
       "87036   iPhone 2020-12-10 03:57:22  product_page      NaN 2020-12-10  \n",
       "39474      Mac 2020-12-11 13:59:11  product_page      NaN 2020-12-11  \n",
       "5015        PC 2020-12-13 20:24:44      purchase     4.99 2020-12-13  \n",
       "57250  Android 2020-12-24 06:30:58  product_cart      NaN 2020-12-24  \n",
       "68044   iPhone 2020-12-07 14:31:33  product_cart      NaN 2020-12-07  "
      ]
     },
     "execution_count": 56,
     "metadata": {},
     "output_type": "execute_result"
    }
   ],
   "source": [
    "events_ab['event_date'] = pd.to_datetime(events_ab['event_dt'].dt.date)\n",
    "events_ab.sample(5)"
   ]
  },
  {
   "cell_type": "markdown",
   "metadata": {},
   "source": [
    "### Part 2 summary "
   ]
  },
  {
   "cell_type": "markdown",
   "metadata": {},
   "source": [
    "In this section, we've removed the users who were in more than one A/B test group, as well as who were added after December 21, 2020. \n",
    "\n",
    "We've also removed the events by those users in the events dataset. Now we have a merged dataset containing the A/B test users information and their events information. \n",
    "\n",
    "In the next section, let's carry out an exploratory data analysis for both A/B tests. "
   ]
  },
  {
   "cell_type": "markdown",
   "metadata": {},
   "source": [
    "### Part 3: Exploratory data analysis "
   ]
  },
  {
   "cell_type": "markdown",
   "metadata": {},
   "source": [
    "<a id=\"eda\"></a>"
   ]
  },
  {
   "cell_type": "markdown",
   "metadata": {},
   "source": [
    "The expected results of the recommender_system_test is that within 14 days of signing up, users will show better conversion into product page views, product card views and purchases. At each of the stage of the funnel product_page → product_card → purchase, there will be at least a 10% increase.\n",
    "\n",
    "In this section, we we carry out an exploratory data analysis to first examine the recommender_system_test to see how the two groups performed at each each of the funnel process. In particular we will examine the following matters: \n",
    "\n",
    "- the distribution of number of events per user in the two groups \n",
    "\n",
    "- the ditribution of number of events by days \n",
    "\n",
    "- the purchase values by the two groups\n",
    "\n",
    "- conversion rates at different funnel stages. \n",
    "\n",
    "\n",
    "There is no specific instruction as to what the purpose or expected results are for the interface_eu_test. Therefore it will not be the main focus of this section. "
   ]
  },
  {
   "cell_type": "code",
   "execution_count": 57,
   "metadata": {},
   "outputs": [
    {
     "data": {
      "text/plain": [
       "login           38330\n",
       "product_page    24970\n",
       "purchase        12843\n",
       "product_cart    12577\n",
       "Name: event_name, dtype: int64"
      ]
     },
     "execution_count": 57,
     "metadata": {},
     "output_type": "execute_result"
    }
   ],
   "source": [
    "#examine the event_name values\n",
    "events_ab['event_name'].value_counts()"
   ]
  },
  {
   "cell_type": "markdown",
   "metadata": {},
   "source": [
    "It's interesting to see that there are more purchases then product_cart overall. This indicates that there are different paths to purchase that the users might follow. Later in this section, we will map out the users' journey to see what it's like. "
   ]
  },
  {
   "cell_type": "code",
   "execution_count": 58,
   "metadata": {},
   "outputs": [],
   "source": [
    "#devide the two tests, interface_test for later use\n",
    "recommender_test = events_ab[events_ab['ab_test'] == 'recommender_system_test']\n",
    "interface_test = events_ab[events_ab['ab_test'] == 'interface_eu_test']"
   ]
  },
  {
   "cell_type": "code",
   "execution_count": 59,
   "metadata": {},
   "outputs": [
    {
     "data": {
      "text/plain": [
       "group\n",
       "A    2082\n",
       "B     706\n",
       "Name: user_id, dtype: int64"
      ]
     },
     "execution_count": 59,
     "metadata": {},
     "output_type": "execute_result"
    }
   ],
   "source": [
    "#check the number of unique users in each group\n",
    "recommender_test.groupby('group')['user_id'].nunique()"
   ]
  },
  {
   "cell_type": "code",
   "execution_count": 60,
   "metadata": {},
   "outputs": [
    {
     "data": {
      "text/plain": [
       "group\n",
       "A    4522\n",
       "B    4439\n",
       "Name: user_id, dtype: int64"
      ]
     },
     "execution_count": 60,
     "metadata": {},
     "output_type": "execute_result"
    }
   ],
   "source": [
    "interface_test.groupby('group')['user_id'].nunique()"
   ]
  },
  {
   "cell_type": "markdown",
   "metadata": {},
   "source": [
    "We know this from previoius steps that the recommender_system_test groups are highly unbalanced, whereas interface_eu_test groups are quite equala in size. \n",
    "\n",
    "The test took users for two weeks, and then ran for another 9 days before it ends. The goal of the participants is 6000. As far as the recommender_sytem_test is concerned, the numbers are quite short, especially for the B group. The traffic was not split quite right. It will be tricky to compare the results. This issue will need to be brought up to the web department. \n",
    "\n",
    "For the interface_eu_test, we have over 4000 users for each group. It's better, although still short from the goal, if this test has the same participants goal as the recommender system test. \n",
    "\n",
    "In what follows, we will carry out the analysis of the recommender_system_test A/B test, first the group's overall performance, followed by the accumulated performance. "
   ]
  },
  {
   "cell_type": "markdown",
   "metadata": {},
   "source": [
    "#### 3.1 Analysis of events for the recommender_system_test A/B groups - overall performance"
   ]
  },
  {
   "cell_type": "code",
   "execution_count": 61,
   "metadata": {},
   "outputs": [
    {
     "data": {
      "text/html": [
       "<div>\n",
       "<style scoped>\n",
       "    .dataframe tbody tr th:only-of-type {\n",
       "        vertical-align: middle;\n",
       "    }\n",
       "\n",
       "    .dataframe tbody tr th {\n",
       "        vertical-align: top;\n",
       "    }\n",
       "\n",
       "    .dataframe thead th {\n",
       "        text-align: right;\n",
       "    }\n",
       "</style>\n",
       "<table border=\"1\" class=\"dataframe\">\n",
       "  <thead>\n",
       "    <tr style=\"text-align: right;\">\n",
       "      <th></th>\n",
       "      <th>user_id</th>\n",
       "      <th>group</th>\n",
       "      <th>ab_test</th>\n",
       "      <th>first_date</th>\n",
       "      <th>region</th>\n",
       "      <th>device</th>\n",
       "      <th>event_dt</th>\n",
       "      <th>event_name</th>\n",
       "      <th>details</th>\n",
       "      <th>event_date</th>\n",
       "    </tr>\n",
       "  </thead>\n",
       "  <tbody>\n",
       "    <tr>\n",
       "      <td>0</td>\n",
       "      <td>D1ABA3E2887B6A73</td>\n",
       "      <td>A</td>\n",
       "      <td>recommender_system_test</td>\n",
       "      <td>2020-12-07</td>\n",
       "      <td>EU</td>\n",
       "      <td>PC</td>\n",
       "      <td>2020-12-07 14:43:27</td>\n",
       "      <td>purchase</td>\n",
       "      <td>99.99</td>\n",
       "      <td>2020-12-07</td>\n",
       "    </tr>\n",
       "    <tr>\n",
       "      <td>1</td>\n",
       "      <td>D1ABA3E2887B6A73</td>\n",
       "      <td>A</td>\n",
       "      <td>recommender_system_test</td>\n",
       "      <td>2020-12-07</td>\n",
       "      <td>EU</td>\n",
       "      <td>PC</td>\n",
       "      <td>2020-12-25 00:04:56</td>\n",
       "      <td>purchase</td>\n",
       "      <td>4.99</td>\n",
       "      <td>2020-12-25</td>\n",
       "    </tr>\n",
       "    <tr>\n",
       "      <td>2</td>\n",
       "      <td>D1ABA3E2887B6A73</td>\n",
       "      <td>A</td>\n",
       "      <td>recommender_system_test</td>\n",
       "      <td>2020-12-07</td>\n",
       "      <td>EU</td>\n",
       "      <td>PC</td>\n",
       "      <td>2020-12-07 14:43:29</td>\n",
       "      <td>product_cart</td>\n",
       "      <td>NaN</td>\n",
       "      <td>2020-12-07</td>\n",
       "    </tr>\n",
       "    <tr>\n",
       "      <td>3</td>\n",
       "      <td>D1ABA3E2887B6A73</td>\n",
       "      <td>A</td>\n",
       "      <td>recommender_system_test</td>\n",
       "      <td>2020-12-07</td>\n",
       "      <td>EU</td>\n",
       "      <td>PC</td>\n",
       "      <td>2020-12-25 00:04:57</td>\n",
       "      <td>product_cart</td>\n",
       "      <td>NaN</td>\n",
       "      <td>2020-12-25</td>\n",
       "    </tr>\n",
       "    <tr>\n",
       "      <td>4</td>\n",
       "      <td>D1ABA3E2887B6A73</td>\n",
       "      <td>A</td>\n",
       "      <td>recommender_system_test</td>\n",
       "      <td>2020-12-07</td>\n",
       "      <td>EU</td>\n",
       "      <td>PC</td>\n",
       "      <td>2020-12-07 14:43:27</td>\n",
       "      <td>product_page</td>\n",
       "      <td>NaN</td>\n",
       "      <td>2020-12-07</td>\n",
       "    </tr>\n",
       "  </tbody>\n",
       "</table>\n",
       "</div>"
      ],
      "text/plain": [
       "            user_id group                  ab_test first_date region device  \\\n",
       "0  D1ABA3E2887B6A73     A  recommender_system_test 2020-12-07     EU     PC   \n",
       "1  D1ABA3E2887B6A73     A  recommender_system_test 2020-12-07     EU     PC   \n",
       "2  D1ABA3E2887B6A73     A  recommender_system_test 2020-12-07     EU     PC   \n",
       "3  D1ABA3E2887B6A73     A  recommender_system_test 2020-12-07     EU     PC   \n",
       "4  D1ABA3E2887B6A73     A  recommender_system_test 2020-12-07     EU     PC   \n",
       "\n",
       "             event_dt    event_name  details event_date  \n",
       "0 2020-12-07 14:43:27      purchase    99.99 2020-12-07  \n",
       "1 2020-12-25 00:04:56      purchase     4.99 2020-12-25  \n",
       "2 2020-12-07 14:43:29  product_cart      NaN 2020-12-07  \n",
       "3 2020-12-25 00:04:57  product_cart      NaN 2020-12-25  \n",
       "4 2020-12-07 14:43:27  product_page      NaN 2020-12-07  "
      ]
     },
     "metadata": {},
     "output_type": "display_data"
    }
   ],
   "source": [
    "#take another look at the first 5 rows\n",
    "display(recommender_test.head())"
   ]
  },
  {
   "cell_type": "code",
   "execution_count": 62,
   "metadata": {},
   "outputs": [
    {
     "data": {
      "text/plain": [
       "group  region   \n",
       "A      EU           13742\n",
       "       N.America      708\n",
       "       APAC           160\n",
       "       CIS            127\n",
       "B      EU            3784\n",
       "       N.America      130\n",
       "       CIS             81\n",
       "       APAC            72\n",
       "Name: region, dtype: int64"
      ]
     },
     "execution_count": 62,
     "metadata": {},
     "output_type": "execute_result"
    }
   ],
   "source": [
    "#take a look at users and groups by region \n",
    "recommender_test.groupby('group')['region'].value_counts()"
   ]
  },
  {
   "cell_type": "markdown",
   "metadata": {},
   "source": [
    "Region wise, the groups seem to be distributed more or less evenly. "
   ]
  },
  {
   "cell_type": "code",
   "execution_count": 63,
   "metadata": {},
   "outputs": [
    {
     "data": {
      "text/html": [
       "<div>\n",
       "<style scoped>\n",
       "    .dataframe tbody tr th:only-of-type {\n",
       "        vertical-align: middle;\n",
       "    }\n",
       "\n",
       "    .dataframe tbody tr th {\n",
       "        vertical-align: top;\n",
       "    }\n",
       "\n",
       "    .dataframe thead th {\n",
       "        text-align: right;\n",
       "    }\n",
       "</style>\n",
       "<table border=\"1\" class=\"dataframe\">\n",
       "  <thead>\n",
       "    <tr style=\"text-align: right;\">\n",
       "      <th></th>\n",
       "      <th>group</th>\n",
       "      <th>event_name</th>\n",
       "      <th>user_id</th>\n",
       "      <th>events_per_user</th>\n",
       "    </tr>\n",
       "  </thead>\n",
       "  <tbody>\n",
       "    <tr>\n",
       "      <td>0</td>\n",
       "      <td>A</td>\n",
       "      <td>14737</td>\n",
       "      <td>2082</td>\n",
       "      <td>7.078290</td>\n",
       "    </tr>\n",
       "    <tr>\n",
       "      <td>1</td>\n",
       "      <td>B</td>\n",
       "      <td>4067</td>\n",
       "      <td>706</td>\n",
       "      <td>5.760623</td>\n",
       "    </tr>\n",
       "  </tbody>\n",
       "</table>\n",
       "</div>"
      ],
      "text/plain": [
       "  group  event_name  user_id  events_per_user\n",
       "0     A       14737     2082         7.078290\n",
       "1     B        4067      706         5.760623"
      ]
     },
     "execution_count": 63,
     "metadata": {},
     "output_type": "execute_result"
    }
   ],
   "source": [
    "event_group = recommender_test.groupby('group').agg(\n",
    "    {'event_name': 'count', 'user_id': 'nunique'}).reset_index()\n",
    "event_group['events_per_user'] = event_group['event_name'] / \\\n",
    "    event_group['user_id']\n",
    "event_group"
   ]
  },
  {
   "cell_type": "markdown",
   "metadata": {},
   "source": [
    "As shown above, overall group A has on average more than 7 events per user, whereas group B has only 5.7 per user. \n",
    "\n",
    "Next, let's take a look at number of events by group by days, bearing in mind that the two groups have very different sizes. "
   ]
  },
  {
   "cell_type": "code",
   "execution_count": 64,
   "metadata": {},
   "outputs": [
    {
     "data": {
      "image/png": "[encoded data removed]",
      "text/plain": [
       "<Figure size 576x432 with 1 Axes>"
      ]
     },
     "metadata": {
      "needs_background": "light"
     },
     "output_type": "display_data"
    }
   ],
   "source": [
    "plt.figure(figsize=(8,6))\n",
    "sns.lineplot(data = recommender_test.groupby(['event_date', 'group']).agg({'event_name' : 'count'}).reset_index(),\n",
    "             x = 'event_date',\n",
    "             y= 'event_name',\n",
    "             hue = 'group')\n",
    "plt.title('Number of events by group')\n",
    "plt.grid()\n",
    "plt.xlabel('Date')\n",
    "plt.ylabel('Number of events')\n",
    "plt.xticks(rotation=45)\n",
    "plt.show()           "
   ]
  },
  {
   "cell_type": "markdown",
   "metadata": {},
   "source": [
    "We already know the number of events by group would be different, given the differing size of their users(A: 2082, B: 786). We can notice some similar patterns between the 2 groups: \n",
    "\n",
    "- the number of events reached its peak on the 2020-12-21, the day the test stopped taking new users \n",
    "\n",
    "- both groups saw a decline in the number of evens after 2020-12-21 \n",
    "\n",
    "- while group B was fluctuating in number of events between 2020-12-07 and 2020-12-21, group A saw a very obvious jump in the number, following by a drastic drop. \n",
    "\n",
    "Next, let's take a look at the two groups' purchase values "
   ]
  },
  {
   "cell_type": "code",
   "execution_count": 65,
   "metadata": {},
   "outputs": [
    {
     "data": {
      "text/plain": [
       "count    2483.000000\n",
       "mean       22.899787\n",
       "std        69.447433\n",
       "min         4.990000\n",
       "25%         4.990000\n",
       "50%         4.990000\n",
       "75%         9.990000\n",
       "max       499.990000\n",
       "Name: details, dtype: float64"
      ]
     },
     "execution_count": 65,
     "metadata": {},
     "output_type": "execute_result"
    }
   ],
   "source": [
    "recommender_test[recommender_test['details'].notna()]['details'].describe()"
   ]
  },
  {
   "cell_type": "code",
   "execution_count": 66,
   "metadata": {},
   "outputs": [
    {
     "data": {
      "image/png": "[encoded data removed]",
      "text/plain": [
       "<Figure size 576x432 with 1 Axes>"
      ]
     },
     "metadata": {
      "needs_background": "light"
     },
     "output_type": "display_data"
    }
   ],
   "source": [
    "plt.figure(figsize=(8,6))\n",
    "recommender_test.groupby('group')['details'].value_counts().plot(kind = 'bar')\n",
    "plt.title('Distribution of purchase values')\n",
    "plt.grid()\n",
    "plt.xlabel('group: value')\n",
    "plt.ylabel('Number of occurences')\n",
    "plt.xticks(rotation=45)\n",
    "plt.show()"
   ]
  },
  {
   "cell_type": "code",
   "execution_count": 67,
   "metadata": {},
   "outputs": [
    {
     "data": {
      "image/png": "[encoded data removed]",
      "text/plain": [
       "<Figure size 576x432 with 1 Axes>"
      ]
     },
     "metadata": {
      "needs_background": "light"
     },
     "output_type": "display_data"
    }
   ],
   "source": [
    "### Reviewer's version\n",
    "\n",
    "# Or just use pivot_table\n",
    "recommender_test.groupby('group')['details'].value_counts().unstack().T\\\n",
    ".plot(kind = 'bar', figsize=(8,6))\n",
    "\n",
    "plt.title('Distribution of purchase values')\n",
    "plt.grid()\n",
    "plt.xlabel('group: value')\n",
    "plt.ylabel('Number of occurences')\n",
    "plt.xticks(rotation=45)\n",
    "plt.show()"
   ]
  },
  {
   "cell_type": "markdown",
   "metadata": {},
   "source": [
    "Now we can see that there are only a total of 4 different values for purchase. Although 499.99 seems a lot larger than the other values, these are not exactly outliers. The purchase values can almost be treated as categorical. \n",
    "\n",
    "It also seems that the spread of the purchase values is similar among A/B groups for the recommender_system_test, with 4.99 the highest, followed by 9.99, 99.99, and 499.99. \n",
    "\n",
    "Next, let's take a look at the accumulated user behavior change for the two groups."
   ]
  },
  {
   "cell_type": "markdown",
   "metadata": {},
   "source": [
    "#### 3.2 Accumulative user behaviour for A/B groups"
   ]
  },
  {
   "cell_type": "code",
   "execution_count": 68,
   "metadata": {},
   "outputs": [
    {
     "data": {
      "text/html": [
       "<div>\n",
       "<style scoped>\n",
       "    .dataframe tbody tr th:only-of-type {\n",
       "        vertical-align: middle;\n",
       "    }\n",
       "\n",
       "    .dataframe tbody tr th {\n",
       "        vertical-align: top;\n",
       "    }\n",
       "\n",
       "    .dataframe thead th {\n",
       "        text-align: right;\n",
       "    }\n",
       "</style>\n",
       "<table border=\"1\" class=\"dataframe\">\n",
       "  <thead>\n",
       "    <tr style=\"text-align: right;\">\n",
       "      <th></th>\n",
       "      <th>user_id</th>\n",
       "      <th>group</th>\n",
       "      <th>ab_test</th>\n",
       "      <th>first_date</th>\n",
       "      <th>region</th>\n",
       "      <th>device</th>\n",
       "      <th>event_dt</th>\n",
       "      <th>details</th>\n",
       "      <th>event_date</th>\n",
       "      <th>product_cart</th>\n",
       "      <th>product_page</th>\n",
       "      <th>purchase</th>\n",
       "      <th>login</th>\n",
       "    </tr>\n",
       "  </thead>\n",
       "  <tbody>\n",
       "    <tr>\n",
       "      <td>0</td>\n",
       "      <td>D1ABA3E2887B6A73</td>\n",
       "      <td>A</td>\n",
       "      <td>recommender_system_test</td>\n",
       "      <td>2020-12-07</td>\n",
       "      <td>EU</td>\n",
       "      <td>PC</td>\n",
       "      <td>2020-12-07 14:43:27</td>\n",
       "      <td>99.99</td>\n",
       "      <td>2020-12-07</td>\n",
       "      <td>0</td>\n",
       "      <td>0</td>\n",
       "      <td>1</td>\n",
       "      <td>0</td>\n",
       "    </tr>\n",
       "    <tr>\n",
       "      <td>1</td>\n",
       "      <td>D1ABA3E2887B6A73</td>\n",
       "      <td>A</td>\n",
       "      <td>recommender_system_test</td>\n",
       "      <td>2020-12-07</td>\n",
       "      <td>EU</td>\n",
       "      <td>PC</td>\n",
       "      <td>2020-12-25 00:04:56</td>\n",
       "      <td>4.99</td>\n",
       "      <td>2020-12-25</td>\n",
       "      <td>0</td>\n",
       "      <td>0</td>\n",
       "      <td>1</td>\n",
       "      <td>0</td>\n",
       "    </tr>\n",
       "    <tr>\n",
       "      <td>2</td>\n",
       "      <td>D1ABA3E2887B6A73</td>\n",
       "      <td>A</td>\n",
       "      <td>recommender_system_test</td>\n",
       "      <td>2020-12-07</td>\n",
       "      <td>EU</td>\n",
       "      <td>PC</td>\n",
       "      <td>2020-12-07 14:43:29</td>\n",
       "      <td>NaN</td>\n",
       "      <td>2020-12-07</td>\n",
       "      <td>1</td>\n",
       "      <td>0</td>\n",
       "      <td>0</td>\n",
       "      <td>0</td>\n",
       "    </tr>\n",
       "    <tr>\n",
       "      <td>3</td>\n",
       "      <td>D1ABA3E2887B6A73</td>\n",
       "      <td>A</td>\n",
       "      <td>recommender_system_test</td>\n",
       "      <td>2020-12-07</td>\n",
       "      <td>EU</td>\n",
       "      <td>PC</td>\n",
       "      <td>2020-12-25 00:04:57</td>\n",
       "      <td>NaN</td>\n",
       "      <td>2020-12-25</td>\n",
       "      <td>1</td>\n",
       "      <td>0</td>\n",
       "      <td>0</td>\n",
       "      <td>0</td>\n",
       "    </tr>\n",
       "    <tr>\n",
       "      <td>4</td>\n",
       "      <td>D1ABA3E2887B6A73</td>\n",
       "      <td>A</td>\n",
       "      <td>recommender_system_test</td>\n",
       "      <td>2020-12-07</td>\n",
       "      <td>EU</td>\n",
       "      <td>PC</td>\n",
       "      <td>2020-12-07 14:43:27</td>\n",
       "      <td>NaN</td>\n",
       "      <td>2020-12-07</td>\n",
       "      <td>0</td>\n",
       "      <td>1</td>\n",
       "      <td>0</td>\n",
       "      <td>0</td>\n",
       "    </tr>\n",
       "  </tbody>\n",
       "</table>\n",
       "</div>"
      ],
      "text/plain": [
       "            user_id group                  ab_test first_date region device  \\\n",
       "0  D1ABA3E2887B6A73     A  recommender_system_test 2020-12-07     EU     PC   \n",
       "1  D1ABA3E2887B6A73     A  recommender_system_test 2020-12-07     EU     PC   \n",
       "2  D1ABA3E2887B6A73     A  recommender_system_test 2020-12-07     EU     PC   \n",
       "3  D1ABA3E2887B6A73     A  recommender_system_test 2020-12-07     EU     PC   \n",
       "4  D1ABA3E2887B6A73     A  recommender_system_test 2020-12-07     EU     PC   \n",
       "\n",
       "             event_dt  details event_date  product_cart  product_page  \\\n",
       "0 2020-12-07 14:43:27    99.99 2020-12-07             0             0   \n",
       "1 2020-12-25 00:04:56     4.99 2020-12-25             0             0   \n",
       "2 2020-12-07 14:43:29      NaN 2020-12-07             1             0   \n",
       "3 2020-12-25 00:04:57      NaN 2020-12-25             1             0   \n",
       "4 2020-12-07 14:43:27      NaN 2020-12-07             0             1   \n",
       "\n",
       "   purchase  login  \n",
       "0         1      0  \n",
       "1         1      0  \n",
       "2         0      0  \n",
       "3         0      0  \n",
       "4         0      0  "
      ]
     },
     "execution_count": 68,
     "metadata": {},
     "output_type": "execute_result"
    }
   ],
   "source": [
    "#for easy manipulation, let's transform the dataset into wide format\n",
    "recommender_wide = pd.get_dummies(recommender_test, columns = ['event_name'])\n",
    "recommender_wide = recommender_wide.rename(columns = {'event_name_product_cart' : 'product_cart',\n",
    "                                                     'event_name_product_page': 'product_page',\n",
    "                                                     'event_name_purchase': 'purchase',\n",
    "                                                     'event_name_login': 'login'})\n",
    "recommender_wide.head(5)"
   ]
  },
  {
   "cell_type": "code",
   "execution_count": 69,
   "metadata": {},
   "outputs": [],
   "source": [
    "#change datatype of group for later manipulation\n",
    "recommender_wide['group'] = recommender_wide['group'].astype('object')"
   ]
  },
  {
   "cell_type": "code",
   "execution_count": 70,
   "metadata": {},
   "outputs": [],
   "source": [
    "#create the date - group dataset to collect aggregated events data\n",
    "datesGroups = recommender_test[['event_date', 'group']].drop_duplicates()\n",
    "eventsAggregated_recommender = datesGroups.apply(\n",
    "    lambda x: recommender_wide[np.logical_and(recommender_wide['event_date'] <= x['event_date'],\n",
    "                                              recommender_wide['group'] == x['group'])].agg({\n",
    "                                                  'user_id': 'nunique',\n",
    "                                                  'event_date': 'max',\n",
    "                                                  'group': 'max',\n",
    "                                                  'login': 'sum',\n",
    "                                                  'product_page': 'sum',\n",
    "                                                  'product_cart': 'sum',\n",
    "                                                  'purchase': 'sum',\n",
    "                                                  'details': 'sum'}),\n",
    "    axis=1).sort_values(by=['event_date', 'group'])"
   ]
  },
  {
   "cell_type": "markdown",
   "metadata": {},
   "source": [
    "We will also add the columns with information of the user conversion at each stage. However, it needs to be noted that this is a simple funnel converstion rate assuming all users follow the login -> product -> cart -> purchase path, which is in fact the case. We will address this in more details in A/B test analysis and user journey. "
   ]
  },
  {
   "cell_type": "code",
   "execution_count": 71,
   "metadata": {},
   "outputs": [],
   "source": [
    "eventsAggregated_recommender\n",
    "eventsAggregated_recommender['login_product'] = eventsAggregated_recommender['product_page'] / \\\n",
    "    eventsAggregated_recommender['login']\n",
    "eventsAggregated_recommender['page_cart'] = eventsAggregated_recommender['product_cart'] / \\\n",
    "    eventsAggregated_recommender['product_page']\n",
    "eventsAggregated_recommender['cart_purchase'] = eventsAggregated_recommender['purchase'] / \\\n",
    "    eventsAggregated_recommender['product_cart']"
   ]
  },
  {
   "cell_type": "code",
   "execution_count": 72,
   "metadata": {},
   "outputs": [
    {
     "data": {
      "text/html": [
       "<div>\n",
       "<style scoped>\n",
       "    .dataframe tbody tr th:only-of-type {\n",
       "        vertical-align: middle;\n",
       "    }\n",
       "\n",
       "    .dataframe tbody tr th {\n",
       "        vertical-align: top;\n",
       "    }\n",
       "\n",
       "    .dataframe thead th {\n",
       "        text-align: right;\n",
       "    }\n",
       "</style>\n",
       "<table border=\"1\" class=\"dataframe\">\n",
       "  <thead>\n",
       "    <tr style=\"text-align: right;\">\n",
       "      <th></th>\n",
       "      <th>user_id</th>\n",
       "      <th>event_date</th>\n",
       "      <th>group</th>\n",
       "      <th>login</th>\n",
       "      <th>product_page</th>\n",
       "      <th>product_cart</th>\n",
       "      <th>purchase</th>\n",
       "      <th>details</th>\n",
       "      <th>login_product</th>\n",
       "      <th>page_cart</th>\n",
       "      <th>cart_purchase</th>\n",
       "    </tr>\n",
       "  </thead>\n",
       "  <tbody>\n",
       "    <tr>\n",
       "      <td>0</td>\n",
       "      <td>109</td>\n",
       "      <td>2020-12-07</td>\n",
       "      <td>A</td>\n",
       "      <td>109</td>\n",
       "      <td>70</td>\n",
       "      <td>25</td>\n",
       "      <td>30</td>\n",
       "      <td>744.70</td>\n",
       "      <td>0.642202</td>\n",
       "      <td>0.357143</td>\n",
       "      <td>1.200000</td>\n",
       "    </tr>\n",
       "    <tr>\n",
       "      <td>105</td>\n",
       "      <td>129</td>\n",
       "      <td>2020-12-07</td>\n",
       "      <td>B</td>\n",
       "      <td>124</td>\n",
       "      <td>83</td>\n",
       "      <td>36</td>\n",
       "      <td>47</td>\n",
       "      <td>639.53</td>\n",
       "      <td>0.669355</td>\n",
       "      <td>0.433735</td>\n",
       "      <td>1.305556</td>\n",
       "    </tr>\n",
       "    <tr>\n",
       "      <td>40</td>\n",
       "      <td>186</td>\n",
       "      <td>2020-12-08</td>\n",
       "      <td>A</td>\n",
       "      <td>230</td>\n",
       "      <td>156</td>\n",
       "      <td>55</td>\n",
       "      <td>60</td>\n",
       "      <td>1479.40</td>\n",
       "      <td>0.678261</td>\n",
       "      <td>0.352564</td>\n",
       "      <td>1.090909</td>\n",
       "    </tr>\n",
       "    <tr>\n",
       "      <td>106</td>\n",
       "      <td>165</td>\n",
       "      <td>2020-12-08</td>\n",
       "      <td>B</td>\n",
       "      <td>211</td>\n",
       "      <td>127</td>\n",
       "      <td>62</td>\n",
       "      <td>73</td>\n",
       "      <td>984.27</td>\n",
       "      <td>0.601896</td>\n",
       "      <td>0.488189</td>\n",
       "      <td>1.177419</td>\n",
       "    </tr>\n",
       "    <tr>\n",
       "      <td>36</td>\n",
       "      <td>245</td>\n",
       "      <td>2020-12-09</td>\n",
       "      <td>A</td>\n",
       "      <td>365</td>\n",
       "      <td>239</td>\n",
       "      <td>90</td>\n",
       "      <td>103</td>\n",
       "      <td>2803.97</td>\n",
       "      <td>0.654795</td>\n",
       "      <td>0.376569</td>\n",
       "      <td>1.144444</td>\n",
       "    </tr>\n",
       "  </tbody>\n",
       "</table>\n",
       "</div>"
      ],
      "text/plain": [
       "     user_id event_date group  login  product_page  product_cart  purchase  \\\n",
       "0        109 2020-12-07     A    109            70            25        30   \n",
       "105      129 2020-12-07     B    124            83            36        47   \n",
       "40       186 2020-12-08     A    230           156            55        60   \n",
       "106      165 2020-12-08     B    211           127            62        73   \n",
       "36       245 2020-12-09     A    365           239            90       103   \n",
       "\n",
       "     details  login_product  page_cart  cart_purchase  \n",
       "0     744.70       0.642202   0.357143       1.200000  \n",
       "105   639.53       0.669355   0.433735       1.305556  \n",
       "40   1479.40       0.678261   0.352564       1.090909  \n",
       "106   984.27       0.601896   0.488189       1.177419  \n",
       "36   2803.97       0.654795   0.376569       1.144444  "
      ]
     },
     "execution_count": 72,
     "metadata": {},
     "output_type": "execute_result"
    }
   ],
   "source": [
    "eventsAggregated_recommender.head()"
   ]
  },
  {
   "cell_type": "markdown",
   "metadata": {},
   "source": [
    "Next let's divide the uesrs into two groups and plot their accumulative change in the number of events. "
   ]
  },
  {
   "cell_type": "code",
   "execution_count": 73,
   "metadata": {},
   "outputs": [],
   "source": [
    "cumulative_recommender_A = eventsAggregated_recommender[\n",
    "    eventsAggregated_recommender['group'] == 'A'].reset_index()\n",
    "cumulative_recommender_B = eventsAggregated_recommender[\n",
    "    eventsAggregated_recommender['group'] == 'B'].reset_index()"
   ]
  },
  {
   "cell_type": "code",
   "execution_count": 74,
   "metadata": {},
   "outputs": [
    {
     "data": {
      "image/png": "[encoded data removed]",
      "text/plain": [
       "<Figure size 720x360 with 2 Axes>"
      ]
     },
     "metadata": {
      "needs_background": "light"
     },
     "output_type": "display_data"
    }
   ],
   "source": [
    "fig, (ax1, ax2) = plt.subplots(1, 2, figsize=(10, 5))\n",
    "plt.suptitle('Accumulative number of events')\n",
    "\n",
    "for event in ['login', 'product_page', 'product_cart', 'purchase']:\n",
    "    sns.lineplot(data=cumulative_recommender_A, x='event_date',\n",
    "                 y=event, ax=ax1, label=event)\n",
    "    sns.lineplot(data=cumulative_recommender_B,\n",
    "                 x='event_date', y=event, ax=ax2, label=event)\n",
    "\n",
    "ax1.set_title('Group A')\n",
    "ax1.set_xlabel('Date')\n",
    "ax1.set_ylabel('Count of events')\n",
    "for tick in ax1.get_xticklabels():\n",
    "    tick.set_rotation(45)\n",
    "\n",
    "\n",
    "ax2.set_title('Group B')\n",
    "ax2.set_xlabel('Date')\n",
    "ax2.set_ylabel([])\n",
    "for tick in ax2.get_xticklabels():\n",
    "    tick.set_rotation(45)\n",
    "plt.tight_layout()"
   ]
  },
  {
   "cell_type": "markdown",
   "metadata": {},
   "source": [
    "We can see from the above diagrams that the accumulative change to the number of all four events show a similar pattern between the two groups, although group B showing a slightly slower increase rate. \n",
    "\n",
    "Next we will take a look at the accumulative average number of events for both groups. "
   ]
  },
  {
   "cell_type": "code",
   "execution_count": 75,
   "metadata": {},
   "outputs": [
    {
     "data": {
      "image/png": "[encoded data removed]",
      "text/plain": [
       "<Figure size 720x360 with 2 Axes>"
      ]
     },
     "metadata": {
      "needs_background": "light"
     },
     "output_type": "display_data"
    }
   ],
   "source": [
    "fig, (ax1, ax2) = plt.subplots(1, 2, figsize=(10, 5), sharey=True)\n",
    "plt.suptitle('Accumulative average number of events per user')\n",
    "\n",
    "for event in ['login', 'product_page', 'product_cart', 'purchase']:\n",
    "    sns.lineplot(data=cumulative_recommender_A, x='event_date',\n",
    "                 y=cumulative_recommender_A[event]/cumulative_recommender_A['user_id'], \n",
    "                 ax=ax1, \n",
    "                 label=event)\n",
    "    sns.lineplot(data=cumulative_recommender_B,x='event_date', \n",
    "                 y=cumulative_recommender_B[event]/cumulative_recommender_B['user_id'], \n",
    "                 ax=ax2, \n",
    "                 label=event)\n",
    "\n",
    "ax1.set_title('Group A')\n",
    "ax1.set_xlabel('Date')\n",
    "ax1.set_ylabel('Everage number of events')\n",
    "for tick in ax1.get_xticklabels():\n",
    "    tick.set_rotation(45)\n",
    "ax1.grid()\n",
    "\n",
    "ax2.set_title('Group B')\n",
    "ax2.set_xlabel('Date')\n",
    "ax2.set_ylabel([])\n",
    "for tick in ax2.get_xticklabels():\n",
    "    tick.set_rotation(45)\n",
    "ax2.grid()\n",
    "\n",
    "plt.tight_layout()"
   ]
  },
  {
   "cell_type": "markdown",
   "metadata": {},
   "source": [
    "From the above, we can see that, as far as the accumulative average number of events per user by events type is concerned, group B overall performaed worse than group A. \n",
    "\n",
    "Moreover, the number of accumulative average events still seem to be on the rise at the end of the experiment for both groups.This could be partly due to the Christmas and New Year promotion. \n",
    "\n",
    "Finally, let's have a look at the accumulative average purchase per user for the two groups. "
   ]
  },
  {
   "cell_type": "code",
   "execution_count": 76,
   "metadata": {},
   "outputs": [
    {
     "data": {
      "image/png": "[encoded data removed]",
      "text/plain": [
       "<Figure size 720x360 with 2 Axes>"
      ]
     },
     "metadata": {
      "needs_background": "light"
     },
     "output_type": "display_data"
    }
   ],
   "source": [
    "fig, (ax1, ax2) = plt.subplots(1, 2, figsize=(10, 5), sharey=True)\n",
    "plt.suptitle('Accumulative average purchase value per user', y=1.05)\n",
    "\n",
    "sns.lineplot(data=cumulative_recommender_A, x='event_date',\n",
    "             y=cumulative_recommender_A['details'] /\n",
    "             cumulative_recommender_A['user_id'],\n",
    "             ax=ax1,\n",
    "             label=event)\n",
    "sns.lineplot(data=cumulative_recommender_B, x='event_date',\n",
    "             y=cumulative_recommender_B['details'] /\n",
    "             cumulative_recommender_B['user_id'],\n",
    "             ax=ax2,\n",
    "             label=event)\n",
    "\n",
    "ax1.set_title('Group A')\n",
    "ax1.set_xlabel('Date')\n",
    "ax1.set_ylabel('Everage purchase value')\n",
    "for tick in ax1.get_xticklabels():\n",
    "    tick.set_rotation(45)\n",
    "ax1.grid()\n",
    "\n",
    "ax2.set_title('Group B')\n",
    "ax2.set_xlabel('Date')\n",
    "ax2.set_ylabel('')\n",
    "for tick in ax2.get_xticklabels():\n",
    "    tick.set_rotation(45)\n",
    "ax2.grid()\n",
    "\n",
    "plt.tight_layout()"
   ]
  },
  {
   "cell_type": "markdown",
   "metadata": {},
   "source": [
    "Average purchase value wise, we have a similar results here. Group B was performing worse than group A throughout the entire experiment period. Moreover, the number is still on the rise at the end of the experiement, probably because of the Christmas and New Year promotion. \n",
    "\n",
    "Having made the above observations about the two groups, we need to be reminded that the two groups are of vastly different sizes. This is not an ideal A/B test situation to start with. Moreover, the user behaviour seems to be affected by the marketing promotion event at the time of the experiment, which is again not ideal for the A/B test. \n",
    "\n",
    "Still the conclusions might be valueable to reevaluate the impact of the new recommender system. It certainly doesn't seem to improve the user activity. "
   ]
  },
  {
   "cell_type": "markdown",
   "metadata": {},
   "source": [
    "#### 3.3 User journey "
   ]
  },
  {
   "cell_type": "markdown",
   "metadata": {},
   "source": [
    "In this section, we will map out the user journey to take a look at how users progress through the different stages. The reference for the functions used can be found here: https://medium.com/multiplyai/user-journey-sankey-diagram-25bb1aa42484. \n",
    "\n",
    "Here we will just use the A group as an example to show what kind of path users follow. The conversion rates for both groups will be the focus in next section. "
   ]
  },
  {
   "cell_type": "code",
   "execution_count": 77,
   "metadata": {},
   "outputs": [
    {
     "data": {
      "text/html": [
       "<div>\n",
       "<style scoped>\n",
       "    .dataframe tbody tr th:only-of-type {\n",
       "        vertical-align: middle;\n",
       "    }\n",
       "\n",
       "    .dataframe tbody tr th {\n",
       "        vertical-align: top;\n",
       "    }\n",
       "\n",
       "    .dataframe thead th {\n",
       "        text-align: right;\n",
       "    }\n",
       "</style>\n",
       "<table border=\"1\" class=\"dataframe\">\n",
       "  <thead>\n",
       "    <tr style=\"text-align: right;\">\n",
       "      <th></th>\n",
       "      <th>user_id</th>\n",
       "      <th>group</th>\n",
       "      <th>ab_test</th>\n",
       "      <th>first_date</th>\n",
       "      <th>region</th>\n",
       "      <th>device</th>\n",
       "      <th>event_dt</th>\n",
       "      <th>event_name</th>\n",
       "      <th>details</th>\n",
       "      <th>event_date</th>\n",
       "    </tr>\n",
       "  </thead>\n",
       "  <tbody>\n",
       "    <tr>\n",
       "      <td>0</td>\n",
       "      <td>D1ABA3E2887B6A73</td>\n",
       "      <td>A</td>\n",
       "      <td>recommender_system_test</td>\n",
       "      <td>2020-12-07</td>\n",
       "      <td>EU</td>\n",
       "      <td>PC</td>\n",
       "      <td>2020-12-07 14:43:27</td>\n",
       "      <td>purchase</td>\n",
       "      <td>99.99</td>\n",
       "      <td>2020-12-07</td>\n",
       "    </tr>\n",
       "    <tr>\n",
       "      <td>1</td>\n",
       "      <td>D1ABA3E2887B6A73</td>\n",
       "      <td>A</td>\n",
       "      <td>recommender_system_test</td>\n",
       "      <td>2020-12-07</td>\n",
       "      <td>EU</td>\n",
       "      <td>PC</td>\n",
       "      <td>2020-12-25 00:04:56</td>\n",
       "      <td>purchase</td>\n",
       "      <td>4.99</td>\n",
       "      <td>2020-12-25</td>\n",
       "    </tr>\n",
       "    <tr>\n",
       "      <td>2</td>\n",
       "      <td>D1ABA3E2887B6A73</td>\n",
       "      <td>A</td>\n",
       "      <td>recommender_system_test</td>\n",
       "      <td>2020-12-07</td>\n",
       "      <td>EU</td>\n",
       "      <td>PC</td>\n",
       "      <td>2020-12-07 14:43:29</td>\n",
       "      <td>product_cart</td>\n",
       "      <td>NaN</td>\n",
       "      <td>2020-12-07</td>\n",
       "    </tr>\n",
       "    <tr>\n",
       "      <td>3</td>\n",
       "      <td>D1ABA3E2887B6A73</td>\n",
       "      <td>A</td>\n",
       "      <td>recommender_system_test</td>\n",
       "      <td>2020-12-07</td>\n",
       "      <td>EU</td>\n",
       "      <td>PC</td>\n",
       "      <td>2020-12-25 00:04:57</td>\n",
       "      <td>product_cart</td>\n",
       "      <td>NaN</td>\n",
       "      <td>2020-12-25</td>\n",
       "    </tr>\n",
       "    <tr>\n",
       "      <td>4</td>\n",
       "      <td>D1ABA3E2887B6A73</td>\n",
       "      <td>A</td>\n",
       "      <td>recommender_system_test</td>\n",
       "      <td>2020-12-07</td>\n",
       "      <td>EU</td>\n",
       "      <td>PC</td>\n",
       "      <td>2020-12-07 14:43:27</td>\n",
       "      <td>product_page</td>\n",
       "      <td>NaN</td>\n",
       "      <td>2020-12-07</td>\n",
       "    </tr>\n",
       "  </tbody>\n",
       "</table>\n",
       "</div>"
      ],
      "text/plain": [
       "            user_id group                  ab_test first_date region device  \\\n",
       "0  D1ABA3E2887B6A73     A  recommender_system_test 2020-12-07     EU     PC   \n",
       "1  D1ABA3E2887B6A73     A  recommender_system_test 2020-12-07     EU     PC   \n",
       "2  D1ABA3E2887B6A73     A  recommender_system_test 2020-12-07     EU     PC   \n",
       "3  D1ABA3E2887B6A73     A  recommender_system_test 2020-12-07     EU     PC   \n",
       "4  D1ABA3E2887B6A73     A  recommender_system_test 2020-12-07     EU     PC   \n",
       "\n",
       "             event_dt    event_name  details event_date  \n",
       "0 2020-12-07 14:43:27      purchase    99.99 2020-12-07  \n",
       "1 2020-12-25 00:04:56      purchase     4.99 2020-12-25  \n",
       "2 2020-12-07 14:43:29  product_cart      NaN 2020-12-07  \n",
       "3 2020-12-25 00:04:57  product_cart      NaN 2020-12-25  \n",
       "4 2020-12-07 14:43:27  product_page      NaN 2020-12-07  "
      ]
     },
     "execution_count": 77,
     "metadata": {},
     "output_type": "execute_result"
    }
   ],
   "source": [
    "#divide the two groups\n",
    "recommender_A = recommender_test[recommender_test['group']=='A']\n",
    "recommender_B = recommender_test[recommender_test['group']=='B']\n",
    "recommender_A.head()"
   ]
  },
  {
   "cell_type": "code",
   "execution_count": 78,
   "metadata": {},
   "outputs": [],
   "source": [
    "#define the functions needed to calculate and visualise the user journey\n",
    "def filter_starting_step(x, starting_step, n_steps):\n",
    "    \"\"\"\n",
    "    Function used to return the first n_steps for each user starting from the \"starting_step\".\n",
    "    The function will be used to generate the event sequence journey for each user.\n",
    "    \"\"\"\n",
    "    starting_step_index = x.index(starting_step)\n",
    "    \n",
    "    return x[starting_step_index: starting_step_index + n_steps] \n",
    "\n",
    "def user_journey(events, starting_step, n_steps=3, events_per_step=5):\n",
    "    \"\"\"\n",
    "    Function used to map out the journey for each user starting from the defined \"starting_step\" and count\n",
    "    how many identical journeys exist across users.\n",
    "    \"\"\"\n",
    "    # sort events by time\n",
    "    events = events.sort_values(['user_id', 'event_dt'])\n",
    "    # find the users that have performed the starting_step\n",
    "    valid_ids = events[events['event_name'] == starting_step]['user_id'].unique()\n",
    "\n",
    "    # plan out the journey per user, with each step in a separate column\n",
    "    flow = events[(events['user_id'].isin(valid_ids))] \\\n",
    "        .groupby('user_id') \\\n",
    "        .event_name.agg(list) \\\n",
    "        .to_frame()['event_name'] \\\n",
    "        .apply(lambda x: filter_starting_step(x, starting_step=starting_step, n_steps=n_steps)) \\\n",
    "        .to_frame() \\\n",
    "        ['event_name'].apply(pd.Series)\n",
    "\n",
    "    # fill NaNs with \"End\" to denote no further step by user; this will be filtered out later\n",
    "    flow = flow.fillna('End')\n",
    "\n",
    "    # add the step number as prefix to each step\n",
    "    for i, col in enumerate(flow.columns):\n",
    "        flow[col] = '{}: '.format(i + 1) + flow[col].astype(str)\n",
    "\n",
    "    # replace events not in the top \"events_per_step\" most frequent list with the name \"Other\"\n",
    "    # this is done to avoid having too many nodes in the sankey diagram\n",
    "    for col in flow.columns:\n",
    "        all_events = flow[col].value_counts().index.tolist()\n",
    "        all_events = [e for e in all_events if e != (str(col + 1) + ': End')]\n",
    "        top_events = all_events[:events_per_step]\n",
    "        to_replace = list(set(all_events) - set(top_events))\n",
    "        flow[col].replace(to_replace, [str(col + 1) + ': Other'] * len(to_replace), inplace=True)\n",
    "\n",
    "    # count the number of identical journeys up the max step defined\n",
    "    flow = flow.groupby(list(range(n_steps))) \\\n",
    "        .size() \\\n",
    "        .to_frame() \\\n",
    "        .rename({0: 'count'}, axis=1) \\\n",
    "        .reset_index()\n",
    "\n",
    "    return flow\n",
    "\n",
    "def sankey_df(events, starting_step, n_steps=3, events_per_step=5):\n",
    "    \"\"\"\n",
    "    Function used to generate the dataframe needed to be passed to the sankey generation function.\n",
    "    \"source\" and \"target\" column pairs denote links that will be shown in the sankey diagram.\n",
    "    \"\"\"\n",
    "    # generate the user user flow dataframe\n",
    "    flow = user_journey(events, starting_step, n_steps, events_per_step)\n",
    "\n",
    "    # create the nodes labels list\n",
    "    label_list = []\n",
    "    cat_cols = flow.columns[:-1].values.tolist()\n",
    "    for cat_col in cat_cols:\n",
    "        label_list_temp = list(set(flow[cat_col].values))\n",
    "        label_list = label_list + label_list_temp\n",
    "\n",
    "    # create a list of colours for the nodes\n",
    "    # assign 'blue' to any node and 'grey' to \"Other\" nodes\n",
    "    colors_list = ['blue' if i.find('Other') < 0 else 'grey' for i in label_list]\n",
    "\n",
    "    # transform flow df into a source-target pair\n",
    "    for i in range(len(cat_cols) - 1):\n",
    "        if i == 0:\n",
    "            source_target_df = flow[[cat_cols[i], cat_cols[i + 1], 'count']]\n",
    "            source_target_df.columns = ['source', 'target', 'count']\n",
    "        else:\n",
    "            temp_df = flow[[cat_cols[i], cat_cols[i + 1], 'count']]\n",
    "            temp_df.columns = ['source', 'target', 'count']\n",
    "            source_target_df = pd.concat([source_target_df, temp_df])\n",
    "        source_target_df = source_target_df.groupby(['source', 'target']).agg({'count': 'sum'}).reset_index()\n",
    "\n",
    "    # add index for source-target pair\n",
    "    source_target_df['source_id'] = source_target_df['source'].apply(lambda x: label_list.index(x))\n",
    "    source_target_df['target_id'] = source_target_df['target'].apply(lambda x: label_list.index(x))\n",
    "\n",
    "    # filter out the end step\n",
    "    source_target_df = source_target_df[(~source_target_df['source'].str.contains('End')) &\n",
    "                                        (~source_target_df['target'].str.contains('End'))]\n",
    "\n",
    "    return label_list, colors_list, source_target_df"
   ]
  },
  {
   "cell_type": "code",
   "execution_count": 79,
   "metadata": {},
   "outputs": [],
   "source": [
    "#run the function on A group\n",
    "label_list, colors_list, source_target_df = sankey_df(\n",
    "    recommender_A, 'login', 5, 5)"
   ]
  },
  {
   "cell_type": "code",
   "execution_count": 80,
   "metadata": {},
   "outputs": [
    {
     "data": {
      "application/vnd.plotly.v1+json": {
       "config": {
        "plotlyServerURL": "https://plot.ly"
       },
       "data": [
        {
         "link": {
          "hoverlabel": {
           "bgcolor": "#C2C4C7"
          },
          "source": [
           0,
           0,
           0,
           0,
           1,
           1,
           1,
           2,
           2,
           2,
           2,
           4,
           4,
           4,
           4,
           3,
           3,
           3,
           8,
           8,
           8,
           8,
           10,
           10,
           10,
           10,
           6,
           6,
           6,
           6,
           7,
           7,
           7,
           15,
           15,
           15,
           15,
           13,
           13,
           13,
           13,
           14,
           14,
           14,
           14,
           12,
           12,
           12
          ],
          "target": [
           1,
           2,
           4,
           3,
           8,
           10,
           6,
           8,
           10,
           6,
           7,
           8,
           10,
           6,
           7,
           8,
           10,
           6,
           15,
           13,
           14,
           12,
           15,
           13,
           14,
           12,
           15,
           13,
           14,
           12,
           15,
           13,
           14,
           17,
           16,
           20,
           18,
           17,
           16,
           20,
           18,
           17,
           16,
           20,
           18,
           17,
           16,
           20
          ],
          "value": [
           554,
           376,
           759,
           301,
           264,
           44,
           159,
           97,
           60,
           151,
           55,
           307,
           67,
           156,
           190,
           215,
           28,
           58,
           202,
           118,
           299,
           82,
           94,
           27,
           55,
           11,
           326,
           41,
           63,
           40,
           128,
           36,
           81,
           136,
           102,
           289,
           38,
           88,
           17,
           86,
           13,
           315,
           13,
           52,
           48,
           98,
           25,
           10
          ]
         },
         "node": {
          "color": [
           "blue",
           "blue",
           "blue",
           "blue",
           "blue",
           "blue",
           "blue",
           "blue",
           "blue",
           "blue",
           "blue",
           "blue",
           "blue",
           "blue",
           "blue",
           "blue",
           "blue",
           "blue",
           "blue",
           "blue",
           "blue"
          ],
          "label": [
           "1: login",
           "2: login",
           "2: product_cart",
           "2: purchase",
           "2: product_page",
           "2: End",
           "3: product_page",
           "3: purchase",
           "3: login",
           "3: End",
           "3: product_cart",
           "4: End",
           "4: purchase",
           "4: product_cart",
           "4: product_page",
           "4: login",
           "5: product_cart",
           "5: login",
           "5: purchase",
           "5: End",
           "5: product_page"
          ],
          "line": {
           "color": "black",
           "width": 0.5
          },
          "pad": 20,
          "thickness": 20
         },
         "type": "sankey"
        }
       ],
       "layout": {
        "font": {
         "size": 10
        },
        "height": 400,
        "margin": {
         "b": 30,
         "l": 0,
         "r": 0,
         "t": 30
        },
        "template": {
         "data": {
          "bar": [
           {
            "error_x": {
             "color": "#2a3f5f"
            },
            "error_y": {
             "color": "#2a3f5f"
            },
            "marker": {
             "line": {
              "color": "#E5ECF6",
              "width": 0.5
             }
            },
            "type": "bar"
           }
          ],
          "barpolar": [
           {
            "marker": {
             "line": {
              "color": "#E5ECF6",
              "width": 0.5
             }
            },
            "type": "barpolar"
           }
          ],
          "carpet": [
           {
            "aaxis": {
             "endlinecolor": "#2a3f5f",
             "gridcolor": "white",
             "linecolor": "white",
             "minorgridcolor": "white",
             "startlinecolor": "#2a3f5f"
            },
            "baxis": {
             "endlinecolor": "#2a3f5f",
             "gridcolor": "white",
             "linecolor": "white",
             "minorgridcolor": "white",
             "startlinecolor": "#2a3f5f"
            },
            "type": "carpet"
           }
          ],
          "choropleth": [
           {
            "colorbar": {
             "outlinewidth": 0,
             "ticks": ""
            },
            "type": "choropleth"
           }
          ],
          "contour": [
           {
            "colorbar": {
             "outlinewidth": 0,
             "ticks": ""
            },
            "colorscale": [
             [
              0,
              "#0d0887"
             ],
             [
              0.1111111111111111,
              "#46039f"
             ],
             [
              0.2222222222222222,
              "#7201a8"
             ],
             [
              0.3333333333333333,
              "#9c179e"
             ],
             [
              0.4444444444444444,
              "#bd3786"
             ],
             [
              0.5555555555555556,
              "#d8576b"
             ],
             [
              0.6666666666666666,
              "#ed7953"
             ],
             [
              0.7777777777777778,
              "#fb9f3a"
             ],
             [
              0.8888888888888888,
              "#fdca26"
             ],
             [
              1,
              "#f0f921"
             ]
            ],
            "type": "contour"
           }
          ],
          "contourcarpet": [
           {
            "colorbar": {
             "outlinewidth": 0,
             "ticks": ""
            },
            "type": "contourcarpet"
           }
          ],
          "heatmap": [
           {
            "colorbar": {
             "outlinewidth": 0,
             "ticks": ""
            },
            "colorscale": [
             [
              0,
              "#0d0887"
             ],
             [
              0.1111111111111111,
              "#46039f"
             ],
             [
              0.2222222222222222,
              "#7201a8"
             ],
             [
              0.3333333333333333,
              "#9c179e"
             ],
             [
              0.4444444444444444,
              "#bd3786"
             ],
             [
              0.5555555555555556,
              "#d8576b"
             ],
             [
              0.6666666666666666,
              "#ed7953"
             ],
             [
              0.7777777777777778,
              "#fb9f3a"
             ],
             [
              0.8888888888888888,
              "#fdca26"
             ],
             [
              1,
              "#f0f921"
             ]
            ],
            "type": "heatmap"
           }
          ],
          "heatmapgl": [
           {
            "colorbar": {
             "outlinewidth": 0,
             "ticks": ""
            },
            "colorscale": [
             [
              0,
              "#0d0887"
             ],
             [
              0.1111111111111111,
              "#46039f"
             ],
             [
              0.2222222222222222,
              "#7201a8"
             ],
             [
              0.3333333333333333,
              "#9c179e"
             ],
             [
              0.4444444444444444,
              "#bd3786"
             ],
             [
              0.5555555555555556,
              "#d8576b"
             ],
             [
              0.6666666666666666,
              "#ed7953"
             ],
             [
              0.7777777777777778,
              "#fb9f3a"
             ],
             [
              0.8888888888888888,
              "#fdca26"
             ],
             [
              1,
              "#f0f921"
             ]
            ],
            "type": "heatmapgl"
           }
          ],
          "histogram": [
           {
            "marker": {
             "colorbar": {
              "outlinewidth": 0,
              "ticks": ""
             }
            },
            "type": "histogram"
           }
          ],
          "histogram2d": [
           {
            "colorbar": {
             "outlinewidth": 0,
             "ticks": ""
            },
            "colorscale": [
             [
              0,
              "#0d0887"
             ],
             [
              0.1111111111111111,
              "#46039f"
             ],
             [
              0.2222222222222222,
              "#7201a8"
             ],
             [
              0.3333333333333333,
              "#9c179e"
             ],
             [
              0.4444444444444444,
              "#bd3786"
             ],
             [
              0.5555555555555556,
              "#d8576b"
             ],
             [
              0.6666666666666666,
              "#ed7953"
             ],
             [
              0.7777777777777778,
              "#fb9f3a"
             ],
             [
              0.8888888888888888,
              "#fdca26"
             ],
             [
              1,
              "#f0f921"
             ]
            ],
            "type": "histogram2d"
           }
          ],
          "histogram2dcontour": [
           {
            "colorbar": {
             "outlinewidth": 0,
             "ticks": ""
            },
            "colorscale": [
             [
              0,
              "#0d0887"
             ],
             [
              0.1111111111111111,
              "#46039f"
             ],
             [
              0.2222222222222222,
              "#7201a8"
             ],
             [
              0.3333333333333333,
              "#9c179e"
             ],
             [
              0.4444444444444444,
              "#bd3786"
             ],
             [
              0.5555555555555556,
              "#d8576b"
             ],
             [
              0.6666666666666666,
              "#ed7953"
             ],
             [
              0.7777777777777778,
              "#fb9f3a"
             ],
             [
              0.8888888888888888,
              "#fdca26"
             ],
             [
              1,
              "#f0f921"
             ]
            ],
            "type": "histogram2dcontour"
           }
          ],
          "mesh3d": [
           {
            "colorbar": {
             "outlinewidth": 0,
             "ticks": ""
            },
            "type": "mesh3d"
           }
          ],
          "parcoords": [
           {
            "line": {
             "colorbar": {
              "outlinewidth": 0,
              "ticks": ""
             }
            },
            "type": "parcoords"
           }
          ],
          "scatter": [
           {
            "marker": {
             "colorbar": {
              "outlinewidth": 0,
              "ticks": ""
             }
            },
            "type": "scatter"
           }
          ],
          "scatter3d": [
           {
            "line": {
             "colorbar": {
              "outlinewidth": 0,
              "ticks": ""
             }
            },
            "marker": {
             "colorbar": {
              "outlinewidth": 0,
              "ticks": ""
             }
            },
            "type": "scatter3d"
           }
          ],
          "scattercarpet": [
           {
            "marker": {
             "colorbar": {
              "outlinewidth": 0,
              "ticks": ""
             }
            },
            "type": "scattercarpet"
           }
          ],
          "scattergeo": [
           {
            "marker": {
             "colorbar": {
              "outlinewidth": 0,
              "ticks": ""
             }
            },
            "type": "scattergeo"
           }
          ],
          "scattergl": [
           {
            "marker": {
             "colorbar": {
              "outlinewidth": 0,
              "ticks": ""
             }
            },
            "type": "scattergl"
           }
          ],
          "scattermapbox": [
           {
            "marker": {
             "colorbar": {
              "outlinewidth": 0,
              "ticks": ""
             }
            },
            "type": "scattermapbox"
           }
          ],
          "scatterpolar": [
           {
            "marker": {
             "colorbar": {
              "outlinewidth": 0,
              "ticks": ""
             }
            },
            "type": "scatterpolar"
           }
          ],
          "scatterpolargl": [
           {
            "marker": {
             "colorbar": {
              "outlinewidth": 0,
              "ticks": ""
             }
            },
            "type": "scatterpolargl"
           }
          ],
          "scatterternary": [
           {
            "marker": {
             "colorbar": {
              "outlinewidth": 0,
              "ticks": ""
             }
            },
            "type": "scatterternary"
           }
          ],
          "surface": [
           {
            "colorbar": {
             "outlinewidth": 0,
             "ticks": ""
            },
            "colorscale": [
             [
              0,
              "#0d0887"
             ],
             [
              0.1111111111111111,
              "#46039f"
             ],
             [
              0.2222222222222222,
              "#7201a8"
             ],
             [
              0.3333333333333333,
              "#9c179e"
             ],
             [
              0.4444444444444444,
              "#bd3786"
             ],
             [
              0.5555555555555556,
              "#d8576b"
             ],
             [
              0.6666666666666666,
              "#ed7953"
             ],
             [
              0.7777777777777778,
              "#fb9f3a"
             ],
             [
              0.8888888888888888,
              "#fdca26"
             ],
             [
              1,
              "#f0f921"
             ]
            ],
            "type": "surface"
           }
          ],
          "table": [
           {
            "cells": {
             "fill": {
              "color": "#EBF0F8"
             },
             "line": {
              "color": "white"
             }
            },
            "header": {
             "fill": {
              "color": "#C8D4E3"
             },
             "line": {
              "color": "white"
             }
            },
            "type": "table"
           }
          ]
         },
         "layout": {
          "annotationdefaults": {
           "arrowcolor": "#2a3f5f",
           "arrowhead": 0,
           "arrowwidth": 1
          },
          "colorscale": {
           "diverging": [
            [
             0,
             "#8e0152"
            ],
            [
             0.1,
             "#c51b7d"
            ],
            [
             0.2,
             "#de77ae"
            ],
            [
             0.3,
             "#f1b6da"
            ],
            [
             0.4,
             "#fde0ef"
            ],
            [
             0.5,
             "#f7f7f7"
            ],
            [
             0.6,
             "#e6f5d0"
            ],
            [
             0.7,
             "#b8e186"
            ],
            [
             0.8,
             "#7fbc41"
            ],
            [
             0.9,
             "#4d9221"
            ],
            [
             1,
             "#276419"
            ]
           ],
           "sequential": [
            [
             0,
             "#0d0887"
            ],
            [
             0.1111111111111111,
             "#46039f"
            ],
            [
             0.2222222222222222,
             "#7201a8"
            ],
            [
             0.3333333333333333,
             "#9c179e"
            ],
            [
             0.4444444444444444,
             "#bd3786"
            ],
            [
             0.5555555555555556,
             "#d8576b"
            ],
            [
             0.6666666666666666,
             "#ed7953"
            ],
            [
             0.7777777777777778,
             "#fb9f3a"
            ],
            [
             0.8888888888888888,
             "#fdca26"
            ],
            [
             1,
             "#f0f921"
            ]
           ],
           "sequentialminus": [
            [
             0,
             "#0d0887"
            ],
            [
             0.1111111111111111,
             "#46039f"
            ],
            [
             0.2222222222222222,
             "#7201a8"
            ],
            [
             0.3333333333333333,
             "#9c179e"
            ],
            [
             0.4444444444444444,
             "#bd3786"
            ],
            [
             0.5555555555555556,
             "#d8576b"
            ],
            [
             0.6666666666666666,
             "#ed7953"
            ],
            [
             0.7777777777777778,
             "#fb9f3a"
            ],
            [
             0.8888888888888888,
             "#fdca26"
            ],
            [
             1,
             "#f0f921"
            ]
           ]
          },
          "colorway": [
           "#636efa",
           "#EF553B",
           "#00cc96",
           "#ab63fa",
           "#FFA15A",
           "#19d3f3",
           "#FF6692",
           "#B6E880",
           "#FF97FF",
           "#FECB52"
          ],
          "font": {
           "color": "#2a3f5f"
          },
          "geo": {
           "bgcolor": "white",
           "lakecolor": "white",
           "landcolor": "#E5ECF6",
           "showlakes": true,
           "showland": true,
           "subunitcolor": "white"
          },
          "hoverlabel": {
           "align": "left"
          },
          "hovermode": "closest",
          "mapbox": {
           "style": "light"
          },
          "paper_bgcolor": "white",
          "plot_bgcolor": "#E5ECF6",
          "polar": {
           "angularaxis": {
            "gridcolor": "white",
            "linecolor": "white",
            "ticks": ""
           },
           "bgcolor": "#E5ECF6",
           "radialaxis": {
            "gridcolor": "white",
            "linecolor": "white",
            "ticks": ""
           }
          },
          "scene": {
           "xaxis": {
            "backgroundcolor": "#E5ECF6",
            "gridcolor": "white",
            "gridwidth": 2,
            "linecolor": "white",
            "showbackground": true,
            "ticks": "",
            "zerolinecolor": "white"
           },
           "yaxis": {
            "backgroundcolor": "#E5ECF6",
            "gridcolor": "white",
            "gridwidth": 2,
            "linecolor": "white",
            "showbackground": true,
            "ticks": "",
            "zerolinecolor": "white"
           },
           "zaxis": {
            "backgroundcolor": "#E5ECF6",
            "gridcolor": "white",
            "gridwidth": 2,
            "linecolor": "white",
            "showbackground": true,
            "ticks": "",
            "zerolinecolor": "white"
           }
          },
          "shapedefaults": {
           "line": {
            "color": "#2a3f5f"
           }
          },
          "ternary": {
           "aaxis": {
            "gridcolor": "white",
            "linecolor": "white",
            "ticks": ""
           },
           "baxis": {
            "gridcolor": "white",
            "linecolor": "white",
            "ticks": ""
           },
           "bgcolor": "#E5ECF6",
           "caxis": {
            "gridcolor": "white",
            "linecolor": "white",
            "ticks": ""
           }
          },
          "title": {
           "x": 0.05
          },
          "xaxis": {
           "automargin": true,
           "gridcolor": "white",
           "linecolor": "white",
           "ticks": "",
           "zerolinecolor": "white",
           "zerolinewidth": 2
          },
          "yaxis": {
           "automargin": true,
           "gridcolor": "white",
           "linecolor": "white",
           "ticks": "",
           "zerolinecolor": "white",
           "zerolinewidth": 2
          }
         }
        },
        "title": {
         "text": "diagram"
        },
        "width": 3250
       }
      },
      "text/html": [
       "<div>\n",
       "        \n",
       "        \n",
       "            <div id=\"9d1de1e5-c644-405b-af60-7692caab2e0f\" class=\"plotly-graph-div\" style=\"height:400px; width:3250px;\"></div>\n",
       "            <script type=\"text/javascript\">\n",
       "                require([\"plotly\"], function(Plotly) {\n",
       "                    window.PLOTLYENV=window.PLOTLYENV || {};\n",
       "                    \n",
       "                if (document.getElementById(\"9d1de1e5-c644-405b-af60-7692caab2e0f\")) {\n",
       "                    Plotly.newPlot(\n",
       "                        '9d1de1e5-c644-405b-af60-7692caab2e0f',\n",
       "                        [{\"link\": {\"hoverlabel\": {\"bgcolor\": \"#C2C4C7\"}, \"source\": [0, 0, 0, 0, 1, 1, 1, 2, 2, 2, 2, 4, 4, 4, 4, 3, 3, 3, 8, 8, 8, 8, 10, 10, 10, 10, 6, 6, 6, 6, 7, 7, 7, 15, 15, 15, 15, 13, 13, 13, 13, 14, 14, 14, 14, 12, 12, 12], \"target\": [1, 2, 4, 3, 8, 10, 6, 8, 10, 6, 7, 8, 10, 6, 7, 8, 10, 6, 15, 13, 14, 12, 15, 13, 14, 12, 15, 13, 14, 12, 15, 13, 14, 17, 16, 20, 18, 17, 16, 20, 18, 17, 16, 20, 18, 17, 16, 20], \"value\": [554, 376, 759, 301, 264, 44, 159, 97, 60, 151, 55, 307, 67, 156, 190, 215, 28, 58, 202, 118, 299, 82, 94, 27, 55, 11, 326, 41, 63, 40, 128, 36, 81, 136, 102, 289, 38, 88, 17, 86, 13, 315, 13, 52, 48, 98, 25, 10]}, \"node\": {\"color\": [\"blue\", \"blue\", \"blue\", \"blue\", \"blue\", \"blue\", \"blue\", \"blue\", \"blue\", \"blue\", \"blue\", \"blue\", \"blue\", \"blue\", \"blue\", \"blue\", \"blue\", \"blue\", \"blue\", \"blue\", \"blue\"], \"label\": [\"1: login\", \"2: login\", \"2: product_cart\", \"2: purchase\", \"2: product_page\", \"2: End\", \"3: product_page\", \"3: purchase\", \"3: login\", \"3: End\", \"3: product_cart\", \"4: End\", \"4: purchase\", \"4: product_cart\", \"4: product_page\", \"4: login\", \"5: product_cart\", \"5: login\", \"5: purchase\", \"5: End\", \"5: product_page\"], \"line\": {\"color\": \"black\", \"width\": 0.5}, \"pad\": 20, \"thickness\": 20}, \"type\": \"sankey\"}],\n",
       "                        {\"font\": {\"size\": 10}, \"height\": 400, \"margin\": {\"b\": 30, \"l\": 0, \"r\": 0, \"t\": 30}, \"template\": {\"data\": {\"bar\": [{\"error_x\": {\"color\": \"#2a3f5f\"}, \"error_y\": {\"color\": \"#2a3f5f\"}, \"marker\": {\"line\": {\"color\": \"#E5ECF6\", \"width\": 0.5}}, \"type\": \"bar\"}], \"barpolar\": [{\"marker\": {\"line\": {\"color\": \"#E5ECF6\", \"width\": 0.5}}, \"type\": \"barpolar\"}], \"carpet\": [{\"aaxis\": {\"endlinecolor\": \"#2a3f5f\", \"gridcolor\": \"white\", \"linecolor\": \"white\", \"minorgridcolor\": \"white\", \"startlinecolor\": \"#2a3f5f\"}, \"baxis\": {\"endlinecolor\": \"#2a3f5f\", \"gridcolor\": \"white\", \"linecolor\": \"white\", \"minorgridcolor\": \"white\", \"startlinecolor\": \"#2a3f5f\"}, \"type\": \"carpet\"}], \"choropleth\": [{\"colorbar\": {\"outlinewidth\": 0, \"ticks\": \"\"}, \"type\": \"choropleth\"}], \"contour\": [{\"colorbar\": {\"outlinewidth\": 0, \"ticks\": \"\"}, \"colorscale\": [[0.0, \"#0d0887\"], [0.1111111111111111, \"#46039f\"], [0.2222222222222222, \"#7201a8\"], [0.3333333333333333, \"#9c179e\"], [0.4444444444444444, \"#bd3786\"], [0.5555555555555556, \"#d8576b\"], [0.6666666666666666, \"#ed7953\"], [0.7777777777777778, \"#fb9f3a\"], [0.8888888888888888, \"#fdca26\"], [1.0, \"#f0f921\"]], \"type\": \"contour\"}], \"contourcarpet\": [{\"colorbar\": {\"outlinewidth\": 0, \"ticks\": \"\"}, \"type\": \"contourcarpet\"}], \"heatmap\": [{\"colorbar\": {\"outlinewidth\": 0, \"ticks\": \"\"}, \"colorscale\": [[0.0, \"#0d0887\"], [0.1111111111111111, \"#46039f\"], [0.2222222222222222, \"#7201a8\"], [0.3333333333333333, \"#9c179e\"], [0.4444444444444444, \"#bd3786\"], [0.5555555555555556, \"#d8576b\"], [0.6666666666666666, \"#ed7953\"], [0.7777777777777778, \"#fb9f3a\"], [0.8888888888888888, \"#fdca26\"], [1.0, \"#f0f921\"]], \"type\": \"heatmap\"}], \"heatmapgl\": [{\"colorbar\": {\"outlinewidth\": 0, \"ticks\": \"\"}, \"colorscale\": [[0.0, \"#0d0887\"], [0.1111111111111111, \"#46039f\"], [0.2222222222222222, \"#7201a8\"], [0.3333333333333333, \"#9c179e\"], [0.4444444444444444, \"#bd3786\"], [0.5555555555555556, \"#d8576b\"], [0.6666666666666666, \"#ed7953\"], [0.7777777777777778, \"#fb9f3a\"], [0.8888888888888888, \"#fdca26\"], [1.0, \"#f0f921\"]], \"type\": \"heatmapgl\"}], \"histogram\": [{\"marker\": {\"colorbar\": {\"outlinewidth\": 0, \"ticks\": \"\"}}, \"type\": \"histogram\"}], \"histogram2d\": [{\"colorbar\": {\"outlinewidth\": 0, \"ticks\": \"\"}, \"colorscale\": [[0.0, \"#0d0887\"], [0.1111111111111111, \"#46039f\"], [0.2222222222222222, \"#7201a8\"], [0.3333333333333333, \"#9c179e\"], [0.4444444444444444, \"#bd3786\"], [0.5555555555555556, \"#d8576b\"], [0.6666666666666666, \"#ed7953\"], [0.7777777777777778, \"#fb9f3a\"], [0.8888888888888888, \"#fdca26\"], [1.0, \"#f0f921\"]], \"type\": \"histogram2d\"}], \"histogram2dcontour\": [{\"colorbar\": {\"outlinewidth\": 0, \"ticks\": \"\"}, \"colorscale\": [[0.0, \"#0d0887\"], [0.1111111111111111, \"#46039f\"], [0.2222222222222222, \"#7201a8\"], [0.3333333333333333, \"#9c179e\"], [0.4444444444444444, \"#bd3786\"], [0.5555555555555556, \"#d8576b\"], [0.6666666666666666, \"#ed7953\"], [0.7777777777777778, \"#fb9f3a\"], [0.8888888888888888, \"#fdca26\"], [1.0, \"#f0f921\"]], \"type\": \"histogram2dcontour\"}], \"mesh3d\": [{\"colorbar\": {\"outlinewidth\": 0, \"ticks\": \"\"}, \"type\": \"mesh3d\"}], \"parcoords\": [{\"line\": {\"colorbar\": {\"outlinewidth\": 0, \"ticks\": \"\"}}, \"type\": \"parcoords\"}], \"scatter\": [{\"marker\": {\"colorbar\": {\"outlinewidth\": 0, \"ticks\": \"\"}}, \"type\": \"scatter\"}], \"scatter3d\": [{\"line\": {\"colorbar\": {\"outlinewidth\": 0, \"ticks\": \"\"}}, \"marker\": {\"colorbar\": {\"outlinewidth\": 0, \"ticks\": \"\"}}, \"type\": \"scatter3d\"}], \"scattercarpet\": [{\"marker\": {\"colorbar\": {\"outlinewidth\": 0, \"ticks\": \"\"}}, \"type\": \"scattercarpet\"}], \"scattergeo\": [{\"marker\": {\"colorbar\": {\"outlinewidth\": 0, \"ticks\": \"\"}}, \"type\": \"scattergeo\"}], \"scattergl\": [{\"marker\": {\"colorbar\": {\"outlinewidth\": 0, \"ticks\": \"\"}}, \"type\": \"scattergl\"}], \"scattermapbox\": [{\"marker\": {\"colorbar\": {\"outlinewidth\": 0, \"ticks\": \"\"}}, \"type\": \"scattermapbox\"}], \"scatterpolar\": [{\"marker\": {\"colorbar\": {\"outlinewidth\": 0, \"ticks\": \"\"}}, \"type\": \"scatterpolar\"}], \"scatterpolargl\": [{\"marker\": {\"colorbar\": {\"outlinewidth\": 0, \"ticks\": \"\"}}, \"type\": \"scatterpolargl\"}], \"scatterternary\": [{\"marker\": {\"colorbar\": {\"outlinewidth\": 0, \"ticks\": \"\"}}, \"type\": \"scatterternary\"}], \"surface\": [{\"colorbar\": {\"outlinewidth\": 0, \"ticks\": \"\"}, \"colorscale\": [[0.0, \"#0d0887\"], [0.1111111111111111, \"#46039f\"], [0.2222222222222222, \"#7201a8\"], [0.3333333333333333, \"#9c179e\"], [0.4444444444444444, \"#bd3786\"], [0.5555555555555556, \"#d8576b\"], [0.6666666666666666, \"#ed7953\"], [0.7777777777777778, \"#fb9f3a\"], [0.8888888888888888, \"#fdca26\"], [1.0, \"#f0f921\"]], \"type\": \"surface\"}], \"table\": [{\"cells\": {\"fill\": {\"color\": \"#EBF0F8\"}, \"line\": {\"color\": \"white\"}}, \"header\": {\"fill\": {\"color\": \"#C8D4E3\"}, \"line\": {\"color\": \"white\"}}, \"type\": \"table\"}]}, \"layout\": {\"annotationdefaults\": {\"arrowcolor\": \"#2a3f5f\", \"arrowhead\": 0, \"arrowwidth\": 1}, \"colorscale\": {\"diverging\": [[0, \"#8e0152\"], [0.1, \"#c51b7d\"], [0.2, \"#de77ae\"], [0.3, \"#f1b6da\"], [0.4, \"#fde0ef\"], [0.5, \"#f7f7f7\"], [0.6, \"#e6f5d0\"], [0.7, \"#b8e186\"], [0.8, \"#7fbc41\"], [0.9, \"#4d9221\"], [1, \"#276419\"]], \"sequential\": [[0.0, \"#0d0887\"], [0.1111111111111111, \"#46039f\"], [0.2222222222222222, \"#7201a8\"], [0.3333333333333333, \"#9c179e\"], [0.4444444444444444, \"#bd3786\"], [0.5555555555555556, \"#d8576b\"], [0.6666666666666666, \"#ed7953\"], [0.7777777777777778, \"#fb9f3a\"], [0.8888888888888888, \"#fdca26\"], [1.0, \"#f0f921\"]], \"sequentialminus\": [[0.0, \"#0d0887\"], [0.1111111111111111, \"#46039f\"], [0.2222222222222222, \"#7201a8\"], [0.3333333333333333, \"#9c179e\"], [0.4444444444444444, \"#bd3786\"], [0.5555555555555556, \"#d8576b\"], [0.6666666666666666, \"#ed7953\"], [0.7777777777777778, \"#fb9f3a\"], [0.8888888888888888, \"#fdca26\"], [1.0, \"#f0f921\"]]}, \"colorway\": [\"#636efa\", \"#EF553B\", \"#00cc96\", \"#ab63fa\", \"#FFA15A\", \"#19d3f3\", \"#FF6692\", \"#B6E880\", \"#FF97FF\", \"#FECB52\"], \"font\": {\"color\": \"#2a3f5f\"}, \"geo\": {\"bgcolor\": \"white\", \"lakecolor\": \"white\", \"landcolor\": \"#E5ECF6\", \"showlakes\": true, \"showland\": true, \"subunitcolor\": \"white\"}, \"hoverlabel\": {\"align\": \"left\"}, \"hovermode\": \"closest\", \"mapbox\": {\"style\": \"light\"}, \"paper_bgcolor\": \"white\", \"plot_bgcolor\": \"#E5ECF6\", \"polar\": {\"angularaxis\": {\"gridcolor\": \"white\", \"linecolor\": \"white\", \"ticks\": \"\"}, \"bgcolor\": \"#E5ECF6\", \"radialaxis\": {\"gridcolor\": \"white\", \"linecolor\": \"white\", \"ticks\": \"\"}}, \"scene\": {\"xaxis\": {\"backgroundcolor\": \"#E5ECF6\", \"gridcolor\": \"white\", \"gridwidth\": 2, \"linecolor\": \"white\", \"showbackground\": true, \"ticks\": \"\", \"zerolinecolor\": \"white\"}, \"yaxis\": {\"backgroundcolor\": \"#E5ECF6\", \"gridcolor\": \"white\", \"gridwidth\": 2, \"linecolor\": \"white\", \"showbackground\": true, \"ticks\": \"\", \"zerolinecolor\": \"white\"}, \"zaxis\": {\"backgroundcolor\": \"#E5ECF6\", \"gridcolor\": \"white\", \"gridwidth\": 2, \"linecolor\": \"white\", \"showbackground\": true, \"ticks\": \"\", \"zerolinecolor\": \"white\"}}, \"shapedefaults\": {\"line\": {\"color\": \"#2a3f5f\"}}, \"ternary\": {\"aaxis\": {\"gridcolor\": \"white\", \"linecolor\": \"white\", \"ticks\": \"\"}, \"baxis\": {\"gridcolor\": \"white\", \"linecolor\": \"white\", \"ticks\": \"\"}, \"bgcolor\": \"#E5ECF6\", \"caxis\": {\"gridcolor\": \"white\", \"linecolor\": \"white\", \"ticks\": \"\"}}, \"title\": {\"x\": 0.05}, \"xaxis\": {\"automargin\": true, \"gridcolor\": \"white\", \"linecolor\": \"white\", \"ticks\": \"\", \"zerolinecolor\": \"white\", \"zerolinewidth\": 2}, \"yaxis\": {\"automargin\": true, \"gridcolor\": \"white\", \"linecolor\": \"white\", \"ticks\": \"\", \"zerolinecolor\": \"white\", \"zerolinewidth\": 2}}}, \"title\": {\"text\": \"diagram\"}, \"width\": 3250},\n",
       "                        {\"responsive\": true}\n",
       "                    ).then(function(){\n",
       "                            \n",
       "var gd = document.getElementById('9d1de1e5-c644-405b-af60-7692caab2e0f');\n",
       "var x = new MutationObserver(function (mutations, observer) {{\n",
       "        var display = window.getComputedStyle(gd).display;\n",
       "        if (!display || display === 'none') {{\n",
       "            console.log([gd, 'removed!']);\n",
       "            Plotly.purge(gd);\n",
       "            observer.disconnect();\n",
       "        }}\n",
       "}});\n",
       "\n",
       "// Listen for the removal of the full notebook cells\n",
       "var notebookContainer = gd.closest('#notebook-container');\n",
       "if (notebookContainer) {{\n",
       "    x.observe(notebookContainer, {childList: true});\n",
       "}}\n",
       "\n",
       "// Listen for the clearing of the current output cell\n",
       "var outputEl = gd.closest('.output');\n",
       "if (outputEl) {{\n",
       "    x.observe(outputEl, {childList: true});\n",
       "}}\n",
       "\n",
       "                        })\n",
       "                };\n",
       "                });\n",
       "            </script>\n",
       "        </div>"
      ]
     },
     "metadata": {},
     "output_type": "display_data"
    }
   ],
   "source": [
    "# creating the sankey diagram\n",
    "data = go.Sankey(\n",
    "    node=dict(\n",
    "        pad=20,\n",
    "        thickness=20,\n",
    "        color=colors_list,\n",
    "        line=dict(\n",
    "            color=\"black\",\n",
    "            width=0.5\n",
    "        ),\n",
    "        label=label_list\n",
    "    ),\n",
    "    link=dict(\n",
    "        source=source_target_df['source_id'].values.tolist(),\n",
    "        target=source_target_df['target_id'].values.tolist(),\n",
    "        value=source_target_df['count'].astype(int).values.tolist(),\n",
    "        hoverlabel=dict(\n",
    "            bgcolor='#C2C4C7')\n",
    "    )\n",
    "    )\n",
    "\n",
    "# set window width so that steps are evenly spaced out\n",
    "n_steps = 13\n",
    "if n_steps < 5:\n",
    "    width = None\n",
    "else:\n",
    "    width = n_steps * 250\n",
    "\n",
    "layout = dict(\n",
    "    height=400,\n",
    "    width=width,\n",
    "    margin=dict(t=30, l=0, r=0, b=30),\n",
    "    title='diagram',\n",
    "    font=dict(\n",
    "        size=10\n",
    "    )\n",
    ")\n",
    "\n",
    "fig = go.Figure(data=[data], layout=layout)\n",
    "fig.show()"
   ]
  },
  {
   "cell_type": "markdown",
   "metadata": {},
   "source": [
    "From the above examples that we can see that users clearly follow very different paths to purchases. For example, while most users went from login to product_page, 301 users went straight from login to purchase, and there are even users went back to login again. \n",
    "\n",
    "Therefore, the users towards product_page, then to product_cart, and then to purchase funnel is not representative of the user behaviour. It's worth keeping that in mind when we calcualte the funnel conversion rates in the next section. "
   ]
  },
  {
   "cell_type": "markdown",
   "metadata": {},
   "source": [
    "#### 3.4 User conversion funnels for A/B groups"
   ]
  },
  {
   "cell_type": "markdown",
   "metadata": {},
   "source": [
    "In this section, we will take a look at two funnels. First, given all users start from the login page, we will calculate and visualize the user conversion in the funnel: login -> product_page -> product_cart -> purchase. \n",
    "\n",
    "However, since we see from previous section, the funnel above is not really representative of user journey. Therefore we will also calculate the simple funnel considering the number of unique users arriving at each of the stage disregarding the sequence. "
   ]
  },
  {
   "cell_type": "code",
   "execution_count": 81,
   "metadata": {},
   "outputs": [
    {
     "data": {
      "text/html": [
       "<div>\n",
       "<style scoped>\n",
       "    .dataframe tbody tr th:only-of-type {\n",
       "        vertical-align: middle;\n",
       "    }\n",
       "\n",
       "    .dataframe tbody tr th {\n",
       "        vertical-align: top;\n",
       "    }\n",
       "\n",
       "    .dataframe thead th {\n",
       "        text-align: right;\n",
       "    }\n",
       "</style>\n",
       "<table border=\"1\" class=\"dataframe\">\n",
       "  <thead>\n",
       "    <tr style=\"text-align: right;\">\n",
       "      <th></th>\n",
       "      <th>user_id</th>\n",
       "      <th>group</th>\n",
       "      <th>ab_test</th>\n",
       "      <th>first_date</th>\n",
       "      <th>region</th>\n",
       "      <th>device</th>\n",
       "      <th>event_dt</th>\n",
       "      <th>event_name</th>\n",
       "      <th>details</th>\n",
       "      <th>event_date</th>\n",
       "    </tr>\n",
       "  </thead>\n",
       "  <tbody>\n",
       "    <tr>\n",
       "      <td>0</td>\n",
       "      <td>D1ABA3E2887B6A73</td>\n",
       "      <td>A</td>\n",
       "      <td>recommender_system_test</td>\n",
       "      <td>2020-12-07</td>\n",
       "      <td>EU</td>\n",
       "      <td>PC</td>\n",
       "      <td>2020-12-07 14:43:27</td>\n",
       "      <td>purchase</td>\n",
       "      <td>99.99</td>\n",
       "      <td>2020-12-07</td>\n",
       "    </tr>\n",
       "    <tr>\n",
       "      <td>1</td>\n",
       "      <td>D1ABA3E2887B6A73</td>\n",
       "      <td>A</td>\n",
       "      <td>recommender_system_test</td>\n",
       "      <td>2020-12-07</td>\n",
       "      <td>EU</td>\n",
       "      <td>PC</td>\n",
       "      <td>2020-12-25 00:04:56</td>\n",
       "      <td>purchase</td>\n",
       "      <td>4.99</td>\n",
       "      <td>2020-12-25</td>\n",
       "    </tr>\n",
       "    <tr>\n",
       "      <td>2</td>\n",
       "      <td>D1ABA3E2887B6A73</td>\n",
       "      <td>A</td>\n",
       "      <td>recommender_system_test</td>\n",
       "      <td>2020-12-07</td>\n",
       "      <td>EU</td>\n",
       "      <td>PC</td>\n",
       "      <td>2020-12-07 14:43:29</td>\n",
       "      <td>product_cart</td>\n",
       "      <td>NaN</td>\n",
       "      <td>2020-12-07</td>\n",
       "    </tr>\n",
       "    <tr>\n",
       "      <td>3</td>\n",
       "      <td>D1ABA3E2887B6A73</td>\n",
       "      <td>A</td>\n",
       "      <td>recommender_system_test</td>\n",
       "      <td>2020-12-07</td>\n",
       "      <td>EU</td>\n",
       "      <td>PC</td>\n",
       "      <td>2020-12-25 00:04:57</td>\n",
       "      <td>product_cart</td>\n",
       "      <td>NaN</td>\n",
       "      <td>2020-12-25</td>\n",
       "    </tr>\n",
       "    <tr>\n",
       "      <td>4</td>\n",
       "      <td>D1ABA3E2887B6A73</td>\n",
       "      <td>A</td>\n",
       "      <td>recommender_system_test</td>\n",
       "      <td>2020-12-07</td>\n",
       "      <td>EU</td>\n",
       "      <td>PC</td>\n",
       "      <td>2020-12-07 14:43:27</td>\n",
       "      <td>product_page</td>\n",
       "      <td>NaN</td>\n",
       "      <td>2020-12-07</td>\n",
       "    </tr>\n",
       "  </tbody>\n",
       "</table>\n",
       "</div>"
      ],
      "text/plain": [
       "            user_id group                  ab_test first_date region device  \\\n",
       "0  D1ABA3E2887B6A73     A  recommender_system_test 2020-12-07     EU     PC   \n",
       "1  D1ABA3E2887B6A73     A  recommender_system_test 2020-12-07     EU     PC   \n",
       "2  D1ABA3E2887B6A73     A  recommender_system_test 2020-12-07     EU     PC   \n",
       "3  D1ABA3E2887B6A73     A  recommender_system_test 2020-12-07     EU     PC   \n",
       "4  D1ABA3E2887B6A73     A  recommender_system_test 2020-12-07     EU     PC   \n",
       "\n",
       "             event_dt    event_name  details event_date  \n",
       "0 2020-12-07 14:43:27      purchase    99.99 2020-12-07  \n",
       "1 2020-12-25 00:04:56      purchase     4.99 2020-12-25  \n",
       "2 2020-12-07 14:43:29  product_cart      NaN 2020-12-07  \n",
       "3 2020-12-25 00:04:57  product_cart      NaN 2020-12-25  \n",
       "4 2020-12-07 14:43:27  product_page      NaN 2020-12-07  "
      ]
     },
     "execution_count": 81,
     "metadata": {},
     "output_type": "execute_result"
    }
   ],
   "source": [
    "#take a look at the data again\n",
    "recommender_A.head()"
   ]
  },
  {
   "cell_type": "markdown",
   "metadata": {},
   "source": [
    "**Sequence funnel**"
   ]
  },
  {
   "cell_type": "code",
   "execution_count": 82,
   "metadata": {},
   "outputs": [
    {
     "name": "stdout",
     "output_type": "stream",
     "text": [
      "login: 2082\n",
      "product_page: 1360\n",
      "product_cart: 304\n",
      "purchase: 36\n"
     ]
    }
   ],
   "source": [
    "#create a pivot table to find the earliest datetime for each event for each user\n",
    "users_A = recommender_A.pivot_table(\n",
    "    index='user_id', \n",
    "    columns='event_name', \n",
    "    values='event_dt',\n",
    "    aggfunc='min') \n",
    "\n",
    "#create the steps to filter the data\n",
    "step_1 = ~users_A['login'].isna()\n",
    "step_2 = step_1 & (users_A['product_page'] >=users_A['login'])\n",
    "step_3 = step_2 & (users_A['product_cart'] >= users_A['product_page'])\n",
    "step_4 = step_3 & (users_A['purchase'] >= users_A['product_cart'])\n",
    "\n",
    "#calculate the users at each stage of the funnel\n",
    "n_login_A = users_A[step_1].shape[0]\n",
    "n_product_A = users_A[step_2].shape[0]\n",
    "n_cart_A = users_A[step_3].shape[0]\n",
    "n_purchase_A = users_A[step_4].shape[0]\n",
    "\n",
    "print('login:', n_login_A)\n",
    "print('product_page:', n_product_A)\n",
    "print('product_cart:', n_cart_A)\n",
    "print('purchase:', n_purchase_A) "
   ]
  },
  {
   "cell_type": "code",
   "execution_count": 83,
   "metadata": {},
   "outputs": [
    {
     "data": {
      "application/vnd.plotly.v1+json": {
       "config": {
        "plotlyServerURL": "https://plot.ly"
       },
       "data": [
        {
         "textinfo": "value+percent initial",
         "textposition": "inside",
         "type": "funnel",
         "x": [
          2082,
          1360,
          304,
          36
         ],
         "y": [
          "login",
          "product_page",
          "product_cart",
          "purchase"
         ]
        }
       ],
       "layout": {
        "template": {
         "data": {
          "bar": [
           {
            "error_x": {
             "color": "#2a3f5f"
            },
            "error_y": {
             "color": "#2a3f5f"
            },
            "marker": {
             "line": {
              "color": "#E5ECF6",
              "width": 0.5
             }
            },
            "type": "bar"
           }
          ],
          "barpolar": [
           {
            "marker": {
             "line": {
              "color": "#E5ECF6",
              "width": 0.5
             }
            },
            "type": "barpolar"
           }
          ],
          "carpet": [
           {
            "aaxis": {
             "endlinecolor": "#2a3f5f",
             "gridcolor": "white",
             "linecolor": "white",
             "minorgridcolor": "white",
             "startlinecolor": "#2a3f5f"
            },
            "baxis": {
             "endlinecolor": "#2a3f5f",
             "gridcolor": "white",
             "linecolor": "white",
             "minorgridcolor": "white",
             "startlinecolor": "#2a3f5f"
            },
            "type": "carpet"
           }
          ],
          "choropleth": [
           {
            "colorbar": {
             "outlinewidth": 0,
             "ticks": ""
            },
            "type": "choropleth"
           }
          ],
          "contour": [
           {
            "colorbar": {
             "outlinewidth": 0,
             "ticks": ""
            },
            "colorscale": [
             [
              0,
              "#0d0887"
             ],
             [
              0.1111111111111111,
              "#46039f"
             ],
             [
              0.2222222222222222,
              "#7201a8"
             ],
             [
              0.3333333333333333,
              "#9c179e"
             ],
             [
              0.4444444444444444,
              "#bd3786"
             ],
             [
              0.5555555555555556,
              "#d8576b"
             ],
             [
              0.6666666666666666,
              "#ed7953"
             ],
             [
              0.7777777777777778,
              "#fb9f3a"
             ],
             [
              0.8888888888888888,
              "#fdca26"
             ],
             [
              1,
              "#f0f921"
             ]
            ],
            "type": "contour"
           }
          ],
          "contourcarpet": [
           {
            "colorbar": {
             "outlinewidth": 0,
             "ticks": ""
            },
            "type": "contourcarpet"
           }
          ],
          "heatmap": [
           {
            "colorbar": {
             "outlinewidth": 0,
             "ticks": ""
            },
            "colorscale": [
             [
              0,
              "#0d0887"
             ],
             [
              0.1111111111111111,
              "#46039f"
             ],
             [
              0.2222222222222222,
              "#7201a8"
             ],
             [
              0.3333333333333333,
              "#9c179e"
             ],
             [
              0.4444444444444444,
              "#bd3786"
             ],
             [
              0.5555555555555556,
              "#d8576b"
             ],
             [
              0.6666666666666666,
              "#ed7953"
             ],
             [
              0.7777777777777778,
              "#fb9f3a"
             ],
             [
              0.8888888888888888,
              "#fdca26"
             ],
             [
              1,
              "#f0f921"
             ]
            ],
            "type": "heatmap"
           }
          ],
          "heatmapgl": [
           {
            "colorbar": {
             "outlinewidth": 0,
             "ticks": ""
            },
            "colorscale": [
             [
              0,
              "#0d0887"
             ],
             [
              0.1111111111111111,
              "#46039f"
             ],
             [
              0.2222222222222222,
              "#7201a8"
             ],
             [
              0.3333333333333333,
              "#9c179e"
             ],
             [
              0.4444444444444444,
              "#bd3786"
             ],
             [
              0.5555555555555556,
              "#d8576b"
             ],
             [
              0.6666666666666666,
              "#ed7953"
             ],
             [
              0.7777777777777778,
              "#fb9f3a"
             ],
             [
              0.8888888888888888,
              "#fdca26"
             ],
             [
              1,
              "#f0f921"
             ]
            ],
            "type": "heatmapgl"
           }
          ],
          "histogram": [
           {
            "marker": {
             "colorbar": {
              "outlinewidth": 0,
              "ticks": ""
             }
            },
            "type": "histogram"
           }
          ],
          "histogram2d": [
           {
            "colorbar": {
             "outlinewidth": 0,
             "ticks": ""
            },
            "colorscale": [
             [
              0,
              "#0d0887"
             ],
             [
              0.1111111111111111,
              "#46039f"
             ],
             [
              0.2222222222222222,
              "#7201a8"
             ],
             [
              0.3333333333333333,
              "#9c179e"
             ],
             [
              0.4444444444444444,
              "#bd3786"
             ],
             [
              0.5555555555555556,
              "#d8576b"
             ],
             [
              0.6666666666666666,
              "#ed7953"
             ],
             [
              0.7777777777777778,
              "#fb9f3a"
             ],
             [
              0.8888888888888888,
              "#fdca26"
             ],
             [
              1,
              "#f0f921"
             ]
            ],
            "type": "histogram2d"
           }
          ],
          "histogram2dcontour": [
           {
            "colorbar": {
             "outlinewidth": 0,
             "ticks": ""
            },
            "colorscale": [
             [
              0,
              "#0d0887"
             ],
             [
              0.1111111111111111,
              "#46039f"
             ],
             [
              0.2222222222222222,
              "#7201a8"
             ],
             [
              0.3333333333333333,
              "#9c179e"
             ],
             [
              0.4444444444444444,
              "#bd3786"
             ],
             [
              0.5555555555555556,
              "#d8576b"
             ],
             [
              0.6666666666666666,
              "#ed7953"
             ],
             [
              0.7777777777777778,
              "#fb9f3a"
             ],
             [
              0.8888888888888888,
              "#fdca26"
             ],
             [
              1,
              "#f0f921"
             ]
            ],
            "type": "histogram2dcontour"
           }
          ],
          "mesh3d": [
           {
            "colorbar": {
             "outlinewidth": 0,
             "ticks": ""
            },
            "type": "mesh3d"
           }
          ],
          "parcoords": [
           {
            "line": {
             "colorbar": {
              "outlinewidth": 0,
              "ticks": ""
             }
            },
            "type": "parcoords"
           }
          ],
          "scatter": [
           {
            "marker": {
             "colorbar": {
              "outlinewidth": 0,
              "ticks": ""
             }
            },
            "type": "scatter"
           }
          ],
          "scatter3d": [
           {
            "line": {
             "colorbar": {
              "outlinewidth": 0,
              "ticks": ""
             }
            },
            "marker": {
             "colorbar": {
              "outlinewidth": 0,
              "ticks": ""
             }
            },
            "type": "scatter3d"
           }
          ],
          "scattercarpet": [
           {
            "marker": {
             "colorbar": {
              "outlinewidth": 0,
              "ticks": ""
             }
            },
            "type": "scattercarpet"
           }
          ],
          "scattergeo": [
           {
            "marker": {
             "colorbar": {
              "outlinewidth": 0,
              "ticks": ""
             }
            },
            "type": "scattergeo"
           }
          ],
          "scattergl": [
           {
            "marker": {
             "colorbar": {
              "outlinewidth": 0,
              "ticks": ""
             }
            },
            "type": "scattergl"
           }
          ],
          "scattermapbox": [
           {
            "marker": {
             "colorbar": {
              "outlinewidth": 0,
              "ticks": ""
             }
            },
            "type": "scattermapbox"
           }
          ],
          "scatterpolar": [
           {
            "marker": {
             "colorbar": {
              "outlinewidth": 0,
              "ticks": ""
             }
            },
            "type": "scatterpolar"
           }
          ],
          "scatterpolargl": [
           {
            "marker": {
             "colorbar": {
              "outlinewidth": 0,
              "ticks": ""
             }
            },
            "type": "scatterpolargl"
           }
          ],
          "scatterternary": [
           {
            "marker": {
             "colorbar": {
              "outlinewidth": 0,
              "ticks": ""
             }
            },
            "type": "scatterternary"
           }
          ],
          "surface": [
           {
            "colorbar": {
             "outlinewidth": 0,
             "ticks": ""
            },
            "colorscale": [
             [
              0,
              "#0d0887"
             ],
             [
              0.1111111111111111,
              "#46039f"
             ],
             [
              0.2222222222222222,
              "#7201a8"
             ],
             [
              0.3333333333333333,
              "#9c179e"
             ],
             [
              0.4444444444444444,
              "#bd3786"
             ],
             [
              0.5555555555555556,
              "#d8576b"
             ],
             [
              0.6666666666666666,
              "#ed7953"
             ],
             [
              0.7777777777777778,
              "#fb9f3a"
             ],
             [
              0.8888888888888888,
              "#fdca26"
             ],
             [
              1,
              "#f0f921"
             ]
            ],
            "type": "surface"
           }
          ],
          "table": [
           {
            "cells": {
             "fill": {
              "color": "#EBF0F8"
             },
             "line": {
              "color": "white"
             }
            },
            "header": {
             "fill": {
              "color": "#C8D4E3"
             },
             "line": {
              "color": "white"
             }
            },
            "type": "table"
           }
          ]
         },
         "layout": {
          "annotationdefaults": {
           "arrowcolor": "#2a3f5f",
           "arrowhead": 0,
           "arrowwidth": 1
          },
          "colorscale": {
           "diverging": [
            [
             0,
             "#8e0152"
            ],
            [
             0.1,
             "#c51b7d"
            ],
            [
             0.2,
             "#de77ae"
            ],
            [
             0.3,
             "#f1b6da"
            ],
            [
             0.4,
             "#fde0ef"
            ],
            [
             0.5,
             "#f7f7f7"
            ],
            [
             0.6,
             "#e6f5d0"
            ],
            [
             0.7,
             "#b8e186"
            ],
            [
             0.8,
             "#7fbc41"
            ],
            [
             0.9,
             "#4d9221"
            ],
            [
             1,
             "#276419"
            ]
           ],
           "sequential": [
            [
             0,
             "#0d0887"
            ],
            [
             0.1111111111111111,
             "#46039f"
            ],
            [
             0.2222222222222222,
             "#7201a8"
            ],
            [
             0.3333333333333333,
             "#9c179e"
            ],
            [
             0.4444444444444444,
             "#bd3786"
            ],
            [
             0.5555555555555556,
             "#d8576b"
            ],
            [
             0.6666666666666666,
             "#ed7953"
            ],
            [
             0.7777777777777778,
             "#fb9f3a"
            ],
            [
             0.8888888888888888,
             "#fdca26"
            ],
            [
             1,
             "#f0f921"
            ]
           ],
           "sequentialminus": [
            [
             0,
             "#0d0887"
            ],
            [
             0.1111111111111111,
             "#46039f"
            ],
            [
             0.2222222222222222,
             "#7201a8"
            ],
            [
             0.3333333333333333,
             "#9c179e"
            ],
            [
             0.4444444444444444,
             "#bd3786"
            ],
            [
             0.5555555555555556,
             "#d8576b"
            ],
            [
             0.6666666666666666,
             "#ed7953"
            ],
            [
             0.7777777777777778,
             "#fb9f3a"
            ],
            [
             0.8888888888888888,
             "#fdca26"
            ],
            [
             1,
             "#f0f921"
            ]
           ]
          },
          "colorway": [
           "#636efa",
           "#EF553B",
           "#00cc96",
           "#ab63fa",
           "#FFA15A",
           "#19d3f3",
           "#FF6692",
           "#B6E880",
           "#FF97FF",
           "#FECB52"
          ],
          "font": {
           "color": "#2a3f5f"
          },
          "geo": {
           "bgcolor": "white",
           "lakecolor": "white",
           "landcolor": "#E5ECF6",
           "showlakes": true,
           "showland": true,
           "subunitcolor": "white"
          },
          "hoverlabel": {
           "align": "left"
          },
          "hovermode": "closest",
          "mapbox": {
           "style": "light"
          },
          "paper_bgcolor": "white",
          "plot_bgcolor": "#E5ECF6",
          "polar": {
           "angularaxis": {
            "gridcolor": "white",
            "linecolor": "white",
            "ticks": ""
           },
           "bgcolor": "#E5ECF6",
           "radialaxis": {
            "gridcolor": "white",
            "linecolor": "white",
            "ticks": ""
           }
          },
          "scene": {
           "xaxis": {
            "backgroundcolor": "#E5ECF6",
            "gridcolor": "white",
            "gridwidth": 2,
            "linecolor": "white",
            "showbackground": true,
            "ticks": "",
            "zerolinecolor": "white"
           },
           "yaxis": {
            "backgroundcolor": "#E5ECF6",
            "gridcolor": "white",
            "gridwidth": 2,
            "linecolor": "white",
            "showbackground": true,
            "ticks": "",
            "zerolinecolor": "white"
           },
           "zaxis": {
            "backgroundcolor": "#E5ECF6",
            "gridcolor": "white",
            "gridwidth": 2,
            "linecolor": "white",
            "showbackground": true,
            "ticks": "",
            "zerolinecolor": "white"
           }
          },
          "shapedefaults": {
           "line": {
            "color": "#2a3f5f"
           }
          },
          "ternary": {
           "aaxis": {
            "gridcolor": "white",
            "linecolor": "white",
            "ticks": ""
           },
           "baxis": {
            "gridcolor": "white",
            "linecolor": "white",
            "ticks": ""
           },
           "bgcolor": "#E5ECF6",
           "caxis": {
            "gridcolor": "white",
            "linecolor": "white",
            "ticks": ""
           }
          },
          "title": {
           "x": 0.05
          },
          "xaxis": {
           "automargin": true,
           "gridcolor": "white",
           "linecolor": "white",
           "ticks": "",
           "zerolinecolor": "white",
           "zerolinewidth": 2
          },
          "yaxis": {
           "automargin": true,
           "gridcolor": "white",
           "linecolor": "white",
           "ticks": "",
           "zerolinecolor": "white",
           "zerolinewidth": 2
          }
         }
        },
        "title": {
         "text": "Sales funnel for group A",
         "x": 0.5,
         "xanchor": "center",
         "y": 0.9,
         "yanchor": "top"
        }
       }
      },
      "text/html": [
       "<div>\n",
       "        \n",
       "        \n",
       "            <div id=\"da19b11b-a723-446c-8e11-dc697d28364d\" class=\"plotly-graph-div\" style=\"height:525px; width:100%;\"></div>\n",
       "            <script type=\"text/javascript\">\n",
       "                require([\"plotly\"], function(Plotly) {\n",
       "                    window.PLOTLYENV=window.PLOTLYENV || {};\n",
       "                    \n",
       "                if (document.getElementById(\"da19b11b-a723-446c-8e11-dc697d28364d\")) {\n",
       "                    Plotly.newPlot(\n",
       "                        'da19b11b-a723-446c-8e11-dc697d28364d',\n",
       "                        [{\"textinfo\": \"value+percent initial\", \"textposition\": \"inside\", \"type\": \"funnel\", \"x\": [2082, 1360, 304, 36], \"y\": [\"login\", \"product_page\", \"product_cart\", \"purchase\"]}],\n",
       "                        {\"template\": {\"data\": {\"bar\": [{\"error_x\": {\"color\": \"#2a3f5f\"}, \"error_y\": {\"color\": \"#2a3f5f\"}, \"marker\": {\"line\": {\"color\": \"#E5ECF6\", \"width\": 0.5}}, \"type\": \"bar\"}], \"barpolar\": [{\"marker\": {\"line\": {\"color\": \"#E5ECF6\", \"width\": 0.5}}, \"type\": \"barpolar\"}], \"carpet\": [{\"aaxis\": {\"endlinecolor\": \"#2a3f5f\", \"gridcolor\": \"white\", \"linecolor\": \"white\", \"minorgridcolor\": \"white\", \"startlinecolor\": \"#2a3f5f\"}, \"baxis\": {\"endlinecolor\": \"#2a3f5f\", \"gridcolor\": \"white\", \"linecolor\": \"white\", \"minorgridcolor\": \"white\", \"startlinecolor\": \"#2a3f5f\"}, \"type\": \"carpet\"}], \"choropleth\": [{\"colorbar\": {\"outlinewidth\": 0, \"ticks\": \"\"}, \"type\": \"choropleth\"}], \"contour\": [{\"colorbar\": {\"outlinewidth\": 0, \"ticks\": \"\"}, \"colorscale\": [[0.0, \"#0d0887\"], [0.1111111111111111, \"#46039f\"], [0.2222222222222222, \"#7201a8\"], [0.3333333333333333, \"#9c179e\"], [0.4444444444444444, \"#bd3786\"], [0.5555555555555556, \"#d8576b\"], [0.6666666666666666, \"#ed7953\"], [0.7777777777777778, \"#fb9f3a\"], [0.8888888888888888, \"#fdca26\"], [1.0, \"#f0f921\"]], \"type\": \"contour\"}], \"contourcarpet\": [{\"colorbar\": {\"outlinewidth\": 0, \"ticks\": \"\"}, \"type\": \"contourcarpet\"}], \"heatmap\": [{\"colorbar\": {\"outlinewidth\": 0, \"ticks\": \"\"}, \"colorscale\": [[0.0, \"#0d0887\"], [0.1111111111111111, \"#46039f\"], [0.2222222222222222, \"#7201a8\"], [0.3333333333333333, \"#9c179e\"], [0.4444444444444444, \"#bd3786\"], [0.5555555555555556, \"#d8576b\"], [0.6666666666666666, \"#ed7953\"], [0.7777777777777778, \"#fb9f3a\"], [0.8888888888888888, \"#fdca26\"], [1.0, \"#f0f921\"]], \"type\": \"heatmap\"}], \"heatmapgl\": [{\"colorbar\": {\"outlinewidth\": 0, \"ticks\": \"\"}, \"colorscale\": [[0.0, \"#0d0887\"], [0.1111111111111111, \"#46039f\"], [0.2222222222222222, \"#7201a8\"], [0.3333333333333333, \"#9c179e\"], [0.4444444444444444, \"#bd3786\"], [0.5555555555555556, \"#d8576b\"], [0.6666666666666666, \"#ed7953\"], [0.7777777777777778, \"#fb9f3a\"], [0.8888888888888888, \"#fdca26\"], [1.0, \"#f0f921\"]], \"type\": \"heatmapgl\"}], \"histogram\": [{\"marker\": {\"colorbar\": {\"outlinewidth\": 0, \"ticks\": \"\"}}, \"type\": \"histogram\"}], \"histogram2d\": [{\"colorbar\": {\"outlinewidth\": 0, \"ticks\": \"\"}, \"colorscale\": [[0.0, \"#0d0887\"], [0.1111111111111111, \"#46039f\"], [0.2222222222222222, \"#7201a8\"], [0.3333333333333333, \"#9c179e\"], [0.4444444444444444, \"#bd3786\"], [0.5555555555555556, \"#d8576b\"], [0.6666666666666666, \"#ed7953\"], [0.7777777777777778, \"#fb9f3a\"], [0.8888888888888888, \"#fdca26\"], [1.0, \"#f0f921\"]], \"type\": \"histogram2d\"}], \"histogram2dcontour\": [{\"colorbar\": {\"outlinewidth\": 0, \"ticks\": \"\"}, \"colorscale\": [[0.0, \"#0d0887\"], [0.1111111111111111, \"#46039f\"], [0.2222222222222222, \"#7201a8\"], [0.3333333333333333, \"#9c179e\"], [0.4444444444444444, \"#bd3786\"], [0.5555555555555556, \"#d8576b\"], [0.6666666666666666, \"#ed7953\"], [0.7777777777777778, \"#fb9f3a\"], [0.8888888888888888, \"#fdca26\"], [1.0, \"#f0f921\"]], \"type\": \"histogram2dcontour\"}], \"mesh3d\": [{\"colorbar\": {\"outlinewidth\": 0, \"ticks\": \"\"}, \"type\": \"mesh3d\"}], \"parcoords\": [{\"line\": {\"colorbar\": {\"outlinewidth\": 0, \"ticks\": \"\"}}, \"type\": \"parcoords\"}], \"scatter\": [{\"marker\": {\"colorbar\": {\"outlinewidth\": 0, \"ticks\": \"\"}}, \"type\": \"scatter\"}], \"scatter3d\": [{\"line\": {\"colorbar\": {\"outlinewidth\": 0, \"ticks\": \"\"}}, \"marker\": {\"colorbar\": {\"outlinewidth\": 0, \"ticks\": \"\"}}, \"type\": \"scatter3d\"}], \"scattercarpet\": [{\"marker\": {\"colorbar\": {\"outlinewidth\": 0, \"ticks\": \"\"}}, \"type\": \"scattercarpet\"}], \"scattergeo\": [{\"marker\": {\"colorbar\": {\"outlinewidth\": 0, \"ticks\": \"\"}}, \"type\": \"scattergeo\"}], \"scattergl\": [{\"marker\": {\"colorbar\": {\"outlinewidth\": 0, \"ticks\": \"\"}}, \"type\": \"scattergl\"}], \"scattermapbox\": [{\"marker\": {\"colorbar\": {\"outlinewidth\": 0, \"ticks\": \"\"}}, \"type\": \"scattermapbox\"}], \"scatterpolar\": [{\"marker\": {\"colorbar\": {\"outlinewidth\": 0, \"ticks\": \"\"}}, \"type\": \"scatterpolar\"}], \"scatterpolargl\": [{\"marker\": {\"colorbar\": {\"outlinewidth\": 0, \"ticks\": \"\"}}, \"type\": \"scatterpolargl\"}], \"scatterternary\": [{\"marker\": {\"colorbar\": {\"outlinewidth\": 0, \"ticks\": \"\"}}, \"type\": \"scatterternary\"}], \"surface\": [{\"colorbar\": {\"outlinewidth\": 0, \"ticks\": \"\"}, \"colorscale\": [[0.0, \"#0d0887\"], [0.1111111111111111, \"#46039f\"], [0.2222222222222222, \"#7201a8\"], [0.3333333333333333, \"#9c179e\"], [0.4444444444444444, \"#bd3786\"], [0.5555555555555556, \"#d8576b\"], [0.6666666666666666, \"#ed7953\"], [0.7777777777777778, \"#fb9f3a\"], [0.8888888888888888, \"#fdca26\"], [1.0, \"#f0f921\"]], \"type\": \"surface\"}], \"table\": [{\"cells\": {\"fill\": {\"color\": \"#EBF0F8\"}, \"line\": {\"color\": \"white\"}}, \"header\": {\"fill\": {\"color\": \"#C8D4E3\"}, \"line\": {\"color\": \"white\"}}, \"type\": \"table\"}]}, \"layout\": {\"annotationdefaults\": {\"arrowcolor\": \"#2a3f5f\", \"arrowhead\": 0, \"arrowwidth\": 1}, \"colorscale\": {\"diverging\": [[0, \"#8e0152\"], [0.1, \"#c51b7d\"], [0.2, \"#de77ae\"], [0.3, \"#f1b6da\"], [0.4, \"#fde0ef\"], [0.5, \"#f7f7f7\"], [0.6, \"#e6f5d0\"], [0.7, \"#b8e186\"], [0.8, \"#7fbc41\"], [0.9, \"#4d9221\"], [1, \"#276419\"]], \"sequential\": [[0.0, \"#0d0887\"], [0.1111111111111111, \"#46039f\"], [0.2222222222222222, \"#7201a8\"], [0.3333333333333333, \"#9c179e\"], [0.4444444444444444, \"#bd3786\"], [0.5555555555555556, \"#d8576b\"], [0.6666666666666666, \"#ed7953\"], [0.7777777777777778, \"#fb9f3a\"], [0.8888888888888888, \"#fdca26\"], [1.0, \"#f0f921\"]], \"sequentialminus\": [[0.0, \"#0d0887\"], [0.1111111111111111, \"#46039f\"], [0.2222222222222222, \"#7201a8\"], [0.3333333333333333, \"#9c179e\"], [0.4444444444444444, \"#bd3786\"], [0.5555555555555556, \"#d8576b\"], [0.6666666666666666, \"#ed7953\"], [0.7777777777777778, \"#fb9f3a\"], [0.8888888888888888, \"#fdca26\"], [1.0, \"#f0f921\"]]}, \"colorway\": [\"#636efa\", \"#EF553B\", \"#00cc96\", \"#ab63fa\", \"#FFA15A\", \"#19d3f3\", \"#FF6692\", \"#B6E880\", \"#FF97FF\", \"#FECB52\"], \"font\": {\"color\": \"#2a3f5f\"}, \"geo\": {\"bgcolor\": \"white\", \"lakecolor\": \"white\", \"landcolor\": \"#E5ECF6\", \"showlakes\": true, \"showland\": true, \"subunitcolor\": \"white\"}, \"hoverlabel\": {\"align\": \"left\"}, \"hovermode\": \"closest\", \"mapbox\": {\"style\": \"light\"}, \"paper_bgcolor\": \"white\", \"plot_bgcolor\": \"#E5ECF6\", \"polar\": {\"angularaxis\": {\"gridcolor\": \"white\", \"linecolor\": \"white\", \"ticks\": \"\"}, \"bgcolor\": \"#E5ECF6\", \"radialaxis\": {\"gridcolor\": \"white\", \"linecolor\": \"white\", \"ticks\": \"\"}}, \"scene\": {\"xaxis\": {\"backgroundcolor\": \"#E5ECF6\", \"gridcolor\": \"white\", \"gridwidth\": 2, \"linecolor\": \"white\", \"showbackground\": true, \"ticks\": \"\", \"zerolinecolor\": \"white\"}, \"yaxis\": {\"backgroundcolor\": \"#E5ECF6\", \"gridcolor\": \"white\", \"gridwidth\": 2, \"linecolor\": \"white\", \"showbackground\": true, \"ticks\": \"\", \"zerolinecolor\": \"white\"}, \"zaxis\": {\"backgroundcolor\": \"#E5ECF6\", \"gridcolor\": \"white\", \"gridwidth\": 2, \"linecolor\": \"white\", \"showbackground\": true, \"ticks\": \"\", \"zerolinecolor\": \"white\"}}, \"shapedefaults\": {\"line\": {\"color\": \"#2a3f5f\"}}, \"ternary\": {\"aaxis\": {\"gridcolor\": \"white\", \"linecolor\": \"white\", \"ticks\": \"\"}, \"baxis\": {\"gridcolor\": \"white\", \"linecolor\": \"white\", \"ticks\": \"\"}, \"bgcolor\": \"#E5ECF6\", \"caxis\": {\"gridcolor\": \"white\", \"linecolor\": \"white\", \"ticks\": \"\"}}, \"title\": {\"x\": 0.05}, \"xaxis\": {\"automargin\": true, \"gridcolor\": \"white\", \"linecolor\": \"white\", \"ticks\": \"\", \"zerolinecolor\": \"white\", \"zerolinewidth\": 2}, \"yaxis\": {\"automargin\": true, \"gridcolor\": \"white\", \"linecolor\": \"white\", \"ticks\": \"\", \"zerolinecolor\": \"white\", \"zerolinewidth\": 2}}}, \"title\": {\"text\": \"Sales funnel for group A\", \"x\": 0.5, \"xanchor\": \"center\", \"y\": 0.9, \"yanchor\": \"top\"}},\n",
       "                        {\"responsive\": true}\n",
       "                    ).then(function(){\n",
       "                            \n",
       "var gd = document.getElementById('da19b11b-a723-446c-8e11-dc697d28364d');\n",
       "var x = new MutationObserver(function (mutations, observer) {{\n",
       "        var display = window.getComputedStyle(gd).display;\n",
       "        if (!display || display === 'none') {{\n",
       "            console.log([gd, 'removed!']);\n",
       "            Plotly.purge(gd);\n",
       "            observer.disconnect();\n",
       "        }}\n",
       "}});\n",
       "\n",
       "// Listen for the removal of the full notebook cells\n",
       "var notebookContainer = gd.closest('#notebook-container');\n",
       "if (notebookContainer) {{\n",
       "    x.observe(notebookContainer, {childList: true});\n",
       "}}\n",
       "\n",
       "// Listen for the clearing of the current output cell\n",
       "var outputEl = gd.closest('.output');\n",
       "if (outputEl) {{\n",
       "    x.observe(outputEl, {childList: true});\n",
       "}}\n",
       "\n",
       "                        })\n",
       "                };\n",
       "                });\n",
       "            </script>\n",
       "        </div>"
      ]
     },
     "metadata": {},
     "output_type": "display_data"
    }
   ],
   "source": [
    "#visualize the funnel\n",
    "fig_A = go.Figure(go.Funnel(\n",
    "    y=[\"login\", \"product_page\", \"product_cart\", \"purchase\"],\n",
    "    x=[n_login_A, n_product_A,  n_cart_A, n_purchase_A],\n",
    "    textposition=\"inside\",\n",
    "    textinfo=\"value+percent initial\"\n",
    "))\n",
    "\n",
    "fig_A.update_layout(title={\n",
    "    'text': \"Sales funnel for group A\",\n",
    "    'y': 0.9,\n",
    "    'x': 0.5,\n",
    "    'xanchor': 'center',\n",
    "    'yanchor': 'top'})\n",
    "\n",
    "fig_A.show()"
   ]
  },
  {
   "cell_type": "markdown",
   "metadata": {},
   "source": [
    "From the above we can see, among the total users in the group (2082), 65% went to product_page, then 15% went to product_cart, and finally 1.7% of the initial users went to purchase. \n",
    "\n",
    "Next, let's take a look at group B. "
   ]
  },
  {
   "cell_type": "code",
   "execution_count": 84,
   "metadata": {},
   "outputs": [
    {
     "name": "stdout",
     "output_type": "stream",
     "text": [
      "login: 706\n",
      "product_page: 397\n",
      "product_cart: 83\n",
      "purchase: 9\n"
     ]
    }
   ],
   "source": [
    "#checking the login to purchase funnel for group A\n",
    "users_B = recommender_B.pivot_table(\n",
    "    index='user_id', \n",
    "    columns='event_name', \n",
    "    values='event_dt',\n",
    "    aggfunc='min') \n",
    "\n",
    "step_1 = ~users_B['login'].isna()\n",
    "step_2 = step_1 & (users_B['product_page'] >= users_B['login'])\n",
    "step_3 = step_2 & (users_B['product_cart'] >= users_B['product_page'])\n",
    "step_4 = step_3 & (users_B['purchase'] >= users_B['product_cart'])\n",
    "\n",
    "n_login_B = users_B[step_1].shape[0]\n",
    "n_product_B = users_B[step_2].shape[0]\n",
    "n_cart_B = users_B[step_3].shape[0]\n",
    "n_purchase_B = users_B[step_4].shape[0]\n",
    "\n",
    "print('login:', n_login_B)\n",
    "print('product_page:', n_product_B)\n",
    "print('product_cart:', n_cart_B)\n",
    "print('purchase:', n_purchase_B) "
   ]
  },
  {
   "cell_type": "code",
   "execution_count": 85,
   "metadata": {},
   "outputs": [
    {
     "data": {
      "application/vnd.plotly.v1+json": {
       "config": {
        "plotlyServerURL": "https://plot.ly"
       },
       "data": [
        {
         "textinfo": "value+percent initial",
         "textposition": "inside",
         "type": "funnel",
         "x": [
          706,
          397,
          83,
          9
         ],
         "y": [
          "login",
          "product_page",
          "product_cart",
          "purchase"
         ]
        }
       ],
       "layout": {
        "template": {
         "data": {
          "bar": [
           {
            "error_x": {
             "color": "#2a3f5f"
            },
            "error_y": {
             "color": "#2a3f5f"
            },
            "marker": {
             "line": {
              "color": "#E5ECF6",
              "width": 0.5
             }
            },
            "type": "bar"
           }
          ],
          "barpolar": [
           {
            "marker": {
             "line": {
              "color": "#E5ECF6",
              "width": 0.5
             }
            },
            "type": "barpolar"
           }
          ],
          "carpet": [
           {
            "aaxis": {
             "endlinecolor": "#2a3f5f",
             "gridcolor": "white",
             "linecolor": "white",
             "minorgridcolor": "white",
             "startlinecolor": "#2a3f5f"
            },
            "baxis": {
             "endlinecolor": "#2a3f5f",
             "gridcolor": "white",
             "linecolor": "white",
             "minorgridcolor": "white",
             "startlinecolor": "#2a3f5f"
            },
            "type": "carpet"
           }
          ],
          "choropleth": [
           {
            "colorbar": {
             "outlinewidth": 0,
             "ticks": ""
            },
            "type": "choropleth"
           }
          ],
          "contour": [
           {
            "colorbar": {
             "outlinewidth": 0,
             "ticks": ""
            },
            "colorscale": [
             [
              0,
              "#0d0887"
             ],
             [
              0.1111111111111111,
              "#46039f"
             ],
             [
              0.2222222222222222,
              "#7201a8"
             ],
             [
              0.3333333333333333,
              "#9c179e"
             ],
             [
              0.4444444444444444,
              "#bd3786"
             ],
             [
              0.5555555555555556,
              "#d8576b"
             ],
             [
              0.6666666666666666,
              "#ed7953"
             ],
             [
              0.7777777777777778,
              "#fb9f3a"
             ],
             [
              0.8888888888888888,
              "#fdca26"
             ],
             [
              1,
              "#f0f921"
             ]
            ],
            "type": "contour"
           }
          ],
          "contourcarpet": [
           {
            "colorbar": {
             "outlinewidth": 0,
             "ticks": ""
            },
            "type": "contourcarpet"
           }
          ],
          "heatmap": [
           {
            "colorbar": {
             "outlinewidth": 0,
             "ticks": ""
            },
            "colorscale": [
             [
              0,
              "#0d0887"
             ],
             [
              0.1111111111111111,
              "#46039f"
             ],
             [
              0.2222222222222222,
              "#7201a8"
             ],
             [
              0.3333333333333333,
              "#9c179e"
             ],
             [
              0.4444444444444444,
              "#bd3786"
             ],
             [
              0.5555555555555556,
              "#d8576b"
             ],
             [
              0.6666666666666666,
              "#ed7953"
             ],
             [
              0.7777777777777778,
              "#fb9f3a"
             ],
             [
              0.8888888888888888,
              "#fdca26"
             ],
             [
              1,
              "#f0f921"
             ]
            ],
            "type": "heatmap"
           }
          ],
          "heatmapgl": [
           {
            "colorbar": {
             "outlinewidth": 0,
             "ticks": ""
            },
            "colorscale": [
             [
              0,
              "#0d0887"
             ],
             [
              0.1111111111111111,
              "#46039f"
             ],
             [
              0.2222222222222222,
              "#7201a8"
             ],
             [
              0.3333333333333333,
              "#9c179e"
             ],
             [
              0.4444444444444444,
              "#bd3786"
             ],
             [
              0.5555555555555556,
              "#d8576b"
             ],
             [
              0.6666666666666666,
              "#ed7953"
             ],
             [
              0.7777777777777778,
              "#fb9f3a"
             ],
             [
              0.8888888888888888,
              "#fdca26"
             ],
             [
              1,
              "#f0f921"
             ]
            ],
            "type": "heatmapgl"
           }
          ],
          "histogram": [
           {
            "marker": {
             "colorbar": {
              "outlinewidth": 0,
              "ticks": ""
             }
            },
            "type": "histogram"
           }
          ],
          "histogram2d": [
           {
            "colorbar": {
             "outlinewidth": 0,
             "ticks": ""
            },
            "colorscale": [
             [
              0,
              "#0d0887"
             ],
             [
              0.1111111111111111,
              "#46039f"
             ],
             [
              0.2222222222222222,
              "#7201a8"
             ],
             [
              0.3333333333333333,
              "#9c179e"
             ],
             [
              0.4444444444444444,
              "#bd3786"
             ],
             [
              0.5555555555555556,
              "#d8576b"
             ],
             [
              0.6666666666666666,
              "#ed7953"
             ],
             [
              0.7777777777777778,
              "#fb9f3a"
             ],
             [
              0.8888888888888888,
              "#fdca26"
             ],
             [
              1,
              "#f0f921"
             ]
            ],
            "type": "histogram2d"
           }
          ],
          "histogram2dcontour": [
           {
            "colorbar": {
             "outlinewidth": 0,
             "ticks": ""
            },
            "colorscale": [
             [
              0,
              "#0d0887"
             ],
             [
              0.1111111111111111,
              "#46039f"
             ],
             [
              0.2222222222222222,
              "#7201a8"
             ],
             [
              0.3333333333333333,
              "#9c179e"
             ],
             [
              0.4444444444444444,
              "#bd3786"
             ],
             [
              0.5555555555555556,
              "#d8576b"
             ],
             [
              0.6666666666666666,
              "#ed7953"
             ],
             [
              0.7777777777777778,
              "#fb9f3a"
             ],
             [
              0.8888888888888888,
              "#fdca26"
             ],
             [
              1,
              "#f0f921"
             ]
            ],
            "type": "histogram2dcontour"
           }
          ],
          "mesh3d": [
           {
            "colorbar": {
             "outlinewidth": 0,
             "ticks": ""
            },
            "type": "mesh3d"
           }
          ],
          "parcoords": [
           {
            "line": {
             "colorbar": {
              "outlinewidth": 0,
              "ticks": ""
             }
            },
            "type": "parcoords"
           }
          ],
          "scatter": [
           {
            "marker": {
             "colorbar": {
              "outlinewidth": 0,
              "ticks": ""
             }
            },
            "type": "scatter"
           }
          ],
          "scatter3d": [
           {
            "line": {
             "colorbar": {
              "outlinewidth": 0,
              "ticks": ""
             }
            },
            "marker": {
             "colorbar": {
              "outlinewidth": 0,
              "ticks": ""
             }
            },
            "type": "scatter3d"
           }
          ],
          "scattercarpet": [
           {
            "marker": {
             "colorbar": {
              "outlinewidth": 0,
              "ticks": ""
             }
            },
            "type": "scattercarpet"
           }
          ],
          "scattergeo": [
           {
            "marker": {
             "colorbar": {
              "outlinewidth": 0,
              "ticks": ""
             }
            },
            "type": "scattergeo"
           }
          ],
          "scattergl": [
           {
            "marker": {
             "colorbar": {
              "outlinewidth": 0,
              "ticks": ""
             }
            },
            "type": "scattergl"
           }
          ],
          "scattermapbox": [
           {
            "marker": {
             "colorbar": {
              "outlinewidth": 0,
              "ticks": ""
             }
            },
            "type": "scattermapbox"
           }
          ],
          "scatterpolar": [
           {
            "marker": {
             "colorbar": {
              "outlinewidth": 0,
              "ticks": ""
             }
            },
            "type": "scatterpolar"
           }
          ],
          "scatterpolargl": [
           {
            "marker": {
             "colorbar": {
              "outlinewidth": 0,
              "ticks": ""
             }
            },
            "type": "scatterpolargl"
           }
          ],
          "scatterternary": [
           {
            "marker": {
             "colorbar": {
              "outlinewidth": 0,
              "ticks": ""
             }
            },
            "type": "scatterternary"
           }
          ],
          "surface": [
           {
            "colorbar": {
             "outlinewidth": 0,
             "ticks": ""
            },
            "colorscale": [
             [
              0,
              "#0d0887"
             ],
             [
              0.1111111111111111,
              "#46039f"
             ],
             [
              0.2222222222222222,
              "#7201a8"
             ],
             [
              0.3333333333333333,
              "#9c179e"
             ],
             [
              0.4444444444444444,
              "#bd3786"
             ],
             [
              0.5555555555555556,
              "#d8576b"
             ],
             [
              0.6666666666666666,
              "#ed7953"
             ],
             [
              0.7777777777777778,
              "#fb9f3a"
             ],
             [
              0.8888888888888888,
              "#fdca26"
             ],
             [
              1,
              "#f0f921"
             ]
            ],
            "type": "surface"
           }
          ],
          "table": [
           {
            "cells": {
             "fill": {
              "color": "#EBF0F8"
             },
             "line": {
              "color": "white"
             }
            },
            "header": {
             "fill": {
              "color": "#C8D4E3"
             },
             "line": {
              "color": "white"
             }
            },
            "type": "table"
           }
          ]
         },
         "layout": {
          "annotationdefaults": {
           "arrowcolor": "#2a3f5f",
           "arrowhead": 0,
           "arrowwidth": 1
          },
          "colorscale": {
           "diverging": [
            [
             0,
             "#8e0152"
            ],
            [
             0.1,
             "#c51b7d"
            ],
            [
             0.2,
             "#de77ae"
            ],
            [
             0.3,
             "#f1b6da"
            ],
            [
             0.4,
             "#fde0ef"
            ],
            [
             0.5,
             "#f7f7f7"
            ],
            [
             0.6,
             "#e6f5d0"
            ],
            [
             0.7,
             "#b8e186"
            ],
            [
             0.8,
             "#7fbc41"
            ],
            [
             0.9,
             "#4d9221"
            ],
            [
             1,
             "#276419"
            ]
           ],
           "sequential": [
            [
             0,
             "#0d0887"
            ],
            [
             0.1111111111111111,
             "#46039f"
            ],
            [
             0.2222222222222222,
             "#7201a8"
            ],
            [
             0.3333333333333333,
             "#9c179e"
            ],
            [
             0.4444444444444444,
             "#bd3786"
            ],
            [
             0.5555555555555556,
             "#d8576b"
            ],
            [
             0.6666666666666666,
             "#ed7953"
            ],
            [
             0.7777777777777778,
             "#fb9f3a"
            ],
            [
             0.8888888888888888,
             "#fdca26"
            ],
            [
             1,
             "#f0f921"
            ]
           ],
           "sequentialminus": [
            [
             0,
             "#0d0887"
            ],
            [
             0.1111111111111111,
             "#46039f"
            ],
            [
             0.2222222222222222,
             "#7201a8"
            ],
            [
             0.3333333333333333,
             "#9c179e"
            ],
            [
             0.4444444444444444,
             "#bd3786"
            ],
            [
             0.5555555555555556,
             "#d8576b"
            ],
            [
             0.6666666666666666,
             "#ed7953"
            ],
            [
             0.7777777777777778,
             "#fb9f3a"
            ],
            [
             0.8888888888888888,
             "#fdca26"
            ],
            [
             1,
             "#f0f921"
            ]
           ]
          },
          "colorway": [
           "#636efa",
           "#EF553B",
           "#00cc96",
           "#ab63fa",
           "#FFA15A",
           "#19d3f3",
           "#FF6692",
           "#B6E880",
           "#FF97FF",
           "#FECB52"
          ],
          "font": {
           "color": "#2a3f5f"
          },
          "geo": {
           "bgcolor": "white",
           "lakecolor": "white",
           "landcolor": "#E5ECF6",
           "showlakes": true,
           "showland": true,
           "subunitcolor": "white"
          },
          "hoverlabel": {
           "align": "left"
          },
          "hovermode": "closest",
          "mapbox": {
           "style": "light"
          },
          "paper_bgcolor": "white",
          "plot_bgcolor": "#E5ECF6",
          "polar": {
           "angularaxis": {
            "gridcolor": "white",
            "linecolor": "white",
            "ticks": ""
           },
           "bgcolor": "#E5ECF6",
           "radialaxis": {
            "gridcolor": "white",
            "linecolor": "white",
            "ticks": ""
           }
          },
          "scene": {
           "xaxis": {
            "backgroundcolor": "#E5ECF6",
            "gridcolor": "white",
            "gridwidth": 2,
            "linecolor": "white",
            "showbackground": true,
            "ticks": "",
            "zerolinecolor": "white"
           },
           "yaxis": {
            "backgroundcolor": "#E5ECF6",
            "gridcolor": "white",
            "gridwidth": 2,
            "linecolor": "white",
            "showbackground": true,
            "ticks": "",
            "zerolinecolor": "white"
           },
           "zaxis": {
            "backgroundcolor": "#E5ECF6",
            "gridcolor": "white",
            "gridwidth": 2,
            "linecolor": "white",
            "showbackground": true,
            "ticks": "",
            "zerolinecolor": "white"
           }
          },
          "shapedefaults": {
           "line": {
            "color": "#2a3f5f"
           }
          },
          "ternary": {
           "aaxis": {
            "gridcolor": "white",
            "linecolor": "white",
            "ticks": ""
           },
           "baxis": {
            "gridcolor": "white",
            "linecolor": "white",
            "ticks": ""
           },
           "bgcolor": "#E5ECF6",
           "caxis": {
            "gridcolor": "white",
            "linecolor": "white",
            "ticks": ""
           }
          },
          "title": {
           "x": 0.05
          },
          "xaxis": {
           "automargin": true,
           "gridcolor": "white",
           "linecolor": "white",
           "ticks": "",
           "zerolinecolor": "white",
           "zerolinewidth": 2
          },
          "yaxis": {
           "automargin": true,
           "gridcolor": "white",
           "linecolor": "white",
           "ticks": "",
           "zerolinecolor": "white",
           "zerolinewidth": 2
          }
         }
        },
        "title": {
         "text": "Sales funnel for group B",
         "x": 0.5,
         "xanchor": "center",
         "y": 0.9,
         "yanchor": "top"
        }
       }
      },
      "text/html": [
       "<div>\n",
       "        \n",
       "        \n",
       "            <div id=\"cc6659a0-5991-4ae0-86f4-53e150b2c90a\" class=\"plotly-graph-div\" style=\"height:525px; width:100%;\"></div>\n",
       "            <script type=\"text/javascript\">\n",
       "                require([\"plotly\"], function(Plotly) {\n",
       "                    window.PLOTLYENV=window.PLOTLYENV || {};\n",
       "                    \n",
       "                if (document.getElementById(\"cc6659a0-5991-4ae0-86f4-53e150b2c90a\")) {\n",
       "                    Plotly.newPlot(\n",
       "                        'cc6659a0-5991-4ae0-86f4-53e150b2c90a',\n",
       "                        [{\"textinfo\": \"value+percent initial\", \"textposition\": \"inside\", \"type\": \"funnel\", \"x\": [706, 397, 83, 9], \"y\": [\"login\", \"product_page\", \"product_cart\", \"purchase\"]}],\n",
       "                        {\"template\": {\"data\": {\"bar\": [{\"error_x\": {\"color\": \"#2a3f5f\"}, \"error_y\": {\"color\": \"#2a3f5f\"}, \"marker\": {\"line\": {\"color\": \"#E5ECF6\", \"width\": 0.5}}, \"type\": \"bar\"}], \"barpolar\": [{\"marker\": {\"line\": {\"color\": \"#E5ECF6\", \"width\": 0.5}}, \"type\": \"barpolar\"}], \"carpet\": [{\"aaxis\": {\"endlinecolor\": \"#2a3f5f\", \"gridcolor\": \"white\", \"linecolor\": \"white\", \"minorgridcolor\": \"white\", \"startlinecolor\": \"#2a3f5f\"}, \"baxis\": {\"endlinecolor\": \"#2a3f5f\", \"gridcolor\": \"white\", \"linecolor\": \"white\", \"minorgridcolor\": \"white\", \"startlinecolor\": \"#2a3f5f\"}, \"type\": \"carpet\"}], \"choropleth\": [{\"colorbar\": {\"outlinewidth\": 0, \"ticks\": \"\"}, \"type\": \"choropleth\"}], \"contour\": [{\"colorbar\": {\"outlinewidth\": 0, \"ticks\": \"\"}, \"colorscale\": [[0.0, \"#0d0887\"], [0.1111111111111111, \"#46039f\"], [0.2222222222222222, \"#7201a8\"], [0.3333333333333333, \"#9c179e\"], [0.4444444444444444, \"#bd3786\"], [0.5555555555555556, \"#d8576b\"], [0.6666666666666666, \"#ed7953\"], [0.7777777777777778, \"#fb9f3a\"], [0.8888888888888888, \"#fdca26\"], [1.0, \"#f0f921\"]], \"type\": \"contour\"}], \"contourcarpet\": [{\"colorbar\": {\"outlinewidth\": 0, \"ticks\": \"\"}, \"type\": \"contourcarpet\"}], \"heatmap\": [{\"colorbar\": {\"outlinewidth\": 0, \"ticks\": \"\"}, \"colorscale\": [[0.0, \"#0d0887\"], [0.1111111111111111, \"#46039f\"], [0.2222222222222222, \"#7201a8\"], [0.3333333333333333, \"#9c179e\"], [0.4444444444444444, \"#bd3786\"], [0.5555555555555556, \"#d8576b\"], [0.6666666666666666, \"#ed7953\"], [0.7777777777777778, \"#fb9f3a\"], [0.8888888888888888, \"#fdca26\"], [1.0, \"#f0f921\"]], \"type\": \"heatmap\"}], \"heatmapgl\": [{\"colorbar\": {\"outlinewidth\": 0, \"ticks\": \"\"}, \"colorscale\": [[0.0, \"#0d0887\"], [0.1111111111111111, \"#46039f\"], [0.2222222222222222, \"#7201a8\"], [0.3333333333333333, \"#9c179e\"], [0.4444444444444444, \"#bd3786\"], [0.5555555555555556, \"#d8576b\"], [0.6666666666666666, \"#ed7953\"], [0.7777777777777778, \"#fb9f3a\"], [0.8888888888888888, \"#fdca26\"], [1.0, \"#f0f921\"]], \"type\": \"heatmapgl\"}], \"histogram\": [{\"marker\": {\"colorbar\": {\"outlinewidth\": 0, \"ticks\": \"\"}}, \"type\": \"histogram\"}], \"histogram2d\": [{\"colorbar\": {\"outlinewidth\": 0, \"ticks\": \"\"}, \"colorscale\": [[0.0, \"#0d0887\"], [0.1111111111111111, \"#46039f\"], [0.2222222222222222, \"#7201a8\"], [0.3333333333333333, \"#9c179e\"], [0.4444444444444444, \"#bd3786\"], [0.5555555555555556, \"#d8576b\"], [0.6666666666666666, \"#ed7953\"], [0.7777777777777778, \"#fb9f3a\"], [0.8888888888888888, \"#fdca26\"], [1.0, \"#f0f921\"]], \"type\": \"histogram2d\"}], \"histogram2dcontour\": [{\"colorbar\": {\"outlinewidth\": 0, \"ticks\": \"\"}, \"colorscale\": [[0.0, \"#0d0887\"], [0.1111111111111111, \"#46039f\"], [0.2222222222222222, \"#7201a8\"], [0.3333333333333333, \"#9c179e\"], [0.4444444444444444, \"#bd3786\"], [0.5555555555555556, \"#d8576b\"], [0.6666666666666666, \"#ed7953\"], [0.7777777777777778, \"#fb9f3a\"], [0.8888888888888888, \"#fdca26\"], [1.0, \"#f0f921\"]], \"type\": \"histogram2dcontour\"}], \"mesh3d\": [{\"colorbar\": {\"outlinewidth\": 0, \"ticks\": \"\"}, \"type\": \"mesh3d\"}], \"parcoords\": [{\"line\": {\"colorbar\": {\"outlinewidth\": 0, \"ticks\": \"\"}}, \"type\": \"parcoords\"}], \"scatter\": [{\"marker\": {\"colorbar\": {\"outlinewidth\": 0, \"ticks\": \"\"}}, \"type\": \"scatter\"}], \"scatter3d\": [{\"line\": {\"colorbar\": {\"outlinewidth\": 0, \"ticks\": \"\"}}, \"marker\": {\"colorbar\": {\"outlinewidth\": 0, \"ticks\": \"\"}}, \"type\": \"scatter3d\"}], \"scattercarpet\": [{\"marker\": {\"colorbar\": {\"outlinewidth\": 0, \"ticks\": \"\"}}, \"type\": \"scattercarpet\"}], \"scattergeo\": [{\"marker\": {\"colorbar\": {\"outlinewidth\": 0, \"ticks\": \"\"}}, \"type\": \"scattergeo\"}], \"scattergl\": [{\"marker\": {\"colorbar\": {\"outlinewidth\": 0, \"ticks\": \"\"}}, \"type\": \"scattergl\"}], \"scattermapbox\": [{\"marker\": {\"colorbar\": {\"outlinewidth\": 0, \"ticks\": \"\"}}, \"type\": \"scattermapbox\"}], \"scatterpolar\": [{\"marker\": {\"colorbar\": {\"outlinewidth\": 0, \"ticks\": \"\"}}, \"type\": \"scatterpolar\"}], \"scatterpolargl\": [{\"marker\": {\"colorbar\": {\"outlinewidth\": 0, \"ticks\": \"\"}}, \"type\": \"scatterpolargl\"}], \"scatterternary\": [{\"marker\": {\"colorbar\": {\"outlinewidth\": 0, \"ticks\": \"\"}}, \"type\": \"scatterternary\"}], \"surface\": [{\"colorbar\": {\"outlinewidth\": 0, \"ticks\": \"\"}, \"colorscale\": [[0.0, \"#0d0887\"], [0.1111111111111111, \"#46039f\"], [0.2222222222222222, \"#7201a8\"], [0.3333333333333333, \"#9c179e\"], [0.4444444444444444, \"#bd3786\"], [0.5555555555555556, \"#d8576b\"], [0.6666666666666666, \"#ed7953\"], [0.7777777777777778, \"#fb9f3a\"], [0.8888888888888888, \"#fdca26\"], [1.0, \"#f0f921\"]], \"type\": \"surface\"}], \"table\": [{\"cells\": {\"fill\": {\"color\": \"#EBF0F8\"}, \"line\": {\"color\": \"white\"}}, \"header\": {\"fill\": {\"color\": \"#C8D4E3\"}, \"line\": {\"color\": \"white\"}}, \"type\": \"table\"}]}, \"layout\": {\"annotationdefaults\": {\"arrowcolor\": \"#2a3f5f\", \"arrowhead\": 0, \"arrowwidth\": 1}, \"colorscale\": {\"diverging\": [[0, \"#8e0152\"], [0.1, \"#c51b7d\"], [0.2, \"#de77ae\"], [0.3, \"#f1b6da\"], [0.4, \"#fde0ef\"], [0.5, \"#f7f7f7\"], [0.6, \"#e6f5d0\"], [0.7, \"#b8e186\"], [0.8, \"#7fbc41\"], [0.9, \"#4d9221\"], [1, \"#276419\"]], \"sequential\": [[0.0, \"#0d0887\"], [0.1111111111111111, \"#46039f\"], [0.2222222222222222, \"#7201a8\"], [0.3333333333333333, \"#9c179e\"], [0.4444444444444444, \"#bd3786\"], [0.5555555555555556, \"#d8576b\"], [0.6666666666666666, \"#ed7953\"], [0.7777777777777778, \"#fb9f3a\"], [0.8888888888888888, \"#fdca26\"], [1.0, \"#f0f921\"]], \"sequentialminus\": [[0.0, \"#0d0887\"], [0.1111111111111111, \"#46039f\"], [0.2222222222222222, \"#7201a8\"], [0.3333333333333333, \"#9c179e\"], [0.4444444444444444, \"#bd3786\"], [0.5555555555555556, \"#d8576b\"], [0.6666666666666666, \"#ed7953\"], [0.7777777777777778, \"#fb9f3a\"], [0.8888888888888888, \"#fdca26\"], [1.0, \"#f0f921\"]]}, \"colorway\": [\"#636efa\", \"#EF553B\", \"#00cc96\", \"#ab63fa\", \"#FFA15A\", \"#19d3f3\", \"#FF6692\", \"#B6E880\", \"#FF97FF\", \"#FECB52\"], \"font\": {\"color\": \"#2a3f5f\"}, \"geo\": {\"bgcolor\": \"white\", \"lakecolor\": \"white\", \"landcolor\": \"#E5ECF6\", \"showlakes\": true, \"showland\": true, \"subunitcolor\": \"white\"}, \"hoverlabel\": {\"align\": \"left\"}, \"hovermode\": \"closest\", \"mapbox\": {\"style\": \"light\"}, \"paper_bgcolor\": \"white\", \"plot_bgcolor\": \"#E5ECF6\", \"polar\": {\"angularaxis\": {\"gridcolor\": \"white\", \"linecolor\": \"white\", \"ticks\": \"\"}, \"bgcolor\": \"#E5ECF6\", \"radialaxis\": {\"gridcolor\": \"white\", \"linecolor\": \"white\", \"ticks\": \"\"}}, \"scene\": {\"xaxis\": {\"backgroundcolor\": \"#E5ECF6\", \"gridcolor\": \"white\", \"gridwidth\": 2, \"linecolor\": \"white\", \"showbackground\": true, \"ticks\": \"\", \"zerolinecolor\": \"white\"}, \"yaxis\": {\"backgroundcolor\": \"#E5ECF6\", \"gridcolor\": \"white\", \"gridwidth\": 2, \"linecolor\": \"white\", \"showbackground\": true, \"ticks\": \"\", \"zerolinecolor\": \"white\"}, \"zaxis\": {\"backgroundcolor\": \"#E5ECF6\", \"gridcolor\": \"white\", \"gridwidth\": 2, \"linecolor\": \"white\", \"showbackground\": true, \"ticks\": \"\", \"zerolinecolor\": \"white\"}}, \"shapedefaults\": {\"line\": {\"color\": \"#2a3f5f\"}}, \"ternary\": {\"aaxis\": {\"gridcolor\": \"white\", \"linecolor\": \"white\", \"ticks\": \"\"}, \"baxis\": {\"gridcolor\": \"white\", \"linecolor\": \"white\", \"ticks\": \"\"}, \"bgcolor\": \"#E5ECF6\", \"caxis\": {\"gridcolor\": \"white\", \"linecolor\": \"white\", \"ticks\": \"\"}}, \"title\": {\"x\": 0.05}, \"xaxis\": {\"automargin\": true, \"gridcolor\": \"white\", \"linecolor\": \"white\", \"ticks\": \"\", \"zerolinecolor\": \"white\", \"zerolinewidth\": 2}, \"yaxis\": {\"automargin\": true, \"gridcolor\": \"white\", \"linecolor\": \"white\", \"ticks\": \"\", \"zerolinecolor\": \"white\", \"zerolinewidth\": 2}}}, \"title\": {\"text\": \"Sales funnel for group B\", \"x\": 0.5, \"xanchor\": \"center\", \"y\": 0.9, \"yanchor\": \"top\"}},\n",
       "                        {\"responsive\": true}\n",
       "                    ).then(function(){\n",
       "                            \n",
       "var gd = document.getElementById('cc6659a0-5991-4ae0-86f4-53e150b2c90a');\n",
       "var x = new MutationObserver(function (mutations, observer) {{\n",
       "        var display = window.getComputedStyle(gd).display;\n",
       "        if (!display || display === 'none') {{\n",
       "            console.log([gd, 'removed!']);\n",
       "            Plotly.purge(gd);\n",
       "            observer.disconnect();\n",
       "        }}\n",
       "}});\n",
       "\n",
       "// Listen for the removal of the full notebook cells\n",
       "var notebookContainer = gd.closest('#notebook-container');\n",
       "if (notebookContainer) {{\n",
       "    x.observe(notebookContainer, {childList: true});\n",
       "}}\n",
       "\n",
       "// Listen for the clearing of the current output cell\n",
       "var outputEl = gd.closest('.output');\n",
       "if (outputEl) {{\n",
       "    x.observe(outputEl, {childList: true});\n",
       "}}\n",
       "\n",
       "                        })\n",
       "                };\n",
       "                });\n",
       "            </script>\n",
       "        </div>"
      ]
     },
     "metadata": {},
     "output_type": "display_data"
    }
   ],
   "source": [
    "fig_B = go.Figure(go.Funnel(\n",
    "    y=[\"login\", \"product_page\", \"product_cart\", \"purchase\"],\n",
    "    x=[n_login_B, n_product_B,  n_cart_B, n_purchase_B],\n",
    "    textposition=\"inside\",\n",
    "    textinfo=\"value+percent initial\"\n",
    "))\n",
    "\n",
    "fig_B.update_layout(title={\n",
    "    'text': \"Sales funnel for group B\",\n",
    "    'y': 0.9,\n",
    "    'x': 0.5,\n",
    "    'xanchor': 'center',\n",
    "    'yanchor': 'top'})\n",
    "\n",
    "fig_B.show()"
   ]
  },
  {
   "cell_type": "markdown",
   "metadata": {},
   "source": [
    "From the above we can see that among the 706 initial users, 56% went to product_page, 12% went to product_cart, and finally, 1.3% went to purchase. \n",
    "\n",
    "A statistical testing will be carried out in the next section to see if the conversion rates are statistically different between the two groups. "
   ]
  },
  {
   "cell_type": "markdown",
   "metadata": {},
   "source": [
    "**Simple funnel**"
   ]
  },
  {
   "cell_type": "markdown",
   "metadata": {},
   "source": [
    "Let's first calculate the unique users arriving at each stage for group A."
   ]
  },
  {
   "cell_type": "code",
   "execution_count": 86,
   "metadata": {},
   "outputs": [
    {
     "name": "stdout",
     "output_type": "stream",
     "text": [
      "login: 2082\n",
      "product_page: 1360\n",
      "product_cart: 631\n",
      "purchase: 652\n"
     ]
    },
    {
     "data": {
      "application/vnd.plotly.v1+json": {
       "config": {
        "plotlyServerURL": "https://plot.ly"
       },
       "data": [
        {
         "textinfo": "value+percent initial",
         "textposition": "inside",
         "type": "funnel",
         "x": [
          2082,
          1360,
          631,
          652
         ],
         "y": [
          "login",
          "product_page",
          "product_cart",
          "purchase"
         ]
        }
       ],
       "layout": {
        "template": {
         "data": {
          "bar": [
           {
            "error_x": {
             "color": "#2a3f5f"
            },
            "error_y": {
             "color": "#2a3f5f"
            },
            "marker": {
             "line": {
              "color": "#E5ECF6",
              "width": 0.5
             }
            },
            "type": "bar"
           }
          ],
          "barpolar": [
           {
            "marker": {
             "line": {
              "color": "#E5ECF6",
              "width": 0.5
             }
            },
            "type": "barpolar"
           }
          ],
          "carpet": [
           {
            "aaxis": {
             "endlinecolor": "#2a3f5f",
             "gridcolor": "white",
             "linecolor": "white",
             "minorgridcolor": "white",
             "startlinecolor": "#2a3f5f"
            },
            "baxis": {
             "endlinecolor": "#2a3f5f",
             "gridcolor": "white",
             "linecolor": "white",
             "minorgridcolor": "white",
             "startlinecolor": "#2a3f5f"
            },
            "type": "carpet"
           }
          ],
          "choropleth": [
           {
            "colorbar": {
             "outlinewidth": 0,
             "ticks": ""
            },
            "type": "choropleth"
           }
          ],
          "contour": [
           {
            "colorbar": {
             "outlinewidth": 0,
             "ticks": ""
            },
            "colorscale": [
             [
              0,
              "#0d0887"
             ],
             [
              0.1111111111111111,
              "#46039f"
             ],
             [
              0.2222222222222222,
              "#7201a8"
             ],
             [
              0.3333333333333333,
              "#9c179e"
             ],
             [
              0.4444444444444444,
              "#bd3786"
             ],
             [
              0.5555555555555556,
              "#d8576b"
             ],
             [
              0.6666666666666666,
              "#ed7953"
             ],
             [
              0.7777777777777778,
              "#fb9f3a"
             ],
             [
              0.8888888888888888,
              "#fdca26"
             ],
             [
              1,
              "#f0f921"
             ]
            ],
            "type": "contour"
           }
          ],
          "contourcarpet": [
           {
            "colorbar": {
             "outlinewidth": 0,
             "ticks": ""
            },
            "type": "contourcarpet"
           }
          ],
          "heatmap": [
           {
            "colorbar": {
             "outlinewidth": 0,
             "ticks": ""
            },
            "colorscale": [
             [
              0,
              "#0d0887"
             ],
             [
              0.1111111111111111,
              "#46039f"
             ],
             [
              0.2222222222222222,
              "#7201a8"
             ],
             [
              0.3333333333333333,
              "#9c179e"
             ],
             [
              0.4444444444444444,
              "#bd3786"
             ],
             [
              0.5555555555555556,
              "#d8576b"
             ],
             [
              0.6666666666666666,
              "#ed7953"
             ],
             [
              0.7777777777777778,
              "#fb9f3a"
             ],
             [
              0.8888888888888888,
              "#fdca26"
             ],
             [
              1,
              "#f0f921"
             ]
            ],
            "type": "heatmap"
           }
          ],
          "heatmapgl": [
           {
            "colorbar": {
             "outlinewidth": 0,
             "ticks": ""
            },
            "colorscale": [
             [
              0,
              "#0d0887"
             ],
             [
              0.1111111111111111,
              "#46039f"
             ],
             [
              0.2222222222222222,
              "#7201a8"
             ],
             [
              0.3333333333333333,
              "#9c179e"
             ],
             [
              0.4444444444444444,
              "#bd3786"
             ],
             [
              0.5555555555555556,
              "#d8576b"
             ],
             [
              0.6666666666666666,
              "#ed7953"
             ],
             [
              0.7777777777777778,
              "#fb9f3a"
             ],
             [
              0.8888888888888888,
              "#fdca26"
             ],
             [
              1,
              "#f0f921"
             ]
            ],
            "type": "heatmapgl"
           }
          ],
          "histogram": [
           {
            "marker": {
             "colorbar": {
              "outlinewidth": 0,
              "ticks": ""
             }
            },
            "type": "histogram"
           }
          ],
          "histogram2d": [
           {
            "colorbar": {
             "outlinewidth": 0,
             "ticks": ""
            },
            "colorscale": [
             [
              0,
              "#0d0887"
             ],
             [
              0.1111111111111111,
              "#46039f"
             ],
             [
              0.2222222222222222,
              "#7201a8"
             ],
             [
              0.3333333333333333,
              "#9c179e"
             ],
             [
              0.4444444444444444,
              "#bd3786"
             ],
             [
              0.5555555555555556,
              "#d8576b"
             ],
             [
              0.6666666666666666,
              "#ed7953"
             ],
             [
              0.7777777777777778,
              "#fb9f3a"
             ],
             [
              0.8888888888888888,
              "#fdca26"
             ],
             [
              1,
              "#f0f921"
             ]
            ],
            "type": "histogram2d"
           }
          ],
          "histogram2dcontour": [
           {
            "colorbar": {
             "outlinewidth": 0,
             "ticks": ""
            },
            "colorscale": [
             [
              0,
              "#0d0887"
             ],
             [
              0.1111111111111111,
              "#46039f"
             ],
             [
              0.2222222222222222,
              "#7201a8"
             ],
             [
              0.3333333333333333,
              "#9c179e"
             ],
             [
              0.4444444444444444,
              "#bd3786"
             ],
             [
              0.5555555555555556,
              "#d8576b"
             ],
             [
              0.6666666666666666,
              "#ed7953"
             ],
             [
              0.7777777777777778,
              "#fb9f3a"
             ],
             [
              0.8888888888888888,
              "#fdca26"
             ],
             [
              1,
              "#f0f921"
             ]
            ],
            "type": "histogram2dcontour"
           }
          ],
          "mesh3d": [
           {
            "colorbar": {
             "outlinewidth": 0,
             "ticks": ""
            },
            "type": "mesh3d"
           }
          ],
          "parcoords": [
           {
            "line": {
             "colorbar": {
              "outlinewidth": 0,
              "ticks": ""
             }
            },
            "type": "parcoords"
           }
          ],
          "scatter": [
           {
            "marker": {
             "colorbar": {
              "outlinewidth": 0,
              "ticks": ""
             }
            },
            "type": "scatter"
           }
          ],
          "scatter3d": [
           {
            "line": {
             "colorbar": {
              "outlinewidth": 0,
              "ticks": ""
             }
            },
            "marker": {
             "colorbar": {
              "outlinewidth": 0,
              "ticks": ""
             }
            },
            "type": "scatter3d"
           }
          ],
          "scattercarpet": [
           {
            "marker": {
             "colorbar": {
              "outlinewidth": 0,
              "ticks": ""
             }
            },
            "type": "scattercarpet"
           }
          ],
          "scattergeo": [
           {
            "marker": {
             "colorbar": {
              "outlinewidth": 0,
              "ticks": ""
             }
            },
            "type": "scattergeo"
           }
          ],
          "scattergl": [
           {
            "marker": {
             "colorbar": {
              "outlinewidth": 0,
              "ticks": ""
             }
            },
            "type": "scattergl"
           }
          ],
          "scattermapbox": [
           {
            "marker": {
             "colorbar": {
              "outlinewidth": 0,
              "ticks": ""
             }
            },
            "type": "scattermapbox"
           }
          ],
          "scatterpolar": [
           {
            "marker": {
             "colorbar": {
              "outlinewidth": 0,
              "ticks": ""
             }
            },
            "type": "scatterpolar"
           }
          ],
          "scatterpolargl": [
           {
            "marker": {
             "colorbar": {
              "outlinewidth": 0,
              "ticks": ""
             }
            },
            "type": "scatterpolargl"
           }
          ],
          "scatterternary": [
           {
            "marker": {
             "colorbar": {
              "outlinewidth": 0,
              "ticks": ""
             }
            },
            "type": "scatterternary"
           }
          ],
          "surface": [
           {
            "colorbar": {
             "outlinewidth": 0,
             "ticks": ""
            },
            "colorscale": [
             [
              0,
              "#0d0887"
             ],
             [
              0.1111111111111111,
              "#46039f"
             ],
             [
              0.2222222222222222,
              "#7201a8"
             ],
             [
              0.3333333333333333,
              "#9c179e"
             ],
             [
              0.4444444444444444,
              "#bd3786"
             ],
             [
              0.5555555555555556,
              "#d8576b"
             ],
             [
              0.6666666666666666,
              "#ed7953"
             ],
             [
              0.7777777777777778,
              "#fb9f3a"
             ],
             [
              0.8888888888888888,
              "#fdca26"
             ],
             [
              1,
              "#f0f921"
             ]
            ],
            "type": "surface"
           }
          ],
          "table": [
           {
            "cells": {
             "fill": {
              "color": "#EBF0F8"
             },
             "line": {
              "color": "white"
             }
            },
            "header": {
             "fill": {
              "color": "#C8D4E3"
             },
             "line": {
              "color": "white"
             }
            },
            "type": "table"
           }
          ]
         },
         "layout": {
          "annotationdefaults": {
           "arrowcolor": "#2a3f5f",
           "arrowhead": 0,
           "arrowwidth": 1
          },
          "colorscale": {
           "diverging": [
            [
             0,
             "#8e0152"
            ],
            [
             0.1,
             "#c51b7d"
            ],
            [
             0.2,
             "#de77ae"
            ],
            [
             0.3,
             "#f1b6da"
            ],
            [
             0.4,
             "#fde0ef"
            ],
            [
             0.5,
             "#f7f7f7"
            ],
            [
             0.6,
             "#e6f5d0"
            ],
            [
             0.7,
             "#b8e186"
            ],
            [
             0.8,
             "#7fbc41"
            ],
            [
             0.9,
             "#4d9221"
            ],
            [
             1,
             "#276419"
            ]
           ],
           "sequential": [
            [
             0,
             "#0d0887"
            ],
            [
             0.1111111111111111,
             "#46039f"
            ],
            [
             0.2222222222222222,
             "#7201a8"
            ],
            [
             0.3333333333333333,
             "#9c179e"
            ],
            [
             0.4444444444444444,
             "#bd3786"
            ],
            [
             0.5555555555555556,
             "#d8576b"
            ],
            [
             0.6666666666666666,
             "#ed7953"
            ],
            [
             0.7777777777777778,
             "#fb9f3a"
            ],
            [
             0.8888888888888888,
             "#fdca26"
            ],
            [
             1,
             "#f0f921"
            ]
           ],
           "sequentialminus": [
            [
             0,
             "#0d0887"
            ],
            [
             0.1111111111111111,
             "#46039f"
            ],
            [
             0.2222222222222222,
             "#7201a8"
            ],
            [
             0.3333333333333333,
             "#9c179e"
            ],
            [
             0.4444444444444444,
             "#bd3786"
            ],
            [
             0.5555555555555556,
             "#d8576b"
            ],
            [
             0.6666666666666666,
             "#ed7953"
            ],
            [
             0.7777777777777778,
             "#fb9f3a"
            ],
            [
             0.8888888888888888,
             "#fdca26"
            ],
            [
             1,
             "#f0f921"
            ]
           ]
          },
          "colorway": [
           "#636efa",
           "#EF553B",
           "#00cc96",
           "#ab63fa",
           "#FFA15A",
           "#19d3f3",
           "#FF6692",
           "#B6E880",
           "#FF97FF",
           "#FECB52"
          ],
          "font": {
           "color": "#2a3f5f"
          },
          "geo": {
           "bgcolor": "white",
           "lakecolor": "white",
           "landcolor": "#E5ECF6",
           "showlakes": true,
           "showland": true,
           "subunitcolor": "white"
          },
          "hoverlabel": {
           "align": "left"
          },
          "hovermode": "closest",
          "mapbox": {
           "style": "light"
          },
          "paper_bgcolor": "white",
          "plot_bgcolor": "#E5ECF6",
          "polar": {
           "angularaxis": {
            "gridcolor": "white",
            "linecolor": "white",
            "ticks": ""
           },
           "bgcolor": "#E5ECF6",
           "radialaxis": {
            "gridcolor": "white",
            "linecolor": "white",
            "ticks": ""
           }
          },
          "scene": {
           "xaxis": {
            "backgroundcolor": "#E5ECF6",
            "gridcolor": "white",
            "gridwidth": 2,
            "linecolor": "white",
            "showbackground": true,
            "ticks": "",
            "zerolinecolor": "white"
           },
           "yaxis": {
            "backgroundcolor": "#E5ECF6",
            "gridcolor": "white",
            "gridwidth": 2,
            "linecolor": "white",
            "showbackground": true,
            "ticks": "",
            "zerolinecolor": "white"
           },
           "zaxis": {
            "backgroundcolor": "#E5ECF6",
            "gridcolor": "white",
            "gridwidth": 2,
            "linecolor": "white",
            "showbackground": true,
            "ticks": "",
            "zerolinecolor": "white"
           }
          },
          "shapedefaults": {
           "line": {
            "color": "#2a3f5f"
           }
          },
          "ternary": {
           "aaxis": {
            "gridcolor": "white",
            "linecolor": "white",
            "ticks": ""
           },
           "baxis": {
            "gridcolor": "white",
            "linecolor": "white",
            "ticks": ""
           },
           "bgcolor": "#E5ECF6",
           "caxis": {
            "gridcolor": "white",
            "linecolor": "white",
            "ticks": ""
           }
          },
          "title": {
           "x": 0.05
          },
          "xaxis": {
           "automargin": true,
           "gridcolor": "white",
           "linecolor": "white",
           "ticks": "",
           "zerolinecolor": "white",
           "zerolinewidth": 2
          },
          "yaxis": {
           "automargin": true,
           "gridcolor": "white",
           "linecolor": "white",
           "ticks": "",
           "zerolinecolor": "white",
           "zerolinewidth": 2
          }
         }
        },
        "title": {
         "text": "Simple Sales funnel for group A",
         "x": 0.5,
         "xanchor": "center",
         "y": 0.9,
         "yanchor": "top"
        }
       }
      },
      "text/html": [
       "<div>\n",
       "        \n",
       "        \n",
       "            <div id=\"c789523a-4d9a-42ea-937f-a945035bd865\" class=\"plotly-graph-div\" style=\"height:525px; width:100%;\"></div>\n",
       "            <script type=\"text/javascript\">\n",
       "                require([\"plotly\"], function(Plotly) {\n",
       "                    window.PLOTLYENV=window.PLOTLYENV || {};\n",
       "                    \n",
       "                if (document.getElementById(\"c789523a-4d9a-42ea-937f-a945035bd865\")) {\n",
       "                    Plotly.newPlot(\n",
       "                        'c789523a-4d9a-42ea-937f-a945035bd865',\n",
       "                        [{\"textinfo\": \"value+percent initial\", \"textposition\": \"inside\", \"type\": \"funnel\", \"x\": [2082, 1360, 631, 652], \"y\": [\"login\", \"product_page\", \"product_cart\", \"purchase\"]}],\n",
       "                        {\"template\": {\"data\": {\"bar\": [{\"error_x\": {\"color\": \"#2a3f5f\"}, \"error_y\": {\"color\": \"#2a3f5f\"}, \"marker\": {\"line\": {\"color\": \"#E5ECF6\", \"width\": 0.5}}, \"type\": \"bar\"}], \"barpolar\": [{\"marker\": {\"line\": {\"color\": \"#E5ECF6\", \"width\": 0.5}}, \"type\": \"barpolar\"}], \"carpet\": [{\"aaxis\": {\"endlinecolor\": \"#2a3f5f\", \"gridcolor\": \"white\", \"linecolor\": \"white\", \"minorgridcolor\": \"white\", \"startlinecolor\": \"#2a3f5f\"}, \"baxis\": {\"endlinecolor\": \"#2a3f5f\", \"gridcolor\": \"white\", \"linecolor\": \"white\", \"minorgridcolor\": \"white\", \"startlinecolor\": \"#2a3f5f\"}, \"type\": \"carpet\"}], \"choropleth\": [{\"colorbar\": {\"outlinewidth\": 0, \"ticks\": \"\"}, \"type\": \"choropleth\"}], \"contour\": [{\"colorbar\": {\"outlinewidth\": 0, \"ticks\": \"\"}, \"colorscale\": [[0.0, \"#0d0887\"], [0.1111111111111111, \"#46039f\"], [0.2222222222222222, \"#7201a8\"], [0.3333333333333333, \"#9c179e\"], [0.4444444444444444, \"#bd3786\"], [0.5555555555555556, \"#d8576b\"], [0.6666666666666666, \"#ed7953\"], [0.7777777777777778, \"#fb9f3a\"], [0.8888888888888888, \"#fdca26\"], [1.0, \"#f0f921\"]], \"type\": \"contour\"}], \"contourcarpet\": [{\"colorbar\": {\"outlinewidth\": 0, \"ticks\": \"\"}, \"type\": \"contourcarpet\"}], \"heatmap\": [{\"colorbar\": {\"outlinewidth\": 0, \"ticks\": \"\"}, \"colorscale\": [[0.0, \"#0d0887\"], [0.1111111111111111, \"#46039f\"], [0.2222222222222222, \"#7201a8\"], [0.3333333333333333, \"#9c179e\"], [0.4444444444444444, \"#bd3786\"], [0.5555555555555556, \"#d8576b\"], [0.6666666666666666, \"#ed7953\"], [0.7777777777777778, \"#fb9f3a\"], [0.8888888888888888, \"#fdca26\"], [1.0, \"#f0f921\"]], \"type\": \"heatmap\"}], \"heatmapgl\": [{\"colorbar\": {\"outlinewidth\": 0, \"ticks\": \"\"}, \"colorscale\": [[0.0, \"#0d0887\"], [0.1111111111111111, \"#46039f\"], [0.2222222222222222, \"#7201a8\"], [0.3333333333333333, \"#9c179e\"], [0.4444444444444444, \"#bd3786\"], [0.5555555555555556, \"#d8576b\"], [0.6666666666666666, \"#ed7953\"], [0.7777777777777778, \"#fb9f3a\"], [0.8888888888888888, \"#fdca26\"], [1.0, \"#f0f921\"]], \"type\": \"heatmapgl\"}], \"histogram\": [{\"marker\": {\"colorbar\": {\"outlinewidth\": 0, \"ticks\": \"\"}}, \"type\": \"histogram\"}], \"histogram2d\": [{\"colorbar\": {\"outlinewidth\": 0, \"ticks\": \"\"}, \"colorscale\": [[0.0, \"#0d0887\"], [0.1111111111111111, \"#46039f\"], [0.2222222222222222, \"#7201a8\"], [0.3333333333333333, \"#9c179e\"], [0.4444444444444444, \"#bd3786\"], [0.5555555555555556, \"#d8576b\"], [0.6666666666666666, \"#ed7953\"], [0.7777777777777778, \"#fb9f3a\"], [0.8888888888888888, \"#fdca26\"], [1.0, \"#f0f921\"]], \"type\": \"histogram2d\"}], \"histogram2dcontour\": [{\"colorbar\": {\"outlinewidth\": 0, \"ticks\": \"\"}, \"colorscale\": [[0.0, \"#0d0887\"], [0.1111111111111111, \"#46039f\"], [0.2222222222222222, \"#7201a8\"], [0.3333333333333333, \"#9c179e\"], [0.4444444444444444, \"#bd3786\"], [0.5555555555555556, \"#d8576b\"], [0.6666666666666666, \"#ed7953\"], [0.7777777777777778, \"#fb9f3a\"], [0.8888888888888888, \"#fdca26\"], [1.0, \"#f0f921\"]], \"type\": \"histogram2dcontour\"}], \"mesh3d\": [{\"colorbar\": {\"outlinewidth\": 0, \"ticks\": \"\"}, \"type\": \"mesh3d\"}], \"parcoords\": [{\"line\": {\"colorbar\": {\"outlinewidth\": 0, \"ticks\": \"\"}}, \"type\": \"parcoords\"}], \"scatter\": [{\"marker\": {\"colorbar\": {\"outlinewidth\": 0, \"ticks\": \"\"}}, \"type\": \"scatter\"}], \"scatter3d\": [{\"line\": {\"colorbar\": {\"outlinewidth\": 0, \"ticks\": \"\"}}, \"marker\": {\"colorbar\": {\"outlinewidth\": 0, \"ticks\": \"\"}}, \"type\": \"scatter3d\"}], \"scattercarpet\": [{\"marker\": {\"colorbar\": {\"outlinewidth\": 0, \"ticks\": \"\"}}, \"type\": \"scattercarpet\"}], \"scattergeo\": [{\"marker\": {\"colorbar\": {\"outlinewidth\": 0, \"ticks\": \"\"}}, \"type\": \"scattergeo\"}], \"scattergl\": [{\"marker\": {\"colorbar\": {\"outlinewidth\": 0, \"ticks\": \"\"}}, \"type\": \"scattergl\"}], \"scattermapbox\": [{\"marker\": {\"colorbar\": {\"outlinewidth\": 0, \"ticks\": \"\"}}, \"type\": \"scattermapbox\"}], \"scatterpolar\": [{\"marker\": {\"colorbar\": {\"outlinewidth\": 0, \"ticks\": \"\"}}, \"type\": \"scatterpolar\"}], \"scatterpolargl\": [{\"marker\": {\"colorbar\": {\"outlinewidth\": 0, \"ticks\": \"\"}}, \"type\": \"scatterpolargl\"}], \"scatterternary\": [{\"marker\": {\"colorbar\": {\"outlinewidth\": 0, \"ticks\": \"\"}}, \"type\": \"scatterternary\"}], \"surface\": [{\"colorbar\": {\"outlinewidth\": 0, \"ticks\": \"\"}, \"colorscale\": [[0.0, \"#0d0887\"], [0.1111111111111111, \"#46039f\"], [0.2222222222222222, \"#7201a8\"], [0.3333333333333333, \"#9c179e\"], [0.4444444444444444, \"#bd3786\"], [0.5555555555555556, \"#d8576b\"], [0.6666666666666666, \"#ed7953\"], [0.7777777777777778, \"#fb9f3a\"], [0.8888888888888888, \"#fdca26\"], [1.0, \"#f0f921\"]], \"type\": \"surface\"}], \"table\": [{\"cells\": {\"fill\": {\"color\": \"#EBF0F8\"}, \"line\": {\"color\": \"white\"}}, \"header\": {\"fill\": {\"color\": \"#C8D4E3\"}, \"line\": {\"color\": \"white\"}}, \"type\": \"table\"}]}, \"layout\": {\"annotationdefaults\": {\"arrowcolor\": \"#2a3f5f\", \"arrowhead\": 0, \"arrowwidth\": 1}, \"colorscale\": {\"diverging\": [[0, \"#8e0152\"], [0.1, \"#c51b7d\"], [0.2, \"#de77ae\"], [0.3, \"#f1b6da\"], [0.4, \"#fde0ef\"], [0.5, \"#f7f7f7\"], [0.6, \"#e6f5d0\"], [0.7, \"#b8e186\"], [0.8, \"#7fbc41\"], [0.9, \"#4d9221\"], [1, \"#276419\"]], \"sequential\": [[0.0, \"#0d0887\"], [0.1111111111111111, \"#46039f\"], [0.2222222222222222, \"#7201a8\"], [0.3333333333333333, \"#9c179e\"], [0.4444444444444444, \"#bd3786\"], [0.5555555555555556, \"#d8576b\"], [0.6666666666666666, \"#ed7953\"], [0.7777777777777778, \"#fb9f3a\"], [0.8888888888888888, \"#fdca26\"], [1.0, \"#f0f921\"]], \"sequentialminus\": [[0.0, \"#0d0887\"], [0.1111111111111111, \"#46039f\"], [0.2222222222222222, \"#7201a8\"], [0.3333333333333333, \"#9c179e\"], [0.4444444444444444, \"#bd3786\"], [0.5555555555555556, \"#d8576b\"], [0.6666666666666666, \"#ed7953\"], [0.7777777777777778, \"#fb9f3a\"], [0.8888888888888888, \"#fdca26\"], [1.0, \"#f0f921\"]]}, \"colorway\": [\"#636efa\", \"#EF553B\", \"#00cc96\", \"#ab63fa\", \"#FFA15A\", \"#19d3f3\", \"#FF6692\", \"#B6E880\", \"#FF97FF\", \"#FECB52\"], \"font\": {\"color\": \"#2a3f5f\"}, \"geo\": {\"bgcolor\": \"white\", \"lakecolor\": \"white\", \"landcolor\": \"#E5ECF6\", \"showlakes\": true, \"showland\": true, \"subunitcolor\": \"white\"}, \"hoverlabel\": {\"align\": \"left\"}, \"hovermode\": \"closest\", \"mapbox\": {\"style\": \"light\"}, \"paper_bgcolor\": \"white\", \"plot_bgcolor\": \"#E5ECF6\", \"polar\": {\"angularaxis\": {\"gridcolor\": \"white\", \"linecolor\": \"white\", \"ticks\": \"\"}, \"bgcolor\": \"#E5ECF6\", \"radialaxis\": {\"gridcolor\": \"white\", \"linecolor\": \"white\", \"ticks\": \"\"}}, \"scene\": {\"xaxis\": {\"backgroundcolor\": \"#E5ECF6\", \"gridcolor\": \"white\", \"gridwidth\": 2, \"linecolor\": \"white\", \"showbackground\": true, \"ticks\": \"\", \"zerolinecolor\": \"white\"}, \"yaxis\": {\"backgroundcolor\": \"#E5ECF6\", \"gridcolor\": \"white\", \"gridwidth\": 2, \"linecolor\": \"white\", \"showbackground\": true, \"ticks\": \"\", \"zerolinecolor\": \"white\"}, \"zaxis\": {\"backgroundcolor\": \"#E5ECF6\", \"gridcolor\": \"white\", \"gridwidth\": 2, \"linecolor\": \"white\", \"showbackground\": true, \"ticks\": \"\", \"zerolinecolor\": \"white\"}}, \"shapedefaults\": {\"line\": {\"color\": \"#2a3f5f\"}}, \"ternary\": {\"aaxis\": {\"gridcolor\": \"white\", \"linecolor\": \"white\", \"ticks\": \"\"}, \"baxis\": {\"gridcolor\": \"white\", \"linecolor\": \"white\", \"ticks\": \"\"}, \"bgcolor\": \"#E5ECF6\", \"caxis\": {\"gridcolor\": \"white\", \"linecolor\": \"white\", \"ticks\": \"\"}}, \"title\": {\"x\": 0.05}, \"xaxis\": {\"automargin\": true, \"gridcolor\": \"white\", \"linecolor\": \"white\", \"ticks\": \"\", \"zerolinecolor\": \"white\", \"zerolinewidth\": 2}, \"yaxis\": {\"automargin\": true, \"gridcolor\": \"white\", \"linecolor\": \"white\", \"ticks\": \"\", \"zerolinecolor\": \"white\", \"zerolinewidth\": 2}}}, \"title\": {\"text\": \"Simple Sales funnel for group A\", \"x\": 0.5, \"xanchor\": \"center\", \"y\": 0.9, \"yanchor\": \"top\"}},\n",
       "                        {\"responsive\": true}\n",
       "                    ).then(function(){\n",
       "                            \n",
       "var gd = document.getElementById('c789523a-4d9a-42ea-937f-a945035bd865');\n",
       "var x = new MutationObserver(function (mutations, observer) {{\n",
       "        var display = window.getComputedStyle(gd).display;\n",
       "        if (!display || display === 'none') {{\n",
       "            console.log([gd, 'removed!']);\n",
       "            Plotly.purge(gd);\n",
       "            observer.disconnect();\n",
       "        }}\n",
       "}});\n",
       "\n",
       "// Listen for the removal of the full notebook cells\n",
       "var notebookContainer = gd.closest('#notebook-container');\n",
       "if (notebookContainer) {{\n",
       "    x.observe(notebookContainer, {childList: true});\n",
       "}}\n",
       "\n",
       "// Listen for the clearing of the current output cell\n",
       "var outputEl = gd.closest('.output');\n",
       "if (outputEl) {{\n",
       "    x.observe(outputEl, {childList: true});\n",
       "}}\n",
       "\n",
       "                        })\n",
       "                };\n",
       "                });\n",
       "            </script>\n",
       "        </div>"
      ]
     },
     "metadata": {},
     "output_type": "display_data"
    }
   ],
   "source": [
    "#get the unique users arriving at each stage for group A\n",
    "users_login_A = recommender_A.query('event_name ==\"login\"')['user_id'].nunique()\n",
    "users_product_A = recommender_A.query('event_name ==\"product_page\"')['user_id'].nunique()\n",
    "users_cart_A = recommender_A.query('event_name ==\"product_cart\"')['user_id'].nunique()\n",
    "users_purchase_A = recommender_A.query('event_name ==\"purchase\"')['user_id'].nunique()\n",
    "\n",
    "#print the number\n",
    "print('login:', users_login_A)\n",
    "print('product_page:', users_product_A)\n",
    "print('product_cart:', users_cart_A)\n",
    "print('purchase:', users_purchase_A) \n",
    "\n",
    "#visualize the funnel\n",
    "fig_A_2 = go.Figure(go.Funnel(\n",
    "    y=[\"login\", \"product_page\", \"product_cart\", \"purchase\"],\n",
    "    x=[users_login_A, users_product_A,  users_cart_A, users_purchase_A],\n",
    "    textposition=\"inside\",\n",
    "    textinfo=\"value+percent initial\"\n",
    "))\n",
    "\n",
    "fig_A_2.update_layout(title={\n",
    "    'text': \"Simple Sales funnel for group A\",\n",
    "    'y': 0.9,\n",
    "    'x': 0.5,\n",
    "    'xanchor': 'center',\n",
    "    'yanchor': 'top'})\n",
    "\n",
    "fig_A_2.show()"
   ]
  },
  {
   "cell_type": "markdown",
   "metadata": {},
   "source": [
    "In the funnel above, we notice a slightly higher conversion rate into purchase than into product_cart. This is because, as we previously noted, users don't necessarily go to purchase from product_cart. \n",
    "\n",
    "Next, let's take a look at group B. "
   ]
  },
  {
   "cell_type": "code",
   "execution_count": 87,
   "metadata": {},
   "outputs": [
    {
     "name": "stdout",
     "output_type": "stream",
     "text": [
      "login: 706\n",
      "product_page: 397\n",
      "product_cart: 195\n",
      "purchase: 198\n"
     ]
    },
    {
     "data": {
      "application/vnd.plotly.v1+json": {
       "config": {
        "plotlyServerURL": "https://plot.ly"
       },
       "data": [
        {
         "textinfo": "value+percent initial",
         "textposition": "inside",
         "type": "funnel",
         "x": [
          706,
          397,
          195,
          198
         ],
         "y": [
          "login",
          "product_page",
          "product_cart",
          "purchase"
         ]
        }
       ],
       "layout": {
        "template": {
         "data": {
          "bar": [
           {
            "error_x": {
             "color": "#2a3f5f"
            },
            "error_y": {
             "color": "#2a3f5f"
            },
            "marker": {
             "line": {
              "color": "#E5ECF6",
              "width": 0.5
             }
            },
            "type": "bar"
           }
          ],
          "barpolar": [
           {
            "marker": {
             "line": {
              "color": "#E5ECF6",
              "width": 0.5
             }
            },
            "type": "barpolar"
           }
          ],
          "carpet": [
           {
            "aaxis": {
             "endlinecolor": "#2a3f5f",
             "gridcolor": "white",
             "linecolor": "white",
             "minorgridcolor": "white",
             "startlinecolor": "#2a3f5f"
            },
            "baxis": {
             "endlinecolor": "#2a3f5f",
             "gridcolor": "white",
             "linecolor": "white",
             "minorgridcolor": "white",
             "startlinecolor": "#2a3f5f"
            },
            "type": "carpet"
           }
          ],
          "choropleth": [
           {
            "colorbar": {
             "outlinewidth": 0,
             "ticks": ""
            },
            "type": "choropleth"
           }
          ],
          "contour": [
           {
            "colorbar": {
             "outlinewidth": 0,
             "ticks": ""
            },
            "colorscale": [
             [
              0,
              "#0d0887"
             ],
             [
              0.1111111111111111,
              "#46039f"
             ],
             [
              0.2222222222222222,
              "#7201a8"
             ],
             [
              0.3333333333333333,
              "#9c179e"
             ],
             [
              0.4444444444444444,
              "#bd3786"
             ],
             [
              0.5555555555555556,
              "#d8576b"
             ],
             [
              0.6666666666666666,
              "#ed7953"
             ],
             [
              0.7777777777777778,
              "#fb9f3a"
             ],
             [
              0.8888888888888888,
              "#fdca26"
             ],
             [
              1,
              "#f0f921"
             ]
            ],
            "type": "contour"
           }
          ],
          "contourcarpet": [
           {
            "colorbar": {
             "outlinewidth": 0,
             "ticks": ""
            },
            "type": "contourcarpet"
           }
          ],
          "heatmap": [
           {
            "colorbar": {
             "outlinewidth": 0,
             "ticks": ""
            },
            "colorscale": [
             [
              0,
              "#0d0887"
             ],
             [
              0.1111111111111111,
              "#46039f"
             ],
             [
              0.2222222222222222,
              "#7201a8"
             ],
             [
              0.3333333333333333,
              "#9c179e"
             ],
             [
              0.4444444444444444,
              "#bd3786"
             ],
             [
              0.5555555555555556,
              "#d8576b"
             ],
             [
              0.6666666666666666,
              "#ed7953"
             ],
             [
              0.7777777777777778,
              "#fb9f3a"
             ],
             [
              0.8888888888888888,
              "#fdca26"
             ],
             [
              1,
              "#f0f921"
             ]
            ],
            "type": "heatmap"
           }
          ],
          "heatmapgl": [
           {
            "colorbar": {
             "outlinewidth": 0,
             "ticks": ""
            },
            "colorscale": [
             [
              0,
              "#0d0887"
             ],
             [
              0.1111111111111111,
              "#46039f"
             ],
             [
              0.2222222222222222,
              "#7201a8"
             ],
             [
              0.3333333333333333,
              "#9c179e"
             ],
             [
              0.4444444444444444,
              "#bd3786"
             ],
             [
              0.5555555555555556,
              "#d8576b"
             ],
             [
              0.6666666666666666,
              "#ed7953"
             ],
             [
              0.7777777777777778,
              "#fb9f3a"
             ],
             [
              0.8888888888888888,
              "#fdca26"
             ],
             [
              1,
              "#f0f921"
             ]
            ],
            "type": "heatmapgl"
           }
          ],
          "histogram": [
           {
            "marker": {
             "colorbar": {
              "outlinewidth": 0,
              "ticks": ""
             }
            },
            "type": "histogram"
           }
          ],
          "histogram2d": [
           {
            "colorbar": {
             "outlinewidth": 0,
             "ticks": ""
            },
            "colorscale": [
             [
              0,
              "#0d0887"
             ],
             [
              0.1111111111111111,
              "#46039f"
             ],
             [
              0.2222222222222222,
              "#7201a8"
             ],
             [
              0.3333333333333333,
              "#9c179e"
             ],
             [
              0.4444444444444444,
              "#bd3786"
             ],
             [
              0.5555555555555556,
              "#d8576b"
             ],
             [
              0.6666666666666666,
              "#ed7953"
             ],
             [
              0.7777777777777778,
              "#fb9f3a"
             ],
             [
              0.8888888888888888,
              "#fdca26"
             ],
             [
              1,
              "#f0f921"
             ]
            ],
            "type": "histogram2d"
           }
          ],
          "histogram2dcontour": [
           {
            "colorbar": {
             "outlinewidth": 0,
             "ticks": ""
            },
            "colorscale": [
             [
              0,
              "#0d0887"
             ],
             [
              0.1111111111111111,
              "#46039f"
             ],
             [
              0.2222222222222222,
              "#7201a8"
             ],
             [
              0.3333333333333333,
              "#9c179e"
             ],
             [
              0.4444444444444444,
              "#bd3786"
             ],
             [
              0.5555555555555556,
              "#d8576b"
             ],
             [
              0.6666666666666666,
              "#ed7953"
             ],
             [
              0.7777777777777778,
              "#fb9f3a"
             ],
             [
              0.8888888888888888,
              "#fdca26"
             ],
             [
              1,
              "#f0f921"
             ]
            ],
            "type": "histogram2dcontour"
           }
          ],
          "mesh3d": [
           {
            "colorbar": {
             "outlinewidth": 0,
             "ticks": ""
            },
            "type": "mesh3d"
           }
          ],
          "parcoords": [
           {
            "line": {
             "colorbar": {
              "outlinewidth": 0,
              "ticks": ""
             }
            },
            "type": "parcoords"
           }
          ],
          "scatter": [
           {
            "marker": {
             "colorbar": {
              "outlinewidth": 0,
              "ticks": ""
             }
            },
            "type": "scatter"
           }
          ],
          "scatter3d": [
           {
            "line": {
             "colorbar": {
              "outlinewidth": 0,
              "ticks": ""
             }
            },
            "marker": {
             "colorbar": {
              "outlinewidth": 0,
              "ticks": ""
             }
            },
            "type": "scatter3d"
           }
          ],
          "scattercarpet": [
           {
            "marker": {
             "colorbar": {
              "outlinewidth": 0,
              "ticks": ""
             }
            },
            "type": "scattercarpet"
           }
          ],
          "scattergeo": [
           {
            "marker": {
             "colorbar": {
              "outlinewidth": 0,
              "ticks": ""
             }
            },
            "type": "scattergeo"
           }
          ],
          "scattergl": [
           {
            "marker": {
             "colorbar": {
              "outlinewidth": 0,
              "ticks": ""
             }
            },
            "type": "scattergl"
           }
          ],
          "scattermapbox": [
           {
            "marker": {
             "colorbar": {
              "outlinewidth": 0,
              "ticks": ""
             }
            },
            "type": "scattermapbox"
           }
          ],
          "scatterpolar": [
           {
            "marker": {
             "colorbar": {
              "outlinewidth": 0,
              "ticks": ""
             }
            },
            "type": "scatterpolar"
           }
          ],
          "scatterpolargl": [
           {
            "marker": {
             "colorbar": {
              "outlinewidth": 0,
              "ticks": ""
             }
            },
            "type": "scatterpolargl"
           }
          ],
          "scatterternary": [
           {
            "marker": {
             "colorbar": {
              "outlinewidth": 0,
              "ticks": ""
             }
            },
            "type": "scatterternary"
           }
          ],
          "surface": [
           {
            "colorbar": {
             "outlinewidth": 0,
             "ticks": ""
            },
            "colorscale": [
             [
              0,
              "#0d0887"
             ],
             [
              0.1111111111111111,
              "#46039f"
             ],
             [
              0.2222222222222222,
              "#7201a8"
             ],
             [
              0.3333333333333333,
              "#9c179e"
             ],
             [
              0.4444444444444444,
              "#bd3786"
             ],
             [
              0.5555555555555556,
              "#d8576b"
             ],
             [
              0.6666666666666666,
              "#ed7953"
             ],
             [
              0.7777777777777778,
              "#fb9f3a"
             ],
             [
              0.8888888888888888,
              "#fdca26"
             ],
             [
              1,
              "#f0f921"
             ]
            ],
            "type": "surface"
           }
          ],
          "table": [
           {
            "cells": {
             "fill": {
              "color": "#EBF0F8"
             },
             "line": {
              "color": "white"
             }
            },
            "header": {
             "fill": {
              "color": "#C8D4E3"
             },
             "line": {
              "color": "white"
             }
            },
            "type": "table"
           }
          ]
         },
         "layout": {
          "annotationdefaults": {
           "arrowcolor": "#2a3f5f",
           "arrowhead": 0,
           "arrowwidth": 1
          },
          "colorscale": {
           "diverging": [
            [
             0,
             "#8e0152"
            ],
            [
             0.1,
             "#c51b7d"
            ],
            [
             0.2,
             "#de77ae"
            ],
            [
             0.3,
             "#f1b6da"
            ],
            [
             0.4,
             "#fde0ef"
            ],
            [
             0.5,
             "#f7f7f7"
            ],
            [
             0.6,
             "#e6f5d0"
            ],
            [
             0.7,
             "#b8e186"
            ],
            [
             0.8,
             "#7fbc41"
            ],
            [
             0.9,
             "#4d9221"
            ],
            [
             1,
             "#276419"
            ]
           ],
           "sequential": [
            [
             0,
             "#0d0887"
            ],
            [
             0.1111111111111111,
             "#46039f"
            ],
            [
             0.2222222222222222,
             "#7201a8"
            ],
            [
             0.3333333333333333,
             "#9c179e"
            ],
            [
             0.4444444444444444,
             "#bd3786"
            ],
            [
             0.5555555555555556,
             "#d8576b"
            ],
            [
             0.6666666666666666,
             "#ed7953"
            ],
            [
             0.7777777777777778,
             "#fb9f3a"
            ],
            [
             0.8888888888888888,
             "#fdca26"
            ],
            [
             1,
             "#f0f921"
            ]
           ],
           "sequentialminus": [
            [
             0,
             "#0d0887"
            ],
            [
             0.1111111111111111,
             "#46039f"
            ],
            [
             0.2222222222222222,
             "#7201a8"
            ],
            [
             0.3333333333333333,
             "#9c179e"
            ],
            [
             0.4444444444444444,
             "#bd3786"
            ],
            [
             0.5555555555555556,
             "#d8576b"
            ],
            [
             0.6666666666666666,
             "#ed7953"
            ],
            [
             0.7777777777777778,
             "#fb9f3a"
            ],
            [
             0.8888888888888888,
             "#fdca26"
            ],
            [
             1,
             "#f0f921"
            ]
           ]
          },
          "colorway": [
           "#636efa",
           "#EF553B",
           "#00cc96",
           "#ab63fa",
           "#FFA15A",
           "#19d3f3",
           "#FF6692",
           "#B6E880",
           "#FF97FF",
           "#FECB52"
          ],
          "font": {
           "color": "#2a3f5f"
          },
          "geo": {
           "bgcolor": "white",
           "lakecolor": "white",
           "landcolor": "#E5ECF6",
           "showlakes": true,
           "showland": true,
           "subunitcolor": "white"
          },
          "hoverlabel": {
           "align": "left"
          },
          "hovermode": "closest",
          "mapbox": {
           "style": "light"
          },
          "paper_bgcolor": "white",
          "plot_bgcolor": "#E5ECF6",
          "polar": {
           "angularaxis": {
            "gridcolor": "white",
            "linecolor": "white",
            "ticks": ""
           },
           "bgcolor": "#E5ECF6",
           "radialaxis": {
            "gridcolor": "white",
            "linecolor": "white",
            "ticks": ""
           }
          },
          "scene": {
           "xaxis": {
            "backgroundcolor": "#E5ECF6",
            "gridcolor": "white",
            "gridwidth": 2,
            "linecolor": "white",
            "showbackground": true,
            "ticks": "",
            "zerolinecolor": "white"
           },
           "yaxis": {
            "backgroundcolor": "#E5ECF6",
            "gridcolor": "white",
            "gridwidth": 2,
            "linecolor": "white",
            "showbackground": true,
            "ticks": "",
            "zerolinecolor": "white"
           },
           "zaxis": {
            "backgroundcolor": "#E5ECF6",
            "gridcolor": "white",
            "gridwidth": 2,
            "linecolor": "white",
            "showbackground": true,
            "ticks": "",
            "zerolinecolor": "white"
           }
          },
          "shapedefaults": {
           "line": {
            "color": "#2a3f5f"
           }
          },
          "ternary": {
           "aaxis": {
            "gridcolor": "white",
            "linecolor": "white",
            "ticks": ""
           },
           "baxis": {
            "gridcolor": "white",
            "linecolor": "white",
            "ticks": ""
           },
           "bgcolor": "#E5ECF6",
           "caxis": {
            "gridcolor": "white",
            "linecolor": "white",
            "ticks": ""
           }
          },
          "title": {
           "x": 0.05
          },
          "xaxis": {
           "automargin": true,
           "gridcolor": "white",
           "linecolor": "white",
           "ticks": "",
           "zerolinecolor": "white",
           "zerolinewidth": 2
          },
          "yaxis": {
           "automargin": true,
           "gridcolor": "white",
           "linecolor": "white",
           "ticks": "",
           "zerolinecolor": "white",
           "zerolinewidth": 2
          }
         }
        },
        "title": {
         "text": "Simple Sales funnel for group B",
         "x": 0.5,
         "xanchor": "center",
         "y": 0.9,
         "yanchor": "top"
        }
       }
      },
      "text/html": [
       "<div>\n",
       "        \n",
       "        \n",
       "            <div id=\"facced39-92dc-407b-90e6-272c7ad92fe5\" class=\"plotly-graph-div\" style=\"height:525px; width:100%;\"></div>\n",
       "            <script type=\"text/javascript\">\n",
       "                require([\"plotly\"], function(Plotly) {\n",
       "                    window.PLOTLYENV=window.PLOTLYENV || {};\n",
       "                    \n",
       "                if (document.getElementById(\"facced39-92dc-407b-90e6-272c7ad92fe5\")) {\n",
       "                    Plotly.newPlot(\n",
       "                        'facced39-92dc-407b-90e6-272c7ad92fe5',\n",
       "                        [{\"textinfo\": \"value+percent initial\", \"textposition\": \"inside\", \"type\": \"funnel\", \"x\": [706, 397, 195, 198], \"y\": [\"login\", \"product_page\", \"product_cart\", \"purchase\"]}],\n",
       "                        {\"template\": {\"data\": {\"bar\": [{\"error_x\": {\"color\": \"#2a3f5f\"}, \"error_y\": {\"color\": \"#2a3f5f\"}, \"marker\": {\"line\": {\"color\": \"#E5ECF6\", \"width\": 0.5}}, \"type\": \"bar\"}], \"barpolar\": [{\"marker\": {\"line\": {\"color\": \"#E5ECF6\", \"width\": 0.5}}, \"type\": \"barpolar\"}], \"carpet\": [{\"aaxis\": {\"endlinecolor\": \"#2a3f5f\", \"gridcolor\": \"white\", \"linecolor\": \"white\", \"minorgridcolor\": \"white\", \"startlinecolor\": \"#2a3f5f\"}, \"baxis\": {\"endlinecolor\": \"#2a3f5f\", \"gridcolor\": \"white\", \"linecolor\": \"white\", \"minorgridcolor\": \"white\", \"startlinecolor\": \"#2a3f5f\"}, \"type\": \"carpet\"}], \"choropleth\": [{\"colorbar\": {\"outlinewidth\": 0, \"ticks\": \"\"}, \"type\": \"choropleth\"}], \"contour\": [{\"colorbar\": {\"outlinewidth\": 0, \"ticks\": \"\"}, \"colorscale\": [[0.0, \"#0d0887\"], [0.1111111111111111, \"#46039f\"], [0.2222222222222222, \"#7201a8\"], [0.3333333333333333, \"#9c179e\"], [0.4444444444444444, \"#bd3786\"], [0.5555555555555556, \"#d8576b\"], [0.6666666666666666, \"#ed7953\"], [0.7777777777777778, \"#fb9f3a\"], [0.8888888888888888, \"#fdca26\"], [1.0, \"#f0f921\"]], \"type\": \"contour\"}], \"contourcarpet\": [{\"colorbar\": {\"outlinewidth\": 0, \"ticks\": \"\"}, \"type\": \"contourcarpet\"}], \"heatmap\": [{\"colorbar\": {\"outlinewidth\": 0, \"ticks\": \"\"}, \"colorscale\": [[0.0, \"#0d0887\"], [0.1111111111111111, \"#46039f\"], [0.2222222222222222, \"#7201a8\"], [0.3333333333333333, \"#9c179e\"], [0.4444444444444444, \"#bd3786\"], [0.5555555555555556, \"#d8576b\"], [0.6666666666666666, \"#ed7953\"], [0.7777777777777778, \"#fb9f3a\"], [0.8888888888888888, \"#fdca26\"], [1.0, \"#f0f921\"]], \"type\": \"heatmap\"}], \"heatmapgl\": [{\"colorbar\": {\"outlinewidth\": 0, \"ticks\": \"\"}, \"colorscale\": [[0.0, \"#0d0887\"], [0.1111111111111111, \"#46039f\"], [0.2222222222222222, \"#7201a8\"], [0.3333333333333333, \"#9c179e\"], [0.4444444444444444, \"#bd3786\"], [0.5555555555555556, \"#d8576b\"], [0.6666666666666666, \"#ed7953\"], [0.7777777777777778, \"#fb9f3a\"], [0.8888888888888888, \"#fdca26\"], [1.0, \"#f0f921\"]], \"type\": \"heatmapgl\"}], \"histogram\": [{\"marker\": {\"colorbar\": {\"outlinewidth\": 0, \"ticks\": \"\"}}, \"type\": \"histogram\"}], \"histogram2d\": [{\"colorbar\": {\"outlinewidth\": 0, \"ticks\": \"\"}, \"colorscale\": [[0.0, \"#0d0887\"], [0.1111111111111111, \"#46039f\"], [0.2222222222222222, \"#7201a8\"], [0.3333333333333333, \"#9c179e\"], [0.4444444444444444, \"#bd3786\"], [0.5555555555555556, \"#d8576b\"], [0.6666666666666666, \"#ed7953\"], [0.7777777777777778, \"#fb9f3a\"], [0.8888888888888888, \"#fdca26\"], [1.0, \"#f0f921\"]], \"type\": \"histogram2d\"}], \"histogram2dcontour\": [{\"colorbar\": {\"outlinewidth\": 0, \"ticks\": \"\"}, \"colorscale\": [[0.0, \"#0d0887\"], [0.1111111111111111, \"#46039f\"], [0.2222222222222222, \"#7201a8\"], [0.3333333333333333, \"#9c179e\"], [0.4444444444444444, \"#bd3786\"], [0.5555555555555556, \"#d8576b\"], [0.6666666666666666, \"#ed7953\"], [0.7777777777777778, \"#fb9f3a\"], [0.8888888888888888, \"#fdca26\"], [1.0, \"#f0f921\"]], \"type\": \"histogram2dcontour\"}], \"mesh3d\": [{\"colorbar\": {\"outlinewidth\": 0, \"ticks\": \"\"}, \"type\": \"mesh3d\"}], \"parcoords\": [{\"line\": {\"colorbar\": {\"outlinewidth\": 0, \"ticks\": \"\"}}, \"type\": \"parcoords\"}], \"scatter\": [{\"marker\": {\"colorbar\": {\"outlinewidth\": 0, \"ticks\": \"\"}}, \"type\": \"scatter\"}], \"scatter3d\": [{\"line\": {\"colorbar\": {\"outlinewidth\": 0, \"ticks\": \"\"}}, \"marker\": {\"colorbar\": {\"outlinewidth\": 0, \"ticks\": \"\"}}, \"type\": \"scatter3d\"}], \"scattercarpet\": [{\"marker\": {\"colorbar\": {\"outlinewidth\": 0, \"ticks\": \"\"}}, \"type\": \"scattercarpet\"}], \"scattergeo\": [{\"marker\": {\"colorbar\": {\"outlinewidth\": 0, \"ticks\": \"\"}}, \"type\": \"scattergeo\"}], \"scattergl\": [{\"marker\": {\"colorbar\": {\"outlinewidth\": 0, \"ticks\": \"\"}}, \"type\": \"scattergl\"}], \"scattermapbox\": [{\"marker\": {\"colorbar\": {\"outlinewidth\": 0, \"ticks\": \"\"}}, \"type\": \"scattermapbox\"}], \"scatterpolar\": [{\"marker\": {\"colorbar\": {\"outlinewidth\": 0, \"ticks\": \"\"}}, \"type\": \"scatterpolar\"}], \"scatterpolargl\": [{\"marker\": {\"colorbar\": {\"outlinewidth\": 0, \"ticks\": \"\"}}, \"type\": \"scatterpolargl\"}], \"scatterternary\": [{\"marker\": {\"colorbar\": {\"outlinewidth\": 0, \"ticks\": \"\"}}, \"type\": \"scatterternary\"}], \"surface\": [{\"colorbar\": {\"outlinewidth\": 0, \"ticks\": \"\"}, \"colorscale\": [[0.0, \"#0d0887\"], [0.1111111111111111, \"#46039f\"], [0.2222222222222222, \"#7201a8\"], [0.3333333333333333, \"#9c179e\"], [0.4444444444444444, \"#bd3786\"], [0.5555555555555556, \"#d8576b\"], [0.6666666666666666, \"#ed7953\"], [0.7777777777777778, \"#fb9f3a\"], [0.8888888888888888, \"#fdca26\"], [1.0, \"#f0f921\"]], \"type\": \"surface\"}], \"table\": [{\"cells\": {\"fill\": {\"color\": \"#EBF0F8\"}, \"line\": {\"color\": \"white\"}}, \"header\": {\"fill\": {\"color\": \"#C8D4E3\"}, \"line\": {\"color\": \"white\"}}, \"type\": \"table\"}]}, \"layout\": {\"annotationdefaults\": {\"arrowcolor\": \"#2a3f5f\", \"arrowhead\": 0, \"arrowwidth\": 1}, \"colorscale\": {\"diverging\": [[0, \"#8e0152\"], [0.1, \"#c51b7d\"], [0.2, \"#de77ae\"], [0.3, \"#f1b6da\"], [0.4, \"#fde0ef\"], [0.5, \"#f7f7f7\"], [0.6, \"#e6f5d0\"], [0.7, \"#b8e186\"], [0.8, \"#7fbc41\"], [0.9, \"#4d9221\"], [1, \"#276419\"]], \"sequential\": [[0.0, \"#0d0887\"], [0.1111111111111111, \"#46039f\"], [0.2222222222222222, \"#7201a8\"], [0.3333333333333333, \"#9c179e\"], [0.4444444444444444, \"#bd3786\"], [0.5555555555555556, \"#d8576b\"], [0.6666666666666666, \"#ed7953\"], [0.7777777777777778, \"#fb9f3a\"], [0.8888888888888888, \"#fdca26\"], [1.0, \"#f0f921\"]], \"sequentialminus\": [[0.0, \"#0d0887\"], [0.1111111111111111, \"#46039f\"], [0.2222222222222222, \"#7201a8\"], [0.3333333333333333, \"#9c179e\"], [0.4444444444444444, \"#bd3786\"], [0.5555555555555556, \"#d8576b\"], [0.6666666666666666, \"#ed7953\"], [0.7777777777777778, \"#fb9f3a\"], [0.8888888888888888, \"#fdca26\"], [1.0, \"#f0f921\"]]}, \"colorway\": [\"#636efa\", \"#EF553B\", \"#00cc96\", \"#ab63fa\", \"#FFA15A\", \"#19d3f3\", \"#FF6692\", \"#B6E880\", \"#FF97FF\", \"#FECB52\"], \"font\": {\"color\": \"#2a3f5f\"}, \"geo\": {\"bgcolor\": \"white\", \"lakecolor\": \"white\", \"landcolor\": \"#E5ECF6\", \"showlakes\": true, \"showland\": true, \"subunitcolor\": \"white\"}, \"hoverlabel\": {\"align\": \"left\"}, \"hovermode\": \"closest\", \"mapbox\": {\"style\": \"light\"}, \"paper_bgcolor\": \"white\", \"plot_bgcolor\": \"#E5ECF6\", \"polar\": {\"angularaxis\": {\"gridcolor\": \"white\", \"linecolor\": \"white\", \"ticks\": \"\"}, \"bgcolor\": \"#E5ECF6\", \"radialaxis\": {\"gridcolor\": \"white\", \"linecolor\": \"white\", \"ticks\": \"\"}}, \"scene\": {\"xaxis\": {\"backgroundcolor\": \"#E5ECF6\", \"gridcolor\": \"white\", \"gridwidth\": 2, \"linecolor\": \"white\", \"showbackground\": true, \"ticks\": \"\", \"zerolinecolor\": \"white\"}, \"yaxis\": {\"backgroundcolor\": \"#E5ECF6\", \"gridcolor\": \"white\", \"gridwidth\": 2, \"linecolor\": \"white\", \"showbackground\": true, \"ticks\": \"\", \"zerolinecolor\": \"white\"}, \"zaxis\": {\"backgroundcolor\": \"#E5ECF6\", \"gridcolor\": \"white\", \"gridwidth\": 2, \"linecolor\": \"white\", \"showbackground\": true, \"ticks\": \"\", \"zerolinecolor\": \"white\"}}, \"shapedefaults\": {\"line\": {\"color\": \"#2a3f5f\"}}, \"ternary\": {\"aaxis\": {\"gridcolor\": \"white\", \"linecolor\": \"white\", \"ticks\": \"\"}, \"baxis\": {\"gridcolor\": \"white\", \"linecolor\": \"white\", \"ticks\": \"\"}, \"bgcolor\": \"#E5ECF6\", \"caxis\": {\"gridcolor\": \"white\", \"linecolor\": \"white\", \"ticks\": \"\"}}, \"title\": {\"x\": 0.05}, \"xaxis\": {\"automargin\": true, \"gridcolor\": \"white\", \"linecolor\": \"white\", \"ticks\": \"\", \"zerolinecolor\": \"white\", \"zerolinewidth\": 2}, \"yaxis\": {\"automargin\": true, \"gridcolor\": \"white\", \"linecolor\": \"white\", \"ticks\": \"\", \"zerolinecolor\": \"white\", \"zerolinewidth\": 2}}}, \"title\": {\"text\": \"Simple Sales funnel for group B\", \"x\": 0.5, \"xanchor\": \"center\", \"y\": 0.9, \"yanchor\": \"top\"}},\n",
       "                        {\"responsive\": true}\n",
       "                    ).then(function(){\n",
       "                            \n",
       "var gd = document.getElementById('facced39-92dc-407b-90e6-272c7ad92fe5');\n",
       "var x = new MutationObserver(function (mutations, observer) {{\n",
       "        var display = window.getComputedStyle(gd).display;\n",
       "        if (!display || display === 'none') {{\n",
       "            console.log([gd, 'removed!']);\n",
       "            Plotly.purge(gd);\n",
       "            observer.disconnect();\n",
       "        }}\n",
       "}});\n",
       "\n",
       "// Listen for the removal of the full notebook cells\n",
       "var notebookContainer = gd.closest('#notebook-container');\n",
       "if (notebookContainer) {{\n",
       "    x.observe(notebookContainer, {childList: true});\n",
       "}}\n",
       "\n",
       "// Listen for the clearing of the current output cell\n",
       "var outputEl = gd.closest('.output');\n",
       "if (outputEl) {{\n",
       "    x.observe(outputEl, {childList: true});\n",
       "}}\n",
       "\n",
       "                        })\n",
       "                };\n",
       "                });\n",
       "            </script>\n",
       "        </div>"
      ]
     },
     "metadata": {},
     "output_type": "display_data"
    }
   ],
   "source": [
    "#get the unique users arriving at each stage for group B\n",
    "users_login_B = recommender_B.query('event_name ==\"login\"')['user_id'].nunique()\n",
    "users_product_B = recommender_B.query('event_name ==\"product_page\"')['user_id'].nunique()\n",
    "users_cart_B = recommender_B.query('event_name ==\"product_cart\"')['user_id'].nunique()\n",
    "users_purchase_B = recommender_B.query('event_name ==\"purchase\"')['user_id'].nunique()\n",
    "\n",
    "#print the number\n",
    "print('login:', users_login_B)\n",
    "print('product_page:', users_product_B)\n",
    "print('product_cart:', users_cart_B)\n",
    "print('purchase:', users_purchase_B) \n",
    "\n",
    "#visualize the funnel\n",
    "fig_B_2 = go.Figure(go.Funnel(\n",
    "    y=[\"login\", \"product_page\", \"product_cart\", \"purchase\"],\n",
    "    x=[users_login_B, users_product_B,  users_cart_B, users_purchase_B],\n",
    "    textposition=\"inside\",\n",
    "    textinfo=\"value+percent initial\"\n",
    "))\n",
    "\n",
    "fig_B_2.update_layout(title={\n",
    "    'text': \"Simple Sales funnel for group B\",\n",
    "    'y': 0.9,\n",
    "    'x': 0.5,\n",
    "    'xanchor': 'center',\n",
    "    'yanchor': 'top'})\n",
    "\n",
    "fig_B_2.show()"
   ]
  },
  {
   "cell_type": "markdown",
   "metadata": {},
   "source": [
    "From the above we see that group B shows a slightly lower conversion rate into each stage than group B. The difference is especially obvious from login into product_page (65% v.s. 56%)! "
   ]
  },
  {
   "cell_type": "markdown",
   "metadata": {},
   "source": [
    "### Part 3 summary "
   ]
  },
  {
   "cell_type": "markdown",
   "metadata": {},
   "source": [
    "In this section, we took a closer look at how the two groups performed during the experiment period. \n",
    "\n",
    "Admitting the fact that group B is a lot smaller than group A, group B performed worse than group A in all measured aspects, including overall average number of events per user, accumulative average number of events per user, average purchase per user and accumulative average purchase per user. \n",
    "\n",
    "The key considerations when interpreting the above outcome includes: \n",
    "\n",
    "- the user behaviour for both groups doesn't seem to stablize yet\n",
    "\n",
    "- user behaviour seems to be affected by the marketing promotion occuring at the time\n",
    "\n",
    "- group B is a lot smaller than group A. \n",
    "\n",
    "\n",
    "We've also examined the the user journey using group A as an example and noticed that there are various paths for users to get to purchase, and the funnel under examination is just one of those. \n",
    "\n",
    "In the next section, we will carry out a statistical testing to see if the conversion rates between the two groups are different at eaach stage of the funnel. "
   ]
  },
  {
   "cell_type": "markdown",
   "metadata": {},
   "source": [
    "### Part 4: Hypothesis testing"
   ]
  },
  {
   "cell_type": "markdown",
   "metadata": {},
   "source": [
    "<a id=\"testing\"></a>"
   ]
  },
  {
   "cell_type": "markdown",
   "metadata": {},
   "source": [
    "#### 4.1 A/B test analysis for recommender_system_test "
   ]
  },
  {
   "cell_type": "markdown",
   "metadata": {},
   "source": [
    "In what follows, we will first define a function that take alpha, and the two arrays containing the number of successes and the number of trials respectively. \n",
    "\n",
    "The null hypothesis is that there is no difference in the convertion rate at the specified stage between the A and B groups, and the alternative hypothesis is there is a difference between their convertion rates. The test is therefore a 2 sided test, for which the p-value will be adjusted accordingly. \n",
    "\n",
    "Given the same data will be used 3 times in the test, login to page_product convertion, page_product to page_cart convertion, and page_cart to purchase convertion, we will use the bonferoni method to adjust the alpha as 0.05 divided by 3. "
   ]
  },
  {
   "cell_type": "code",
   "execution_count": 88,
   "metadata": {},
   "outputs": [],
   "source": [
    "#define a function for the test\n",
    "def test(alpha, successes, trials):\n",
    "    p1 = successes[0]/trials[0]\n",
    "    p2 = successes[1]/trials[1]\n",
    "    p_combined = (successes[0] + successes[1]) / (trials[0] + trials[1])\n",
    "    difference = p1 - p2 \n",
    "\n",
    "    z_value = difference / mth.sqrt(p_combined * (1 - p_combined) * (1/trials[0] + 1/trials[1]))\n",
    "    distr = st.norm(0, 1) \n",
    "    p_value = (1 - distr.cdf(abs(z_value))) * 2\n",
    "\n",
    "    print('p-value: ', p_value)\n",
    "\n",
    "    if (p_value < alpha):\n",
    "        print(\"Rejecting the null hypothesis: there is a significant difference between the the conversion rates\")\n",
    "    else:\n",
    "        print(\"Failed to reject the null hypothesis: there is no reason to consider the conversion rates different\") "
   ]
  },
  {
   "cell_type": "markdown",
   "metadata": {},
   "source": [
    "#### 4.2 Convertion rate from login to product_page"
   ]
  },
  {
   "cell_type": "code",
   "execution_count": 89,
   "metadata": {},
   "outputs": [
    {
     "name": "stdout",
     "output_type": "stream",
     "text": [
      "p-value:  1.5371909704686715e-05\n",
      "Rejecting the null hypothesis: there is a significant difference between the the conversion rates\n"
     ]
    }
   ],
   "source": [
    "alpha = .05/3 # significance level\n",
    "\n",
    "successes = np.array([n_product_A, n_product_B])\n",
    "trials = np.array([n_login_A, n_login_B])\n",
    "\n",
    "test(alpha, successes, trials)"
   ]
  },
  {
   "cell_type": "markdown",
   "metadata": {},
   "source": [
    "The testing result shows that A and B group do have different conversion rates from into the product_page stage. "
   ]
  },
  {
   "cell_type": "markdown",
   "metadata": {},
   "source": [
    "#### 4.3 Convertion rate from product_page to product_cart"
   ]
  },
  {
   "cell_type": "code",
   "execution_count": 90,
   "metadata": {},
   "outputs": [
    {
     "name": "stdout",
     "output_type": "stream",
     "text": [
      "p-value:  0.540729987944925\n",
      "Failed to reject the null hypothesis: there is no reason to consider the conversion rates different\n"
     ]
    }
   ],
   "source": [
    "alpha = .05/3 # significance level\n",
    "\n",
    "successes = np.array([n_cart_A, n_cart_B])\n",
    "trials = np.array([n_product_A, n_product_B])\n",
    "\n",
    "test(alpha, successes, trials)"
   ]
  },
  {
   "cell_type": "markdown",
   "metadata": {},
   "source": [
    "The test result does not give us enough evidence to claim the conversion rate from product_page to product_cart is different between the two groups. "
   ]
  },
  {
   "cell_type": "markdown",
   "metadata": {},
   "source": [
    "#### 4.4 Convertion rate from product_cart to purchases"
   ]
  },
  {
   "cell_type": "code",
   "execution_count": 91,
   "metadata": {},
   "outputs": [
    {
     "name": "stdout",
     "output_type": "stream",
     "text": [
      "p-value:  0.8013725424412119\n",
      "Failed to reject the null hypothesis: there is no reason to consider the conversion rates different\n"
     ]
    }
   ],
   "source": [
    "alpha = .05/3 # significance level\n",
    "\n",
    "successes = np.array([n_purchase_A, n_purchase_B])\n",
    "trials = np.array([n_cart_A, n_cart_B])\n",
    "\n",
    "test(alpha, successes, trials)"
   ]
  },
  {
   "cell_type": "markdown",
   "metadata": {},
   "source": [
    "Similar to the above, the test result does not give us enough evidence to claim the conversion rate from product_cart to purchase is different between the two groups. "
   ]
  },
  {
   "cell_type": "markdown",
   "metadata": {},
   "source": [
    "### Part 4 summary "
   ]
  },
  {
   "cell_type": "markdown",
   "metadata": {},
   "source": [
    "In this section, we carried out the significance testing to test if the conversion rates at eatch stage of the funnel is different for A/B groups in the recommender_system_test. \n",
    "\n",
    "While the results show that the conversion rate from login to product_page is different between the two groups, we do not have the evidence to say that is true for the next two stages of the funnel. \n",
    "\n",
    "Overall, we can not conclude that users show better conversion rates in the product_page -> product_cart -> purchases in B group than A group. "
   ]
  },
  {
   "cell_type": "markdown",
   "metadata": {},
   "source": [
    "### Part 5: Findings and conclusions "
   ]
  },
  {
   "cell_type": "markdown",
   "metadata": {},
   "source": [
    "<a id=\"conclusion\"></a>"
   ]
  },
  {
   "cell_type": "markdown",
   "metadata": {},
   "source": [
    "In conclusion, this report has presented the analysis of an A/B test for the introduction of a new recommender sytem, which ran for 23 days and overlapped with the Christmas and New Year promotion event.\n",
    "\n",
    "The test itself has some flaws. For one thing, it has has an very uneven users traffic split and group A more than doubled the size of group B. For another, there were users that show up in more than one groups, which we removed for accuracy of analysis. There is also the impact from the marketing promotion to consider when interpreting the results. \n",
    "\n",
    "Overall, the analysis of user behaviours shows that those from group B generated less events and purchase values by user both overall and accumulatively than group A. The statistical testing shows except for the conversion rate from login to product_page, the two groups do not show any statistically significant difference in others stages of the funnel. \n",
    "\n",
    "It is also worth pointing out that the users are shown to have various path to purchase in the data, and the examined funnel is just one of those. \n",
    "\n",
    "Finally, as far as what we can tell from the data, the new recommender system does not seem to work to improve the conversion rates in the specified funnel. There are also technical problems in splitting users that need to be brought to the attention of the web team for future A/B testings. "
   ]
  },
  {
   "cell_type": "markdown",
   "metadata": {},
   "source": [
    "### Additional funnels and testing "
   ]
  },
  {
   "cell_type": "code",
   "execution_count": 92,
   "metadata": {},
   "outputs": [
    {
     "data": {
      "text/html": [
       "<div>\n",
       "<style scoped>\n",
       "    .dataframe tbody tr th:only-of-type {\n",
       "        vertical-align: middle;\n",
       "    }\n",
       "\n",
       "    .dataframe tbody tr th {\n",
       "        vertical-align: top;\n",
       "    }\n",
       "\n",
       "    .dataframe thead th {\n",
       "        text-align: right;\n",
       "    }\n",
       "</style>\n",
       "<table border=\"1\" class=\"dataframe\">\n",
       "  <thead>\n",
       "    <tr style=\"text-align: right;\">\n",
       "      <th></th>\n",
       "      <th>user_id</th>\n",
       "      <th>group</th>\n",
       "      <th>ab_test</th>\n",
       "      <th>first_date</th>\n",
       "      <th>region</th>\n",
       "      <th>device</th>\n",
       "      <th>event_dt</th>\n",
       "      <th>event_name</th>\n",
       "      <th>details</th>\n",
       "      <th>event_date</th>\n",
       "    </tr>\n",
       "  </thead>\n",
       "  <tbody>\n",
       "    <tr>\n",
       "      <td>18804</td>\n",
       "      <td>6BCB0F33D3BAB8C2</td>\n",
       "      <td>A</td>\n",
       "      <td>interface_eu_test</td>\n",
       "      <td>2020-12-21</td>\n",
       "      <td>EU</td>\n",
       "      <td>PC</td>\n",
       "      <td>2020-12-21 21:07:21</td>\n",
       "      <td>product_page</td>\n",
       "      <td>NaN</td>\n",
       "      <td>2020-12-21</td>\n",
       "    </tr>\n",
       "    <tr>\n",
       "      <td>18805</td>\n",
       "      <td>6BCB0F33D3BAB8C2</td>\n",
       "      <td>A</td>\n",
       "      <td>interface_eu_test</td>\n",
       "      <td>2020-12-21</td>\n",
       "      <td>EU</td>\n",
       "      <td>PC</td>\n",
       "      <td>2020-12-28 00:32:15</td>\n",
       "      <td>product_page</td>\n",
       "      <td>NaN</td>\n",
       "      <td>2020-12-28</td>\n",
       "    </tr>\n",
       "    <tr>\n",
       "      <td>18806</td>\n",
       "      <td>6BCB0F33D3BAB8C2</td>\n",
       "      <td>A</td>\n",
       "      <td>interface_eu_test</td>\n",
       "      <td>2020-12-21</td>\n",
       "      <td>EU</td>\n",
       "      <td>PC</td>\n",
       "      <td>2020-12-21 21:07:18</td>\n",
       "      <td>login</td>\n",
       "      <td>NaN</td>\n",
       "      <td>2020-12-21</td>\n",
       "    </tr>\n",
       "    <tr>\n",
       "      <td>18807</td>\n",
       "      <td>6BCB0F33D3BAB8C2</td>\n",
       "      <td>A</td>\n",
       "      <td>interface_eu_test</td>\n",
       "      <td>2020-12-21</td>\n",
       "      <td>EU</td>\n",
       "      <td>PC</td>\n",
       "      <td>2020-12-28 00:32:13</td>\n",
       "      <td>login</td>\n",
       "      <td>NaN</td>\n",
       "      <td>2020-12-28</td>\n",
       "    </tr>\n",
       "    <tr>\n",
       "      <td>18808</td>\n",
       "      <td>4BA448BCE1343C6F</td>\n",
       "      <td>A</td>\n",
       "      <td>interface_eu_test</td>\n",
       "      <td>2020-12-13</td>\n",
       "      <td>EU</td>\n",
       "      <td>Android</td>\n",
       "      <td>2020-12-13 22:03:01</td>\n",
       "      <td>product_page</td>\n",
       "      <td>NaN</td>\n",
       "      <td>2020-12-13</td>\n",
       "    </tr>\n",
       "  </tbody>\n",
       "</table>\n",
       "</div>"
      ],
      "text/plain": [
       "                user_id group            ab_test first_date region   device  \\\n",
       "18804  6BCB0F33D3BAB8C2     A  interface_eu_test 2020-12-21     EU       PC   \n",
       "18805  6BCB0F33D3BAB8C2     A  interface_eu_test 2020-12-21     EU       PC   \n",
       "18806  6BCB0F33D3BAB8C2     A  interface_eu_test 2020-12-21     EU       PC   \n",
       "18807  6BCB0F33D3BAB8C2     A  interface_eu_test 2020-12-21     EU       PC   \n",
       "18808  4BA448BCE1343C6F     A  interface_eu_test 2020-12-13     EU  Android   \n",
       "\n",
       "                 event_dt    event_name  details event_date  \n",
       "18804 2020-12-21 21:07:21  product_page      NaN 2020-12-21  \n",
       "18805 2020-12-28 00:32:15  product_page      NaN 2020-12-28  \n",
       "18806 2020-12-21 21:07:18         login      NaN 2020-12-21  \n",
       "18807 2020-12-28 00:32:13         login      NaN 2020-12-28  \n",
       "18808 2020-12-13 22:03:01  product_page      NaN 2020-12-13  "
      ]
     },
     "execution_count": 92,
     "metadata": {},
     "output_type": "execute_result"
    }
   ],
   "source": [
    "interface_test.head()"
   ]
  },
  {
   "cell_type": "code",
   "execution_count": 93,
   "metadata": {},
   "outputs": [],
   "source": [
    "#devide the A/B groups for the interface_eu_test\n",
    "interface_A = interface_test[interface_test['group'] == 'A']\n",
    "interface_B = interface_test[interface_test['group'] == 'B']"
   ]
  },
  {
   "cell_type": "markdown",
   "metadata": {},
   "source": [
    "Let's first take a look at both the sequence and simple funnels for the two groups"
   ]
  },
  {
   "cell_type": "markdown",
   "metadata": {},
   "source": [
    "**Sequence funnel for interface_eu_test groups**"
   ]
  },
  {
   "cell_type": "code",
   "execution_count": 94,
   "metadata": {},
   "outputs": [
    {
     "name": "stdout",
     "output_type": "stream",
     "text": [
      "login: 4521\n",
      "product_page: 3031\n",
      "product_cart: 704\n",
      "purchase: 97\n"
     ]
    },
    {
     "data": {
      "application/vnd.plotly.v1+json": {
       "config": {
        "plotlyServerURL": "https://plot.ly"
       },
       "data": [
        {
         "textinfo": "value+percent initial",
         "textposition": "inside",
         "type": "funnel",
         "x": [
          4521,
          3031,
          704,
          97
         ],
         "y": [
          "login",
          "product_page",
          "product_cart",
          "purchase"
         ]
        }
       ],
       "layout": {
        "template": {
         "data": {
          "bar": [
           {
            "error_x": {
             "color": "#2a3f5f"
            },
            "error_y": {
             "color": "#2a3f5f"
            },
            "marker": {
             "line": {
              "color": "#E5ECF6",
              "width": 0.5
             }
            },
            "type": "bar"
           }
          ],
          "barpolar": [
           {
            "marker": {
             "line": {
              "color": "#E5ECF6",
              "width": 0.5
             }
            },
            "type": "barpolar"
           }
          ],
          "carpet": [
           {
            "aaxis": {
             "endlinecolor": "#2a3f5f",
             "gridcolor": "white",
             "linecolor": "white",
             "minorgridcolor": "white",
             "startlinecolor": "#2a3f5f"
            },
            "baxis": {
             "endlinecolor": "#2a3f5f",
             "gridcolor": "white",
             "linecolor": "white",
             "minorgridcolor": "white",
             "startlinecolor": "#2a3f5f"
            },
            "type": "carpet"
           }
          ],
          "choropleth": [
           {
            "colorbar": {
             "outlinewidth": 0,
             "ticks": ""
            },
            "type": "choropleth"
           }
          ],
          "contour": [
           {
            "colorbar": {
             "outlinewidth": 0,
             "ticks": ""
            },
            "colorscale": [
             [
              0,
              "#0d0887"
             ],
             [
              0.1111111111111111,
              "#46039f"
             ],
             [
              0.2222222222222222,
              "#7201a8"
             ],
             [
              0.3333333333333333,
              "#9c179e"
             ],
             [
              0.4444444444444444,
              "#bd3786"
             ],
             [
              0.5555555555555556,
              "#d8576b"
             ],
             [
              0.6666666666666666,
              "#ed7953"
             ],
             [
              0.7777777777777778,
              "#fb9f3a"
             ],
             [
              0.8888888888888888,
              "#fdca26"
             ],
             [
              1,
              "#f0f921"
             ]
            ],
            "type": "contour"
           }
          ],
          "contourcarpet": [
           {
            "colorbar": {
             "outlinewidth": 0,
             "ticks": ""
            },
            "type": "contourcarpet"
           }
          ],
          "heatmap": [
           {
            "colorbar": {
             "outlinewidth": 0,
             "ticks": ""
            },
            "colorscale": [
             [
              0,
              "#0d0887"
             ],
             [
              0.1111111111111111,
              "#46039f"
             ],
             [
              0.2222222222222222,
              "#7201a8"
             ],
             [
              0.3333333333333333,
              "#9c179e"
             ],
             [
              0.4444444444444444,
              "#bd3786"
             ],
             [
              0.5555555555555556,
              "#d8576b"
             ],
             [
              0.6666666666666666,
              "#ed7953"
             ],
             [
              0.7777777777777778,
              "#fb9f3a"
             ],
             [
              0.8888888888888888,
              "#fdca26"
             ],
             [
              1,
              "#f0f921"
             ]
            ],
            "type": "heatmap"
           }
          ],
          "heatmapgl": [
           {
            "colorbar": {
             "outlinewidth": 0,
             "ticks": ""
            },
            "colorscale": [
             [
              0,
              "#0d0887"
             ],
             [
              0.1111111111111111,
              "#46039f"
             ],
             [
              0.2222222222222222,
              "#7201a8"
             ],
             [
              0.3333333333333333,
              "#9c179e"
             ],
             [
              0.4444444444444444,
              "#bd3786"
             ],
             [
              0.5555555555555556,
              "#d8576b"
             ],
             [
              0.6666666666666666,
              "#ed7953"
             ],
             [
              0.7777777777777778,
              "#fb9f3a"
             ],
             [
              0.8888888888888888,
              "#fdca26"
             ],
             [
              1,
              "#f0f921"
             ]
            ],
            "type": "heatmapgl"
           }
          ],
          "histogram": [
           {
            "marker": {
             "colorbar": {
              "outlinewidth": 0,
              "ticks": ""
             }
            },
            "type": "histogram"
           }
          ],
          "histogram2d": [
           {
            "colorbar": {
             "outlinewidth": 0,
             "ticks": ""
            },
            "colorscale": [
             [
              0,
              "#0d0887"
             ],
             [
              0.1111111111111111,
              "#46039f"
             ],
             [
              0.2222222222222222,
              "#7201a8"
             ],
             [
              0.3333333333333333,
              "#9c179e"
             ],
             [
              0.4444444444444444,
              "#bd3786"
             ],
             [
              0.5555555555555556,
              "#d8576b"
             ],
             [
              0.6666666666666666,
              "#ed7953"
             ],
             [
              0.7777777777777778,
              "#fb9f3a"
             ],
             [
              0.8888888888888888,
              "#fdca26"
             ],
             [
              1,
              "#f0f921"
             ]
            ],
            "type": "histogram2d"
           }
          ],
          "histogram2dcontour": [
           {
            "colorbar": {
             "outlinewidth": 0,
             "ticks": ""
            },
            "colorscale": [
             [
              0,
              "#0d0887"
             ],
             [
              0.1111111111111111,
              "#46039f"
             ],
             [
              0.2222222222222222,
              "#7201a8"
             ],
             [
              0.3333333333333333,
              "#9c179e"
             ],
             [
              0.4444444444444444,
              "#bd3786"
             ],
             [
              0.5555555555555556,
              "#d8576b"
             ],
             [
              0.6666666666666666,
              "#ed7953"
             ],
             [
              0.7777777777777778,
              "#fb9f3a"
             ],
             [
              0.8888888888888888,
              "#fdca26"
             ],
             [
              1,
              "#f0f921"
             ]
            ],
            "type": "histogram2dcontour"
           }
          ],
          "mesh3d": [
           {
            "colorbar": {
             "outlinewidth": 0,
             "ticks": ""
            },
            "type": "mesh3d"
           }
          ],
          "parcoords": [
           {
            "line": {
             "colorbar": {
              "outlinewidth": 0,
              "ticks": ""
             }
            },
            "type": "parcoords"
           }
          ],
          "scatter": [
           {
            "marker": {
             "colorbar": {
              "outlinewidth": 0,
              "ticks": ""
             }
            },
            "type": "scatter"
           }
          ],
          "scatter3d": [
           {
            "line": {
             "colorbar": {
              "outlinewidth": 0,
              "ticks": ""
             }
            },
            "marker": {
             "colorbar": {
              "outlinewidth": 0,
              "ticks": ""
             }
            },
            "type": "scatter3d"
           }
          ],
          "scattercarpet": [
           {
            "marker": {
             "colorbar": {
              "outlinewidth": 0,
              "ticks": ""
             }
            },
            "type": "scattercarpet"
           }
          ],
          "scattergeo": [
           {
            "marker": {
             "colorbar": {
              "outlinewidth": 0,
              "ticks": ""
             }
            },
            "type": "scattergeo"
           }
          ],
          "scattergl": [
           {
            "marker": {
             "colorbar": {
              "outlinewidth": 0,
              "ticks": ""
             }
            },
            "type": "scattergl"
           }
          ],
          "scattermapbox": [
           {
            "marker": {
             "colorbar": {
              "outlinewidth": 0,
              "ticks": ""
             }
            },
            "type": "scattermapbox"
           }
          ],
          "scatterpolar": [
           {
            "marker": {
             "colorbar": {
              "outlinewidth": 0,
              "ticks": ""
             }
            },
            "type": "scatterpolar"
           }
          ],
          "scatterpolargl": [
           {
            "marker": {
             "colorbar": {
              "outlinewidth": 0,
              "ticks": ""
             }
            },
            "type": "scatterpolargl"
           }
          ],
          "scatterternary": [
           {
            "marker": {
             "colorbar": {
              "outlinewidth": 0,
              "ticks": ""
             }
            },
            "type": "scatterternary"
           }
          ],
          "surface": [
           {
            "colorbar": {
             "outlinewidth": 0,
             "ticks": ""
            },
            "colorscale": [
             [
              0,
              "#0d0887"
             ],
             [
              0.1111111111111111,
              "#46039f"
             ],
             [
              0.2222222222222222,
              "#7201a8"
             ],
             [
              0.3333333333333333,
              "#9c179e"
             ],
             [
              0.4444444444444444,
              "#bd3786"
             ],
             [
              0.5555555555555556,
              "#d8576b"
             ],
             [
              0.6666666666666666,
              "#ed7953"
             ],
             [
              0.7777777777777778,
              "#fb9f3a"
             ],
             [
              0.8888888888888888,
              "#fdca26"
             ],
             [
              1,
              "#f0f921"
             ]
            ],
            "type": "surface"
           }
          ],
          "table": [
           {
            "cells": {
             "fill": {
              "color": "#EBF0F8"
             },
             "line": {
              "color": "white"
             }
            },
            "header": {
             "fill": {
              "color": "#C8D4E3"
             },
             "line": {
              "color": "white"
             }
            },
            "type": "table"
           }
          ]
         },
         "layout": {
          "annotationdefaults": {
           "arrowcolor": "#2a3f5f",
           "arrowhead": 0,
           "arrowwidth": 1
          },
          "colorscale": {
           "diverging": [
            [
             0,
             "#8e0152"
            ],
            [
             0.1,
             "#c51b7d"
            ],
            [
             0.2,
             "#de77ae"
            ],
            [
             0.3,
             "#f1b6da"
            ],
            [
             0.4,
             "#fde0ef"
            ],
            [
             0.5,
             "#f7f7f7"
            ],
            [
             0.6,
             "#e6f5d0"
            ],
            [
             0.7,
             "#b8e186"
            ],
            [
             0.8,
             "#7fbc41"
            ],
            [
             0.9,
             "#4d9221"
            ],
            [
             1,
             "#276419"
            ]
           ],
           "sequential": [
            [
             0,
             "#0d0887"
            ],
            [
             0.1111111111111111,
             "#46039f"
            ],
            [
             0.2222222222222222,
             "#7201a8"
            ],
            [
             0.3333333333333333,
             "#9c179e"
            ],
            [
             0.4444444444444444,
             "#bd3786"
            ],
            [
             0.5555555555555556,
             "#d8576b"
            ],
            [
             0.6666666666666666,
             "#ed7953"
            ],
            [
             0.7777777777777778,
             "#fb9f3a"
            ],
            [
             0.8888888888888888,
             "#fdca26"
            ],
            [
             1,
             "#f0f921"
            ]
           ],
           "sequentialminus": [
            [
             0,
             "#0d0887"
            ],
            [
             0.1111111111111111,
             "#46039f"
            ],
            [
             0.2222222222222222,
             "#7201a8"
            ],
            [
             0.3333333333333333,
             "#9c179e"
            ],
            [
             0.4444444444444444,
             "#bd3786"
            ],
            [
             0.5555555555555556,
             "#d8576b"
            ],
            [
             0.6666666666666666,
             "#ed7953"
            ],
            [
             0.7777777777777778,
             "#fb9f3a"
            ],
            [
             0.8888888888888888,
             "#fdca26"
            ],
            [
             1,
             "#f0f921"
            ]
           ]
          },
          "colorway": [
           "#636efa",
           "#EF553B",
           "#00cc96",
           "#ab63fa",
           "#FFA15A",
           "#19d3f3",
           "#FF6692",
           "#B6E880",
           "#FF97FF",
           "#FECB52"
          ],
          "font": {
           "color": "#2a3f5f"
          },
          "geo": {
           "bgcolor": "white",
           "lakecolor": "white",
           "landcolor": "#E5ECF6",
           "showlakes": true,
           "showland": true,
           "subunitcolor": "white"
          },
          "hoverlabel": {
           "align": "left"
          },
          "hovermode": "closest",
          "mapbox": {
           "style": "light"
          },
          "paper_bgcolor": "white",
          "plot_bgcolor": "#E5ECF6",
          "polar": {
           "angularaxis": {
            "gridcolor": "white",
            "linecolor": "white",
            "ticks": ""
           },
           "bgcolor": "#E5ECF6",
           "radialaxis": {
            "gridcolor": "white",
            "linecolor": "white",
            "ticks": ""
           }
          },
          "scene": {
           "xaxis": {
            "backgroundcolor": "#E5ECF6",
            "gridcolor": "white",
            "gridwidth": 2,
            "linecolor": "white",
            "showbackground": true,
            "ticks": "",
            "zerolinecolor": "white"
           },
           "yaxis": {
            "backgroundcolor": "#E5ECF6",
            "gridcolor": "white",
            "gridwidth": 2,
            "linecolor": "white",
            "showbackground": true,
            "ticks": "",
            "zerolinecolor": "white"
           },
           "zaxis": {
            "backgroundcolor": "#E5ECF6",
            "gridcolor": "white",
            "gridwidth": 2,
            "linecolor": "white",
            "showbackground": true,
            "ticks": "",
            "zerolinecolor": "white"
           }
          },
          "shapedefaults": {
           "line": {
            "color": "#2a3f5f"
           }
          },
          "ternary": {
           "aaxis": {
            "gridcolor": "white",
            "linecolor": "white",
            "ticks": ""
           },
           "baxis": {
            "gridcolor": "white",
            "linecolor": "white",
            "ticks": ""
           },
           "bgcolor": "#E5ECF6",
           "caxis": {
            "gridcolor": "white",
            "linecolor": "white",
            "ticks": ""
           }
          },
          "title": {
           "x": 0.05
          },
          "xaxis": {
           "automargin": true,
           "gridcolor": "white",
           "linecolor": "white",
           "ticks": "",
           "zerolinecolor": "white",
           "zerolinewidth": 2
          },
          "yaxis": {
           "automargin": true,
           "gridcolor": "white",
           "linecolor": "white",
           "ticks": "",
           "zerolinecolor": "white",
           "zerolinewidth": 2
          }
         }
        },
        "title": {
         "text": "Simple Sales funnel for group A",
         "x": 0.5,
         "xanchor": "center",
         "y": 0.9,
         "yanchor": "top"
        }
       }
      },
      "text/html": [
       "<div>\n",
       "        \n",
       "        \n",
       "            <div id=\"16694fb0-fc56-46e0-830f-3666485334cb\" class=\"plotly-graph-div\" style=\"height:525px; width:100%;\"></div>\n",
       "            <script type=\"text/javascript\">\n",
       "                require([\"plotly\"], function(Plotly) {\n",
       "                    window.PLOTLYENV=window.PLOTLYENV || {};\n",
       "                    \n",
       "                if (document.getElementById(\"16694fb0-fc56-46e0-830f-3666485334cb\")) {\n",
       "                    Plotly.newPlot(\n",
       "                        '16694fb0-fc56-46e0-830f-3666485334cb',\n",
       "                        [{\"textinfo\": \"value+percent initial\", \"textposition\": \"inside\", \"type\": \"funnel\", \"x\": [4521, 3031, 704, 97], \"y\": [\"login\", \"product_page\", \"product_cart\", \"purchase\"]}],\n",
       "                        {\"template\": {\"data\": {\"bar\": [{\"error_x\": {\"color\": \"#2a3f5f\"}, \"error_y\": {\"color\": \"#2a3f5f\"}, \"marker\": {\"line\": {\"color\": \"#E5ECF6\", \"width\": 0.5}}, \"type\": \"bar\"}], \"barpolar\": [{\"marker\": {\"line\": {\"color\": \"#E5ECF6\", \"width\": 0.5}}, \"type\": \"barpolar\"}], \"carpet\": [{\"aaxis\": {\"endlinecolor\": \"#2a3f5f\", \"gridcolor\": \"white\", \"linecolor\": \"white\", \"minorgridcolor\": \"white\", \"startlinecolor\": \"#2a3f5f\"}, \"baxis\": {\"endlinecolor\": \"#2a3f5f\", \"gridcolor\": \"white\", \"linecolor\": \"white\", \"minorgridcolor\": \"white\", \"startlinecolor\": \"#2a3f5f\"}, \"type\": \"carpet\"}], \"choropleth\": [{\"colorbar\": {\"outlinewidth\": 0, \"ticks\": \"\"}, \"type\": \"choropleth\"}], \"contour\": [{\"colorbar\": {\"outlinewidth\": 0, \"ticks\": \"\"}, \"colorscale\": [[0.0, \"#0d0887\"], [0.1111111111111111, \"#46039f\"], [0.2222222222222222, \"#7201a8\"], [0.3333333333333333, \"#9c179e\"], [0.4444444444444444, \"#bd3786\"], [0.5555555555555556, \"#d8576b\"], [0.6666666666666666, \"#ed7953\"], [0.7777777777777778, \"#fb9f3a\"], [0.8888888888888888, \"#fdca26\"], [1.0, \"#f0f921\"]], \"type\": \"contour\"}], \"contourcarpet\": [{\"colorbar\": {\"outlinewidth\": 0, \"ticks\": \"\"}, \"type\": \"contourcarpet\"}], \"heatmap\": [{\"colorbar\": {\"outlinewidth\": 0, \"ticks\": \"\"}, \"colorscale\": [[0.0, \"#0d0887\"], [0.1111111111111111, \"#46039f\"], [0.2222222222222222, \"#7201a8\"], [0.3333333333333333, \"#9c179e\"], [0.4444444444444444, \"#bd3786\"], [0.5555555555555556, \"#d8576b\"], [0.6666666666666666, \"#ed7953\"], [0.7777777777777778, \"#fb9f3a\"], [0.8888888888888888, \"#fdca26\"], [1.0, \"#f0f921\"]], \"type\": \"heatmap\"}], \"heatmapgl\": [{\"colorbar\": {\"outlinewidth\": 0, \"ticks\": \"\"}, \"colorscale\": [[0.0, \"#0d0887\"], [0.1111111111111111, \"#46039f\"], [0.2222222222222222, \"#7201a8\"], [0.3333333333333333, \"#9c179e\"], [0.4444444444444444, \"#bd3786\"], [0.5555555555555556, \"#d8576b\"], [0.6666666666666666, \"#ed7953\"], [0.7777777777777778, \"#fb9f3a\"], [0.8888888888888888, \"#fdca26\"], [1.0, \"#f0f921\"]], \"type\": \"heatmapgl\"}], \"histogram\": [{\"marker\": {\"colorbar\": {\"outlinewidth\": 0, \"ticks\": \"\"}}, \"type\": \"histogram\"}], \"histogram2d\": [{\"colorbar\": {\"outlinewidth\": 0, \"ticks\": \"\"}, \"colorscale\": [[0.0, \"#0d0887\"], [0.1111111111111111, \"#46039f\"], [0.2222222222222222, \"#7201a8\"], [0.3333333333333333, \"#9c179e\"], [0.4444444444444444, \"#bd3786\"], [0.5555555555555556, \"#d8576b\"], [0.6666666666666666, \"#ed7953\"], [0.7777777777777778, \"#fb9f3a\"], [0.8888888888888888, \"#fdca26\"], [1.0, \"#f0f921\"]], \"type\": \"histogram2d\"}], \"histogram2dcontour\": [{\"colorbar\": {\"outlinewidth\": 0, \"ticks\": \"\"}, \"colorscale\": [[0.0, \"#0d0887\"], [0.1111111111111111, \"#46039f\"], [0.2222222222222222, \"#7201a8\"], [0.3333333333333333, \"#9c179e\"], [0.4444444444444444, \"#bd3786\"], [0.5555555555555556, \"#d8576b\"], [0.6666666666666666, \"#ed7953\"], [0.7777777777777778, \"#fb9f3a\"], [0.8888888888888888, \"#fdca26\"], [1.0, \"#f0f921\"]], \"type\": \"histogram2dcontour\"}], \"mesh3d\": [{\"colorbar\": {\"outlinewidth\": 0, \"ticks\": \"\"}, \"type\": \"mesh3d\"}], \"parcoords\": [{\"line\": {\"colorbar\": {\"outlinewidth\": 0, \"ticks\": \"\"}}, \"type\": \"parcoords\"}], \"scatter\": [{\"marker\": {\"colorbar\": {\"outlinewidth\": 0, \"ticks\": \"\"}}, \"type\": \"scatter\"}], \"scatter3d\": [{\"line\": {\"colorbar\": {\"outlinewidth\": 0, \"ticks\": \"\"}}, \"marker\": {\"colorbar\": {\"outlinewidth\": 0, \"ticks\": \"\"}}, \"type\": \"scatter3d\"}], \"scattercarpet\": [{\"marker\": {\"colorbar\": {\"outlinewidth\": 0, \"ticks\": \"\"}}, \"type\": \"scattercarpet\"}], \"scattergeo\": [{\"marker\": {\"colorbar\": {\"outlinewidth\": 0, \"ticks\": \"\"}}, \"type\": \"scattergeo\"}], \"scattergl\": [{\"marker\": {\"colorbar\": {\"outlinewidth\": 0, \"ticks\": \"\"}}, \"type\": \"scattergl\"}], \"scattermapbox\": [{\"marker\": {\"colorbar\": {\"outlinewidth\": 0, \"ticks\": \"\"}}, \"type\": \"scattermapbox\"}], \"scatterpolar\": [{\"marker\": {\"colorbar\": {\"outlinewidth\": 0, \"ticks\": \"\"}}, \"type\": \"scatterpolar\"}], \"scatterpolargl\": [{\"marker\": {\"colorbar\": {\"outlinewidth\": 0, \"ticks\": \"\"}}, \"type\": \"scatterpolargl\"}], \"scatterternary\": [{\"marker\": {\"colorbar\": {\"outlinewidth\": 0, \"ticks\": \"\"}}, \"type\": \"scatterternary\"}], \"surface\": [{\"colorbar\": {\"outlinewidth\": 0, \"ticks\": \"\"}, \"colorscale\": [[0.0, \"#0d0887\"], [0.1111111111111111, \"#46039f\"], [0.2222222222222222, \"#7201a8\"], [0.3333333333333333, \"#9c179e\"], [0.4444444444444444, \"#bd3786\"], [0.5555555555555556, \"#d8576b\"], [0.6666666666666666, \"#ed7953\"], [0.7777777777777778, \"#fb9f3a\"], [0.8888888888888888, \"#fdca26\"], [1.0, \"#f0f921\"]], \"type\": \"surface\"}], \"table\": [{\"cells\": {\"fill\": {\"color\": \"#EBF0F8\"}, \"line\": {\"color\": \"white\"}}, \"header\": {\"fill\": {\"color\": \"#C8D4E3\"}, \"line\": {\"color\": \"white\"}}, \"type\": \"table\"}]}, \"layout\": {\"annotationdefaults\": {\"arrowcolor\": \"#2a3f5f\", \"arrowhead\": 0, \"arrowwidth\": 1}, \"colorscale\": {\"diverging\": [[0, \"#8e0152\"], [0.1, \"#c51b7d\"], [0.2, \"#de77ae\"], [0.3, \"#f1b6da\"], [0.4, \"#fde0ef\"], [0.5, \"#f7f7f7\"], [0.6, \"#e6f5d0\"], [0.7, \"#b8e186\"], [0.8, \"#7fbc41\"], [0.9, \"#4d9221\"], [1, \"#276419\"]], \"sequential\": [[0.0, \"#0d0887\"], [0.1111111111111111, \"#46039f\"], [0.2222222222222222, \"#7201a8\"], [0.3333333333333333, \"#9c179e\"], [0.4444444444444444, \"#bd3786\"], [0.5555555555555556, \"#d8576b\"], [0.6666666666666666, \"#ed7953\"], [0.7777777777777778, \"#fb9f3a\"], [0.8888888888888888, \"#fdca26\"], [1.0, \"#f0f921\"]], \"sequentialminus\": [[0.0, \"#0d0887\"], [0.1111111111111111, \"#46039f\"], [0.2222222222222222, \"#7201a8\"], [0.3333333333333333, \"#9c179e\"], [0.4444444444444444, \"#bd3786\"], [0.5555555555555556, \"#d8576b\"], [0.6666666666666666, \"#ed7953\"], [0.7777777777777778, \"#fb9f3a\"], [0.8888888888888888, \"#fdca26\"], [1.0, \"#f0f921\"]]}, \"colorway\": [\"#636efa\", \"#EF553B\", \"#00cc96\", \"#ab63fa\", \"#FFA15A\", \"#19d3f3\", \"#FF6692\", \"#B6E880\", \"#FF97FF\", \"#FECB52\"], \"font\": {\"color\": \"#2a3f5f\"}, \"geo\": {\"bgcolor\": \"white\", \"lakecolor\": \"white\", \"landcolor\": \"#E5ECF6\", \"showlakes\": true, \"showland\": true, \"subunitcolor\": \"white\"}, \"hoverlabel\": {\"align\": \"left\"}, \"hovermode\": \"closest\", \"mapbox\": {\"style\": \"light\"}, \"paper_bgcolor\": \"white\", \"plot_bgcolor\": \"#E5ECF6\", \"polar\": {\"angularaxis\": {\"gridcolor\": \"white\", \"linecolor\": \"white\", \"ticks\": \"\"}, \"bgcolor\": \"#E5ECF6\", \"radialaxis\": {\"gridcolor\": \"white\", \"linecolor\": \"white\", \"ticks\": \"\"}}, \"scene\": {\"xaxis\": {\"backgroundcolor\": \"#E5ECF6\", \"gridcolor\": \"white\", \"gridwidth\": 2, \"linecolor\": \"white\", \"showbackground\": true, \"ticks\": \"\", \"zerolinecolor\": \"white\"}, \"yaxis\": {\"backgroundcolor\": \"#E5ECF6\", \"gridcolor\": \"white\", \"gridwidth\": 2, \"linecolor\": \"white\", \"showbackground\": true, \"ticks\": \"\", \"zerolinecolor\": \"white\"}, \"zaxis\": {\"backgroundcolor\": \"#E5ECF6\", \"gridcolor\": \"white\", \"gridwidth\": 2, \"linecolor\": \"white\", \"showbackground\": true, \"ticks\": \"\", \"zerolinecolor\": \"white\"}}, \"shapedefaults\": {\"line\": {\"color\": \"#2a3f5f\"}}, \"ternary\": {\"aaxis\": {\"gridcolor\": \"white\", \"linecolor\": \"white\", \"ticks\": \"\"}, \"baxis\": {\"gridcolor\": \"white\", \"linecolor\": \"white\", \"ticks\": \"\"}, \"bgcolor\": \"#E5ECF6\", \"caxis\": {\"gridcolor\": \"white\", \"linecolor\": \"white\", \"ticks\": \"\"}}, \"title\": {\"x\": 0.05}, \"xaxis\": {\"automargin\": true, \"gridcolor\": \"white\", \"linecolor\": \"white\", \"ticks\": \"\", \"zerolinecolor\": \"white\", \"zerolinewidth\": 2}, \"yaxis\": {\"automargin\": true, \"gridcolor\": \"white\", \"linecolor\": \"white\", \"ticks\": \"\", \"zerolinecolor\": \"white\", \"zerolinewidth\": 2}}}, \"title\": {\"text\": \"Simple Sales funnel for group A\", \"x\": 0.5, \"xanchor\": \"center\", \"y\": 0.9, \"yanchor\": \"top\"}},\n",
       "                        {\"responsive\": true}\n",
       "                    ).then(function(){\n",
       "                            \n",
       "var gd = document.getElementById('16694fb0-fc56-46e0-830f-3666485334cb');\n",
       "var x = new MutationObserver(function (mutations, observer) {{\n",
       "        var display = window.getComputedStyle(gd).display;\n",
       "        if (!display || display === 'none') {{\n",
       "            console.log([gd, 'removed!']);\n",
       "            Plotly.purge(gd);\n",
       "            observer.disconnect();\n",
       "        }}\n",
       "}});\n",
       "\n",
       "// Listen for the removal of the full notebook cells\n",
       "var notebookContainer = gd.closest('#notebook-container');\n",
       "if (notebookContainer) {{\n",
       "    x.observe(notebookContainer, {childList: true});\n",
       "}}\n",
       "\n",
       "// Listen for the clearing of the current output cell\n",
       "var outputEl = gd.closest('.output');\n",
       "if (outputEl) {{\n",
       "    x.observe(outputEl, {childList: true});\n",
       "}}\n",
       "\n",
       "                        })\n",
       "                };\n",
       "                });\n",
       "            </script>\n",
       "        </div>"
      ]
     },
     "metadata": {},
     "output_type": "display_data"
    }
   ],
   "source": [
    "#calculating the users at each stage of the funnel for group A\n",
    "users_A = interface_A.pivot_table(\n",
    "    index='user_id', \n",
    "    columns='event_name', \n",
    "    values='event_dt',\n",
    "    aggfunc='min') \n",
    "\n",
    "step_1 = ~users_A['login'].isna()\n",
    "step_2 = step_1 & (users_A['product_page'] >= users_A['login'])\n",
    "step_3 = step_2 & (users_A['product_cart'] >= users_A['product_page'])\n",
    "step_4 = step_3 & (users_A['purchase'] >= users_A['product_cart'])\n",
    "\n",
    "n_login_A = users_A[step_1].shape[0]\n",
    "n_product_A = users_A[step_2].shape[0]\n",
    "n_cart_A = users_A[step_3].shape[0]\n",
    "n_purchase_A = users_A[step_4].shape[0]\n",
    "\n",
    "print('login:', n_login_A)\n",
    "print('product_page:', n_product_A)\n",
    "print('product_cart:', n_cart_A)\n",
    "print('purchase:', n_purchase_A) \n",
    "\n",
    "#visualize the funnel\n",
    "fig_A_interface = go.Figure(go.Funnel(\n",
    "    y=[\"login\", \"product_page\", \"product_cart\", \"purchase\"],\n",
    "    x=[n_login_A, n_product_A,  n_cart_A, n_purchase_A],\n",
    "    textposition=\"inside\",\n",
    "    textinfo=\"value+percent initial\"\n",
    "))\n",
    "\n",
    "fig_A_interface.update_layout(title={\n",
    "    'text': \"Simple Sales funnel for group A\",\n",
    "    'y': 0.9,\n",
    "    'x': 0.5,\n",
    "    'xanchor': 'center',\n",
    "    'yanchor': 'top'})\n",
    "\n",
    "fig_A_interface.show()"
   ]
  },
  {
   "cell_type": "code",
   "execution_count": 95,
   "metadata": {},
   "outputs": [
    {
     "name": "stdout",
     "output_type": "stream",
     "text": [
      "login: 4439\n",
      "product_page: 2914\n",
      "product_cart: 713\n",
      "purchase: 85\n"
     ]
    },
    {
     "data": {
      "application/vnd.plotly.v1+json": {
       "config": {
        "plotlyServerURL": "https://plot.ly"
       },
       "data": [
        {
         "textinfo": "value+percent initial",
         "textposition": "inside",
         "type": "funnel",
         "x": [
          4439,
          2914,
          713,
          85
         ],
         "y": [
          "login",
          "product_page",
          "product_cart",
          "purchase"
         ]
        }
       ],
       "layout": {
        "template": {
         "data": {
          "bar": [
           {
            "error_x": {
             "color": "#2a3f5f"
            },
            "error_y": {
             "color": "#2a3f5f"
            },
            "marker": {
             "line": {
              "color": "#E5ECF6",
              "width": 0.5
             }
            },
            "type": "bar"
           }
          ],
          "barpolar": [
           {
            "marker": {
             "line": {
              "color": "#E5ECF6",
              "width": 0.5
             }
            },
            "type": "barpolar"
           }
          ],
          "carpet": [
           {
            "aaxis": {
             "endlinecolor": "#2a3f5f",
             "gridcolor": "white",
             "linecolor": "white",
             "minorgridcolor": "white",
             "startlinecolor": "#2a3f5f"
            },
            "baxis": {
             "endlinecolor": "#2a3f5f",
             "gridcolor": "white",
             "linecolor": "white",
             "minorgridcolor": "white",
             "startlinecolor": "#2a3f5f"
            },
            "type": "carpet"
           }
          ],
          "choropleth": [
           {
            "colorbar": {
             "outlinewidth": 0,
             "ticks": ""
            },
            "type": "choropleth"
           }
          ],
          "contour": [
           {
            "colorbar": {
             "outlinewidth": 0,
             "ticks": ""
            },
            "colorscale": [
             [
              0,
              "#0d0887"
             ],
             [
              0.1111111111111111,
              "#46039f"
             ],
             [
              0.2222222222222222,
              "#7201a8"
             ],
             [
              0.3333333333333333,
              "#9c179e"
             ],
             [
              0.4444444444444444,
              "#bd3786"
             ],
             [
              0.5555555555555556,
              "#d8576b"
             ],
             [
              0.6666666666666666,
              "#ed7953"
             ],
             [
              0.7777777777777778,
              "#fb9f3a"
             ],
             [
              0.8888888888888888,
              "#fdca26"
             ],
             [
              1,
              "#f0f921"
             ]
            ],
            "type": "contour"
           }
          ],
          "contourcarpet": [
           {
            "colorbar": {
             "outlinewidth": 0,
             "ticks": ""
            },
            "type": "contourcarpet"
           }
          ],
          "heatmap": [
           {
            "colorbar": {
             "outlinewidth": 0,
             "ticks": ""
            },
            "colorscale": [
             [
              0,
              "#0d0887"
             ],
             [
              0.1111111111111111,
              "#46039f"
             ],
             [
              0.2222222222222222,
              "#7201a8"
             ],
             [
              0.3333333333333333,
              "#9c179e"
             ],
             [
              0.4444444444444444,
              "#bd3786"
             ],
             [
              0.5555555555555556,
              "#d8576b"
             ],
             [
              0.6666666666666666,
              "#ed7953"
             ],
             [
              0.7777777777777778,
              "#fb9f3a"
             ],
             [
              0.8888888888888888,
              "#fdca26"
             ],
             [
              1,
              "#f0f921"
             ]
            ],
            "type": "heatmap"
           }
          ],
          "heatmapgl": [
           {
            "colorbar": {
             "outlinewidth": 0,
             "ticks": ""
            },
            "colorscale": [
             [
              0,
              "#0d0887"
             ],
             [
              0.1111111111111111,
              "#46039f"
             ],
             [
              0.2222222222222222,
              "#7201a8"
             ],
             [
              0.3333333333333333,
              "#9c179e"
             ],
             [
              0.4444444444444444,
              "#bd3786"
             ],
             [
              0.5555555555555556,
              "#d8576b"
             ],
             [
              0.6666666666666666,
              "#ed7953"
             ],
             [
              0.7777777777777778,
              "#fb9f3a"
             ],
             [
              0.8888888888888888,
              "#fdca26"
             ],
             [
              1,
              "#f0f921"
             ]
            ],
            "type": "heatmapgl"
           }
          ],
          "histogram": [
           {
            "marker": {
             "colorbar": {
              "outlinewidth": 0,
              "ticks": ""
             }
            },
            "type": "histogram"
           }
          ],
          "histogram2d": [
           {
            "colorbar": {
             "outlinewidth": 0,
             "ticks": ""
            },
            "colorscale": [
             [
              0,
              "#0d0887"
             ],
             [
              0.1111111111111111,
              "#46039f"
             ],
             [
              0.2222222222222222,
              "#7201a8"
             ],
             [
              0.3333333333333333,
              "#9c179e"
             ],
             [
              0.4444444444444444,
              "#bd3786"
             ],
             [
              0.5555555555555556,
              "#d8576b"
             ],
             [
              0.6666666666666666,
              "#ed7953"
             ],
             [
              0.7777777777777778,
              "#fb9f3a"
             ],
             [
              0.8888888888888888,
              "#fdca26"
             ],
             [
              1,
              "#f0f921"
             ]
            ],
            "type": "histogram2d"
           }
          ],
          "histogram2dcontour": [
           {
            "colorbar": {
             "outlinewidth": 0,
             "ticks": ""
            },
            "colorscale": [
             [
              0,
              "#0d0887"
             ],
             [
              0.1111111111111111,
              "#46039f"
             ],
             [
              0.2222222222222222,
              "#7201a8"
             ],
             [
              0.3333333333333333,
              "#9c179e"
             ],
             [
              0.4444444444444444,
              "#bd3786"
             ],
             [
              0.5555555555555556,
              "#d8576b"
             ],
             [
              0.6666666666666666,
              "#ed7953"
             ],
             [
              0.7777777777777778,
              "#fb9f3a"
             ],
             [
              0.8888888888888888,
              "#fdca26"
             ],
             [
              1,
              "#f0f921"
             ]
            ],
            "type": "histogram2dcontour"
           }
          ],
          "mesh3d": [
           {
            "colorbar": {
             "outlinewidth": 0,
             "ticks": ""
            },
            "type": "mesh3d"
           }
          ],
          "parcoords": [
           {
            "line": {
             "colorbar": {
              "outlinewidth": 0,
              "ticks": ""
             }
            },
            "type": "parcoords"
           }
          ],
          "scatter": [
           {
            "marker": {
             "colorbar": {
              "outlinewidth": 0,
              "ticks": ""
             }
            },
            "type": "scatter"
           }
          ],
          "scatter3d": [
           {
            "line": {
             "colorbar": {
              "outlinewidth": 0,
              "ticks": ""
             }
            },
            "marker": {
             "colorbar": {
              "outlinewidth": 0,
              "ticks": ""
             }
            },
            "type": "scatter3d"
           }
          ],
          "scattercarpet": [
           {
            "marker": {
             "colorbar": {
              "outlinewidth": 0,
              "ticks": ""
             }
            },
            "type": "scattercarpet"
           }
          ],
          "scattergeo": [
           {
            "marker": {
             "colorbar": {
              "outlinewidth": 0,
              "ticks": ""
             }
            },
            "type": "scattergeo"
           }
          ],
          "scattergl": [
           {
            "marker": {
             "colorbar": {
              "outlinewidth": 0,
              "ticks": ""
             }
            },
            "type": "scattergl"
           }
          ],
          "scattermapbox": [
           {
            "marker": {
             "colorbar": {
              "outlinewidth": 0,
              "ticks": ""
             }
            },
            "type": "scattermapbox"
           }
          ],
          "scatterpolar": [
           {
            "marker": {
             "colorbar": {
              "outlinewidth": 0,
              "ticks": ""
             }
            },
            "type": "scatterpolar"
           }
          ],
          "scatterpolargl": [
           {
            "marker": {
             "colorbar": {
              "outlinewidth": 0,
              "ticks": ""
             }
            },
            "type": "scatterpolargl"
           }
          ],
          "scatterternary": [
           {
            "marker": {
             "colorbar": {
              "outlinewidth": 0,
              "ticks": ""
             }
            },
            "type": "scatterternary"
           }
          ],
          "surface": [
           {
            "colorbar": {
             "outlinewidth": 0,
             "ticks": ""
            },
            "colorscale": [
             [
              0,
              "#0d0887"
             ],
             [
              0.1111111111111111,
              "#46039f"
             ],
             [
              0.2222222222222222,
              "#7201a8"
             ],
             [
              0.3333333333333333,
              "#9c179e"
             ],
             [
              0.4444444444444444,
              "#bd3786"
             ],
             [
              0.5555555555555556,
              "#d8576b"
             ],
             [
              0.6666666666666666,
              "#ed7953"
             ],
             [
              0.7777777777777778,
              "#fb9f3a"
             ],
             [
              0.8888888888888888,
              "#fdca26"
             ],
             [
              1,
              "#f0f921"
             ]
            ],
            "type": "surface"
           }
          ],
          "table": [
           {
            "cells": {
             "fill": {
              "color": "#EBF0F8"
             },
             "line": {
              "color": "white"
             }
            },
            "header": {
             "fill": {
              "color": "#C8D4E3"
             },
             "line": {
              "color": "white"
             }
            },
            "type": "table"
           }
          ]
         },
         "layout": {
          "annotationdefaults": {
           "arrowcolor": "#2a3f5f",
           "arrowhead": 0,
           "arrowwidth": 1
          },
          "colorscale": {
           "diverging": [
            [
             0,
             "#8e0152"
            ],
            [
             0.1,
             "#c51b7d"
            ],
            [
             0.2,
             "#de77ae"
            ],
            [
             0.3,
             "#f1b6da"
            ],
            [
             0.4,
             "#fde0ef"
            ],
            [
             0.5,
             "#f7f7f7"
            ],
            [
             0.6,
             "#e6f5d0"
            ],
            [
             0.7,
             "#b8e186"
            ],
            [
             0.8,
             "#7fbc41"
            ],
            [
             0.9,
             "#4d9221"
            ],
            [
             1,
             "#276419"
            ]
           ],
           "sequential": [
            [
             0,
             "#0d0887"
            ],
            [
             0.1111111111111111,
             "#46039f"
            ],
            [
             0.2222222222222222,
             "#7201a8"
            ],
            [
             0.3333333333333333,
             "#9c179e"
            ],
            [
             0.4444444444444444,
             "#bd3786"
            ],
            [
             0.5555555555555556,
             "#d8576b"
            ],
            [
             0.6666666666666666,
             "#ed7953"
            ],
            [
             0.7777777777777778,
             "#fb9f3a"
            ],
            [
             0.8888888888888888,
             "#fdca26"
            ],
            [
             1,
             "#f0f921"
            ]
           ],
           "sequentialminus": [
            [
             0,
             "#0d0887"
            ],
            [
             0.1111111111111111,
             "#46039f"
            ],
            [
             0.2222222222222222,
             "#7201a8"
            ],
            [
             0.3333333333333333,
             "#9c179e"
            ],
            [
             0.4444444444444444,
             "#bd3786"
            ],
            [
             0.5555555555555556,
             "#d8576b"
            ],
            [
             0.6666666666666666,
             "#ed7953"
            ],
            [
             0.7777777777777778,
             "#fb9f3a"
            ],
            [
             0.8888888888888888,
             "#fdca26"
            ],
            [
             1,
             "#f0f921"
            ]
           ]
          },
          "colorway": [
           "#636efa",
           "#EF553B",
           "#00cc96",
           "#ab63fa",
           "#FFA15A",
           "#19d3f3",
           "#FF6692",
           "#B6E880",
           "#FF97FF",
           "#FECB52"
          ],
          "font": {
           "color": "#2a3f5f"
          },
          "geo": {
           "bgcolor": "white",
           "lakecolor": "white",
           "landcolor": "#E5ECF6",
           "showlakes": true,
           "showland": true,
           "subunitcolor": "white"
          },
          "hoverlabel": {
           "align": "left"
          },
          "hovermode": "closest",
          "mapbox": {
           "style": "light"
          },
          "paper_bgcolor": "white",
          "plot_bgcolor": "#E5ECF6",
          "polar": {
           "angularaxis": {
            "gridcolor": "white",
            "linecolor": "white",
            "ticks": ""
           },
           "bgcolor": "#E5ECF6",
           "radialaxis": {
            "gridcolor": "white",
            "linecolor": "white",
            "ticks": ""
           }
          },
          "scene": {
           "xaxis": {
            "backgroundcolor": "#E5ECF6",
            "gridcolor": "white",
            "gridwidth": 2,
            "linecolor": "white",
            "showbackground": true,
            "ticks": "",
            "zerolinecolor": "white"
           },
           "yaxis": {
            "backgroundcolor": "#E5ECF6",
            "gridcolor": "white",
            "gridwidth": 2,
            "linecolor": "white",
            "showbackground": true,
            "ticks": "",
            "zerolinecolor": "white"
           },
           "zaxis": {
            "backgroundcolor": "#E5ECF6",
            "gridcolor": "white",
            "gridwidth": 2,
            "linecolor": "white",
            "showbackground": true,
            "ticks": "",
            "zerolinecolor": "white"
           }
          },
          "shapedefaults": {
           "line": {
            "color": "#2a3f5f"
           }
          },
          "ternary": {
           "aaxis": {
            "gridcolor": "white",
            "linecolor": "white",
            "ticks": ""
           },
           "baxis": {
            "gridcolor": "white",
            "linecolor": "white",
            "ticks": ""
           },
           "bgcolor": "#E5ECF6",
           "caxis": {
            "gridcolor": "white",
            "linecolor": "white",
            "ticks": ""
           }
          },
          "title": {
           "x": 0.05
          },
          "xaxis": {
           "automargin": true,
           "gridcolor": "white",
           "linecolor": "white",
           "ticks": "",
           "zerolinecolor": "white",
           "zerolinewidth": 2
          },
          "yaxis": {
           "automargin": true,
           "gridcolor": "white",
           "linecolor": "white",
           "ticks": "",
           "zerolinecolor": "white",
           "zerolinewidth": 2
          }
         }
        },
        "title": {
         "text": "Sales funnel for group B",
         "x": 0.5,
         "xanchor": "center",
         "y": 0.9,
         "yanchor": "top"
        }
       }
      },
      "text/html": [
       "<div>\n",
       "        \n",
       "        \n",
       "            <div id=\"850b64d2-fd7b-4dcd-adfc-a2bc325d0272\" class=\"plotly-graph-div\" style=\"height:525px; width:100%;\"></div>\n",
       "            <script type=\"text/javascript\">\n",
       "                require([\"plotly\"], function(Plotly) {\n",
       "                    window.PLOTLYENV=window.PLOTLYENV || {};\n",
       "                    \n",
       "                if (document.getElementById(\"850b64d2-fd7b-4dcd-adfc-a2bc325d0272\")) {\n",
       "                    Plotly.newPlot(\n",
       "                        '850b64d2-fd7b-4dcd-adfc-a2bc325d0272',\n",
       "                        [{\"textinfo\": \"value+percent initial\", \"textposition\": \"inside\", \"type\": \"funnel\", \"x\": [4439, 2914, 713, 85], \"y\": [\"login\", \"product_page\", \"product_cart\", \"purchase\"]}],\n",
       "                        {\"template\": {\"data\": {\"bar\": [{\"error_x\": {\"color\": \"#2a3f5f\"}, \"error_y\": {\"color\": \"#2a3f5f\"}, \"marker\": {\"line\": {\"color\": \"#E5ECF6\", \"width\": 0.5}}, \"type\": \"bar\"}], \"barpolar\": [{\"marker\": {\"line\": {\"color\": \"#E5ECF6\", \"width\": 0.5}}, \"type\": \"barpolar\"}], \"carpet\": [{\"aaxis\": {\"endlinecolor\": \"#2a3f5f\", \"gridcolor\": \"white\", \"linecolor\": \"white\", \"minorgridcolor\": \"white\", \"startlinecolor\": \"#2a3f5f\"}, \"baxis\": {\"endlinecolor\": \"#2a3f5f\", \"gridcolor\": \"white\", \"linecolor\": \"white\", \"minorgridcolor\": \"white\", \"startlinecolor\": \"#2a3f5f\"}, \"type\": \"carpet\"}], \"choropleth\": [{\"colorbar\": {\"outlinewidth\": 0, \"ticks\": \"\"}, \"type\": \"choropleth\"}], \"contour\": [{\"colorbar\": {\"outlinewidth\": 0, \"ticks\": \"\"}, \"colorscale\": [[0.0, \"#0d0887\"], [0.1111111111111111, \"#46039f\"], [0.2222222222222222, \"#7201a8\"], [0.3333333333333333, \"#9c179e\"], [0.4444444444444444, \"#bd3786\"], [0.5555555555555556, \"#d8576b\"], [0.6666666666666666, \"#ed7953\"], [0.7777777777777778, \"#fb9f3a\"], [0.8888888888888888, \"#fdca26\"], [1.0, \"#f0f921\"]], \"type\": \"contour\"}], \"contourcarpet\": [{\"colorbar\": {\"outlinewidth\": 0, \"ticks\": \"\"}, \"type\": \"contourcarpet\"}], \"heatmap\": [{\"colorbar\": {\"outlinewidth\": 0, \"ticks\": \"\"}, \"colorscale\": [[0.0, \"#0d0887\"], [0.1111111111111111, \"#46039f\"], [0.2222222222222222, \"#7201a8\"], [0.3333333333333333, \"#9c179e\"], [0.4444444444444444, \"#bd3786\"], [0.5555555555555556, \"#d8576b\"], [0.6666666666666666, \"#ed7953\"], [0.7777777777777778, \"#fb9f3a\"], [0.8888888888888888, \"#fdca26\"], [1.0, \"#f0f921\"]], \"type\": \"heatmap\"}], \"heatmapgl\": [{\"colorbar\": {\"outlinewidth\": 0, \"ticks\": \"\"}, \"colorscale\": [[0.0, \"#0d0887\"], [0.1111111111111111, \"#46039f\"], [0.2222222222222222, \"#7201a8\"], [0.3333333333333333, \"#9c179e\"], [0.4444444444444444, \"#bd3786\"], [0.5555555555555556, \"#d8576b\"], [0.6666666666666666, \"#ed7953\"], [0.7777777777777778, \"#fb9f3a\"], [0.8888888888888888, \"#fdca26\"], [1.0, \"#f0f921\"]], \"type\": \"heatmapgl\"}], \"histogram\": [{\"marker\": {\"colorbar\": {\"outlinewidth\": 0, \"ticks\": \"\"}}, \"type\": \"histogram\"}], \"histogram2d\": [{\"colorbar\": {\"outlinewidth\": 0, \"ticks\": \"\"}, \"colorscale\": [[0.0, \"#0d0887\"], [0.1111111111111111, \"#46039f\"], [0.2222222222222222, \"#7201a8\"], [0.3333333333333333, \"#9c179e\"], [0.4444444444444444, \"#bd3786\"], [0.5555555555555556, \"#d8576b\"], [0.6666666666666666, \"#ed7953\"], [0.7777777777777778, \"#fb9f3a\"], [0.8888888888888888, \"#fdca26\"], [1.0, \"#f0f921\"]], \"type\": \"histogram2d\"}], \"histogram2dcontour\": [{\"colorbar\": {\"outlinewidth\": 0, \"ticks\": \"\"}, \"colorscale\": [[0.0, \"#0d0887\"], [0.1111111111111111, \"#46039f\"], [0.2222222222222222, \"#7201a8\"], [0.3333333333333333, \"#9c179e\"], [0.4444444444444444, \"#bd3786\"], [0.5555555555555556, \"#d8576b\"], [0.6666666666666666, \"#ed7953\"], [0.7777777777777778, \"#fb9f3a\"], [0.8888888888888888, \"#fdca26\"], [1.0, \"#f0f921\"]], \"type\": \"histogram2dcontour\"}], \"mesh3d\": [{\"colorbar\": {\"outlinewidth\": 0, \"ticks\": \"\"}, \"type\": \"mesh3d\"}], \"parcoords\": [{\"line\": {\"colorbar\": {\"outlinewidth\": 0, \"ticks\": \"\"}}, \"type\": \"parcoords\"}], \"scatter\": [{\"marker\": {\"colorbar\": {\"outlinewidth\": 0, \"ticks\": \"\"}}, \"type\": \"scatter\"}], \"scatter3d\": [{\"line\": {\"colorbar\": {\"outlinewidth\": 0, \"ticks\": \"\"}}, \"marker\": {\"colorbar\": {\"outlinewidth\": 0, \"ticks\": \"\"}}, \"type\": \"scatter3d\"}], \"scattercarpet\": [{\"marker\": {\"colorbar\": {\"outlinewidth\": 0, \"ticks\": \"\"}}, \"type\": \"scattercarpet\"}], \"scattergeo\": [{\"marker\": {\"colorbar\": {\"outlinewidth\": 0, \"ticks\": \"\"}}, \"type\": \"scattergeo\"}], \"scattergl\": [{\"marker\": {\"colorbar\": {\"outlinewidth\": 0, \"ticks\": \"\"}}, \"type\": \"scattergl\"}], \"scattermapbox\": [{\"marker\": {\"colorbar\": {\"outlinewidth\": 0, \"ticks\": \"\"}}, \"type\": \"scattermapbox\"}], \"scatterpolar\": [{\"marker\": {\"colorbar\": {\"outlinewidth\": 0, \"ticks\": \"\"}}, \"type\": \"scatterpolar\"}], \"scatterpolargl\": [{\"marker\": {\"colorbar\": {\"outlinewidth\": 0, \"ticks\": \"\"}}, \"type\": \"scatterpolargl\"}], \"scatterternary\": [{\"marker\": {\"colorbar\": {\"outlinewidth\": 0, \"ticks\": \"\"}}, \"type\": \"scatterternary\"}], \"surface\": [{\"colorbar\": {\"outlinewidth\": 0, \"ticks\": \"\"}, \"colorscale\": [[0.0, \"#0d0887\"], [0.1111111111111111, \"#46039f\"], [0.2222222222222222, \"#7201a8\"], [0.3333333333333333, \"#9c179e\"], [0.4444444444444444, \"#bd3786\"], [0.5555555555555556, \"#d8576b\"], [0.6666666666666666, \"#ed7953\"], [0.7777777777777778, \"#fb9f3a\"], [0.8888888888888888, \"#fdca26\"], [1.0, \"#f0f921\"]], \"type\": \"surface\"}], \"table\": [{\"cells\": {\"fill\": {\"color\": \"#EBF0F8\"}, \"line\": {\"color\": \"white\"}}, \"header\": {\"fill\": {\"color\": \"#C8D4E3\"}, \"line\": {\"color\": \"white\"}}, \"type\": \"table\"}]}, \"layout\": {\"annotationdefaults\": {\"arrowcolor\": \"#2a3f5f\", \"arrowhead\": 0, \"arrowwidth\": 1}, \"colorscale\": {\"diverging\": [[0, \"#8e0152\"], [0.1, \"#c51b7d\"], [0.2, \"#de77ae\"], [0.3, \"#f1b6da\"], [0.4, \"#fde0ef\"], [0.5, \"#f7f7f7\"], [0.6, \"#e6f5d0\"], [0.7, \"#b8e186\"], [0.8, \"#7fbc41\"], [0.9, \"#4d9221\"], [1, \"#276419\"]], \"sequential\": [[0.0, \"#0d0887\"], [0.1111111111111111, \"#46039f\"], [0.2222222222222222, \"#7201a8\"], [0.3333333333333333, \"#9c179e\"], [0.4444444444444444, \"#bd3786\"], [0.5555555555555556, \"#d8576b\"], [0.6666666666666666, \"#ed7953\"], [0.7777777777777778, \"#fb9f3a\"], [0.8888888888888888, \"#fdca26\"], [1.0, \"#f0f921\"]], \"sequentialminus\": [[0.0, \"#0d0887\"], [0.1111111111111111, \"#46039f\"], [0.2222222222222222, \"#7201a8\"], [0.3333333333333333, \"#9c179e\"], [0.4444444444444444, \"#bd3786\"], [0.5555555555555556, \"#d8576b\"], [0.6666666666666666, \"#ed7953\"], [0.7777777777777778, \"#fb9f3a\"], [0.8888888888888888, \"#fdca26\"], [1.0, \"#f0f921\"]]}, \"colorway\": [\"#636efa\", \"#EF553B\", \"#00cc96\", \"#ab63fa\", \"#FFA15A\", \"#19d3f3\", \"#FF6692\", \"#B6E880\", \"#FF97FF\", \"#FECB52\"], \"font\": {\"color\": \"#2a3f5f\"}, \"geo\": {\"bgcolor\": \"white\", \"lakecolor\": \"white\", \"landcolor\": \"#E5ECF6\", \"showlakes\": true, \"showland\": true, \"subunitcolor\": \"white\"}, \"hoverlabel\": {\"align\": \"left\"}, \"hovermode\": \"closest\", \"mapbox\": {\"style\": \"light\"}, \"paper_bgcolor\": \"white\", \"plot_bgcolor\": \"#E5ECF6\", \"polar\": {\"angularaxis\": {\"gridcolor\": \"white\", \"linecolor\": \"white\", \"ticks\": \"\"}, \"bgcolor\": \"#E5ECF6\", \"radialaxis\": {\"gridcolor\": \"white\", \"linecolor\": \"white\", \"ticks\": \"\"}}, \"scene\": {\"xaxis\": {\"backgroundcolor\": \"#E5ECF6\", \"gridcolor\": \"white\", \"gridwidth\": 2, \"linecolor\": \"white\", \"showbackground\": true, \"ticks\": \"\", \"zerolinecolor\": \"white\"}, \"yaxis\": {\"backgroundcolor\": \"#E5ECF6\", \"gridcolor\": \"white\", \"gridwidth\": 2, \"linecolor\": \"white\", \"showbackground\": true, \"ticks\": \"\", \"zerolinecolor\": \"white\"}, \"zaxis\": {\"backgroundcolor\": \"#E5ECF6\", \"gridcolor\": \"white\", \"gridwidth\": 2, \"linecolor\": \"white\", \"showbackground\": true, \"ticks\": \"\", \"zerolinecolor\": \"white\"}}, \"shapedefaults\": {\"line\": {\"color\": \"#2a3f5f\"}}, \"ternary\": {\"aaxis\": {\"gridcolor\": \"white\", \"linecolor\": \"white\", \"ticks\": \"\"}, \"baxis\": {\"gridcolor\": \"white\", \"linecolor\": \"white\", \"ticks\": \"\"}, \"bgcolor\": \"#E5ECF6\", \"caxis\": {\"gridcolor\": \"white\", \"linecolor\": \"white\", \"ticks\": \"\"}}, \"title\": {\"x\": 0.05}, \"xaxis\": {\"automargin\": true, \"gridcolor\": \"white\", \"linecolor\": \"white\", \"ticks\": \"\", \"zerolinecolor\": \"white\", \"zerolinewidth\": 2}, \"yaxis\": {\"automargin\": true, \"gridcolor\": \"white\", \"linecolor\": \"white\", \"ticks\": \"\", \"zerolinecolor\": \"white\", \"zerolinewidth\": 2}}}, \"title\": {\"text\": \"Sales funnel for group B\", \"x\": 0.5, \"xanchor\": \"center\", \"y\": 0.9, \"yanchor\": \"top\"}},\n",
       "                        {\"responsive\": true}\n",
       "                    ).then(function(){\n",
       "                            \n",
       "var gd = document.getElementById('850b64d2-fd7b-4dcd-adfc-a2bc325d0272');\n",
       "var x = new MutationObserver(function (mutations, observer) {{\n",
       "        var display = window.getComputedStyle(gd).display;\n",
       "        if (!display || display === 'none') {{\n",
       "            console.log([gd, 'removed!']);\n",
       "            Plotly.purge(gd);\n",
       "            observer.disconnect();\n",
       "        }}\n",
       "}});\n",
       "\n",
       "// Listen for the removal of the full notebook cells\n",
       "var notebookContainer = gd.closest('#notebook-container');\n",
       "if (notebookContainer) {{\n",
       "    x.observe(notebookContainer, {childList: true});\n",
       "}}\n",
       "\n",
       "// Listen for the clearing of the current output cell\n",
       "var outputEl = gd.closest('.output');\n",
       "if (outputEl) {{\n",
       "    x.observe(outputEl, {childList: true});\n",
       "}}\n",
       "\n",
       "                        })\n",
       "                };\n",
       "                });\n",
       "            </script>\n",
       "        </div>"
      ]
     },
     "metadata": {},
     "output_type": "display_data"
    }
   ],
   "source": [
    "#calculating the users at each stage of the funnel for group B\n",
    "users_B = interface_B.pivot_table(\n",
    "    index='user_id', \n",
    "    columns='event_name', \n",
    "    values='event_dt',\n",
    "    aggfunc='min') \n",
    "\n",
    "step_1 = ~users_B['login'].isna()\n",
    "step_2 = step_1 & (users_B['product_page'] >= users_B['login'])\n",
    "step_3 = step_2 & (users_B['product_cart'] >= users_B['product_page'])\n",
    "step_4 = step_3 & (users_B['purchase'] >= users_B['product_cart'])\n",
    "\n",
    "n_login_B = users_B[step_1].shape[0]\n",
    "n_product_B = users_B[step_2].shape[0]\n",
    "n_cart_B = users_B[step_3].shape[0]\n",
    "n_purchase_B = users_B[step_4].shape[0]\n",
    "\n",
    "print('login:', n_login_B)\n",
    "print('product_page:', n_product_B)\n",
    "print('product_cart:', n_cart_B)\n",
    "print('purchase:', n_purchase_B) \n",
    "\n",
    "fig_B_interface = go.Figure(go.Funnel(\n",
    "    y=[\"login\", \"product_page\", \"product_cart\", \"purchase\"],\n",
    "    x=[n_login_B, n_product_B,  n_cart_B, n_purchase_B],\n",
    "    textposition=\"inside\",\n",
    "    textinfo=\"value+percent initial\"\n",
    "))\n",
    "\n",
    "fig_B_interface.update_layout(title={\n",
    "    'text': \"Sales funnel for group B\",\n",
    "    'y': 0.9,\n",
    "    'x': 0.5,\n",
    "    'xanchor': 'center',\n",
    "    'yanchor': 'top'})\n",
    "\n",
    "fig_B_interface.show()"
   ]
  },
  {
   "cell_type": "markdown",
   "metadata": {},
   "source": [
    "**Simple funnel for the interface_eu_test**"
   ]
  },
  {
   "cell_type": "code",
   "execution_count": 96,
   "metadata": {},
   "outputs": [
    {
     "name": "stdout",
     "output_type": "stream",
     "text": [
      "login: 4521\n",
      "product_page: 3031\n",
      "product_cart: 1479\n",
      "purchase: 1612\n"
     ]
    },
    {
     "data": {
      "application/vnd.plotly.v1+json": {
       "config": {
        "plotlyServerURL": "https://plot.ly"
       },
       "data": [
        {
         "textinfo": "value+percent initial",
         "textposition": "inside",
         "type": "funnel",
         "x": [
          4521,
          3031,
          1479,
          1612
         ],
         "y": [
          "login",
          "product_page",
          "product_cart",
          "purchase"
         ]
        }
       ],
       "layout": {
        "template": {
         "data": {
          "bar": [
           {
            "error_x": {
             "color": "#2a3f5f"
            },
            "error_y": {
             "color": "#2a3f5f"
            },
            "marker": {
             "line": {
              "color": "#E5ECF6",
              "width": 0.5
             }
            },
            "type": "bar"
           }
          ],
          "barpolar": [
           {
            "marker": {
             "line": {
              "color": "#E5ECF6",
              "width": 0.5
             }
            },
            "type": "barpolar"
           }
          ],
          "carpet": [
           {
            "aaxis": {
             "endlinecolor": "#2a3f5f",
             "gridcolor": "white",
             "linecolor": "white",
             "minorgridcolor": "white",
             "startlinecolor": "#2a3f5f"
            },
            "baxis": {
             "endlinecolor": "#2a3f5f",
             "gridcolor": "white",
             "linecolor": "white",
             "minorgridcolor": "white",
             "startlinecolor": "#2a3f5f"
            },
            "type": "carpet"
           }
          ],
          "choropleth": [
           {
            "colorbar": {
             "outlinewidth": 0,
             "ticks": ""
            },
            "type": "choropleth"
           }
          ],
          "contour": [
           {
            "colorbar": {
             "outlinewidth": 0,
             "ticks": ""
            },
            "colorscale": [
             [
              0,
              "#0d0887"
             ],
             [
              0.1111111111111111,
              "#46039f"
             ],
             [
              0.2222222222222222,
              "#7201a8"
             ],
             [
              0.3333333333333333,
              "#9c179e"
             ],
             [
              0.4444444444444444,
              "#bd3786"
             ],
             [
              0.5555555555555556,
              "#d8576b"
             ],
             [
              0.6666666666666666,
              "#ed7953"
             ],
             [
              0.7777777777777778,
              "#fb9f3a"
             ],
             [
              0.8888888888888888,
              "#fdca26"
             ],
             [
              1,
              "#f0f921"
             ]
            ],
            "type": "contour"
           }
          ],
          "contourcarpet": [
           {
            "colorbar": {
             "outlinewidth": 0,
             "ticks": ""
            },
            "type": "contourcarpet"
           }
          ],
          "heatmap": [
           {
            "colorbar": {
             "outlinewidth": 0,
             "ticks": ""
            },
            "colorscale": [
             [
              0,
              "#0d0887"
             ],
             [
              0.1111111111111111,
              "#46039f"
             ],
             [
              0.2222222222222222,
              "#7201a8"
             ],
             [
              0.3333333333333333,
              "#9c179e"
             ],
             [
              0.4444444444444444,
              "#bd3786"
             ],
             [
              0.5555555555555556,
              "#d8576b"
             ],
             [
              0.6666666666666666,
              "#ed7953"
             ],
             [
              0.7777777777777778,
              "#fb9f3a"
             ],
             [
              0.8888888888888888,
              "#fdca26"
             ],
             [
              1,
              "#f0f921"
             ]
            ],
            "type": "heatmap"
           }
          ],
          "heatmapgl": [
           {
            "colorbar": {
             "outlinewidth": 0,
             "ticks": ""
            },
            "colorscale": [
             [
              0,
              "#0d0887"
             ],
             [
              0.1111111111111111,
              "#46039f"
             ],
             [
              0.2222222222222222,
              "#7201a8"
             ],
             [
              0.3333333333333333,
              "#9c179e"
             ],
             [
              0.4444444444444444,
              "#bd3786"
             ],
             [
              0.5555555555555556,
              "#d8576b"
             ],
             [
              0.6666666666666666,
              "#ed7953"
             ],
             [
              0.7777777777777778,
              "#fb9f3a"
             ],
             [
              0.8888888888888888,
              "#fdca26"
             ],
             [
              1,
              "#f0f921"
             ]
            ],
            "type": "heatmapgl"
           }
          ],
          "histogram": [
           {
            "marker": {
             "colorbar": {
              "outlinewidth": 0,
              "ticks": ""
             }
            },
            "type": "histogram"
           }
          ],
          "histogram2d": [
           {
            "colorbar": {
             "outlinewidth": 0,
             "ticks": ""
            },
            "colorscale": [
             [
              0,
              "#0d0887"
             ],
             [
              0.1111111111111111,
              "#46039f"
             ],
             [
              0.2222222222222222,
              "#7201a8"
             ],
             [
              0.3333333333333333,
              "#9c179e"
             ],
             [
              0.4444444444444444,
              "#bd3786"
             ],
             [
              0.5555555555555556,
              "#d8576b"
             ],
             [
              0.6666666666666666,
              "#ed7953"
             ],
             [
              0.7777777777777778,
              "#fb9f3a"
             ],
             [
              0.8888888888888888,
              "#fdca26"
             ],
             [
              1,
              "#f0f921"
             ]
            ],
            "type": "histogram2d"
           }
          ],
          "histogram2dcontour": [
           {
            "colorbar": {
             "outlinewidth": 0,
             "ticks": ""
            },
            "colorscale": [
             [
              0,
              "#0d0887"
             ],
             [
              0.1111111111111111,
              "#46039f"
             ],
             [
              0.2222222222222222,
              "#7201a8"
             ],
             [
              0.3333333333333333,
              "#9c179e"
             ],
             [
              0.4444444444444444,
              "#bd3786"
             ],
             [
              0.5555555555555556,
              "#d8576b"
             ],
             [
              0.6666666666666666,
              "#ed7953"
             ],
             [
              0.7777777777777778,
              "#fb9f3a"
             ],
             [
              0.8888888888888888,
              "#fdca26"
             ],
             [
              1,
              "#f0f921"
             ]
            ],
            "type": "histogram2dcontour"
           }
          ],
          "mesh3d": [
           {
            "colorbar": {
             "outlinewidth": 0,
             "ticks": ""
            },
            "type": "mesh3d"
           }
          ],
          "parcoords": [
           {
            "line": {
             "colorbar": {
              "outlinewidth": 0,
              "ticks": ""
             }
            },
            "type": "parcoords"
           }
          ],
          "scatter": [
           {
            "marker": {
             "colorbar": {
              "outlinewidth": 0,
              "ticks": ""
             }
            },
            "type": "scatter"
           }
          ],
          "scatter3d": [
           {
            "line": {
             "colorbar": {
              "outlinewidth": 0,
              "ticks": ""
             }
            },
            "marker": {
             "colorbar": {
              "outlinewidth": 0,
              "ticks": ""
             }
            },
            "type": "scatter3d"
           }
          ],
          "scattercarpet": [
           {
            "marker": {
             "colorbar": {
              "outlinewidth": 0,
              "ticks": ""
             }
            },
            "type": "scattercarpet"
           }
          ],
          "scattergeo": [
           {
            "marker": {
             "colorbar": {
              "outlinewidth": 0,
              "ticks": ""
             }
            },
            "type": "scattergeo"
           }
          ],
          "scattergl": [
           {
            "marker": {
             "colorbar": {
              "outlinewidth": 0,
              "ticks": ""
             }
            },
            "type": "scattergl"
           }
          ],
          "scattermapbox": [
           {
            "marker": {
             "colorbar": {
              "outlinewidth": 0,
              "ticks": ""
             }
            },
            "type": "scattermapbox"
           }
          ],
          "scatterpolar": [
           {
            "marker": {
             "colorbar": {
              "outlinewidth": 0,
              "ticks": ""
             }
            },
            "type": "scatterpolar"
           }
          ],
          "scatterpolargl": [
           {
            "marker": {
             "colorbar": {
              "outlinewidth": 0,
              "ticks": ""
             }
            },
            "type": "scatterpolargl"
           }
          ],
          "scatterternary": [
           {
            "marker": {
             "colorbar": {
              "outlinewidth": 0,
              "ticks": ""
             }
            },
            "type": "scatterternary"
           }
          ],
          "surface": [
           {
            "colorbar": {
             "outlinewidth": 0,
             "ticks": ""
            },
            "colorscale": [
             [
              0,
              "#0d0887"
             ],
             [
              0.1111111111111111,
              "#46039f"
             ],
             [
              0.2222222222222222,
              "#7201a8"
             ],
             [
              0.3333333333333333,
              "#9c179e"
             ],
             [
              0.4444444444444444,
              "#bd3786"
             ],
             [
              0.5555555555555556,
              "#d8576b"
             ],
             [
              0.6666666666666666,
              "#ed7953"
             ],
             [
              0.7777777777777778,
              "#fb9f3a"
             ],
             [
              0.8888888888888888,
              "#fdca26"
             ],
             [
              1,
              "#f0f921"
             ]
            ],
            "type": "surface"
           }
          ],
          "table": [
           {
            "cells": {
             "fill": {
              "color": "#EBF0F8"
             },
             "line": {
              "color": "white"
             }
            },
            "header": {
             "fill": {
              "color": "#C8D4E3"
             },
             "line": {
              "color": "white"
             }
            },
            "type": "table"
           }
          ]
         },
         "layout": {
          "annotationdefaults": {
           "arrowcolor": "#2a3f5f",
           "arrowhead": 0,
           "arrowwidth": 1
          },
          "colorscale": {
           "diverging": [
            [
             0,
             "#8e0152"
            ],
            [
             0.1,
             "#c51b7d"
            ],
            [
             0.2,
             "#de77ae"
            ],
            [
             0.3,
             "#f1b6da"
            ],
            [
             0.4,
             "#fde0ef"
            ],
            [
             0.5,
             "#f7f7f7"
            ],
            [
             0.6,
             "#e6f5d0"
            ],
            [
             0.7,
             "#b8e186"
            ],
            [
             0.8,
             "#7fbc41"
            ],
            [
             0.9,
             "#4d9221"
            ],
            [
             1,
             "#276419"
            ]
           ],
           "sequential": [
            [
             0,
             "#0d0887"
            ],
            [
             0.1111111111111111,
             "#46039f"
            ],
            [
             0.2222222222222222,
             "#7201a8"
            ],
            [
             0.3333333333333333,
             "#9c179e"
            ],
            [
             0.4444444444444444,
             "#bd3786"
            ],
            [
             0.5555555555555556,
             "#d8576b"
            ],
            [
             0.6666666666666666,
             "#ed7953"
            ],
            [
             0.7777777777777778,
             "#fb9f3a"
            ],
            [
             0.8888888888888888,
             "#fdca26"
            ],
            [
             1,
             "#f0f921"
            ]
           ],
           "sequentialminus": [
            [
             0,
             "#0d0887"
            ],
            [
             0.1111111111111111,
             "#46039f"
            ],
            [
             0.2222222222222222,
             "#7201a8"
            ],
            [
             0.3333333333333333,
             "#9c179e"
            ],
            [
             0.4444444444444444,
             "#bd3786"
            ],
            [
             0.5555555555555556,
             "#d8576b"
            ],
            [
             0.6666666666666666,
             "#ed7953"
            ],
            [
             0.7777777777777778,
             "#fb9f3a"
            ],
            [
             0.8888888888888888,
             "#fdca26"
            ],
            [
             1,
             "#f0f921"
            ]
           ]
          },
          "colorway": [
           "#636efa",
           "#EF553B",
           "#00cc96",
           "#ab63fa",
           "#FFA15A",
           "#19d3f3",
           "#FF6692",
           "#B6E880",
           "#FF97FF",
           "#FECB52"
          ],
          "font": {
           "color": "#2a3f5f"
          },
          "geo": {
           "bgcolor": "white",
           "lakecolor": "white",
           "landcolor": "#E5ECF6",
           "showlakes": true,
           "showland": true,
           "subunitcolor": "white"
          },
          "hoverlabel": {
           "align": "left"
          },
          "hovermode": "closest",
          "mapbox": {
           "style": "light"
          },
          "paper_bgcolor": "white",
          "plot_bgcolor": "#E5ECF6",
          "polar": {
           "angularaxis": {
            "gridcolor": "white",
            "linecolor": "white",
            "ticks": ""
           },
           "bgcolor": "#E5ECF6",
           "radialaxis": {
            "gridcolor": "white",
            "linecolor": "white",
            "ticks": ""
           }
          },
          "scene": {
           "xaxis": {
            "backgroundcolor": "#E5ECF6",
            "gridcolor": "white",
            "gridwidth": 2,
            "linecolor": "white",
            "showbackground": true,
            "ticks": "",
            "zerolinecolor": "white"
           },
           "yaxis": {
            "backgroundcolor": "#E5ECF6",
            "gridcolor": "white",
            "gridwidth": 2,
            "linecolor": "white",
            "showbackground": true,
            "ticks": "",
            "zerolinecolor": "white"
           },
           "zaxis": {
            "backgroundcolor": "#E5ECF6",
            "gridcolor": "white",
            "gridwidth": 2,
            "linecolor": "white",
            "showbackground": true,
            "ticks": "",
            "zerolinecolor": "white"
           }
          },
          "shapedefaults": {
           "line": {
            "color": "#2a3f5f"
           }
          },
          "ternary": {
           "aaxis": {
            "gridcolor": "white",
            "linecolor": "white",
            "ticks": ""
           },
           "baxis": {
            "gridcolor": "white",
            "linecolor": "white",
            "ticks": ""
           },
           "bgcolor": "#E5ECF6",
           "caxis": {
            "gridcolor": "white",
            "linecolor": "white",
            "ticks": ""
           }
          },
          "title": {
           "x": 0.05
          },
          "xaxis": {
           "automargin": true,
           "gridcolor": "white",
           "linecolor": "white",
           "ticks": "",
           "zerolinecolor": "white",
           "zerolinewidth": 2
          },
          "yaxis": {
           "automargin": true,
           "gridcolor": "white",
           "linecolor": "white",
           "ticks": "",
           "zerolinecolor": "white",
           "zerolinewidth": 2
          }
         }
        }
       }
      },
      "text/html": [
       "<div>\n",
       "        \n",
       "        \n",
       "            <div id=\"441df80a-d428-49fe-9cd3-1b4fb2f335e6\" class=\"plotly-graph-div\" style=\"height:525px; width:100%;\"></div>\n",
       "            <script type=\"text/javascript\">\n",
       "                require([\"plotly\"], function(Plotly) {\n",
       "                    window.PLOTLYENV=window.PLOTLYENV || {};\n",
       "                    \n",
       "                if (document.getElementById(\"441df80a-d428-49fe-9cd3-1b4fb2f335e6\")) {\n",
       "                    Plotly.newPlot(\n",
       "                        '441df80a-d428-49fe-9cd3-1b4fb2f335e6',\n",
       "                        [{\"textinfo\": \"value+percent initial\", \"textposition\": \"inside\", \"type\": \"funnel\", \"x\": [4521, 3031, 1479, 1612], \"y\": [\"login\", \"product_page\", \"product_cart\", \"purchase\"]}],\n",
       "                        {\"template\": {\"data\": {\"bar\": [{\"error_x\": {\"color\": \"#2a3f5f\"}, \"error_y\": {\"color\": \"#2a3f5f\"}, \"marker\": {\"line\": {\"color\": \"#E5ECF6\", \"width\": 0.5}}, \"type\": \"bar\"}], \"barpolar\": [{\"marker\": {\"line\": {\"color\": \"#E5ECF6\", \"width\": 0.5}}, \"type\": \"barpolar\"}], \"carpet\": [{\"aaxis\": {\"endlinecolor\": \"#2a3f5f\", \"gridcolor\": \"white\", \"linecolor\": \"white\", \"minorgridcolor\": \"white\", \"startlinecolor\": \"#2a3f5f\"}, \"baxis\": {\"endlinecolor\": \"#2a3f5f\", \"gridcolor\": \"white\", \"linecolor\": \"white\", \"minorgridcolor\": \"white\", \"startlinecolor\": \"#2a3f5f\"}, \"type\": \"carpet\"}], \"choropleth\": [{\"colorbar\": {\"outlinewidth\": 0, \"ticks\": \"\"}, \"type\": \"choropleth\"}], \"contour\": [{\"colorbar\": {\"outlinewidth\": 0, \"ticks\": \"\"}, \"colorscale\": [[0.0, \"#0d0887\"], [0.1111111111111111, \"#46039f\"], [0.2222222222222222, \"#7201a8\"], [0.3333333333333333, \"#9c179e\"], [0.4444444444444444, \"#bd3786\"], [0.5555555555555556, \"#d8576b\"], [0.6666666666666666, \"#ed7953\"], [0.7777777777777778, \"#fb9f3a\"], [0.8888888888888888, \"#fdca26\"], [1.0, \"#f0f921\"]], \"type\": \"contour\"}], \"contourcarpet\": [{\"colorbar\": {\"outlinewidth\": 0, \"ticks\": \"\"}, \"type\": \"contourcarpet\"}], \"heatmap\": [{\"colorbar\": {\"outlinewidth\": 0, \"ticks\": \"\"}, \"colorscale\": [[0.0, \"#0d0887\"], [0.1111111111111111, \"#46039f\"], [0.2222222222222222, \"#7201a8\"], [0.3333333333333333, \"#9c179e\"], [0.4444444444444444, \"#bd3786\"], [0.5555555555555556, \"#d8576b\"], [0.6666666666666666, \"#ed7953\"], [0.7777777777777778, \"#fb9f3a\"], [0.8888888888888888, \"#fdca26\"], [1.0, \"#f0f921\"]], \"type\": \"heatmap\"}], \"heatmapgl\": [{\"colorbar\": {\"outlinewidth\": 0, \"ticks\": \"\"}, \"colorscale\": [[0.0, \"#0d0887\"], [0.1111111111111111, \"#46039f\"], [0.2222222222222222, \"#7201a8\"], [0.3333333333333333, \"#9c179e\"], [0.4444444444444444, \"#bd3786\"], [0.5555555555555556, \"#d8576b\"], [0.6666666666666666, \"#ed7953\"], [0.7777777777777778, \"#fb9f3a\"], [0.8888888888888888, \"#fdca26\"], [1.0, \"#f0f921\"]], \"type\": \"heatmapgl\"}], \"histogram\": [{\"marker\": {\"colorbar\": {\"outlinewidth\": 0, \"ticks\": \"\"}}, \"type\": \"histogram\"}], \"histogram2d\": [{\"colorbar\": {\"outlinewidth\": 0, \"ticks\": \"\"}, \"colorscale\": [[0.0, \"#0d0887\"], [0.1111111111111111, \"#46039f\"], [0.2222222222222222, \"#7201a8\"], [0.3333333333333333, \"#9c179e\"], [0.4444444444444444, \"#bd3786\"], [0.5555555555555556, \"#d8576b\"], [0.6666666666666666, \"#ed7953\"], [0.7777777777777778, \"#fb9f3a\"], [0.8888888888888888, \"#fdca26\"], [1.0, \"#f0f921\"]], \"type\": \"histogram2d\"}], \"histogram2dcontour\": [{\"colorbar\": {\"outlinewidth\": 0, \"ticks\": \"\"}, \"colorscale\": [[0.0, \"#0d0887\"], [0.1111111111111111, \"#46039f\"], [0.2222222222222222, \"#7201a8\"], [0.3333333333333333, \"#9c179e\"], [0.4444444444444444, \"#bd3786\"], [0.5555555555555556, \"#d8576b\"], [0.6666666666666666, \"#ed7953\"], [0.7777777777777778, \"#fb9f3a\"], [0.8888888888888888, \"#fdca26\"], [1.0, \"#f0f921\"]], \"type\": \"histogram2dcontour\"}], \"mesh3d\": [{\"colorbar\": {\"outlinewidth\": 0, \"ticks\": \"\"}, \"type\": \"mesh3d\"}], \"parcoords\": [{\"line\": {\"colorbar\": {\"outlinewidth\": 0, \"ticks\": \"\"}}, \"type\": \"parcoords\"}], \"scatter\": [{\"marker\": {\"colorbar\": {\"outlinewidth\": 0, \"ticks\": \"\"}}, \"type\": \"scatter\"}], \"scatter3d\": [{\"line\": {\"colorbar\": {\"outlinewidth\": 0, \"ticks\": \"\"}}, \"marker\": {\"colorbar\": {\"outlinewidth\": 0, \"ticks\": \"\"}}, \"type\": \"scatter3d\"}], \"scattercarpet\": [{\"marker\": {\"colorbar\": {\"outlinewidth\": 0, \"ticks\": \"\"}}, \"type\": \"scattercarpet\"}], \"scattergeo\": [{\"marker\": {\"colorbar\": {\"outlinewidth\": 0, \"ticks\": \"\"}}, \"type\": \"scattergeo\"}], \"scattergl\": [{\"marker\": {\"colorbar\": {\"outlinewidth\": 0, \"ticks\": \"\"}}, \"type\": \"scattergl\"}], \"scattermapbox\": [{\"marker\": {\"colorbar\": {\"outlinewidth\": 0, \"ticks\": \"\"}}, \"type\": \"scattermapbox\"}], \"scatterpolar\": [{\"marker\": {\"colorbar\": {\"outlinewidth\": 0, \"ticks\": \"\"}}, \"type\": \"scatterpolar\"}], \"scatterpolargl\": [{\"marker\": {\"colorbar\": {\"outlinewidth\": 0, \"ticks\": \"\"}}, \"type\": \"scatterpolargl\"}], \"scatterternary\": [{\"marker\": {\"colorbar\": {\"outlinewidth\": 0, \"ticks\": \"\"}}, \"type\": \"scatterternary\"}], \"surface\": [{\"colorbar\": {\"outlinewidth\": 0, \"ticks\": \"\"}, \"colorscale\": [[0.0, \"#0d0887\"], [0.1111111111111111, \"#46039f\"], [0.2222222222222222, \"#7201a8\"], [0.3333333333333333, \"#9c179e\"], [0.4444444444444444, \"#bd3786\"], [0.5555555555555556, \"#d8576b\"], [0.6666666666666666, \"#ed7953\"], [0.7777777777777778, \"#fb9f3a\"], [0.8888888888888888, \"#fdca26\"], [1.0, \"#f0f921\"]], \"type\": \"surface\"}], \"table\": [{\"cells\": {\"fill\": {\"color\": \"#EBF0F8\"}, \"line\": {\"color\": \"white\"}}, \"header\": {\"fill\": {\"color\": \"#C8D4E3\"}, \"line\": {\"color\": \"white\"}}, \"type\": \"table\"}]}, \"layout\": {\"annotationdefaults\": {\"arrowcolor\": \"#2a3f5f\", \"arrowhead\": 0, \"arrowwidth\": 1}, \"colorscale\": {\"diverging\": [[0, \"#8e0152\"], [0.1, \"#c51b7d\"], [0.2, \"#de77ae\"], [0.3, \"#f1b6da\"], [0.4, \"#fde0ef\"], [0.5, \"#f7f7f7\"], [0.6, \"#e6f5d0\"], [0.7, \"#b8e186\"], [0.8, \"#7fbc41\"], [0.9, \"#4d9221\"], [1, \"#276419\"]], \"sequential\": [[0.0, \"#0d0887\"], [0.1111111111111111, \"#46039f\"], [0.2222222222222222, \"#7201a8\"], [0.3333333333333333, \"#9c179e\"], [0.4444444444444444, \"#bd3786\"], [0.5555555555555556, \"#d8576b\"], [0.6666666666666666, \"#ed7953\"], [0.7777777777777778, \"#fb9f3a\"], [0.8888888888888888, \"#fdca26\"], [1.0, \"#f0f921\"]], \"sequentialminus\": [[0.0, \"#0d0887\"], [0.1111111111111111, \"#46039f\"], [0.2222222222222222, \"#7201a8\"], [0.3333333333333333, \"#9c179e\"], [0.4444444444444444, \"#bd3786\"], [0.5555555555555556, \"#d8576b\"], [0.6666666666666666, \"#ed7953\"], [0.7777777777777778, \"#fb9f3a\"], [0.8888888888888888, \"#fdca26\"], [1.0, \"#f0f921\"]]}, \"colorway\": [\"#636efa\", \"#EF553B\", \"#00cc96\", \"#ab63fa\", \"#FFA15A\", \"#19d3f3\", \"#FF6692\", \"#B6E880\", \"#FF97FF\", \"#FECB52\"], \"font\": {\"color\": \"#2a3f5f\"}, \"geo\": {\"bgcolor\": \"white\", \"lakecolor\": \"white\", \"landcolor\": \"#E5ECF6\", \"showlakes\": true, \"showland\": true, \"subunitcolor\": \"white\"}, \"hoverlabel\": {\"align\": \"left\"}, \"hovermode\": \"closest\", \"mapbox\": {\"style\": \"light\"}, \"paper_bgcolor\": \"white\", \"plot_bgcolor\": \"#E5ECF6\", \"polar\": {\"angularaxis\": {\"gridcolor\": \"white\", \"linecolor\": \"white\", \"ticks\": \"\"}, \"bgcolor\": \"#E5ECF6\", \"radialaxis\": {\"gridcolor\": \"white\", \"linecolor\": \"white\", \"ticks\": \"\"}}, \"scene\": {\"xaxis\": {\"backgroundcolor\": \"#E5ECF6\", \"gridcolor\": \"white\", \"gridwidth\": 2, \"linecolor\": \"white\", \"showbackground\": true, \"ticks\": \"\", \"zerolinecolor\": \"white\"}, \"yaxis\": {\"backgroundcolor\": \"#E5ECF6\", \"gridcolor\": \"white\", \"gridwidth\": 2, \"linecolor\": \"white\", \"showbackground\": true, \"ticks\": \"\", \"zerolinecolor\": \"white\"}, \"zaxis\": {\"backgroundcolor\": \"#E5ECF6\", \"gridcolor\": \"white\", \"gridwidth\": 2, \"linecolor\": \"white\", \"showbackground\": true, \"ticks\": \"\", \"zerolinecolor\": \"white\"}}, \"shapedefaults\": {\"line\": {\"color\": \"#2a3f5f\"}}, \"ternary\": {\"aaxis\": {\"gridcolor\": \"white\", \"linecolor\": \"white\", \"ticks\": \"\"}, \"baxis\": {\"gridcolor\": \"white\", \"linecolor\": \"white\", \"ticks\": \"\"}, \"bgcolor\": \"#E5ECF6\", \"caxis\": {\"gridcolor\": \"white\", \"linecolor\": \"white\", \"ticks\": \"\"}}, \"title\": {\"x\": 0.05}, \"xaxis\": {\"automargin\": true, \"gridcolor\": \"white\", \"linecolor\": \"white\", \"ticks\": \"\", \"zerolinecolor\": \"white\", \"zerolinewidth\": 2}, \"yaxis\": {\"automargin\": true, \"gridcolor\": \"white\", \"linecolor\": \"white\", \"ticks\": \"\", \"zerolinecolor\": \"white\", \"zerolinewidth\": 2}}}},\n",
       "                        {\"responsive\": true}\n",
       "                    ).then(function(){\n",
       "                            \n",
       "var gd = document.getElementById('441df80a-d428-49fe-9cd3-1b4fb2f335e6');\n",
       "var x = new MutationObserver(function (mutations, observer) {{\n",
       "        var display = window.getComputedStyle(gd).display;\n",
       "        if (!display || display === 'none') {{\n",
       "            console.log([gd, 'removed!']);\n",
       "            Plotly.purge(gd);\n",
       "            observer.disconnect();\n",
       "        }}\n",
       "}});\n",
       "\n",
       "// Listen for the removal of the full notebook cells\n",
       "var notebookContainer = gd.closest('#notebook-container');\n",
       "if (notebookContainer) {{\n",
       "    x.observe(notebookContainer, {childList: true});\n",
       "}}\n",
       "\n",
       "// Listen for the clearing of the current output cell\n",
       "var outputEl = gd.closest('.output');\n",
       "if (outputEl) {{\n",
       "    x.observe(outputEl, {childList: true});\n",
       "}}\n",
       "\n",
       "                        })\n",
       "                };\n",
       "                });\n",
       "            </script>\n",
       "        </div>"
      ]
     },
     "metadata": {},
     "output_type": "display_data"
    }
   ],
   "source": [
    "#get the unique users arriving at each stage for group A\n",
    "users_login_A = interface_A.query('event_name ==\"login\"')['user_id'].nunique()\n",
    "users_product_A = interface_A.query('event_name ==\"product_page\"')['user_id'].nunique()\n",
    "users_cart_A = interface_A.query('event_name ==\"product_cart\"')['user_id'].nunique()\n",
    "users_purchase_A = interface_A.query('event_name ==\"purchase\"')['user_id'].nunique()\n",
    "\n",
    "#print the number\n",
    "print('login:', users_login_A)\n",
    "print('product_page:', users_product_A)\n",
    "print('product_cart:', users_cart_A)\n",
    "print('purchase:', users_purchase_A) \n",
    "\n",
    "#visualize the funnel\n",
    "fig_A_interface_2 = go.Figure(go.Funnel(\n",
    "    y=[\"login\", \"product_page\", \"product_cart\", \"purchase\"],\n",
    "    x=[users_login_A, users_product_A,  users_cart_A, users_purchase_A],\n",
    "    textposition=\"inside\",\n",
    "    textinfo=\"value+percent initial\"\n",
    "))\n",
    "\n",
    "fig_A_2.update_layout(title={\n",
    "    'text': \"Simple Sales funnel for interface_edu_test group A\",\n",
    "    'y': 0.9,\n",
    "    'x': 0.5,\n",
    "    'xanchor': 'center',\n",
    "    'yanchor': 'top'})\n",
    "\n",
    "fig_A_interface_2.show()"
   ]
  },
  {
   "cell_type": "code",
   "execution_count": 97,
   "metadata": {},
   "outputs": [
    {
     "name": "stdout",
     "output_type": "stream",
     "text": [
      "login: 4439\n",
      "product_page: 2914\n",
      "product_cart: 1516\n",
      "purchase: 1479\n"
     ]
    },
    {
     "data": {
      "application/vnd.plotly.v1+json": {
       "config": {
        "plotlyServerURL": "https://plot.ly"
       },
       "data": [
        {
         "textinfo": "value+percent initial",
         "textposition": "inside",
         "type": "funnel",
         "x": [
          4439,
          2914,
          1516,
          1479
         ],
         "y": [
          "login",
          "product_page",
          "product_cart",
          "purchase"
         ]
        }
       ],
       "layout": {
        "template": {
         "data": {
          "bar": [
           {
            "error_x": {
             "color": "#2a3f5f"
            },
            "error_y": {
             "color": "#2a3f5f"
            },
            "marker": {
             "line": {
              "color": "#E5ECF6",
              "width": 0.5
             }
            },
            "type": "bar"
           }
          ],
          "barpolar": [
           {
            "marker": {
             "line": {
              "color": "#E5ECF6",
              "width": 0.5
             }
            },
            "type": "barpolar"
           }
          ],
          "carpet": [
           {
            "aaxis": {
             "endlinecolor": "#2a3f5f",
             "gridcolor": "white",
             "linecolor": "white",
             "minorgridcolor": "white",
             "startlinecolor": "#2a3f5f"
            },
            "baxis": {
             "endlinecolor": "#2a3f5f",
             "gridcolor": "white",
             "linecolor": "white",
             "minorgridcolor": "white",
             "startlinecolor": "#2a3f5f"
            },
            "type": "carpet"
           }
          ],
          "choropleth": [
           {
            "colorbar": {
             "outlinewidth": 0,
             "ticks": ""
            },
            "type": "choropleth"
           }
          ],
          "contour": [
           {
            "colorbar": {
             "outlinewidth": 0,
             "ticks": ""
            },
            "colorscale": [
             [
              0,
              "#0d0887"
             ],
             [
              0.1111111111111111,
              "#46039f"
             ],
             [
              0.2222222222222222,
              "#7201a8"
             ],
             [
              0.3333333333333333,
              "#9c179e"
             ],
             [
              0.4444444444444444,
              "#bd3786"
             ],
             [
              0.5555555555555556,
              "#d8576b"
             ],
             [
              0.6666666666666666,
              "#ed7953"
             ],
             [
              0.7777777777777778,
              "#fb9f3a"
             ],
             [
              0.8888888888888888,
              "#fdca26"
             ],
             [
              1,
              "#f0f921"
             ]
            ],
            "type": "contour"
           }
          ],
          "contourcarpet": [
           {
            "colorbar": {
             "outlinewidth": 0,
             "ticks": ""
            },
            "type": "contourcarpet"
           }
          ],
          "heatmap": [
           {
            "colorbar": {
             "outlinewidth": 0,
             "ticks": ""
            },
            "colorscale": [
             [
              0,
              "#0d0887"
             ],
             [
              0.1111111111111111,
              "#46039f"
             ],
             [
              0.2222222222222222,
              "#7201a8"
             ],
             [
              0.3333333333333333,
              "#9c179e"
             ],
             [
              0.4444444444444444,
              "#bd3786"
             ],
             [
              0.5555555555555556,
              "#d8576b"
             ],
             [
              0.6666666666666666,
              "#ed7953"
             ],
             [
              0.7777777777777778,
              "#fb9f3a"
             ],
             [
              0.8888888888888888,
              "#fdca26"
             ],
             [
              1,
              "#f0f921"
             ]
            ],
            "type": "heatmap"
           }
          ],
          "heatmapgl": [
           {
            "colorbar": {
             "outlinewidth": 0,
             "ticks": ""
            },
            "colorscale": [
             [
              0,
              "#0d0887"
             ],
             [
              0.1111111111111111,
              "#46039f"
             ],
             [
              0.2222222222222222,
              "#7201a8"
             ],
             [
              0.3333333333333333,
              "#9c179e"
             ],
             [
              0.4444444444444444,
              "#bd3786"
             ],
             [
              0.5555555555555556,
              "#d8576b"
             ],
             [
              0.6666666666666666,
              "#ed7953"
             ],
             [
              0.7777777777777778,
              "#fb9f3a"
             ],
             [
              0.8888888888888888,
              "#fdca26"
             ],
             [
              1,
              "#f0f921"
             ]
            ],
            "type": "heatmapgl"
           }
          ],
          "histogram": [
           {
            "marker": {
             "colorbar": {
              "outlinewidth": 0,
              "ticks": ""
             }
            },
            "type": "histogram"
           }
          ],
          "histogram2d": [
           {
            "colorbar": {
             "outlinewidth": 0,
             "ticks": ""
            },
            "colorscale": [
             [
              0,
              "#0d0887"
             ],
             [
              0.1111111111111111,
              "#46039f"
             ],
             [
              0.2222222222222222,
              "#7201a8"
             ],
             [
              0.3333333333333333,
              "#9c179e"
             ],
             [
              0.4444444444444444,
              "#bd3786"
             ],
             [
              0.5555555555555556,
              "#d8576b"
             ],
             [
              0.6666666666666666,
              "#ed7953"
             ],
             [
              0.7777777777777778,
              "#fb9f3a"
             ],
             [
              0.8888888888888888,
              "#fdca26"
             ],
             [
              1,
              "#f0f921"
             ]
            ],
            "type": "histogram2d"
           }
          ],
          "histogram2dcontour": [
           {
            "colorbar": {
             "outlinewidth": 0,
             "ticks": ""
            },
            "colorscale": [
             [
              0,
              "#0d0887"
             ],
             [
              0.1111111111111111,
              "#46039f"
             ],
             [
              0.2222222222222222,
              "#7201a8"
             ],
             [
              0.3333333333333333,
              "#9c179e"
             ],
             [
              0.4444444444444444,
              "#bd3786"
             ],
             [
              0.5555555555555556,
              "#d8576b"
             ],
             [
              0.6666666666666666,
              "#ed7953"
             ],
             [
              0.7777777777777778,
              "#fb9f3a"
             ],
             [
              0.8888888888888888,
              "#fdca26"
             ],
             [
              1,
              "#f0f921"
             ]
            ],
            "type": "histogram2dcontour"
           }
          ],
          "mesh3d": [
           {
            "colorbar": {
             "outlinewidth": 0,
             "ticks": ""
            },
            "type": "mesh3d"
           }
          ],
          "parcoords": [
           {
            "line": {
             "colorbar": {
              "outlinewidth": 0,
              "ticks": ""
             }
            },
            "type": "parcoords"
           }
          ],
          "scatter": [
           {
            "marker": {
             "colorbar": {
              "outlinewidth": 0,
              "ticks": ""
             }
            },
            "type": "scatter"
           }
          ],
          "scatter3d": [
           {
            "line": {
             "colorbar": {
              "outlinewidth": 0,
              "ticks": ""
             }
            },
            "marker": {
             "colorbar": {
              "outlinewidth": 0,
              "ticks": ""
             }
            },
            "type": "scatter3d"
           }
          ],
          "scattercarpet": [
           {
            "marker": {
             "colorbar": {
              "outlinewidth": 0,
              "ticks": ""
             }
            },
            "type": "scattercarpet"
           }
          ],
          "scattergeo": [
           {
            "marker": {
             "colorbar": {
              "outlinewidth": 0,
              "ticks": ""
             }
            },
            "type": "scattergeo"
           }
          ],
          "scattergl": [
           {
            "marker": {
             "colorbar": {
              "outlinewidth": 0,
              "ticks": ""
             }
            },
            "type": "scattergl"
           }
          ],
          "scattermapbox": [
           {
            "marker": {
             "colorbar": {
              "outlinewidth": 0,
              "ticks": ""
             }
            },
            "type": "scattermapbox"
           }
          ],
          "scatterpolar": [
           {
            "marker": {
             "colorbar": {
              "outlinewidth": 0,
              "ticks": ""
             }
            },
            "type": "scatterpolar"
           }
          ],
          "scatterpolargl": [
           {
            "marker": {
             "colorbar": {
              "outlinewidth": 0,
              "ticks": ""
             }
            },
            "type": "scatterpolargl"
           }
          ],
          "scatterternary": [
           {
            "marker": {
             "colorbar": {
              "outlinewidth": 0,
              "ticks": ""
             }
            },
            "type": "scatterternary"
           }
          ],
          "surface": [
           {
            "colorbar": {
             "outlinewidth": 0,
             "ticks": ""
            },
            "colorscale": [
             [
              0,
              "#0d0887"
             ],
             [
              0.1111111111111111,
              "#46039f"
             ],
             [
              0.2222222222222222,
              "#7201a8"
             ],
             [
              0.3333333333333333,
              "#9c179e"
             ],
             [
              0.4444444444444444,
              "#bd3786"
             ],
             [
              0.5555555555555556,
              "#d8576b"
             ],
             [
              0.6666666666666666,
              "#ed7953"
             ],
             [
              0.7777777777777778,
              "#fb9f3a"
             ],
             [
              0.8888888888888888,
              "#fdca26"
             ],
             [
              1,
              "#f0f921"
             ]
            ],
            "type": "surface"
           }
          ],
          "table": [
           {
            "cells": {
             "fill": {
              "color": "#EBF0F8"
             },
             "line": {
              "color": "white"
             }
            },
            "header": {
             "fill": {
              "color": "#C8D4E3"
             },
             "line": {
              "color": "white"
             }
            },
            "type": "table"
           }
          ]
         },
         "layout": {
          "annotationdefaults": {
           "arrowcolor": "#2a3f5f",
           "arrowhead": 0,
           "arrowwidth": 1
          },
          "colorscale": {
           "diverging": [
            [
             0,
             "#8e0152"
            ],
            [
             0.1,
             "#c51b7d"
            ],
            [
             0.2,
             "#de77ae"
            ],
            [
             0.3,
             "#f1b6da"
            ],
            [
             0.4,
             "#fde0ef"
            ],
            [
             0.5,
             "#f7f7f7"
            ],
            [
             0.6,
             "#e6f5d0"
            ],
            [
             0.7,
             "#b8e186"
            ],
            [
             0.8,
             "#7fbc41"
            ],
            [
             0.9,
             "#4d9221"
            ],
            [
             1,
             "#276419"
            ]
           ],
           "sequential": [
            [
             0,
             "#0d0887"
            ],
            [
             0.1111111111111111,
             "#46039f"
            ],
            [
             0.2222222222222222,
             "#7201a8"
            ],
            [
             0.3333333333333333,
             "#9c179e"
            ],
            [
             0.4444444444444444,
             "#bd3786"
            ],
            [
             0.5555555555555556,
             "#d8576b"
            ],
            [
             0.6666666666666666,
             "#ed7953"
            ],
            [
             0.7777777777777778,
             "#fb9f3a"
            ],
            [
             0.8888888888888888,
             "#fdca26"
            ],
            [
             1,
             "#f0f921"
            ]
           ],
           "sequentialminus": [
            [
             0,
             "#0d0887"
            ],
            [
             0.1111111111111111,
             "#46039f"
            ],
            [
             0.2222222222222222,
             "#7201a8"
            ],
            [
             0.3333333333333333,
             "#9c179e"
            ],
            [
             0.4444444444444444,
             "#bd3786"
            ],
            [
             0.5555555555555556,
             "#d8576b"
            ],
            [
             0.6666666666666666,
             "#ed7953"
            ],
            [
             0.7777777777777778,
             "#fb9f3a"
            ],
            [
             0.8888888888888888,
             "#fdca26"
            ],
            [
             1,
             "#f0f921"
            ]
           ]
          },
          "colorway": [
           "#636efa",
           "#EF553B",
           "#00cc96",
           "#ab63fa",
           "#FFA15A",
           "#19d3f3",
           "#FF6692",
           "#B6E880",
           "#FF97FF",
           "#FECB52"
          ],
          "font": {
           "color": "#2a3f5f"
          },
          "geo": {
           "bgcolor": "white",
           "lakecolor": "white",
           "landcolor": "#E5ECF6",
           "showlakes": true,
           "showland": true,
           "subunitcolor": "white"
          },
          "hoverlabel": {
           "align": "left"
          },
          "hovermode": "closest",
          "mapbox": {
           "style": "light"
          },
          "paper_bgcolor": "white",
          "plot_bgcolor": "#E5ECF6",
          "polar": {
           "angularaxis": {
            "gridcolor": "white",
            "linecolor": "white",
            "ticks": ""
           },
           "bgcolor": "#E5ECF6",
           "radialaxis": {
            "gridcolor": "white",
            "linecolor": "white",
            "ticks": ""
           }
          },
          "scene": {
           "xaxis": {
            "backgroundcolor": "#E5ECF6",
            "gridcolor": "white",
            "gridwidth": 2,
            "linecolor": "white",
            "showbackground": true,
            "ticks": "",
            "zerolinecolor": "white"
           },
           "yaxis": {
            "backgroundcolor": "#E5ECF6",
            "gridcolor": "white",
            "gridwidth": 2,
            "linecolor": "white",
            "showbackground": true,
            "ticks": "",
            "zerolinecolor": "white"
           },
           "zaxis": {
            "backgroundcolor": "#E5ECF6",
            "gridcolor": "white",
            "gridwidth": 2,
            "linecolor": "white",
            "showbackground": true,
            "ticks": "",
            "zerolinecolor": "white"
           }
          },
          "shapedefaults": {
           "line": {
            "color": "#2a3f5f"
           }
          },
          "ternary": {
           "aaxis": {
            "gridcolor": "white",
            "linecolor": "white",
            "ticks": ""
           },
           "baxis": {
            "gridcolor": "white",
            "linecolor": "white",
            "ticks": ""
           },
           "bgcolor": "#E5ECF6",
           "caxis": {
            "gridcolor": "white",
            "linecolor": "white",
            "ticks": ""
           }
          },
          "title": {
           "x": 0.05
          },
          "xaxis": {
           "automargin": true,
           "gridcolor": "white",
           "linecolor": "white",
           "ticks": "",
           "zerolinecolor": "white",
           "zerolinewidth": 2
          },
          "yaxis": {
           "automargin": true,
           "gridcolor": "white",
           "linecolor": "white",
           "ticks": "",
           "zerolinecolor": "white",
           "zerolinewidth": 2
          }
         }
        }
       }
      },
      "text/html": [
       "<div>\n",
       "        \n",
       "        \n",
       "            <div id=\"224424f9-bc88-4e56-9d7a-8753afe5355b\" class=\"plotly-graph-div\" style=\"height:525px; width:100%;\"></div>\n",
       "            <script type=\"text/javascript\">\n",
       "                require([\"plotly\"], function(Plotly) {\n",
       "                    window.PLOTLYENV=window.PLOTLYENV || {};\n",
       "                    \n",
       "                if (document.getElementById(\"224424f9-bc88-4e56-9d7a-8753afe5355b\")) {\n",
       "                    Plotly.newPlot(\n",
       "                        '224424f9-bc88-4e56-9d7a-8753afe5355b',\n",
       "                        [{\"textinfo\": \"value+percent initial\", \"textposition\": \"inside\", \"type\": \"funnel\", \"x\": [4439, 2914, 1516, 1479], \"y\": [\"login\", \"product_page\", \"product_cart\", \"purchase\"]}],\n",
       "                        {\"template\": {\"data\": {\"bar\": [{\"error_x\": {\"color\": \"#2a3f5f\"}, \"error_y\": {\"color\": \"#2a3f5f\"}, \"marker\": {\"line\": {\"color\": \"#E5ECF6\", \"width\": 0.5}}, \"type\": \"bar\"}], \"barpolar\": [{\"marker\": {\"line\": {\"color\": \"#E5ECF6\", \"width\": 0.5}}, \"type\": \"barpolar\"}], \"carpet\": [{\"aaxis\": {\"endlinecolor\": \"#2a3f5f\", \"gridcolor\": \"white\", \"linecolor\": \"white\", \"minorgridcolor\": \"white\", \"startlinecolor\": \"#2a3f5f\"}, \"baxis\": {\"endlinecolor\": \"#2a3f5f\", \"gridcolor\": \"white\", \"linecolor\": \"white\", \"minorgridcolor\": \"white\", \"startlinecolor\": \"#2a3f5f\"}, \"type\": \"carpet\"}], \"choropleth\": [{\"colorbar\": {\"outlinewidth\": 0, \"ticks\": \"\"}, \"type\": \"choropleth\"}], \"contour\": [{\"colorbar\": {\"outlinewidth\": 0, \"ticks\": \"\"}, \"colorscale\": [[0.0, \"#0d0887\"], [0.1111111111111111, \"#46039f\"], [0.2222222222222222, \"#7201a8\"], [0.3333333333333333, \"#9c179e\"], [0.4444444444444444, \"#bd3786\"], [0.5555555555555556, \"#d8576b\"], [0.6666666666666666, \"#ed7953\"], [0.7777777777777778, \"#fb9f3a\"], [0.8888888888888888, \"#fdca26\"], [1.0, \"#f0f921\"]], \"type\": \"contour\"}], \"contourcarpet\": [{\"colorbar\": {\"outlinewidth\": 0, \"ticks\": \"\"}, \"type\": \"contourcarpet\"}], \"heatmap\": [{\"colorbar\": {\"outlinewidth\": 0, \"ticks\": \"\"}, \"colorscale\": [[0.0, \"#0d0887\"], [0.1111111111111111, \"#46039f\"], [0.2222222222222222, \"#7201a8\"], [0.3333333333333333, \"#9c179e\"], [0.4444444444444444, \"#bd3786\"], [0.5555555555555556, \"#d8576b\"], [0.6666666666666666, \"#ed7953\"], [0.7777777777777778, \"#fb9f3a\"], [0.8888888888888888, \"#fdca26\"], [1.0, \"#f0f921\"]], \"type\": \"heatmap\"}], \"heatmapgl\": [{\"colorbar\": {\"outlinewidth\": 0, \"ticks\": \"\"}, \"colorscale\": [[0.0, \"#0d0887\"], [0.1111111111111111, \"#46039f\"], [0.2222222222222222, \"#7201a8\"], [0.3333333333333333, \"#9c179e\"], [0.4444444444444444, \"#bd3786\"], [0.5555555555555556, \"#d8576b\"], [0.6666666666666666, \"#ed7953\"], [0.7777777777777778, \"#fb9f3a\"], [0.8888888888888888, \"#fdca26\"], [1.0, \"#f0f921\"]], \"type\": \"heatmapgl\"}], \"histogram\": [{\"marker\": {\"colorbar\": {\"outlinewidth\": 0, \"ticks\": \"\"}}, \"type\": \"histogram\"}], \"histogram2d\": [{\"colorbar\": {\"outlinewidth\": 0, \"ticks\": \"\"}, \"colorscale\": [[0.0, \"#0d0887\"], [0.1111111111111111, \"#46039f\"], [0.2222222222222222, \"#7201a8\"], [0.3333333333333333, \"#9c179e\"], [0.4444444444444444, \"#bd3786\"], [0.5555555555555556, \"#d8576b\"], [0.6666666666666666, \"#ed7953\"], [0.7777777777777778, \"#fb9f3a\"], [0.8888888888888888, \"#fdca26\"], [1.0, \"#f0f921\"]], \"type\": \"histogram2d\"}], \"histogram2dcontour\": [{\"colorbar\": {\"outlinewidth\": 0, \"ticks\": \"\"}, \"colorscale\": [[0.0, \"#0d0887\"], [0.1111111111111111, \"#46039f\"], [0.2222222222222222, \"#7201a8\"], [0.3333333333333333, \"#9c179e\"], [0.4444444444444444, \"#bd3786\"], [0.5555555555555556, \"#d8576b\"], [0.6666666666666666, \"#ed7953\"], [0.7777777777777778, \"#fb9f3a\"], [0.8888888888888888, \"#fdca26\"], [1.0, \"#f0f921\"]], \"type\": \"histogram2dcontour\"}], \"mesh3d\": [{\"colorbar\": {\"outlinewidth\": 0, \"ticks\": \"\"}, \"type\": \"mesh3d\"}], \"parcoords\": [{\"line\": {\"colorbar\": {\"outlinewidth\": 0, \"ticks\": \"\"}}, \"type\": \"parcoords\"}], \"scatter\": [{\"marker\": {\"colorbar\": {\"outlinewidth\": 0, \"ticks\": \"\"}}, \"type\": \"scatter\"}], \"scatter3d\": [{\"line\": {\"colorbar\": {\"outlinewidth\": 0, \"ticks\": \"\"}}, \"marker\": {\"colorbar\": {\"outlinewidth\": 0, \"ticks\": \"\"}}, \"type\": \"scatter3d\"}], \"scattercarpet\": [{\"marker\": {\"colorbar\": {\"outlinewidth\": 0, \"ticks\": \"\"}}, \"type\": \"scattercarpet\"}], \"scattergeo\": [{\"marker\": {\"colorbar\": {\"outlinewidth\": 0, \"ticks\": \"\"}}, \"type\": \"scattergeo\"}], \"scattergl\": [{\"marker\": {\"colorbar\": {\"outlinewidth\": 0, \"ticks\": \"\"}}, \"type\": \"scattergl\"}], \"scattermapbox\": [{\"marker\": {\"colorbar\": {\"outlinewidth\": 0, \"ticks\": \"\"}}, \"type\": \"scattermapbox\"}], \"scatterpolar\": [{\"marker\": {\"colorbar\": {\"outlinewidth\": 0, \"ticks\": \"\"}}, \"type\": \"scatterpolar\"}], \"scatterpolargl\": [{\"marker\": {\"colorbar\": {\"outlinewidth\": 0, \"ticks\": \"\"}}, \"type\": \"scatterpolargl\"}], \"scatterternary\": [{\"marker\": {\"colorbar\": {\"outlinewidth\": 0, \"ticks\": \"\"}}, \"type\": \"scatterternary\"}], \"surface\": [{\"colorbar\": {\"outlinewidth\": 0, \"ticks\": \"\"}, \"colorscale\": [[0.0, \"#0d0887\"], [0.1111111111111111, \"#46039f\"], [0.2222222222222222, \"#7201a8\"], [0.3333333333333333, \"#9c179e\"], [0.4444444444444444, \"#bd3786\"], [0.5555555555555556, \"#d8576b\"], [0.6666666666666666, \"#ed7953\"], [0.7777777777777778, \"#fb9f3a\"], [0.8888888888888888, \"#fdca26\"], [1.0, \"#f0f921\"]], \"type\": \"surface\"}], \"table\": [{\"cells\": {\"fill\": {\"color\": \"#EBF0F8\"}, \"line\": {\"color\": \"white\"}}, \"header\": {\"fill\": {\"color\": \"#C8D4E3\"}, \"line\": {\"color\": \"white\"}}, \"type\": \"table\"}]}, \"layout\": {\"annotationdefaults\": {\"arrowcolor\": \"#2a3f5f\", \"arrowhead\": 0, \"arrowwidth\": 1}, \"colorscale\": {\"diverging\": [[0, \"#8e0152\"], [0.1, \"#c51b7d\"], [0.2, \"#de77ae\"], [0.3, \"#f1b6da\"], [0.4, \"#fde0ef\"], [0.5, \"#f7f7f7\"], [0.6, \"#e6f5d0\"], [0.7, \"#b8e186\"], [0.8, \"#7fbc41\"], [0.9, \"#4d9221\"], [1, \"#276419\"]], \"sequential\": [[0.0, \"#0d0887\"], [0.1111111111111111, \"#46039f\"], [0.2222222222222222, \"#7201a8\"], [0.3333333333333333, \"#9c179e\"], [0.4444444444444444, \"#bd3786\"], [0.5555555555555556, \"#d8576b\"], [0.6666666666666666, \"#ed7953\"], [0.7777777777777778, \"#fb9f3a\"], [0.8888888888888888, \"#fdca26\"], [1.0, \"#f0f921\"]], \"sequentialminus\": [[0.0, \"#0d0887\"], [0.1111111111111111, \"#46039f\"], [0.2222222222222222, \"#7201a8\"], [0.3333333333333333, \"#9c179e\"], [0.4444444444444444, \"#bd3786\"], [0.5555555555555556, \"#d8576b\"], [0.6666666666666666, \"#ed7953\"], [0.7777777777777778, \"#fb9f3a\"], [0.8888888888888888, \"#fdca26\"], [1.0, \"#f0f921\"]]}, \"colorway\": [\"#636efa\", \"#EF553B\", \"#00cc96\", \"#ab63fa\", \"#FFA15A\", \"#19d3f3\", \"#FF6692\", \"#B6E880\", \"#FF97FF\", \"#FECB52\"], \"font\": {\"color\": \"#2a3f5f\"}, \"geo\": {\"bgcolor\": \"white\", \"lakecolor\": \"white\", \"landcolor\": \"#E5ECF6\", \"showlakes\": true, \"showland\": true, \"subunitcolor\": \"white\"}, \"hoverlabel\": {\"align\": \"left\"}, \"hovermode\": \"closest\", \"mapbox\": {\"style\": \"light\"}, \"paper_bgcolor\": \"white\", \"plot_bgcolor\": \"#E5ECF6\", \"polar\": {\"angularaxis\": {\"gridcolor\": \"white\", \"linecolor\": \"white\", \"ticks\": \"\"}, \"bgcolor\": \"#E5ECF6\", \"radialaxis\": {\"gridcolor\": \"white\", \"linecolor\": \"white\", \"ticks\": \"\"}}, \"scene\": {\"xaxis\": {\"backgroundcolor\": \"#E5ECF6\", \"gridcolor\": \"white\", \"gridwidth\": 2, \"linecolor\": \"white\", \"showbackground\": true, \"ticks\": \"\", \"zerolinecolor\": \"white\"}, \"yaxis\": {\"backgroundcolor\": \"#E5ECF6\", \"gridcolor\": \"white\", \"gridwidth\": 2, \"linecolor\": \"white\", \"showbackground\": true, \"ticks\": \"\", \"zerolinecolor\": \"white\"}, \"zaxis\": {\"backgroundcolor\": \"#E5ECF6\", \"gridcolor\": \"white\", \"gridwidth\": 2, \"linecolor\": \"white\", \"showbackground\": true, \"ticks\": \"\", \"zerolinecolor\": \"white\"}}, \"shapedefaults\": {\"line\": {\"color\": \"#2a3f5f\"}}, \"ternary\": {\"aaxis\": {\"gridcolor\": \"white\", \"linecolor\": \"white\", \"ticks\": \"\"}, \"baxis\": {\"gridcolor\": \"white\", \"linecolor\": \"white\", \"ticks\": \"\"}, \"bgcolor\": \"#E5ECF6\", \"caxis\": {\"gridcolor\": \"white\", \"linecolor\": \"white\", \"ticks\": \"\"}}, \"title\": {\"x\": 0.05}, \"xaxis\": {\"automargin\": true, \"gridcolor\": \"white\", \"linecolor\": \"white\", \"ticks\": \"\", \"zerolinecolor\": \"white\", \"zerolinewidth\": 2}, \"yaxis\": {\"automargin\": true, \"gridcolor\": \"white\", \"linecolor\": \"white\", \"ticks\": \"\", \"zerolinecolor\": \"white\", \"zerolinewidth\": 2}}}},\n",
       "                        {\"responsive\": true}\n",
       "                    ).then(function(){\n",
       "                            \n",
       "var gd = document.getElementById('224424f9-bc88-4e56-9d7a-8753afe5355b');\n",
       "var x = new MutationObserver(function (mutations, observer) {{\n",
       "        var display = window.getComputedStyle(gd).display;\n",
       "        if (!display || display === 'none') {{\n",
       "            console.log([gd, 'removed!']);\n",
       "            Plotly.purge(gd);\n",
       "            observer.disconnect();\n",
       "        }}\n",
       "}});\n",
       "\n",
       "// Listen for the removal of the full notebook cells\n",
       "var notebookContainer = gd.closest('#notebook-container');\n",
       "if (notebookContainer) {{\n",
       "    x.observe(notebookContainer, {childList: true});\n",
       "}}\n",
       "\n",
       "// Listen for the clearing of the current output cell\n",
       "var outputEl = gd.closest('.output');\n",
       "if (outputEl) {{\n",
       "    x.observe(outputEl, {childList: true});\n",
       "}}\n",
       "\n",
       "                        })\n",
       "                };\n",
       "                });\n",
       "            </script>\n",
       "        </div>"
      ]
     },
     "metadata": {},
     "output_type": "display_data"
    }
   ],
   "source": [
    "#get the unique users arriving at each stage for group A\n",
    "users_login_B = interface_B.query('event_name ==\"login\"')['user_id'].nunique()\n",
    "users_product_B = interface_B.query('event_name ==\"product_page\"')['user_id'].nunique()\n",
    "users_cart_B = interface_B.query('event_name ==\"product_cart\"')['user_id'].nunique()\n",
    "users_purchase_B = interface_B.query('event_name ==\"purchase\"')['user_id'].nunique()\n",
    "\n",
    "#print the number\n",
    "print('login:', users_login_B)\n",
    "print('product_page:', users_product_B)\n",
    "print('product_cart:', users_cart_B)\n",
    "print('purchase:', users_purchase_B) \n",
    "\n",
    "#visualize the funnel\n",
    "fig_B_interface_2 = go.Figure(go.Funnel(\n",
    "    y=[\"login\", \"product_page\", \"product_cart\", \"purchase\"],\n",
    "    x=[users_login_B, users_product_B,  users_cart_B, users_purchase_B],\n",
    "    textposition=\"inside\",\n",
    "    textinfo=\"value+percent initial\"\n",
    "))\n",
    "\n",
    "fig_B_2.update_layout(title={\n",
    "    'text': \"Simple Sales funnel for interface_edu_test group B\",\n",
    "    'y': 0.9,\n",
    "    'x': 0.5,\n",
    "    'xanchor': 'center',\n",
    "    'yanchor': 'top'})\n",
    "\n",
    "fig_B_interface_2.show()"
   ]
  },
  {
   "cell_type": "markdown",
   "metadata": {},
   "source": [
    "From the above we can already see that the two groups show very little difference in both funnels. However, let's quickly carry out a statisfical testing anyway. "
   ]
  },
  {
   "cell_type": "code",
   "execution_count": 98,
   "metadata": {},
   "outputs": [
    {
     "name": "stdout",
     "output_type": "stream",
     "text": [
      "p-value:  0.1616602694116911\n",
      "Failed to reject the null hypothesis: there is no reason to consider the conversion rates different\n"
     ]
    }
   ],
   "source": [
    "#significance test for conversion rate from login to product_page\n",
    "alpha = .05/3 # significance level\n",
    "\n",
    "successes = np.array([n_product_A, n_product_B])\n",
    "trials = np.array([n_login_A, n_login_B])\n",
    "\n",
    "test(alpha, successes, trials)"
   ]
  },
  {
   "cell_type": "code",
   "execution_count": 99,
   "metadata": {},
   "outputs": [
    {
     "name": "stdout",
     "output_type": "stream",
     "text": [
      "p-value:  0.2614187692672718\n",
      "Failed to reject the null hypothesis: there is no reason to consider the conversion rates different\n"
     ]
    }
   ],
   "source": [
    "#from product_page to product_cart\n",
    "alpha = .05/3 # significance level\n",
    "\n",
    "successes = np.array([n_cart_A, n_cart_B])\n",
    "trials = np.array([n_product_A, n_product_B])\n",
    "\n",
    "test(alpha, successes, trials)"
   ]
  },
  {
   "cell_type": "code",
   "execution_count": 100,
   "metadata": {},
   "outputs": [
    {
     "name": "stdout",
     "output_type": "stream",
     "text": [
      "p-value:  0.2962110555172548\n",
      "Failed to reject the null hypothesis: there is no reason to consider the conversion rates different\n"
     ]
    }
   ],
   "source": [
    "#from product_cart to purchase\n",
    "alpha = .05/3 # significance level\n",
    "\n",
    "successes = np.array([n_purchase_A, n_purchase_B])\n",
    "trials = np.array([n_cart_A, n_cart_B])\n",
    "\n",
    "test(alpha, successes, trials)"
   ]
  },
  {
   "cell_type": "markdown",
   "metadata": {},
   "source": [
    "In this section, we carried out a significance test for the interface_eu_test. Given it's not clear the goal of the test, we assume that it has the same goal as the recommender_system_test, which is to see increase in converstion rate in the sales funnel. \n",
    "\n",
    "The two groups for the test are quite balanced (4521 vs. 4439). The sales funnels for the two groups show them having only slight difference in conversion rates into the next stage. The significance testing following that further confirmed our observation. \n",
    "\n",
    "Therefore we can conclude that, for the period of time that this particular A/B test was carried out, we can not claim that the two groups performed any different as far as conversion rate is concerned. \n"
   ]
  }
 ],
 "metadata": {
  "ExecuteTimeLog": [
   {
    "duration": 1716,
    "start_time": "2021-06-14T12:55:22.133Z"
   },
   {
    "duration": 354,
    "start_time": "2021-06-14T12:55:23.851Z"
   },
   {
    "duration": -76,
    "start_time": "2021-06-14T12:55:24.287Z"
   },
   {
    "duration": -86,
    "start_time": "2021-06-14T12:55:24.298Z"
   },
   {
    "duration": -91,
    "start_time": "2021-06-14T12:55:24.304Z"
   },
   {
    "duration": -98,
    "start_time": "2021-06-14T12:55:24.313Z"
   },
   {
    "duration": -102,
    "start_time": "2021-06-14T12:55:24.318Z"
   },
   {
    "duration": -108,
    "start_time": "2021-06-14T12:55:24.326Z"
   },
   {
    "duration": -114,
    "start_time": "2021-06-14T12:55:24.333Z"
   },
   {
    "duration": -117,
    "start_time": "2021-06-14T12:55:24.338Z"
   },
   {
    "duration": -125,
    "start_time": "2021-06-14T12:55:24.347Z"
   },
   {
    "duration": -130,
    "start_time": "2021-06-14T12:55:24.353Z"
   },
   {
    "duration": -135,
    "start_time": "2021-06-14T12:55:24.360Z"
   },
   {
    "duration": -139,
    "start_time": "2021-06-14T12:55:24.365Z"
   },
   {
    "duration": -143,
    "start_time": "2021-06-14T12:55:24.371Z"
   },
   {
    "duration": -149,
    "start_time": "2021-06-14T12:55:24.378Z"
   },
   {
    "duration": -154,
    "start_time": "2021-06-14T12:55:24.384Z"
   },
   {
    "duration": -160,
    "start_time": "2021-06-14T12:55:24.392Z"
   },
   {
    "duration": -164,
    "start_time": "2021-06-14T12:55:24.397Z"
   },
   {
    "duration": -167,
    "start_time": "2021-06-14T12:55:24.402Z"
   },
   {
    "duration": -225,
    "start_time": "2021-06-14T12:55:24.461Z"
   },
   {
    "duration": -229,
    "start_time": "2021-06-14T12:55:24.466Z"
   },
   {
    "duration": -233,
    "start_time": "2021-06-14T12:55:24.472Z"
   },
   {
    "duration": -240,
    "start_time": "2021-06-14T12:55:24.480Z"
   },
   {
    "duration": -243,
    "start_time": "2021-06-14T12:55:24.485Z"
   },
   {
    "duration": -250,
    "start_time": "2021-06-14T12:55:24.493Z"
   },
   {
    "duration": -253,
    "start_time": "2021-06-14T12:55:24.497Z"
   },
   {
    "duration": -218,
    "start_time": "2021-06-14T12:55:24.503Z"
   },
   {
    "duration": -226,
    "start_time": "2021-06-14T12:55:24.512Z"
   },
   {
    "duration": -229,
    "start_time": "2021-06-14T12:55:24.516Z"
   },
   {
    "duration": -237,
    "start_time": "2021-06-14T12:55:24.525Z"
   },
   {
    "duration": -241,
    "start_time": "2021-06-14T12:55:24.530Z"
   },
   {
    "duration": -246,
    "start_time": "2021-06-14T12:55:24.536Z"
   },
   {
    "duration": -253,
    "start_time": "2021-06-14T12:55:24.544Z"
   },
   {
    "duration": -256,
    "start_time": "2021-06-14T12:55:24.549Z"
   },
   {
    "duration": -261,
    "start_time": "2021-06-14T12:55:24.556Z"
   },
   {
    "duration": -268,
    "start_time": "2021-06-14T12:55:24.564Z"
   },
   {
    "duration": -272,
    "start_time": "2021-06-14T12:55:24.569Z"
   },
   {
    "duration": -278,
    "start_time": "2021-06-14T12:55:24.576Z"
   },
   {
    "duration": -281,
    "start_time": "2021-06-14T12:55:24.581Z"
   },
   {
    "duration": -284,
    "start_time": "2021-06-14T12:55:24.587Z"
   },
   {
    "duration": -290,
    "start_time": "2021-06-14T12:55:24.595Z"
   },
   {
    "duration": -295,
    "start_time": "2021-06-14T12:55:24.601Z"
   },
   {
    "duration": -302,
    "start_time": "2021-06-14T12:55:24.609Z"
   },
   {
    "duration": -305,
    "start_time": "2021-06-14T12:55:24.614Z"
   },
   {
    "duration": -309,
    "start_time": "2021-06-14T12:55:24.619Z"
   },
   {
    "duration": -316,
    "start_time": "2021-06-14T12:55:24.627Z"
   },
   {
    "duration": -320,
    "start_time": "2021-06-14T12:55:24.632Z"
   },
   {
    "duration": -325,
    "start_time": "2021-06-14T12:55:24.638Z"
   },
   {
    "duration": -363,
    "start_time": "2021-06-14T12:55:24.677Z"
   },
   {
    "duration": -366,
    "start_time": "2021-06-14T12:55:24.681Z"
   },
   {
    "duration": -371,
    "start_time": "2021-06-14T12:55:24.687Z"
   },
   {
    "duration": -378,
    "start_time": "2021-06-14T12:55:24.695Z"
   },
   {
    "duration": -382,
    "start_time": "2021-06-14T12:55:24.700Z"
   },
   {
    "duration": -389,
    "start_time": "2021-06-14T12:55:24.708Z"
   },
   {
    "duration": -393,
    "start_time": "2021-06-14T12:55:24.713Z"
   },
   {
    "duration": -397,
    "start_time": "2021-06-14T12:55:24.718Z"
   },
   {
    "duration": -404,
    "start_time": "2021-06-14T12:55:24.726Z"
   },
   {
    "duration": -408,
    "start_time": "2021-06-14T12:55:24.731Z"
   },
   {
    "duration": -413,
    "start_time": "2021-06-14T12:55:24.737Z"
   },
   {
    "duration": -421,
    "start_time": "2021-06-14T12:55:24.746Z"
   },
   {
    "duration": -424,
    "start_time": "2021-06-14T12:55:24.750Z"
   },
   {
    "duration": -432,
    "start_time": "2021-06-14T12:55:24.759Z"
   },
   {
    "duration": -436,
    "start_time": "2021-06-14T12:55:24.764Z"
   },
   {
    "duration": -382,
    "start_time": "2021-06-14T12:55:24.769Z"
   },
   {
    "duration": -389,
    "start_time": "2021-06-14T12:55:24.777Z"
   },
   {
    "duration": -391,
    "start_time": "2021-06-14T12:55:24.782Z"
   },
   {
    "duration": -396,
    "start_time": "2021-06-14T12:55:24.788Z"
   },
   {
    "duration": -402,
    "start_time": "2021-06-14T12:55:24.795Z"
   },
   {
    "duration": -407,
    "start_time": "2021-06-14T12:55:24.801Z"
   },
   {
    "duration": -413,
    "start_time": "2021-06-14T12:55:24.808Z"
   },
   {
    "duration": -417,
    "start_time": "2021-06-14T12:55:24.814Z"
   },
   {
    "duration": -421,
    "start_time": "2021-06-14T12:55:24.818Z"
   },
   {
    "duration": -428,
    "start_time": "2021-06-14T12:55:24.827Z"
   },
   {
    "duration": -433,
    "start_time": "2021-06-14T12:55:24.832Z"
   },
   {
    "duration": -442,
    "start_time": "2021-06-14T12:55:24.842Z"
   },
   {
    "duration": -445,
    "start_time": "2021-06-14T12:55:24.846Z"
   },
   {
    "duration": -450,
    "start_time": "2021-06-14T12:55:24.852Z"
   },
   {
    "duration": -457,
    "start_time": "2021-06-14T12:55:24.860Z"
   },
   {
    "duration": -461,
    "start_time": "2021-06-14T12:55:24.865Z"
   },
   {
    "duration": -466,
    "start_time": "2021-06-14T12:55:24.871Z"
   },
   {
    "duration": -472,
    "start_time": "2021-06-14T12:55:24.878Z"
   },
   {
    "duration": -475,
    "start_time": "2021-06-14T12:55:24.883Z"
   },
   {
    "duration": -482,
    "start_time": "2021-06-14T12:55:24.891Z"
   },
   {
    "duration": -487,
    "start_time": "2021-06-14T12:55:24.897Z"
   },
   {
    "duration": -491,
    "start_time": "2021-06-14T12:55:24.902Z"
   },
   {
    "duration": -498,
    "start_time": "2021-06-14T12:55:24.910Z"
   },
   {
    "duration": -503,
    "start_time": "2021-06-14T12:55:24.916Z"
   },
   {
    "duration": -506,
    "start_time": "2021-06-14T12:55:24.921Z"
   },
   {
    "duration": -513,
    "start_time": "2021-06-14T12:55:24.929Z"
   },
   {
    "duration": -518,
    "start_time": "2021-06-14T12:55:24.935Z"
   },
   {
    "duration": -525,
    "start_time": "2021-06-14T12:55:24.943Z"
   },
   {
    "duration": -528,
    "start_time": "2021-06-14T12:55:24.948Z"
   },
   {
    "duration": 11,
    "start_time": "2021-06-14T21:58:59.611Z"
   },
   {
    "duration": 10,
    "start_time": "2021-06-14T21:59:06.036Z"
   },
   {
    "duration": 133,
    "start_time": "2021-06-14T21:59:25.846Z"
   },
   {
    "duration": 10,
    "start_time": "2021-06-14T21:59:33.551Z"
   },
   {
    "duration": 9,
    "start_time": "2021-06-14T21:59:45.284Z"
   },
   {
    "duration": 11,
    "start_time": "2021-06-14T21:59:57.376Z"
   },
   {
    "duration": 443,
    "start_time": "2021-06-14T22:00:10.946Z"
   },
   {
    "duration": 1924,
    "start_time": "2021-06-14T22:00:22.671Z"
   },
   {
    "duration": 1441,
    "start_time": "2021-06-14T22:00:31.894Z"
   },
   {
    "duration": 1266,
    "start_time": "2021-06-14T22:00:57.542Z"
   },
   {
    "duration": 30,
    "start_time": "2021-06-14T22:03:56.163Z"
   },
   {
    "duration": 2836,
    "start_time": "2021-06-14T22:05:23.056Z"
   },
   {
    "duration": 2554,
    "start_time": "2021-06-14T22:05:36.794Z"
   },
   {
    "duration": 2493,
    "start_time": "2021-06-14T22:08:04.479Z"
   },
   {
    "duration": 2465,
    "start_time": "2021-06-14T22:08:34.703Z"
   },
   {
    "duration": 2647,
    "start_time": "2021-06-14T22:09:01.627Z"
   },
   {
    "duration": 18,
    "start_time": "2021-06-14T22:09:13.836Z"
   },
   {
    "duration": 17,
    "start_time": "2021-06-14T22:09:33.043Z"
   },
   {
    "duration": 961,
    "start_time": "2021-06-14T22:10:58.036Z"
   },
   {
    "duration": 170,
    "start_time": "2021-06-14T22:11:58.723Z"
   },
   {
    "duration": 459,
    "start_time": "2021-06-14T22:13:38.502Z"
   },
   {
    "duration": 417,
    "start_time": "2021-06-14T22:20:10.471Z"
   },
   {
    "duration": 283,
    "start_time": "2021-06-14T22:20:44.016Z"
   },
   {
    "duration": 437,
    "start_time": "2021-06-14T22:21:09.953Z"
   },
   {
    "duration": 13,
    "start_time": "2021-06-14T22:21:16.686Z"
   },
   {
    "duration": 11,
    "start_time": "2021-06-14T22:21:22.023Z"
   },
   {
    "duration": 9,
    "start_time": "2021-06-14T22:21:38.591Z"
   },
   {
    "duration": 432,
    "start_time": "2021-06-14T22:23:31.271Z"
   },
   {
    "duration": 472,
    "start_time": "2021-06-14T22:23:44.476Z"
   },
   {
    "duration": 431,
    "start_time": "2021-06-14T22:24:07.170Z"
   },
   {
    "duration": 442,
    "start_time": "2021-06-14T22:24:13.661Z"
   },
   {
    "duration": 420,
    "start_time": "2021-06-14T22:41:57.081Z"
   },
   {
    "duration": 16,
    "start_time": "2021-06-14T23:02:10.176Z"
   },
   {
    "duration": 626,
    "start_time": "2021-06-14T23:02:25.252Z"
   },
   {
    "duration": 14,
    "start_time": "2021-06-14T23:02:30.582Z"
   },
   {
    "duration": 11,
    "start_time": "2021-06-14T23:02:34.673Z"
   },
   {
    "duration": 9,
    "start_time": "2021-06-14T23:03:01.462Z"
   },
   {
    "duration": 9487,
    "start_time": "2021-06-14T23:03:06.156Z"
   },
   {
    "duration": 12,
    "start_time": "2021-06-14T23:03:23.296Z"
   },
   {
    "duration": 8,
    "start_time": "2021-06-14T23:03:29.606Z"
   },
   {
    "duration": 366,
    "start_time": "2021-06-14T23:03:33.837Z"
   },
   {
    "duration": 440,
    "start_time": "2021-06-14T23:07:33.262Z"
   },
   {
    "duration": 10,
    "start_time": "2021-06-15T04:41:03.626Z"
   },
   {
    "duration": 753,
    "start_time": "2021-06-15T04:43:02.842Z"
   },
   {
    "duration": 13,
    "start_time": "2021-06-15T04:43:07.677Z"
   },
   {
    "duration": 11,
    "start_time": "2021-06-15T04:43:11.372Z"
   },
   {
    "duration": 8,
    "start_time": "2021-06-15T04:43:15.391Z"
   },
   {
    "duration": 8,
    "start_time": "2021-06-15T04:43:18.561Z"
   },
   {
    "duration": 12,
    "start_time": "2021-06-15T04:43:22.741Z"
   },
   {
    "duration": 8,
    "start_time": "2021-06-15T04:43:25.326Z"
   },
   {
    "duration": 399,
    "start_time": "2021-06-15T04:43:27.351Z"
   },
   {
    "duration": 2339,
    "start_time": "2021-06-15T04:50:22.897Z"
   },
   {
    "duration": 336,
    "start_time": "2021-06-15T04:52:07.527Z"
   },
   {
    "duration": 9321,
    "start_time": "2021-06-15T04:52:17.211Z"
   },
   {
    "duration": 1982,
    "start_time": "2021-06-15T04:52:52.347Z"
   },
   {
    "duration": 592,
    "start_time": "2021-06-15T04:52:54.332Z"
   },
   {
    "duration": 17,
    "start_time": "2021-06-15T04:52:54.927Z"
   },
   {
    "duration": 12,
    "start_time": "2021-06-15T04:52:54.947Z"
   },
   {
    "duration": 10,
    "start_time": "2021-06-15T04:52:54.961Z"
   },
   {
    "duration": 8,
    "start_time": "2021-06-15T04:52:54.974Z"
   },
   {
    "duration": 48,
    "start_time": "2021-06-15T04:52:54.984Z"
   },
   {
    "duration": 12,
    "start_time": "2021-06-15T04:52:55.035Z"
   },
   {
    "duration": 2272,
    "start_time": "2021-06-15T04:52:55.050Z"
   },
   {
    "duration": 1107,
    "start_time": "2021-06-15T04:52:56.222Z"
   },
   {
    "duration": 1051,
    "start_time": "2021-06-15T04:52:56.279Z"
   },
   {
    "duration": 745,
    "start_time": "2021-06-15T04:52:56.587Z"
   },
   {
    "duration": 742,
    "start_time": "2021-06-15T04:52:56.592Z"
   },
   {
    "duration": 737,
    "start_time": "2021-06-15T04:52:56.598Z"
   },
   {
    "duration": 734,
    "start_time": "2021-06-15T04:52:56.603Z"
   },
   {
    "duration": 731,
    "start_time": "2021-06-15T04:52:56.607Z"
   },
   {
    "duration": 727,
    "start_time": "2021-06-15T04:52:56.612Z"
   },
   {
    "duration": 725,
    "start_time": "2021-06-15T04:52:56.616Z"
   },
   {
    "duration": 722,
    "start_time": "2021-06-15T04:52:56.620Z"
   },
   {
    "duration": 719,
    "start_time": "2021-06-15T04:52:56.624Z"
   },
   {
    "duration": 717,
    "start_time": "2021-06-15T04:52:56.628Z"
   },
   {
    "duration": 713,
    "start_time": "2021-06-15T04:52:56.633Z"
   },
   {
    "duration": 711,
    "start_time": "2021-06-15T04:52:56.637Z"
   },
   {
    "duration": 707,
    "start_time": "2021-06-15T04:52:56.642Z"
   },
   {
    "duration": 698,
    "start_time": "2021-06-15T04:52:56.653Z"
   },
   {
    "duration": 694,
    "start_time": "2021-06-15T04:52:56.658Z"
   },
   {
    "duration": 691,
    "start_time": "2021-06-15T04:52:56.663Z"
   },
   {
    "duration": 687,
    "start_time": "2021-06-15T04:52:56.668Z"
   },
   {
    "duration": 685,
    "start_time": "2021-06-15T04:52:56.672Z"
   },
   {
    "duration": 682,
    "start_time": "2021-06-15T04:52:56.676Z"
   },
   {
    "duration": 680,
    "start_time": "2021-06-15T04:52:56.680Z"
   },
   {
    "duration": 677,
    "start_time": "2021-06-15T04:52:56.685Z"
   },
   {
    "duration": 674,
    "start_time": "2021-06-15T04:52:56.689Z"
   },
   {
    "duration": 671,
    "start_time": "2021-06-15T04:52:56.694Z"
   },
   {
    "duration": 667,
    "start_time": "2021-06-15T04:52:56.699Z"
   },
   {
    "duration": 665,
    "start_time": "2021-06-15T04:52:56.703Z"
   },
   {
    "duration": -145,
    "start_time": "2021-06-15T04:52:57.514Z"
   },
   {
    "duration": -97,
    "start_time": "2021-06-15T04:52:57.525Z"
   },
   {
    "duration": -99,
    "start_time": "2021-06-15T04:52:57.529Z"
   },
   {
    "duration": -103,
    "start_time": "2021-06-15T04:52:57.534Z"
   },
   {
    "duration": -105,
    "start_time": "2021-06-15T04:52:57.538Z"
   },
   {
    "duration": -108,
    "start_time": "2021-06-15T04:52:57.542Z"
   },
   {
    "duration": -110,
    "start_time": "2021-06-15T04:52:57.546Z"
   },
   {
    "duration": -113,
    "start_time": "2021-06-15T04:52:57.550Z"
   },
   {
    "duration": -116,
    "start_time": "2021-06-15T04:52:57.554Z"
   },
   {
    "duration": -119,
    "start_time": "2021-06-15T04:52:57.559Z"
   },
   {
    "duration": -122,
    "start_time": "2021-06-15T04:52:57.563Z"
   },
   {
    "duration": -126,
    "start_time": "2021-06-15T04:52:57.568Z"
   },
   {
    "duration": -129,
    "start_time": "2021-06-15T04:52:57.572Z"
   },
   {
    "duration": -131,
    "start_time": "2021-06-15T04:52:57.576Z"
   },
   {
    "duration": -134,
    "start_time": "2021-06-15T04:52:57.580Z"
   },
   {
    "duration": -138,
    "start_time": "2021-06-15T04:52:57.585Z"
   },
   {
    "duration": -139,
    "start_time": "2021-06-15T04:52:57.588Z"
   },
   {
    "duration": -144,
    "start_time": "2021-06-15T04:52:57.594Z"
   },
   {
    "duration": -147,
    "start_time": "2021-06-15T04:52:57.598Z"
   },
   {
    "duration": -150,
    "start_time": "2021-06-15T04:52:57.602Z"
   },
   {
    "duration": -153,
    "start_time": "2021-06-15T04:52:57.606Z"
   },
   {
    "duration": -157,
    "start_time": "2021-06-15T04:52:57.611Z"
   },
   {
    "duration": -160,
    "start_time": "2021-06-15T04:52:57.615Z"
   },
   {
    "duration": -163,
    "start_time": "2021-06-15T04:52:57.620Z"
   },
   {
    "duration": -175,
    "start_time": "2021-06-15T04:52:57.633Z"
   },
   {
    "duration": -180,
    "start_time": "2021-06-15T04:52:57.639Z"
   },
   {
    "duration": -182,
    "start_time": "2021-06-15T04:52:57.643Z"
   },
   {
    "duration": -185,
    "start_time": "2021-06-15T04:52:57.647Z"
   },
   {
    "duration": -189,
    "start_time": "2021-06-15T04:52:57.652Z"
   },
   {
    "duration": -132,
    "start_time": "2021-06-15T04:52:57.657Z"
   },
   {
    "duration": -135,
    "start_time": "2021-06-15T04:52:57.662Z"
   },
   {
    "duration": -138,
    "start_time": "2021-06-15T04:52:57.666Z"
   },
   {
    "duration": -142,
    "start_time": "2021-06-15T04:52:57.671Z"
   },
   {
    "duration": -144,
    "start_time": "2021-06-15T04:52:57.675Z"
   },
   {
    "duration": -147,
    "start_time": "2021-06-15T04:52:57.679Z"
   },
   {
    "duration": -151,
    "start_time": "2021-06-15T04:52:57.684Z"
   },
   {
    "duration": -153,
    "start_time": "2021-06-15T04:52:57.688Z"
   },
   {
    "duration": -156,
    "start_time": "2021-06-15T04:52:57.692Z"
   },
   {
    "duration": -158,
    "start_time": "2021-06-15T04:52:57.695Z"
   },
   {
    "duration": -162,
    "start_time": "2021-06-15T04:52:57.701Z"
   },
   {
    "duration": -165,
    "start_time": "2021-06-15T04:52:57.705Z"
   },
   {
    "duration": -168,
    "start_time": "2021-06-15T04:52:57.709Z"
   },
   {
    "duration": -171,
    "start_time": "2021-06-15T04:52:57.714Z"
   },
   {
    "duration": -175,
    "start_time": "2021-06-15T04:52:57.719Z"
   },
   {
    "duration": -178,
    "start_time": "2021-06-15T04:52:57.723Z"
   },
   {
    "duration": -181,
    "start_time": "2021-06-15T04:52:57.727Z"
   },
   {
    "duration": -183,
    "start_time": "2021-06-15T04:52:57.731Z"
   },
   {
    "duration": -196,
    "start_time": "2021-06-15T04:52:57.745Z"
   },
   {
    "duration": -199,
    "start_time": "2021-06-15T04:52:57.749Z"
   },
   {
    "duration": -202,
    "start_time": "2021-06-15T04:52:57.754Z"
   },
   {
    "duration": -205,
    "start_time": "2021-06-15T04:52:57.758Z"
   },
   {
    "duration": -209,
    "start_time": "2021-06-15T04:52:57.763Z"
   },
   {
    "duration": -213,
    "start_time": "2021-06-15T04:52:57.768Z"
   },
   {
    "duration": -216,
    "start_time": "2021-06-15T04:52:57.772Z"
   },
   {
    "duration": -219,
    "start_time": "2021-06-15T04:52:57.776Z"
   },
   {
    "duration": -222,
    "start_time": "2021-06-15T04:52:57.781Z"
   },
   {
    "duration": -225,
    "start_time": "2021-06-15T04:52:57.785Z"
   },
   {
    "duration": 8,
    "start_time": "2021-06-15T04:54:31.727Z"
   },
   {
    "duration": 7,
    "start_time": "2021-06-15T04:54:35.187Z"
   },
   {
    "duration": 8,
    "start_time": "2021-06-15T04:55:10.977Z"
   },
   {
    "duration": 8,
    "start_time": "2021-06-15T04:55:12.385Z"
   },
   {
    "duration": 1987,
    "start_time": "2021-06-15T04:56:05.279Z"
   },
   {
    "duration": 528,
    "start_time": "2021-06-15T04:56:07.269Z"
   },
   {
    "duration": 20,
    "start_time": "2021-06-15T04:56:07.801Z"
   },
   {
    "duration": 15,
    "start_time": "2021-06-15T04:56:07.824Z"
   },
   {
    "duration": 14,
    "start_time": "2021-06-15T04:56:07.842Z"
   },
   {
    "duration": 12,
    "start_time": "2021-06-15T04:56:07.859Z"
   },
   {
    "duration": 14,
    "start_time": "2021-06-15T04:56:07.874Z"
   },
   {
    "duration": 10,
    "start_time": "2021-06-15T04:56:07.926Z"
   },
   {
    "duration": 10,
    "start_time": "2021-06-15T04:56:07.942Z"
   },
   {
    "duration": 15,
    "start_time": "2021-06-15T04:56:07.955Z"
   },
   {
    "duration": 22,
    "start_time": "2021-06-15T04:56:07.972Z"
   },
   {
    "duration": 8,
    "start_time": "2021-06-15T04:56:08.025Z"
   },
   {
    "duration": 11,
    "start_time": "2021-06-15T04:56:08.035Z"
   },
   {
    "duration": 10,
    "start_time": "2021-06-15T04:56:08.049Z"
   },
   {
    "duration": 3757,
    "start_time": "2021-06-15T04:56:08.062Z"
   },
   {
    "duration": 5,
    "start_time": "2021-06-15T04:56:11.821Z"
   },
   {
    "duration": 37,
    "start_time": "2021-06-15T04:56:11.828Z"
   },
   {
    "duration": 90,
    "start_time": "2021-06-15T04:56:11.868Z"
   },
   {
    "duration": 6,
    "start_time": "2021-06-15T04:56:11.960Z"
   },
   {
    "duration": 5,
    "start_time": "2021-06-15T04:56:11.969Z"
   },
   {
    "duration": 13,
    "start_time": "2021-06-15T04:56:11.976Z"
   },
   {
    "duration": 55,
    "start_time": "2021-06-15T04:56:11.992Z"
   },
   {
    "duration": 6,
    "start_time": "2021-06-15T04:56:12.050Z"
   },
   {
    "duration": 10,
    "start_time": "2021-06-15T04:56:12.058Z"
   },
   {
    "duration": 10,
    "start_time": "2021-06-15T04:56:12.070Z"
   },
   {
    "duration": 45,
    "start_time": "2021-06-15T04:56:12.083Z"
   },
   {
    "duration": 7,
    "start_time": "2021-06-15T04:56:12.135Z"
   },
   {
    "duration": 10,
    "start_time": "2021-06-15T04:56:12.146Z"
   },
   {
    "duration": 72,
    "start_time": "2021-06-15T04:56:12.159Z"
   },
   {
    "duration": 13,
    "start_time": "2021-06-15T04:56:12.234Z"
   },
   {
    "duration": 20,
    "start_time": "2021-06-15T04:56:12.250Z"
   },
   {
    "duration": 232,
    "start_time": "2021-06-15T04:56:12.273Z"
   },
   {
    "duration": 19,
    "start_time": "2021-06-15T04:56:12.507Z"
   },
   {
    "duration": 19,
    "start_time": "2021-06-15T04:56:12.529Z"
   },
   {
    "duration": 34,
    "start_time": "2021-06-15T04:56:12.550Z"
   },
   {
    "duration": 40,
    "start_time": "2021-06-15T04:56:12.586Z"
   },
   {
    "duration": 13,
    "start_time": "2021-06-15T04:56:12.629Z"
   },
   {
    "duration": 8,
    "start_time": "2021-06-15T04:56:12.644Z"
   },
   {
    "duration": 24,
    "start_time": "2021-06-15T04:56:12.654Z"
   },
   {
    "duration": 51,
    "start_time": "2021-06-15T04:56:12.681Z"
   },
   {
    "duration": 549,
    "start_time": "2021-06-15T04:56:12.735Z"
   },
   {
    "duration": 1033,
    "start_time": "2021-06-15T04:56:12.256Z"
   },
   {
    "duration": 974,
    "start_time": "2021-06-15T04:56:12.317Z"
   },
   {
    "duration": 970,
    "start_time": "2021-06-15T04:56:12.323Z"
   },
   {
    "duration": 967,
    "start_time": "2021-06-15T04:56:12.328Z"
   },
   {
    "duration": 964,
    "start_time": "2021-06-15T04:56:12.333Z"
   },
   {
    "duration": 960,
    "start_time": "2021-06-15T04:56:12.339Z"
   },
   {
    "duration": 956,
    "start_time": "2021-06-15T04:56:12.345Z"
   },
   {
    "duration": 952,
    "start_time": "2021-06-15T04:56:12.351Z"
   },
   {
    "duration": 949,
    "start_time": "2021-06-15T04:56:12.356Z"
   },
   {
    "duration": 947,
    "start_time": "2021-06-15T04:56:12.360Z"
   },
   {
    "duration": 944,
    "start_time": "2021-06-15T04:56:12.365Z"
   },
   {
    "duration": 942,
    "start_time": "2021-06-15T04:56:12.369Z"
   },
   {
    "duration": 939,
    "start_time": "2021-06-15T04:56:12.374Z"
   },
   {
    "duration": 936,
    "start_time": "2021-06-15T04:56:12.379Z"
   },
   {
    "duration": 934,
    "start_time": "2021-06-15T04:56:12.383Z"
   },
   {
    "duration": 932,
    "start_time": "2021-06-15T04:56:12.387Z"
   },
   {
    "duration": 929,
    "start_time": "2021-06-15T04:56:12.392Z"
   },
   {
    "duration": 926,
    "start_time": "2021-06-15T04:56:12.397Z"
   },
   {
    "duration": 924,
    "start_time": "2021-06-15T04:56:12.401Z"
   },
   {
    "duration": 922,
    "start_time": "2021-06-15T04:56:12.405Z"
   },
   {
    "duration": 885,
    "start_time": "2021-06-15T04:56:12.444Z"
   },
   {
    "duration": 883,
    "start_time": "2021-06-15T04:56:12.448Z"
   },
   {
    "duration": 880,
    "start_time": "2021-06-15T04:56:12.453Z"
   },
   {
    "duration": 856,
    "start_time": "2021-06-15T04:56:12.479Z"
   },
   {
    "duration": 853,
    "start_time": "2021-06-15T04:56:12.484Z"
   },
   {
    "duration": 852,
    "start_time": "2021-06-15T04:56:12.487Z"
   },
   {
    "duration": 849,
    "start_time": "2021-06-15T04:56:12.492Z"
   },
   {
    "duration": 847,
    "start_time": "2021-06-15T04:56:12.496Z"
   },
   {
    "duration": 845,
    "start_time": "2021-06-15T04:56:12.500Z"
   },
   {
    "duration": 456,
    "start_time": "2021-06-15T04:56:12.891Z"
   },
   {
    "duration": 319,
    "start_time": "2021-06-15T04:56:13.030Z"
   },
   {
    "duration": 316,
    "start_time": "2021-06-15T04:56:13.035Z"
   },
   {
    "duration": 313,
    "start_time": "2021-06-15T04:56:13.040Z"
   },
   {
    "duration": 311,
    "start_time": "2021-06-15T04:56:13.044Z"
   },
   {
    "duration": 310,
    "start_time": "2021-06-15T04:56:13.047Z"
   },
   {
    "duration": 308,
    "start_time": "2021-06-15T04:56:13.052Z"
   },
   {
    "duration": 306,
    "start_time": "2021-06-15T04:56:13.056Z"
   },
   {
    "duration": 305,
    "start_time": "2021-06-15T04:56:13.059Z"
   },
   {
    "duration": 363,
    "start_time": "2021-06-15T04:56:13.063Z"
   },
   {
    "duration": 361,
    "start_time": "2021-06-15T04:56:13.067Z"
   },
   {
    "duration": 358,
    "start_time": "2021-06-15T04:56:13.073Z"
   },
   {
    "duration": 356,
    "start_time": "2021-06-15T04:56:13.077Z"
   },
   {
    "duration": 353,
    "start_time": "2021-06-15T04:56:13.082Z"
   },
   {
    "duration": 351,
    "start_time": "2021-06-15T04:56:13.086Z"
   },
   {
    "duration": 350,
    "start_time": "2021-06-15T04:56:13.090Z"
   },
   {
    "duration": 347,
    "start_time": "2021-06-15T04:56:13.095Z"
   },
   {
    "duration": 346,
    "start_time": "2021-06-15T04:56:13.099Z"
   },
   {
    "duration": 344,
    "start_time": "2021-06-15T04:56:13.103Z"
   },
   {
    "duration": 342,
    "start_time": "2021-06-15T04:56:13.107Z"
   },
   {
    "duration": 332,
    "start_time": "2021-06-15T04:56:13.119Z"
   },
   {
    "duration": 328,
    "start_time": "2021-06-15T04:56:13.125Z"
   },
   {
    "duration": 323,
    "start_time": "2021-06-15T04:56:13.132Z"
   },
   {
    "duration": 320,
    "start_time": "2021-06-15T04:56:13.137Z"
   },
   {
    "duration": 317,
    "start_time": "2021-06-15T04:56:13.142Z"
   },
   {
    "duration": 680,
    "start_time": "2021-06-15T04:58:40.173Z"
   },
   {
    "duration": 1797,
    "start_time": "2021-06-15T04:58:51.694Z"
   },
   {
    "duration": 404,
    "start_time": "2021-06-15T04:58:58.588Z"
   },
   {
    "duration": 13,
    "start_time": "2021-06-15T04:59:04.606Z"
   },
   {
    "duration": 12,
    "start_time": "2021-06-15T04:59:09.388Z"
   },
   {
    "duration": 8,
    "start_time": "2021-06-15T04:59:11.985Z"
   },
   {
    "duration": 8,
    "start_time": "2021-06-15T04:59:14.513Z"
   },
   {
    "duration": 12,
    "start_time": "2021-06-15T04:59:16.283Z"
   },
   {
    "duration": 8,
    "start_time": "2021-06-15T04:59:16.994Z"
   },
   {
    "duration": 8,
    "start_time": "2021-06-15T04:59:17.593Z"
   },
   {
    "duration": 9,
    "start_time": "2021-06-15T04:59:17.953Z"
   },
   {
    "duration": 11,
    "start_time": "2021-06-15T04:59:19.213Z"
   },
   {
    "duration": 8,
    "start_time": "2021-06-15T04:59:19.563Z"
   },
   {
    "duration": 8,
    "start_time": "2021-06-15T04:59:20.198Z"
   },
   {
    "duration": 8,
    "start_time": "2021-06-15T04:59:21.013Z"
   },
   {
    "duration": 2695,
    "start_time": "2021-06-15T04:59:24.018Z"
   },
   {
    "duration": 4,
    "start_time": "2021-06-15T04:59:26.716Z"
   },
   {
    "duration": 35,
    "start_time": "2021-06-15T04:59:30.363Z"
   },
   {
    "duration": 73,
    "start_time": "2021-06-15T04:59:36.323Z"
   },
   {
    "duration": 6,
    "start_time": "2021-06-15T04:59:40.433Z"
   },
   {
    "duration": 7,
    "start_time": "2021-06-15T04:59:43.474Z"
   },
   {
    "duration": 15,
    "start_time": "2021-06-15T04:59:49.648Z"
   },
   {
    "duration": 28,
    "start_time": "2021-06-15T04:59:53.890Z"
   },
   {
    "duration": 6,
    "start_time": "2021-06-15T05:00:04.773Z"
   },
   {
    "duration": 5,
    "start_time": "2021-06-15T05:00:07.293Z"
   },
   {
    "duration": 12,
    "start_time": "2021-06-15T05:00:11.754Z"
   },
   {
    "duration": 327,
    "start_time": "2021-06-15T05:12:11.214Z"
   },
   {
    "duration": 12,
    "start_time": "2021-06-15T05:12:39.393Z"
   },
   {
    "duration": 1985,
    "start_time": "2021-06-15T05:13:16.310Z"
   },
   {
    "duration": 2294,
    "start_time": "2021-06-15T05:13:18.298Z"
   },
   {
    "duration": 17,
    "start_time": "2021-06-15T05:13:20.595Z"
   },
   {
    "duration": 12,
    "start_time": "2021-06-15T05:13:20.615Z"
   },
   {
    "duration": 11,
    "start_time": "2021-06-15T05:13:20.629Z"
   },
   {
    "duration": 10,
    "start_time": "2021-06-15T05:13:20.642Z"
   },
   {
    "duration": 13,
    "start_time": "2021-06-15T05:13:20.655Z"
   },
   {
    "duration": 9,
    "start_time": "2021-06-15T05:13:20.670Z"
   },
   {
    "duration": 45,
    "start_time": "2021-06-15T05:13:20.682Z"
   },
   {
    "duration": 8,
    "start_time": "2021-06-15T05:13:20.729Z"
   },
   {
    "duration": 14,
    "start_time": "2021-06-15T05:13:20.739Z"
   },
   {
    "duration": 11,
    "start_time": "2021-06-15T05:13:20.755Z"
   },
   {
    "duration": 9,
    "start_time": "2021-06-15T05:13:20.768Z"
   },
   {
    "duration": 10,
    "start_time": "2021-06-15T05:13:20.779Z"
   },
   {
    "duration": 3021,
    "start_time": "2021-06-15T05:13:20.826Z"
   },
   {
    "duration": 5,
    "start_time": "2021-06-15T05:13:23.850Z"
   },
   {
    "duration": 36,
    "start_time": "2021-06-15T05:13:23.858Z"
   },
   {
    "duration": 88,
    "start_time": "2021-06-15T05:13:23.896Z"
   },
   {
    "duration": 7,
    "start_time": "2021-06-15T05:13:23.986Z"
   },
   {
    "duration": 32,
    "start_time": "2021-06-15T05:13:23.995Z"
   },
   {
    "duration": 15,
    "start_time": "2021-06-15T05:13:24.029Z"
   },
   {
    "duration": 28,
    "start_time": "2021-06-15T05:13:24.048Z"
   },
   {
    "duration": 7,
    "start_time": "2021-06-15T05:13:24.079Z"
   },
   {
    "duration": 5,
    "start_time": "2021-06-15T05:13:24.126Z"
   },
   {
    "duration": 11,
    "start_time": "2021-06-15T05:13:24.133Z"
   },
   {
    "duration": 9,
    "start_time": "2021-06-15T05:13:24.147Z"
   },
   {
    "duration": 8,
    "start_time": "2021-06-15T05:13:24.163Z"
   },
   {
    "duration": 54,
    "start_time": "2021-06-15T05:13:24.177Z"
   },
   {
    "duration": 36,
    "start_time": "2021-06-15T05:13:24.234Z"
   },
   {
    "duration": 12,
    "start_time": "2021-06-15T05:13:24.273Z"
   },
   {
    "duration": 57,
    "start_time": "2021-06-15T05:13:24.288Z"
   },
   {
    "duration": 230,
    "start_time": "2021-06-15T05:13:24.348Z"
   },
   {
    "duration": 11,
    "start_time": "2021-06-15T05:13:24.580Z"
   },
   {
    "duration": 33,
    "start_time": "2021-06-15T05:13:24.594Z"
   },
   {
    "duration": 43,
    "start_time": "2021-06-15T05:13:24.630Z"
   },
   {
    "duration": 9,
    "start_time": "2021-06-15T05:13:24.675Z"
   },
   {
    "duration": 45,
    "start_time": "2021-06-15T05:13:24.686Z"
   },
   {
    "duration": 10,
    "start_time": "2021-06-15T05:13:24.733Z"
   },
   {
    "duration": 25,
    "start_time": "2021-06-15T05:13:24.746Z"
   },
   {
    "duration": 53,
    "start_time": "2021-06-15T05:13:24.773Z"
   },
   {
    "duration": 13,
    "start_time": "2021-06-15T05:13:24.828Z"
   },
   {
    "duration": 11,
    "start_time": "2021-06-15T05:13:24.843Z"
   },
   {
    "duration": 17,
    "start_time": "2021-06-15T05:13:24.856Z"
   },
   {
    "duration": 2539,
    "start_time": "2021-06-15T05:13:24.875Z"
   },
   {
    "duration": 14,
    "start_time": "2021-06-15T05:13:27.416Z"
   },
   {
    "duration": 545,
    "start_time": "2021-06-15T05:13:27.432Z"
   },
   {
    "duration": 1085,
    "start_time": "2021-06-15T05:13:26.896Z"
   },
   {
    "duration": 1082,
    "start_time": "2021-06-15T05:13:26.902Z"
   },
   {
    "duration": 1079,
    "start_time": "2021-06-15T05:13:26.907Z"
   },
   {
    "duration": 1077,
    "start_time": "2021-06-15T05:13:26.911Z"
   },
   {
    "duration": 1074,
    "start_time": "2021-06-15T05:13:26.916Z"
   },
   {
    "duration": 1072,
    "start_time": "2021-06-15T05:13:26.920Z"
   },
   {
    "duration": 1070,
    "start_time": "2021-06-15T05:13:26.924Z"
   },
   {
    "duration": 1069,
    "start_time": "2021-06-15T05:13:26.927Z"
   },
   {
    "duration": 1067,
    "start_time": "2021-06-15T05:13:26.931Z"
   },
   {
    "duration": 1065,
    "start_time": "2021-06-15T05:13:26.935Z"
   },
   {
    "duration": 1064,
    "start_time": "2021-06-15T05:13:26.938Z"
   },
   {
    "duration": 1063,
    "start_time": "2021-06-15T05:13:26.941Z"
   },
   {
    "duration": 1061,
    "start_time": "2021-06-15T05:13:26.945Z"
   },
   {
    "duration": 1060,
    "start_time": "2021-06-15T05:13:26.948Z"
   },
   {
    "duration": 1059,
    "start_time": "2021-06-15T05:13:26.951Z"
   },
   {
    "duration": 798,
    "start_time": "2021-06-15T05:13:27.215Z"
   },
   {
    "duration": 791,
    "start_time": "2021-06-15T05:13:27.224Z"
   },
   {
    "duration": 789,
    "start_time": "2021-06-15T05:13:27.228Z"
   },
   {
    "duration": 793,
    "start_time": "2021-06-15T05:13:27.232Z"
   },
   {
    "duration": 792,
    "start_time": "2021-06-15T05:13:27.235Z"
   },
   {
    "duration": 786,
    "start_time": "2021-06-15T05:13:27.244Z"
   },
   {
    "duration": 783,
    "start_time": "2021-06-15T05:13:27.249Z"
   },
   {
    "duration": 781,
    "start_time": "2021-06-15T05:13:27.253Z"
   },
   {
    "duration": 780,
    "start_time": "2021-06-15T05:13:27.256Z"
   },
   {
    "duration": 779,
    "start_time": "2021-06-15T05:13:27.260Z"
   },
   {
    "duration": 776,
    "start_time": "2021-06-15T05:13:27.265Z"
   },
   {
    "duration": 775,
    "start_time": "2021-06-15T05:13:27.268Z"
   },
   {
    "duration": 773,
    "start_time": "2021-06-15T05:13:27.272Z"
   },
   {
    "duration": 772,
    "start_time": "2021-06-15T05:13:27.275Z"
   },
   {
    "duration": 770,
    "start_time": "2021-06-15T05:13:27.279Z"
   },
   {
    "duration": 770,
    "start_time": "2021-06-15T05:13:27.282Z"
   },
   {
    "duration": 768,
    "start_time": "2021-06-15T05:13:27.286Z"
   },
   {
    "duration": 767,
    "start_time": "2021-06-15T05:13:27.289Z"
   },
   {
    "duration": 766,
    "start_time": "2021-06-15T05:13:27.292Z"
   },
   {
    "duration": 758,
    "start_time": "2021-06-15T05:13:27.303Z"
   },
   {
    "duration": 755,
    "start_time": "2021-06-15T05:13:27.308Z"
   },
   {
    "duration": 812,
    "start_time": "2021-06-15T05:13:27.312Z"
   },
   {
    "duration": 811,
    "start_time": "2021-06-15T05:13:27.316Z"
   },
   {
    "duration": 809,
    "start_time": "2021-06-15T05:13:27.320Z"
   },
   {
    "duration": 808,
    "start_time": "2021-06-15T05:13:27.323Z"
   },
   {
    "duration": 807,
    "start_time": "2021-06-15T05:13:27.327Z"
   },
   {
    "duration": 805,
    "start_time": "2021-06-15T05:13:27.330Z"
   },
   {
    "duration": 802,
    "start_time": "2021-06-15T05:13:27.335Z"
   },
   {
    "duration": 800,
    "start_time": "2021-06-15T05:13:27.338Z"
   },
   {
    "duration": 797,
    "start_time": "2021-06-15T05:13:27.342Z"
   },
   {
    "duration": 795,
    "start_time": "2021-06-15T05:13:27.345Z"
   },
   {
    "duration": 794,
    "start_time": "2021-06-15T05:13:27.348Z"
   },
   {
    "duration": 792,
    "start_time": "2021-06-15T05:13:27.351Z"
   },
   {
    "duration": 790,
    "start_time": "2021-06-15T05:13:27.354Z"
   },
   {
    "duration": 16,
    "start_time": "2021-06-15T05:14:36.154Z"
   },
   {
    "duration": 10,
    "start_time": "2021-06-15T05:14:51.404Z"
   },
   {
    "duration": 9,
    "start_time": "2021-06-15T05:14:52.738Z"
   },
   {
    "duration": 10,
    "start_time": "2021-06-15T05:14:54.323Z"
   },
   {
    "duration": 1971,
    "start_time": "2021-06-15T05:15:12.806Z"
   },
   {
    "duration": 485,
    "start_time": "2021-06-15T05:15:14.780Z"
   },
   {
    "duration": 18,
    "start_time": "2021-06-15T05:15:15.268Z"
   },
   {
    "duration": 13,
    "start_time": "2021-06-15T05:15:15.288Z"
   },
   {
    "duration": 10,
    "start_time": "2021-06-15T05:15:15.303Z"
   },
   {
    "duration": 13,
    "start_time": "2021-06-15T05:15:15.315Z"
   },
   {
    "duration": 13,
    "start_time": "2021-06-15T05:15:15.330Z"
   },
   {
    "duration": 10,
    "start_time": "2021-06-15T05:15:15.345Z"
   },
   {
    "duration": 12,
    "start_time": "2021-06-15T05:15:15.359Z"
   },
   {
    "duration": 8,
    "start_time": "2021-06-15T05:15:15.374Z"
   },
   {
    "duration": 44,
    "start_time": "2021-06-15T05:15:15.384Z"
   },
   {
    "duration": 10,
    "start_time": "2021-06-15T05:15:15.431Z"
   },
   {
    "duration": 9,
    "start_time": "2021-06-15T05:15:15.443Z"
   },
   {
    "duration": 8,
    "start_time": "2021-06-15T05:15:15.454Z"
   },
   {
    "duration": 2225,
    "start_time": "2021-06-15T05:15:15.464Z"
   },
   {
    "duration": 5,
    "start_time": "2021-06-15T05:15:17.691Z"
   },
   {
    "duration": 42,
    "start_time": "2021-06-15T05:15:17.699Z"
   },
   {
    "duration": 65,
    "start_time": "2021-06-15T05:15:17.744Z"
   },
   {
    "duration": 20,
    "start_time": "2021-06-15T05:15:17.811Z"
   },
   {
    "duration": 5,
    "start_time": "2021-06-15T05:15:17.833Z"
   },
   {
    "duration": 21,
    "start_time": "2021-06-15T05:15:17.840Z"
   },
   {
    "duration": 28,
    "start_time": "2021-06-15T05:15:17.863Z"
   },
   {
    "duration": 36,
    "start_time": "2021-06-15T05:15:17.894Z"
   },
   {
    "duration": 8,
    "start_time": "2021-06-15T05:15:17.933Z"
   },
   {
    "duration": 12,
    "start_time": "2021-06-15T05:15:17.943Z"
   },
   {
    "duration": 9,
    "start_time": "2021-06-15T05:15:17.958Z"
   },
   {
    "duration": 51,
    "start_time": "2021-06-15T05:15:17.974Z"
   },
   {
    "duration": 8,
    "start_time": "2021-06-15T05:15:18.029Z"
   },
   {
    "duration": 36,
    "start_time": "2021-06-15T05:15:18.040Z"
   },
   {
    "duration": 12,
    "start_time": "2021-06-15T05:15:18.078Z"
   },
   {
    "duration": 19,
    "start_time": "2021-06-15T05:15:18.124Z"
   },
   {
    "duration": 217,
    "start_time": "2021-06-15T05:15:18.146Z"
   },
   {
    "duration": 11,
    "start_time": "2021-06-15T05:15:18.365Z"
   },
   {
    "duration": 20,
    "start_time": "2021-06-15T05:15:18.378Z"
   },
   {
    "duration": 32,
    "start_time": "2021-06-15T05:15:18.426Z"
   },
   {
    "duration": 9,
    "start_time": "2021-06-15T05:15:18.461Z"
   },
   {
    "duration": 16,
    "start_time": "2021-06-15T05:15:18.472Z"
   },
   {
    "duration": 36,
    "start_time": "2021-06-15T05:15:18.490Z"
   },
   {
    "duration": 26,
    "start_time": "2021-06-15T05:15:18.528Z"
   },
   {
    "duration": 20,
    "start_time": "2021-06-15T05:15:18.556Z"
   },
   {
    "duration": 47,
    "start_time": "2021-06-15T05:15:18.579Z"
   },
   {
    "duration": 12,
    "start_time": "2021-06-15T05:15:18.628Z"
   },
   {
    "duration": 17,
    "start_time": "2021-06-15T05:15:18.642Z"
   },
   {
    "duration": 2774,
    "start_time": "2021-06-15T05:15:18.662Z"
   },
   {
    "duration": 9,
    "start_time": "2021-06-15T05:15:21.438Z"
   },
   {
    "duration": 20,
    "start_time": "2021-06-15T05:15:21.449Z"
   },
   {
    "duration": 9,
    "start_time": "2021-06-15T05:15:21.471Z"
   },
   {
    "duration": 44,
    "start_time": "2021-06-15T05:15:21.483Z"
   },
   {
    "duration": 13,
    "start_time": "2021-06-15T05:15:21.530Z"
   },
   {
    "duration": 11,
    "start_time": "2021-06-15T05:15:21.546Z"
   },
   {
    "duration": 11,
    "start_time": "2021-06-15T05:15:21.559Z"
   },
   {
    "duration": 4965,
    "start_time": "2021-06-15T05:15:21.572Z"
   },
   {
    "duration": 65,
    "start_time": "2021-06-15T05:15:26.539Z"
   },
   {
    "duration": 8,
    "start_time": "2021-06-15T05:15:26.626Z"
   },
   {
    "duration": 210,
    "start_time": "2021-06-15T05:15:26.636Z"
   },
   {
    "duration": 97,
    "start_time": "2021-06-15T05:15:26.849Z"
   },
   {
    "duration": 9,
    "start_time": "2021-06-15T05:15:26.948Z"
   },
   {
    "duration": 25,
    "start_time": "2021-06-15T05:15:26.959Z"
   },
   {
    "duration": 45,
    "start_time": "2021-06-15T05:15:26.987Z"
   },
   {
    "duration": 65,
    "start_time": "2021-06-15T05:15:27.035Z"
   },
   {
    "duration": 40,
    "start_time": "2021-06-15T05:15:27.103Z"
   },
   {
    "duration": 13,
    "start_time": "2021-06-15T05:15:27.146Z"
   },
   {
    "duration": 65,
    "start_time": "2021-06-15T05:15:27.162Z"
   },
   {
    "duration": 572,
    "start_time": "2021-06-15T05:15:27.229Z"
   },
   {
    "duration": 26,
    "start_time": "2021-06-15T05:15:27.804Z"
   },
   {
    "duration": 511,
    "start_time": "2021-06-15T05:15:27.832Z"
   },
   {
    "duration": 53,
    "start_time": "2021-06-15T05:15:28.346Z"
   },
   {
    "duration": 27,
    "start_time": "2021-06-15T05:15:28.401Z"
   },
   {
    "duration": 447,
    "start_time": "2021-06-15T05:15:28.430Z"
   },
   {
    "duration": 8,
    "start_time": "2021-06-15T05:15:28.879Z"
   },
   {
    "duration": 41,
    "start_time": "2021-06-15T05:15:28.889Z"
   },
   {
    "duration": 10,
    "start_time": "2021-06-15T05:15:28.932Z"
   },
   {
    "duration": 1187,
    "start_time": "2021-06-15T05:15:28.945Z"
   },
   {
    "duration": 1297,
    "start_time": "2021-06-15T05:15:30.135Z"
   },
   {
    "duration": 940,
    "start_time": "2021-06-15T05:15:31.435Z"
   },
   {
    "duration": 48,
    "start_time": "2021-06-15T05:15:32.378Z"
   },
   {
    "duration": 20,
    "start_time": "2021-06-15T05:15:32.429Z"
   },
   {
    "duration": 1273,
    "start_time": "2021-06-15T05:15:32.452Z"
   },
   {
    "duration": 848,
    "start_time": "2021-06-15T05:15:33.727Z"
   },
   {
    "duration": 23,
    "start_time": "2021-06-15T05:15:34.578Z"
   },
   {
    "duration": 62,
    "start_time": "2021-06-15T05:15:34.631Z"
   },
   {
    "duration": 211,
    "start_time": "2021-06-15T05:15:34.696Z"
   },
   {
    "duration": 54,
    "start_time": "2021-06-15T05:15:34.909Z"
   },
   {
    "duration": 194,
    "start_time": "2021-06-15T05:15:34.965Z"
   },
   {
    "duration": 7,
    "start_time": "2021-06-15T05:15:35.161Z"
   },
   {
    "duration": 17,
    "start_time": "2021-06-15T05:15:35.170Z"
   },
   {
    "duration": 8,
    "start_time": "2021-06-15T05:15:35.190Z"
   },
   {
    "duration": 26,
    "start_time": "2021-06-15T05:15:35.201Z"
   },
   {
    "duration": 26,
    "start_time": "2021-06-15T05:15:35.230Z"
   },
   {
    "duration": 16,
    "start_time": "2021-06-15T05:15:35.258Z"
   },
   {
    "duration": 258,
    "start_time": "2021-06-15T05:15:35.277Z"
   },
   {
    "duration": 100,
    "start_time": "2021-06-15T05:15:35.537Z"
   },
   {
    "duration": 7,
    "start_time": "2021-06-15T05:15:35.640Z"
   },
   {
    "duration": 9,
    "start_time": "2021-06-15T05:15:35.649Z"
   },
   {
    "duration": 9,
    "start_time": "2021-06-15T05:15:35.660Z"
   },
   {
    "duration": 1303,
    "start_time": "2021-06-15T05:53:32.182Z"
   },
   {
    "duration": 988,
    "start_time": "2021-06-15T05:53:43.757Z"
   },
   {
    "duration": 831,
    "start_time": "2021-06-15T06:02:13.251Z"
   },
   {
    "duration": 1119,
    "start_time": "2021-06-15T06:09:47.281Z"
   },
   {
    "duration": 1964,
    "start_time": "2021-06-15T06:13:25.328Z"
   },
   {
    "duration": 2409,
    "start_time": "2021-06-15T06:13:27.295Z"
   },
   {
    "duration": 22,
    "start_time": "2021-06-15T06:13:29.708Z"
   },
   {
    "duration": 19,
    "start_time": "2021-06-15T06:13:29.733Z"
   },
   {
    "duration": 17,
    "start_time": "2021-06-15T06:13:29.755Z"
   },
   {
    "duration": 16,
    "start_time": "2021-06-15T06:13:29.775Z"
   },
   {
    "duration": 36,
    "start_time": "2021-06-15T06:13:29.793Z"
   },
   {
    "duration": 12,
    "start_time": "2021-06-15T06:13:29.831Z"
   },
   {
    "duration": 25,
    "start_time": "2021-06-15T06:13:29.848Z"
   },
   {
    "duration": 31,
    "start_time": "2021-06-15T06:13:29.877Z"
   },
   {
    "duration": 24,
    "start_time": "2021-06-15T06:13:29.911Z"
   },
   {
    "duration": 34,
    "start_time": "2021-06-15T06:13:29.938Z"
   },
   {
    "duration": 39,
    "start_time": "2021-06-15T06:13:29.975Z"
   },
   {
    "duration": 35,
    "start_time": "2021-06-15T06:13:30.016Z"
   },
   {
    "duration": 2677,
    "start_time": "2021-06-15T06:13:30.054Z"
   },
   {
    "duration": 6,
    "start_time": "2021-06-15T06:13:32.734Z"
   },
   {
    "duration": 47,
    "start_time": "2021-06-15T06:13:32.743Z"
   },
   {
    "duration": 84,
    "start_time": "2021-06-15T06:13:32.793Z"
   },
   {
    "duration": 9,
    "start_time": "2021-06-15T06:13:32.880Z"
   },
   {
    "duration": 35,
    "start_time": "2021-06-15T06:13:32.891Z"
   },
   {
    "duration": 19,
    "start_time": "2021-06-15T06:13:32.930Z"
   },
   {
    "duration": 29,
    "start_time": "2021-06-15T06:13:32.952Z"
   },
   {
    "duration": 8,
    "start_time": "2021-06-15T06:13:32.984Z"
   },
   {
    "duration": 7,
    "start_time": "2021-06-15T06:13:33.026Z"
   },
   {
    "duration": 19,
    "start_time": "2021-06-15T06:13:33.036Z"
   },
   {
    "duration": 20,
    "start_time": "2021-06-15T06:13:33.058Z"
   },
   {
    "duration": 9,
    "start_time": "2021-06-15T06:13:33.086Z"
   },
   {
    "duration": 9,
    "start_time": "2021-06-15T06:13:33.128Z"
   },
   {
    "duration": 59,
    "start_time": "2021-06-15T06:13:33.139Z"
   },
   {
    "duration": 12,
    "start_time": "2021-06-15T06:13:33.201Z"
   },
   {
    "duration": 23,
    "start_time": "2021-06-15T06:13:33.226Z"
   },
   {
    "duration": 208,
    "start_time": "2021-06-15T06:13:33.252Z"
   },
   {
    "duration": 12,
    "start_time": "2021-06-15T06:13:33.463Z"
   },
   {
    "duration": 50,
    "start_time": "2021-06-15T06:13:33.478Z"
   },
   {
    "duration": 50,
    "start_time": "2021-06-15T06:13:33.531Z"
   },
   {
    "duration": 11,
    "start_time": "2021-06-15T06:13:33.583Z"
   },
   {
    "duration": 37,
    "start_time": "2021-06-15T06:13:33.597Z"
   },
   {
    "duration": 10,
    "start_time": "2021-06-15T06:13:33.637Z"
   },
   {
    "duration": 48,
    "start_time": "2021-06-15T06:13:33.650Z"
   },
   {
    "duration": 31,
    "start_time": "2021-06-15T06:13:33.701Z"
   },
   {
    "duration": 27,
    "start_time": "2021-06-15T06:13:33.735Z"
   },
   {
    "duration": 15,
    "start_time": "2021-06-15T06:13:33.764Z"
   },
   {
    "duration": 44,
    "start_time": "2021-06-15T06:13:33.781Z"
   },
   {
    "duration": 4135,
    "start_time": "2021-06-15T06:13:33.828Z"
   },
   {
    "duration": 11,
    "start_time": "2021-06-15T06:13:37.966Z"
   },
   {
    "duration": 46,
    "start_time": "2021-06-15T06:13:37.979Z"
   },
   {
    "duration": 12,
    "start_time": "2021-06-15T06:13:38.028Z"
   },
   {
    "duration": 11,
    "start_time": "2021-06-15T06:13:38.043Z"
   },
   {
    "duration": 14,
    "start_time": "2021-06-15T06:13:38.056Z"
   },
   {
    "duration": 12,
    "start_time": "2021-06-15T06:13:38.073Z"
   },
   {
    "duration": 10,
    "start_time": "2021-06-15T06:13:38.127Z"
   },
   {
    "duration": 7825,
    "start_time": "2021-06-15T06:13:38.140Z"
   },
   {
    "duration": 95,
    "start_time": "2021-06-15T06:13:45.968Z"
   },
   {
    "duration": 10,
    "start_time": "2021-06-15T06:13:46.066Z"
   },
   {
    "duration": 301,
    "start_time": "2021-06-15T06:13:46.079Z"
   },
   {
    "duration": 145,
    "start_time": "2021-06-15T06:13:46.383Z"
   },
   {
    "duration": 9,
    "start_time": "2021-06-15T06:13:46.531Z"
   },
   {
    "duration": 16,
    "start_time": "2021-06-15T06:13:46.542Z"
   },
   {
    "duration": 21,
    "start_time": "2021-06-15T06:13:46.560Z"
   },
   {
    "duration": 94,
    "start_time": "2021-06-15T06:13:46.583Z"
   },
   {
    "duration": 23,
    "start_time": "2021-06-15T06:13:46.679Z"
   },
   {
    "duration": 12,
    "start_time": "2021-06-15T06:13:46.725Z"
   },
   {
    "duration": 37,
    "start_time": "2021-06-15T06:13:46.739Z"
   },
   {
    "duration": 472,
    "start_time": "2021-06-15T06:13:46.779Z"
   },
   {
    "duration": 13,
    "start_time": "2021-06-15T06:13:47.253Z"
   },
   {
    "duration": 373,
    "start_time": "2021-06-15T06:13:47.269Z"
   },
   {
    "duration": 34,
    "start_time": "2021-06-15T06:13:47.644Z"
   },
   {
    "duration": 5,
    "start_time": "2021-06-15T06:13:47.681Z"
   },
   {
    "duration": 456,
    "start_time": "2021-06-15T06:13:47.689Z"
   },
   {
    "duration": 8,
    "start_time": "2021-06-15T06:13:48.147Z"
   },
   {
    "duration": 20,
    "start_time": "2021-06-15T06:13:48.158Z"
   },
   {
    "duration": 13,
    "start_time": "2021-06-15T06:13:48.180Z"
   },
   {
    "duration": 1246,
    "start_time": "2021-06-15T06:13:48.195Z"
   },
   {
    "duration": 1249,
    "start_time": "2021-06-15T06:13:49.443Z"
   },
   {
    "duration": 950,
    "start_time": "2021-06-15T06:13:50.695Z"
   },
   {
    "duration": 29,
    "start_time": "2021-06-15T06:13:51.648Z"
   },
   {
    "duration": 19,
    "start_time": "2021-06-15T06:13:51.679Z"
   },
   {
    "duration": 1283,
    "start_time": "2021-06-15T06:13:51.701Z"
   },
   {
    "duration": 826,
    "start_time": "2021-06-15T06:13:52.986Z"
   },
   {
    "duration": 30,
    "start_time": "2021-06-15T06:13:53.814Z"
   },
   {
    "duration": 80,
    "start_time": "2021-06-15T06:13:53.852Z"
   },
   {
    "duration": 205,
    "start_time": "2021-06-15T06:13:53.935Z"
   },
   {
    "duration": 49,
    "start_time": "2021-06-15T06:13:54.142Z"
   },
   {
    "duration": 206,
    "start_time": "2021-06-15T06:13:54.194Z"
   },
   {
    "duration": 6,
    "start_time": "2021-06-15T06:13:54.403Z"
   },
   {
    "duration": 8,
    "start_time": "2021-06-15T06:13:54.424Z"
   },
   {
    "duration": 9,
    "start_time": "2021-06-15T06:13:54.434Z"
   },
   {
    "duration": 18,
    "start_time": "2021-06-15T06:13:54.446Z"
   },
   {
    "duration": 26,
    "start_time": "2021-06-15T06:13:54.467Z"
   },
   {
    "duration": 44,
    "start_time": "2021-06-15T06:13:54.495Z"
   },
   {
    "duration": 238,
    "start_time": "2021-06-15T06:13:54.541Z"
   },
   {
    "duration": 103,
    "start_time": "2021-06-15T06:13:54.781Z"
   },
   {
    "duration": 6,
    "start_time": "2021-06-15T06:13:54.886Z"
   },
   {
    "duration": 30,
    "start_time": "2021-06-15T06:13:54.895Z"
   },
   {
    "duration": 7,
    "start_time": "2021-06-15T06:13:54.927Z"
   },
   {
    "duration": 19844,
    "start_time": "2021-06-15T12:28:05.199Z"
   },
   {
    "duration": 1217,
    "start_time": "2021-06-15T12:28:25.046Z"
   },
   {
    "duration": 20,
    "start_time": "2021-06-15T12:28:26.266Z"
   },
   {
    "duration": 12,
    "start_time": "2021-06-15T12:28:26.289Z"
   },
   {
    "duration": 9,
    "start_time": "2021-06-15T12:28:26.304Z"
   },
   {
    "duration": 10,
    "start_time": "2021-06-15T12:28:26.315Z"
   },
   {
    "duration": 13,
    "start_time": "2021-06-15T12:28:26.327Z"
   },
   {
    "duration": 8,
    "start_time": "2021-06-15T12:28:26.384Z"
   },
   {
    "duration": 10,
    "start_time": "2021-06-15T12:28:26.397Z"
   },
   {
    "duration": 11,
    "start_time": "2021-06-15T12:28:26.410Z"
   },
   {
    "duration": 13,
    "start_time": "2021-06-15T12:28:26.424Z"
   },
   {
    "duration": 52,
    "start_time": "2021-06-15T12:28:26.439Z"
   },
   {
    "duration": 12,
    "start_time": "2021-06-15T12:28:26.494Z"
   },
   {
    "duration": 10,
    "start_time": "2021-06-15T12:28:26.508Z"
   },
   {
    "duration": 1858,
    "start_time": "2021-06-15T12:28:26.520Z"
   },
   {
    "duration": 5,
    "start_time": "2021-06-15T12:28:28.380Z"
   },
   {
    "duration": 36,
    "start_time": "2021-06-15T12:28:28.387Z"
   },
   {
    "duration": 85,
    "start_time": "2021-06-15T12:28:28.425Z"
   },
   {
    "duration": 6,
    "start_time": "2021-06-15T12:28:28.512Z"
   },
   {
    "duration": 6,
    "start_time": "2021-06-15T12:28:28.520Z"
   },
   {
    "duration": 14,
    "start_time": "2021-06-15T12:28:28.528Z"
   },
   {
    "duration": 55,
    "start_time": "2021-06-15T12:28:28.544Z"
   },
   {
    "duration": 7,
    "start_time": "2021-06-15T12:28:28.607Z"
   },
   {
    "duration": 6,
    "start_time": "2021-06-15T12:28:28.619Z"
   },
   {
    "duration": 55,
    "start_time": "2021-06-15T12:28:28.628Z"
   },
   {
    "duration": 11,
    "start_time": "2021-06-15T12:28:28.686Z"
   },
   {
    "duration": 8,
    "start_time": "2021-06-15T12:28:28.700Z"
   },
   {
    "duration": 9,
    "start_time": "2021-06-15T12:28:28.711Z"
   },
   {
    "duration": 83,
    "start_time": "2021-06-15T12:28:28.723Z"
   },
   {
    "duration": 12,
    "start_time": "2021-06-15T12:28:28.809Z"
   },
   {
    "duration": 17,
    "start_time": "2021-06-15T12:28:28.823Z"
   },
   {
    "duration": 200,
    "start_time": "2021-06-15T12:28:28.842Z"
   },
   {
    "duration": 10,
    "start_time": "2021-06-15T12:28:29.045Z"
   },
   {
    "duration": 38,
    "start_time": "2021-06-15T12:28:29.057Z"
   },
   {
    "duration": 37,
    "start_time": "2021-06-15T12:28:29.097Z"
   },
   {
    "duration": 8,
    "start_time": "2021-06-15T12:28:29.136Z"
   },
   {
    "duration": 43,
    "start_time": "2021-06-15T12:28:29.146Z"
   },
   {
    "duration": 7,
    "start_time": "2021-06-15T12:28:29.192Z"
   },
   {
    "duration": 23,
    "start_time": "2021-06-15T12:28:29.202Z"
   },
   {
    "duration": 26,
    "start_time": "2021-06-15T12:28:29.229Z"
   },
   {
    "duration": 37,
    "start_time": "2021-06-15T12:28:29.257Z"
   },
   {
    "duration": 12,
    "start_time": "2021-06-15T12:28:29.297Z"
   },
   {
    "duration": 16,
    "start_time": "2021-06-15T12:28:29.312Z"
   },
   {
    "duration": 2393,
    "start_time": "2021-06-15T12:28:29.331Z"
   },
   {
    "duration": 11,
    "start_time": "2021-06-15T12:28:31.727Z"
   },
   {
    "duration": 27,
    "start_time": "2021-06-15T12:28:31.740Z"
   },
   {
    "duration": 10,
    "start_time": "2021-06-15T12:28:31.783Z"
   },
   {
    "duration": 9,
    "start_time": "2021-06-15T12:28:31.796Z"
   },
   {
    "duration": 13,
    "start_time": "2021-06-15T12:28:31.808Z"
   },
   {
    "duration": 9,
    "start_time": "2021-06-15T12:28:31.823Z"
   },
   {
    "duration": 54,
    "start_time": "2021-06-15T12:28:31.834Z"
   },
   {
    "duration": 4754,
    "start_time": "2021-06-15T12:28:31.891Z"
   },
   {
    "duration": 69,
    "start_time": "2021-06-15T12:28:36.648Z"
   },
   {
    "duration": 12,
    "start_time": "2021-06-15T12:28:36.720Z"
   },
   {
    "duration": 278,
    "start_time": "2021-06-15T12:28:36.735Z"
   },
   {
    "duration": 146,
    "start_time": "2021-06-15T12:28:37.016Z"
   },
   {
    "duration": 24,
    "start_time": "2021-06-15T12:28:37.166Z"
   },
   {
    "duration": 21,
    "start_time": "2021-06-15T12:28:37.193Z"
   },
   {
    "duration": 32,
    "start_time": "2021-06-15T12:28:37.217Z"
   },
   {
    "duration": 132,
    "start_time": "2021-06-15T12:28:37.252Z"
   },
   {
    "duration": 20,
    "start_time": "2021-06-15T12:28:37.387Z"
   },
   {
    "duration": 11,
    "start_time": "2021-06-15T12:28:37.410Z"
   },
   {
    "duration": 61,
    "start_time": "2021-06-15T12:28:37.423Z"
   },
   {
    "duration": 465,
    "start_time": "2021-06-15T12:28:37.488Z"
   },
   {
    "duration": 30,
    "start_time": "2021-06-15T12:28:37.956Z"
   },
   {
    "duration": 335,
    "start_time": "2021-06-15T12:28:37.988Z"
   },
   {
    "duration": 33,
    "start_time": "2021-06-15T12:28:38.325Z"
   },
   {
    "duration": 6,
    "start_time": "2021-06-15T12:28:38.385Z"
   },
   {
    "duration": 400,
    "start_time": "2021-06-15T12:28:38.394Z"
   },
   {
    "duration": 7,
    "start_time": "2021-06-15T12:28:38.796Z"
   },
   {
    "duration": 21,
    "start_time": "2021-06-15T12:28:38.806Z"
   },
   {
    "duration": 10,
    "start_time": "2021-06-15T12:28:38.829Z"
   },
   {
    "duration": 1165,
    "start_time": "2021-06-15T12:28:38.841Z"
   },
   {
    "duration": 1203,
    "start_time": "2021-06-15T12:28:40.008Z"
   },
   {
    "duration": 922,
    "start_time": "2021-06-15T12:28:41.213Z"
   },
   {
    "duration": 27,
    "start_time": "2021-06-15T12:28:42.137Z"
   },
   {
    "duration": 30,
    "start_time": "2021-06-15T12:28:42.166Z"
   },
   {
    "duration": 1202,
    "start_time": "2021-06-15T12:28:42.199Z"
   },
   {
    "duration": 812,
    "start_time": "2021-06-15T12:28:43.404Z"
   },
   {
    "duration": 21,
    "start_time": "2021-06-15T12:28:44.219Z"
   },
   {
    "duration": 85,
    "start_time": "2021-06-15T12:28:44.242Z"
   },
   {
    "duration": 206,
    "start_time": "2021-06-15T12:28:44.329Z"
   },
   {
    "duration": 66,
    "start_time": "2021-06-15T12:28:44.537Z"
   },
   {
    "duration": 235,
    "start_time": "2021-06-15T12:28:44.606Z"
   },
   {
    "duration": 6,
    "start_time": "2021-06-15T12:28:44.844Z"
   },
   {
    "duration": 12,
    "start_time": "2021-06-15T12:28:44.853Z"
   },
   {
    "duration": 20,
    "start_time": "2021-06-15T12:28:44.867Z"
   },
   {
    "duration": 7,
    "start_time": "2021-06-15T12:28:44.890Z"
   },
   {
    "duration": 22,
    "start_time": "2021-06-15T12:28:44.900Z"
   },
   {
    "duration": 14,
    "start_time": "2021-06-15T12:28:44.925Z"
   },
   {
    "duration": 255,
    "start_time": "2021-06-15T12:28:44.942Z"
   },
   {
    "duration": 89,
    "start_time": "2021-06-15T12:28:45.199Z"
   },
   {
    "duration": 7,
    "start_time": "2021-06-15T12:28:45.290Z"
   },
   {
    "duration": 9,
    "start_time": "2021-06-15T12:28:45.300Z"
   },
   {
    "duration": 8,
    "start_time": "2021-06-15T12:28:45.311Z"
   },
   {
    "duration": 24,
    "start_time": "2021-06-15T12:58:30.210Z"
   },
   {
    "duration": 9,
    "start_time": "2021-06-15T12:58:54.465Z"
   },
   {
    "duration": 12,
    "start_time": "2021-06-15T12:58:57.439Z"
   },
   {
    "duration": 12,
    "start_time": "2021-06-15T12:59:04.774Z"
   },
   {
    "duration": 11,
    "start_time": "2021-06-15T12:59:07.295Z"
   },
   {
    "duration": 10,
    "start_time": "2021-06-15T12:59:18.834Z"
   },
   {
    "duration": 11,
    "start_time": "2021-06-15T12:59:24.378Z"
   },
   {
    "duration": 545,
    "start_time": "2021-06-15T12:59:56.562Z"
   },
   {
    "duration": 312,
    "start_time": "2021-06-15T13:00:09.472Z"
   },
   {
    "duration": 311,
    "start_time": "2021-06-15T13:00:55.487Z"
   },
   {
    "duration": 348,
    "start_time": "2021-06-15T13:01:04.761Z"
   },
   {
    "duration": 290,
    "start_time": "2021-06-15T13:01:18.379Z"
   },
   {
    "duration": 296,
    "start_time": "2021-06-15T13:01:25.020Z"
   },
   {
    "duration": 313,
    "start_time": "2021-06-15T13:01:36.865Z"
   },
   {
    "duration": 20,
    "start_time": "2021-06-15T13:01:41.615Z"
   },
   {
    "duration": 20,
    "start_time": "2021-06-15T13:01:47.543Z"
   },
   {
    "duration": 22,
    "start_time": "2021-06-15T13:01:49.832Z"
   },
   {
    "duration": 357,
    "start_time": "2021-06-15T13:10:56.780Z"
   },
   {
    "duration": 347,
    "start_time": "2021-06-15T13:11:00.363Z"
   },
   {
    "duration": 17,
    "start_time": "2021-06-15T13:11:07.878Z"
   },
   {
    "duration": 55,
    "start_time": "2021-06-15T13:13:20.811Z"
   },
   {
    "duration": 332,
    "start_time": "2021-06-15T13:14:07.308Z"
   },
   {
    "duration": 54,
    "start_time": "2021-06-15T13:14:32.452Z"
   },
   {
    "duration": 37,
    "start_time": "2021-06-15T13:14:42.344Z"
   },
   {
    "duration": 332,
    "start_time": "2021-06-15T13:15:00.460Z"
   },
   {
    "duration": 311,
    "start_time": "2021-06-15T13:15:12.398Z"
   },
   {
    "duration": 333,
    "start_time": "2021-06-15T13:15:32.960Z"
   },
   {
    "duration": 337,
    "start_time": "2021-06-15T13:15:45.111Z"
   },
   {
    "duration": 11,
    "start_time": "2021-06-15T13:16:14.026Z"
   },
   {
    "duration": 16,
    "start_time": "2021-06-15T13:16:18.361Z"
   },
   {
    "duration": 17,
    "start_time": "2021-06-15T13:16:31.654Z"
   },
   {
    "duration": 345,
    "start_time": "2021-06-15T13:16:43.254Z"
   },
   {
    "duration": 95,
    "start_time": "2021-06-15T13:17:10.144Z"
   },
   {
    "duration": 93,
    "start_time": "2021-06-15T13:17:22.421Z"
   },
   {
    "duration": 97,
    "start_time": "2021-06-15T13:17:27.664Z"
   },
   {
    "duration": 102,
    "start_time": "2021-06-15T13:17:36.040Z"
   },
   {
    "duration": 326,
    "start_time": "2021-06-15T13:17:42.838Z"
   },
   {
    "duration": 449,
    "start_time": "2021-06-15T13:17:49.192Z"
   },
   {
    "duration": 314,
    "start_time": "2021-06-15T13:18:02.514Z"
   },
   {
    "duration": 206,
    "start_time": "2021-06-15T22:02:13.272Z"
   },
   {
    "duration": 1384,
    "start_time": "2021-06-15T22:21:51.268Z"
   },
   {
    "duration": 967,
    "start_time": "2021-06-15T22:21:52.653Z"
   },
   {
    "duration": 11,
    "start_time": "2021-06-15T22:21:53.622Z"
   },
   {
    "duration": 8,
    "start_time": "2021-06-15T22:21:53.635Z"
   },
   {
    "duration": 7,
    "start_time": "2021-06-15T22:21:53.645Z"
   },
   {
    "duration": 7,
    "start_time": "2021-06-15T22:21:53.654Z"
   },
   {
    "duration": 7,
    "start_time": "2021-06-15T22:21:53.663Z"
   },
   {
    "duration": 6,
    "start_time": "2021-06-15T22:21:53.672Z"
   },
   {
    "duration": 6,
    "start_time": "2021-06-15T22:21:53.681Z"
   },
   {
    "duration": 6,
    "start_time": "2021-06-15T22:21:53.689Z"
   },
   {
    "duration": 7,
    "start_time": "2021-06-15T22:21:53.697Z"
   },
   {
    "duration": 7,
    "start_time": "2021-06-15T22:21:53.706Z"
   },
   {
    "duration": 6,
    "start_time": "2021-06-15T22:21:53.714Z"
   },
   {
    "duration": 6,
    "start_time": "2021-06-15T22:21:53.722Z"
   },
   {
    "duration": 2679,
    "start_time": "2021-06-15T22:21:53.729Z"
   },
   {
    "duration": 4,
    "start_time": "2021-06-15T22:21:56.409Z"
   },
   {
    "duration": 28,
    "start_time": "2021-06-15T22:21:56.415Z"
   },
   {
    "duration": 58,
    "start_time": "2021-06-15T22:21:56.445Z"
   },
   {
    "duration": 6,
    "start_time": "2021-06-15T22:21:56.505Z"
   },
   {
    "duration": 4,
    "start_time": "2021-06-15T22:21:56.513Z"
   },
   {
    "duration": 9,
    "start_time": "2021-06-15T22:21:56.519Z"
   },
   {
    "duration": 17,
    "start_time": "2021-06-15T22:21:56.530Z"
   },
   {
    "duration": 38,
    "start_time": "2021-06-15T22:21:56.549Z"
   },
   {
    "duration": 5,
    "start_time": "2021-06-15T22:21:56.589Z"
   },
   {
    "duration": 10,
    "start_time": "2021-06-15T22:21:56.596Z"
   },
   {
    "duration": 6,
    "start_time": "2021-06-15T22:21:56.607Z"
   },
   {
    "duration": 4,
    "start_time": "2021-06-15T22:21:56.617Z"
   },
   {
    "duration": 6,
    "start_time": "2021-06-15T22:21:56.624Z"
   },
   {
    "duration": 55,
    "start_time": "2021-06-15T22:21:56.631Z"
   },
   {
    "duration": 7,
    "start_time": "2021-06-15T22:21:56.688Z"
   },
   {
    "duration": 12,
    "start_time": "2021-06-15T22:21:56.697Z"
   },
   {
    "duration": 149,
    "start_time": "2021-06-15T22:21:56.711Z"
   },
   {
    "duration": 8,
    "start_time": "2021-06-15T22:21:56.861Z"
   },
   {
    "duration": 21,
    "start_time": "2021-06-15T22:21:56.871Z"
   },
   {
    "duration": 22,
    "start_time": "2021-06-15T22:21:56.894Z"
   },
   {
    "duration": 6,
    "start_time": "2021-06-15T22:21:56.917Z"
   },
   {
    "duration": 8,
    "start_time": "2021-06-15T22:21:56.925Z"
   },
   {
    "duration": 5,
    "start_time": "2021-06-15T22:21:56.934Z"
   },
   {
    "duration": 47,
    "start_time": "2021-06-15T22:21:56.940Z"
   },
   {
    "duration": 15,
    "start_time": "2021-06-15T22:21:56.988Z"
   },
   {
    "duration": 9,
    "start_time": "2021-06-15T22:21:57.004Z"
   },
   {
    "duration": 7,
    "start_time": "2021-06-15T22:21:57.015Z"
   },
   {
    "duration": 11,
    "start_time": "2021-06-15T22:21:57.024Z"
   },
   {
    "duration": 1470,
    "start_time": "2021-06-15T22:21:57.037Z"
   },
   {
    "duration": 7,
    "start_time": "2021-06-15T22:21:58.508Z"
   },
   {
    "duration": 12,
    "start_time": "2021-06-15T22:21:58.516Z"
   },
   {
    "duration": 5,
    "start_time": "2021-06-15T22:21:58.529Z"
   },
   {
    "duration": 5,
    "start_time": "2021-06-15T22:21:58.536Z"
   },
   {
    "duration": 8,
    "start_time": "2021-06-15T22:21:58.543Z"
   },
   {
    "duration": 36,
    "start_time": "2021-06-15T22:21:58.553Z"
   },
   {
    "duration": 6,
    "start_time": "2021-06-15T22:21:58.590Z"
   },
   {
    "duration": 2895,
    "start_time": "2021-06-15T22:21:58.597Z"
   },
   {
    "duration": 43,
    "start_time": "2021-06-15T22:22:01.493Z"
   },
   {
    "duration": 6,
    "start_time": "2021-06-15T22:22:01.538Z"
   },
   {
    "duration": 157,
    "start_time": "2021-06-15T22:22:01.546Z"
   },
   {
    "duration": 54,
    "start_time": "2021-06-15T22:22:01.705Z"
   },
   {
    "duration": 26,
    "start_time": "2021-06-15T22:22:01.761Z"
   },
   {
    "duration": 17,
    "start_time": "2021-06-15T22:22:01.789Z"
   },
   {
    "duration": 14,
    "start_time": "2021-06-15T22:22:01.808Z"
   },
   {
    "duration": 46,
    "start_time": "2021-06-15T22:22:01.824Z"
   },
   {
    "duration": 24,
    "start_time": "2021-06-15T22:22:01.872Z"
   },
   {
    "duration": 13,
    "start_time": "2021-06-15T22:22:01.897Z"
   },
   {
    "duration": 19,
    "start_time": "2021-06-15T22:22:01.912Z"
   },
   {
    "duration": 288,
    "start_time": "2021-06-15T22:22:01.932Z"
   },
   {
    "duration": 8,
    "start_time": "2021-06-15T22:22:02.222Z"
   },
   {
    "duration": 220,
    "start_time": "2021-06-15T22:22:02.232Z"
   },
   {
    "duration": 238,
    "start_time": "2021-06-15T22:22:02.454Z"
   },
   {
    "duration": 23,
    "start_time": "2021-06-15T22:22:02.693Z"
   },
   {
    "duration": 3,
    "start_time": "2021-06-15T22:22:02.717Z"
   },
   {
    "duration": 255,
    "start_time": "2021-06-15T22:22:02.722Z"
   },
   {
    "duration": 7,
    "start_time": "2021-06-15T22:22:02.979Z"
   },
   {
    "duration": 23,
    "start_time": "2021-06-15T22:22:02.988Z"
   },
   {
    "duration": 7,
    "start_time": "2021-06-15T22:22:03.012Z"
   },
   {
    "duration": 910,
    "start_time": "2021-06-15T22:22:03.020Z"
   },
   {
    "duration": 811,
    "start_time": "2021-06-15T22:22:03.931Z"
   },
   {
    "duration": 567,
    "start_time": "2021-06-15T22:22:04.744Z"
   },
   {
    "duration": 19,
    "start_time": "2021-06-15T22:22:05.313Z"
   },
   {
    "duration": 12,
    "start_time": "2021-06-15T22:22:05.333Z"
   },
   {
    "duration": 618,
    "start_time": "2021-06-15T22:22:05.347Z"
   },
   {
    "duration": 569,
    "start_time": "2021-06-15T22:22:05.967Z"
   },
   {
    "duration": 14,
    "start_time": "2021-06-15T22:22:06.541Z"
   },
   {
    "duration": 59,
    "start_time": "2021-06-15T22:22:06.557Z"
   },
   {
    "duration": 116,
    "start_time": "2021-06-15T22:22:06.618Z"
   },
   {
    "duration": 29,
    "start_time": "2021-06-15T22:22:06.736Z"
   },
   {
    "duration": 129,
    "start_time": "2021-06-15T22:22:06.767Z"
   },
   {
    "duration": 4,
    "start_time": "2021-06-15T22:22:06.898Z"
   },
   {
    "duration": 6,
    "start_time": "2021-06-15T22:22:06.904Z"
   },
   {
    "duration": 6,
    "start_time": "2021-06-15T22:22:06.912Z"
   },
   {
    "duration": 5,
    "start_time": "2021-06-15T22:22:06.920Z"
   },
   {
    "duration": 18,
    "start_time": "2021-06-15T22:22:06.927Z"
   },
   {
    "duration": 43,
    "start_time": "2021-06-15T22:22:06.947Z"
   },
   {
    "duration": 178,
    "start_time": "2021-06-15T22:22:06.992Z"
   },
   {
    "duration": 62,
    "start_time": "2021-06-15T22:22:07.172Z"
   },
   {
    "duration": 5,
    "start_time": "2021-06-15T22:22:07.236Z"
   },
   {
    "duration": 8,
    "start_time": "2021-06-15T22:22:07.243Z"
   },
   {
    "duration": 5,
    "start_time": "2021-06-15T22:22:07.253Z"
   },
   {
    "duration": 14,
    "start_time": "2021-06-15T22:29:28.730Z"
   },
   {
    "duration": 123,
    "start_time": "2021-06-15T22:36:25.178Z"
   },
   {
    "duration": 247,
    "start_time": "2021-06-15T22:39:43.178Z"
   },
   {
    "duration": 124,
    "start_time": "2021-06-15T22:40:16.133Z"
   },
   {
    "duration": 159,
    "start_time": "2021-06-15T22:51:18.173Z"
   },
   {
    "duration": 301,
    "start_time": "2021-06-15T22:51:23.423Z"
   },
   {
    "duration": 139,
    "start_time": "2021-06-15T22:56:22.934Z"
   },
   {
    "duration": 127,
    "start_time": "2021-06-15T22:59:00.173Z"
   },
   {
    "duration": 1316,
    "start_time": "2021-06-15T23:09:11.734Z"
   },
   {
    "duration": 637,
    "start_time": "2021-06-15T23:09:13.052Z"
   },
   {
    "duration": 10,
    "start_time": "2021-06-15T23:09:13.691Z"
   },
   {
    "duration": 12,
    "start_time": "2021-06-15T23:09:13.703Z"
   },
   {
    "duration": 7,
    "start_time": "2021-06-15T23:09:13.717Z"
   },
   {
    "duration": 7,
    "start_time": "2021-06-15T23:09:13.725Z"
   },
   {
    "duration": 9,
    "start_time": "2021-06-15T23:09:13.733Z"
   },
   {
    "duration": 7,
    "start_time": "2021-06-15T23:09:13.744Z"
   },
   {
    "duration": 7,
    "start_time": "2021-06-15T23:09:13.753Z"
   },
   {
    "duration": 29,
    "start_time": "2021-06-15T23:09:13.761Z"
   },
   {
    "duration": 8,
    "start_time": "2021-06-15T23:09:13.792Z"
   },
   {
    "duration": 6,
    "start_time": "2021-06-15T23:09:13.802Z"
   },
   {
    "duration": 8,
    "start_time": "2021-06-15T23:09:13.809Z"
   },
   {
    "duration": 6,
    "start_time": "2021-06-15T23:09:13.818Z"
   },
   {
    "duration": 3674,
    "start_time": "2021-06-15T23:09:13.826Z"
   },
   {
    "duration": 3,
    "start_time": "2021-06-15T23:09:17.502Z"
   },
   {
    "duration": 30,
    "start_time": "2021-06-15T23:09:17.506Z"
   },
   {
    "duration": 56,
    "start_time": "2021-06-15T23:09:17.537Z"
   },
   {
    "duration": 5,
    "start_time": "2021-06-15T23:09:17.595Z"
   },
   {
    "duration": 5,
    "start_time": "2021-06-15T23:09:17.601Z"
   },
   {
    "duration": 14,
    "start_time": "2021-06-15T23:09:17.608Z"
   },
   {
    "duration": 19,
    "start_time": "2021-06-15T23:09:17.623Z"
   },
   {
    "duration": 4,
    "start_time": "2021-06-15T23:09:17.646Z"
   },
   {
    "duration": 33,
    "start_time": "2021-06-15T23:09:17.652Z"
   },
   {
    "duration": 7,
    "start_time": "2021-06-15T23:09:17.687Z"
   },
   {
    "duration": 6,
    "start_time": "2021-06-15T23:09:17.695Z"
   },
   {
    "duration": 4,
    "start_time": "2021-06-15T23:09:17.703Z"
   },
   {
    "duration": 7,
    "start_time": "2021-06-15T23:09:17.708Z"
   },
   {
    "duration": 27,
    "start_time": "2021-06-15T23:09:17.716Z"
   },
   {
    "duration": 40,
    "start_time": "2021-06-15T23:09:17.744Z"
   },
   {
    "duration": 12,
    "start_time": "2021-06-15T23:09:17.786Z"
   },
   {
    "duration": 122,
    "start_time": "2021-06-15T23:09:17.799Z"
   },
   {
    "duration": 8,
    "start_time": "2021-06-15T23:09:17.923Z"
   },
   {
    "duration": 13,
    "start_time": "2021-06-15T23:09:17.932Z"
   },
   {
    "duration": 39,
    "start_time": "2021-06-15T23:09:17.946Z"
   },
   {
    "duration": 5,
    "start_time": "2021-06-15T23:09:17.987Z"
   },
   {
    "duration": 10,
    "start_time": "2021-06-15T23:09:17.993Z"
   },
   {
    "duration": 4,
    "start_time": "2021-06-15T23:09:18.004Z"
   },
   {
    "duration": 14,
    "start_time": "2021-06-15T23:09:18.010Z"
   },
   {
    "duration": 12,
    "start_time": "2021-06-15T23:09:18.026Z"
   },
   {
    "duration": 7,
    "start_time": "2021-06-15T23:09:18.039Z"
   },
   {
    "duration": 41,
    "start_time": "2021-06-15T23:09:18.048Z"
   },
   {
    "duration": 11,
    "start_time": "2021-06-15T23:09:18.090Z"
   },
   {
    "duration": 1434,
    "start_time": "2021-06-15T23:09:18.103Z"
   },
   {
    "duration": 6,
    "start_time": "2021-06-15T23:09:19.539Z"
   },
   {
    "duration": 10,
    "start_time": "2021-06-15T23:09:19.546Z"
   },
   {
    "duration": 5,
    "start_time": "2021-06-15T23:09:19.558Z"
   },
   {
    "duration": 22,
    "start_time": "2021-06-15T23:09:19.564Z"
   },
   {
    "duration": 9,
    "start_time": "2021-06-15T23:09:19.587Z"
   },
   {
    "duration": 15,
    "start_time": "2021-06-15T23:09:19.597Z"
   },
   {
    "duration": 6,
    "start_time": "2021-06-15T23:09:19.614Z"
   },
   {
    "duration": 2884,
    "start_time": "2021-06-15T23:09:19.622Z"
   },
   {
    "duration": 34,
    "start_time": "2021-06-15T23:09:22.508Z"
   },
   {
    "duration": 5,
    "start_time": "2021-06-15T23:09:22.544Z"
   },
   {
    "duration": 145,
    "start_time": "2021-06-15T23:09:22.551Z"
   },
   {
    "duration": 53,
    "start_time": "2021-06-15T23:09:22.698Z"
   },
   {
    "duration": 6,
    "start_time": "2021-06-15T23:09:22.752Z"
   },
   {
    "duration": 32,
    "start_time": "2021-06-15T23:09:22.759Z"
   },
   {
    "duration": 14,
    "start_time": "2021-06-15T23:09:22.793Z"
   },
   {
    "duration": 39,
    "start_time": "2021-06-15T23:09:22.808Z"
   },
   {
    "duration": 13,
    "start_time": "2021-06-15T23:09:22.848Z"
   },
   {
    "duration": 39,
    "start_time": "2021-06-15T23:09:22.863Z"
   },
   {
    "duration": 19,
    "start_time": "2021-06-15T23:09:22.904Z"
   },
   {
    "duration": 277,
    "start_time": "2021-06-15T23:09:22.924Z"
   },
   {
    "duration": 10,
    "start_time": "2021-06-15T23:09:23.203Z"
   },
   {
    "duration": 213,
    "start_time": "2021-06-15T23:09:23.215Z"
   },
   {
    "duration": 209,
    "start_time": "2021-06-15T23:09:23.430Z"
   },
   {
    "duration": 21,
    "start_time": "2021-06-15T23:09:23.645Z"
   },
   {
    "duration": 3,
    "start_time": "2021-06-15T23:09:23.668Z"
   },
   {
    "duration": 256,
    "start_time": "2021-06-15T23:09:23.685Z"
   },
   {
    "duration": 5,
    "start_time": "2021-06-15T23:09:23.943Z"
   },
   {
    "duration": 17,
    "start_time": "2021-06-15T23:09:23.950Z"
   },
   {
    "duration": 16,
    "start_time": "2021-06-15T23:09:23.968Z"
   },
   {
    "duration": 739,
    "start_time": "2021-06-15T23:09:23.986Z"
   },
   {
    "duration": 788,
    "start_time": "2021-06-15T23:09:24.726Z"
   },
   {
    "duration": 564,
    "start_time": "2021-06-15T23:09:25.516Z"
   },
   {
    "duration": 19,
    "start_time": "2021-06-15T23:09:26.082Z"
   },
   {
    "duration": 12,
    "start_time": "2021-06-15T23:09:26.103Z"
   },
   {
    "duration": 610,
    "start_time": "2021-06-15T23:09:26.117Z"
   },
   {
    "duration": 536,
    "start_time": "2021-06-15T23:09:26.728Z"
   },
   {
    "duration": 22,
    "start_time": "2021-06-15T23:09:27.266Z"
   },
   {
    "duration": 40,
    "start_time": "2021-06-15T23:09:27.289Z"
   },
   {
    "duration": 127,
    "start_time": "2021-06-15T23:09:27.330Z"
   },
   {
    "duration": 41,
    "start_time": "2021-06-15T23:09:27.458Z"
   },
   {
    "duration": 111,
    "start_time": "2021-06-15T23:09:27.501Z"
   },
   {
    "duration": 249,
    "start_time": "2021-06-15T23:09:27.613Z"
   },
   {
    "duration": 131,
    "start_time": "2021-06-15T23:09:27.863Z"
   },
   {
    "duration": 4,
    "start_time": "2021-06-15T23:09:27.996Z"
   },
   {
    "duration": 8,
    "start_time": "2021-06-15T23:09:28.001Z"
   },
   {
    "duration": 10,
    "start_time": "2021-06-15T23:09:28.011Z"
   },
   {
    "duration": 9,
    "start_time": "2021-06-15T23:09:28.023Z"
   },
   {
    "duration": 18,
    "start_time": "2021-06-15T23:09:28.033Z"
   },
   {
    "duration": 9,
    "start_time": "2021-06-15T23:09:28.053Z"
   },
   {
    "duration": 189,
    "start_time": "2021-06-15T23:09:28.063Z"
   },
   {
    "duration": 304,
    "start_time": "2021-06-15T23:09:28.254Z"
   },
   {
    "duration": 141,
    "start_time": "2021-06-15T23:09:28.560Z"
   },
   {
    "duration": 142,
    "start_time": "2021-06-15T23:09:28.702Z"
   },
   {
    "duration": 4,
    "start_time": "2021-06-15T23:09:28.846Z"
   },
   {
    "duration": 7,
    "start_time": "2021-06-15T23:09:28.852Z"
   },
   {
    "duration": 25,
    "start_time": "2021-06-15T23:09:28.860Z"
   },
   {
    "duration": 1555,
    "start_time": "2021-06-16T12:46:22.170Z"
   },
   {
    "duration": 1083,
    "start_time": "2021-06-16T12:46:23.727Z"
   },
   {
    "duration": 11,
    "start_time": "2021-06-16T12:46:24.812Z"
   },
   {
    "duration": 9,
    "start_time": "2021-06-16T12:46:24.825Z"
   },
   {
    "duration": 10,
    "start_time": "2021-06-16T12:46:24.836Z"
   },
   {
    "duration": 7,
    "start_time": "2021-06-16T12:46:24.849Z"
   },
   {
    "duration": 11,
    "start_time": "2021-06-16T12:46:24.857Z"
   },
   {
    "duration": 14,
    "start_time": "2021-06-16T12:46:24.871Z"
   },
   {
    "duration": 6,
    "start_time": "2021-06-16T12:46:24.887Z"
   },
   {
    "duration": 9,
    "start_time": "2021-06-16T12:46:24.894Z"
   },
   {
    "duration": 10,
    "start_time": "2021-06-16T12:46:24.904Z"
   },
   {
    "duration": 8,
    "start_time": "2021-06-16T12:46:24.915Z"
   },
   {
    "duration": 15,
    "start_time": "2021-06-16T12:46:24.924Z"
   },
   {
    "duration": 16,
    "start_time": "2021-06-16T12:46:24.940Z"
   },
   {
    "duration": 3911,
    "start_time": "2021-06-16T12:46:24.958Z"
   },
   {
    "duration": 4,
    "start_time": "2021-06-16T12:46:28.870Z"
   },
   {
    "duration": 34,
    "start_time": "2021-06-16T12:46:28.875Z"
   },
   {
    "duration": 45,
    "start_time": "2021-06-16T12:46:28.911Z"
   },
   {
    "duration": 5,
    "start_time": "2021-06-16T12:46:28.958Z"
   },
   {
    "duration": 20,
    "start_time": "2021-06-16T12:46:28.964Z"
   },
   {
    "duration": 9,
    "start_time": "2021-06-16T12:46:28.986Z"
   },
   {
    "duration": 51,
    "start_time": "2021-06-16T12:46:28.997Z"
   },
   {
    "duration": 4,
    "start_time": "2021-06-16T12:46:29.052Z"
   },
   {
    "duration": 17,
    "start_time": "2021-06-16T12:46:29.058Z"
   },
   {
    "duration": 22,
    "start_time": "2021-06-16T12:46:29.076Z"
   },
   {
    "duration": 14,
    "start_time": "2021-06-16T12:46:29.099Z"
   },
   {
    "duration": 17,
    "start_time": "2021-06-16T12:46:29.115Z"
   },
   {
    "duration": 17,
    "start_time": "2021-06-16T12:46:29.134Z"
   },
   {
    "duration": 33,
    "start_time": "2021-06-16T12:46:29.152Z"
   },
   {
    "duration": 7,
    "start_time": "2021-06-16T12:46:29.186Z"
   },
   {
    "duration": 17,
    "start_time": "2021-06-16T12:46:29.195Z"
   },
   {
    "duration": 123,
    "start_time": "2021-06-16T12:46:29.213Z"
   },
   {
    "duration": 8,
    "start_time": "2021-06-16T12:46:29.338Z"
   },
   {
    "duration": 14,
    "start_time": "2021-06-16T12:46:29.348Z"
   },
   {
    "duration": 39,
    "start_time": "2021-06-16T12:46:29.363Z"
   },
   {
    "duration": 6,
    "start_time": "2021-06-16T12:46:29.403Z"
   },
   {
    "duration": 8,
    "start_time": "2021-06-16T12:46:29.411Z"
   },
   {
    "duration": 5,
    "start_time": "2021-06-16T12:46:29.420Z"
   },
   {
    "duration": 16,
    "start_time": "2021-06-16T12:46:29.426Z"
   },
   {
    "duration": 46,
    "start_time": "2021-06-16T12:46:29.443Z"
   },
   {
    "duration": 10,
    "start_time": "2021-06-16T12:46:29.491Z"
   },
   {
    "duration": 9,
    "start_time": "2021-06-16T12:46:29.503Z"
   },
   {
    "duration": 12,
    "start_time": "2021-06-16T12:46:29.514Z"
   },
   {
    "duration": 1508,
    "start_time": "2021-06-16T12:46:29.527Z"
   },
   {
    "duration": 7,
    "start_time": "2021-06-16T12:46:31.037Z"
   },
   {
    "duration": 32,
    "start_time": "2021-06-16T12:46:31.046Z"
   },
   {
    "duration": 34,
    "start_time": "2021-06-16T12:46:31.080Z"
   },
   {
    "duration": 15,
    "start_time": "2021-06-16T12:46:31.115Z"
   },
   {
    "duration": 25,
    "start_time": "2021-06-16T12:46:31.132Z"
   },
   {
    "duration": 15,
    "start_time": "2021-06-16T12:46:31.158Z"
   },
   {
    "duration": 20,
    "start_time": "2021-06-16T12:46:31.175Z"
   },
   {
    "duration": 2962,
    "start_time": "2021-06-16T12:46:31.197Z"
   },
   {
    "duration": 44,
    "start_time": "2021-06-16T12:46:34.160Z"
   },
   {
    "duration": 6,
    "start_time": "2021-06-16T12:46:34.205Z"
   },
   {
    "duration": 129,
    "start_time": "2021-06-16T12:46:34.212Z"
   },
   {
    "duration": 64,
    "start_time": "2021-06-16T12:46:34.343Z"
   },
   {
    "duration": 5,
    "start_time": "2021-06-16T12:46:34.408Z"
   },
   {
    "duration": 10,
    "start_time": "2021-06-16T12:46:34.415Z"
   },
   {
    "duration": 14,
    "start_time": "2021-06-16T12:46:34.426Z"
   },
   {
    "duration": 65,
    "start_time": "2021-06-16T12:46:34.442Z"
   },
   {
    "duration": 15,
    "start_time": "2021-06-16T12:46:34.509Z"
   },
   {
    "duration": 9,
    "start_time": "2021-06-16T12:46:34.526Z"
   },
   {
    "duration": 20,
    "start_time": "2021-06-16T12:46:34.537Z"
   },
   {
    "duration": 274,
    "start_time": "2021-06-16T12:46:34.585Z"
   },
   {
    "duration": 11,
    "start_time": "2021-06-16T12:46:34.861Z"
   },
   {
    "duration": 218,
    "start_time": "2021-06-16T12:46:34.885Z"
   },
   {
    "duration": 217,
    "start_time": "2021-06-16T12:46:35.105Z"
   },
   {
    "duration": 22,
    "start_time": "2021-06-16T12:46:35.327Z"
   },
   {
    "duration": 3,
    "start_time": "2021-06-16T12:46:35.351Z"
   },
   {
    "duration": 257,
    "start_time": "2021-06-16T12:46:35.355Z"
   },
   {
    "duration": 5,
    "start_time": "2021-06-16T12:46:35.614Z"
   },
   {
    "duration": 27,
    "start_time": "2021-06-16T12:46:35.620Z"
   },
   {
    "duration": 15,
    "start_time": "2021-06-16T12:46:35.649Z"
   },
   {
    "duration": 782,
    "start_time": "2021-06-16T12:46:35.665Z"
   },
   {
    "duration": 808,
    "start_time": "2021-06-16T12:46:36.449Z"
   },
   {
    "duration": 610,
    "start_time": "2021-06-16T12:46:37.259Z"
   },
   {
    "duration": 31,
    "start_time": "2021-06-16T12:46:37.871Z"
   },
   {
    "duration": 13,
    "start_time": "2021-06-16T12:46:37.904Z"
   },
   {
    "duration": 609,
    "start_time": "2021-06-16T12:46:37.918Z"
   },
   {
    "duration": 552,
    "start_time": "2021-06-16T12:46:38.529Z"
   },
   {
    "duration": 13,
    "start_time": "2021-06-16T12:46:39.085Z"
   },
   {
    "duration": 41,
    "start_time": "2021-06-16T12:46:39.100Z"
   },
   {
    "duration": 131,
    "start_time": "2021-06-16T12:46:39.143Z"
   },
   {
    "duration": 30,
    "start_time": "2021-06-16T12:46:39.276Z"
   },
   {
    "duration": 125,
    "start_time": "2021-06-16T12:46:39.308Z"
   },
   {
    "duration": 239,
    "start_time": "2021-06-16T12:46:39.434Z"
   },
   {
    "duration": 137,
    "start_time": "2021-06-16T12:46:39.674Z"
   },
   {
    "duration": 5,
    "start_time": "2021-06-16T12:46:39.812Z"
   },
   {
    "duration": 14,
    "start_time": "2021-06-16T12:46:39.818Z"
   },
   {
    "duration": 8,
    "start_time": "2021-06-16T12:46:39.834Z"
   },
   {
    "duration": 11,
    "start_time": "2021-06-16T12:46:39.843Z"
   },
   {
    "duration": 18,
    "start_time": "2021-06-16T12:46:39.856Z"
   },
   {
    "duration": 17,
    "start_time": "2021-06-16T12:46:39.875Z"
   },
   {
    "duration": 177,
    "start_time": "2021-06-16T12:46:39.894Z"
   },
   {
    "duration": 293,
    "start_time": "2021-06-16T12:46:40.073Z"
   },
   {
    "duration": 140,
    "start_time": "2021-06-16T12:46:40.368Z"
   },
   {
    "duration": 133,
    "start_time": "2021-06-16T12:46:40.510Z"
   },
   {
    "duration": 4,
    "start_time": "2021-06-16T12:46:40.645Z"
   },
   {
    "duration": 9,
    "start_time": "2021-06-16T12:46:40.650Z"
   },
   {
    "duration": 13,
    "start_time": "2021-06-16T12:46:40.661Z"
   }
  ],
  "hide_input": false,
  "kernelspec": {
   "display_name": "Python 3",
   "language": "python",
   "name": "python3"
  },
  "language_info": {
   "codemirror_mode": {
    "name": "ipython",
    "version": 3
   },
   "file_extension": ".py",
   "mimetype": "text/x-python",
   "name": "python",
   "nbconvert_exporter": "python",
   "pygments_lexer": "ipython3",
   "version": "3.8.5"
  },
  "toc": {
   "base_numbering": 1,
   "nav_menu": {},
   "number_sections": false,
   "sideBar": false,
   "skip_h1_title": false,
   "title_cell": "Table of Contents",
   "title_sidebar": "Contents",
   "toc_cell": false,
   "toc_position": {},
   "toc_section_display": false,
   "toc_window_display": false
  }
 },
 "nbformat": 4,
 "nbformat_minor": 2
}
